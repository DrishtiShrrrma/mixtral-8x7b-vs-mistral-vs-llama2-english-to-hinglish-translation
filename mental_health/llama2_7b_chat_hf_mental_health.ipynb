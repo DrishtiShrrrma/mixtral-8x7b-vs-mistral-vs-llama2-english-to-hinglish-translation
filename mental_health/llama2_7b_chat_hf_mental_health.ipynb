{
  "cells": [
    {
      "cell_type": "markdown",
      "metadata": {
        "id": "2walVfS4yU1D"
      },
      "source": [
        "# **Fine-tuning LLama2 with Flash Attention-2 for Response Generation**"
      ]
    },
    {
      "cell_type": "markdown",
      "metadata": {
        "id": "YHuHxB1m-sOi"
      },
      "source": [
        "**Model:** \"NousResearch/Llama-2-7b-hf\""
      ]
    },
    {
      "cell_type": "markdown",
      "metadata": {
        "id": "Fqn7jXYlylgi"
      },
      "source": [
        "# **Techniques for Efficient Training**"
      ]
    },
    {
      "cell_type": "markdown",
      "metadata": {
        "id": "FSThbQV--HpF"
      },
      "source": [
        "### **QLoRA, Flash Attention-2, and Packing**"
      ]
    },
    {
      "cell_type": "markdown",
      "metadata": {
        "id": "yOdO5B3i-HpG"
      },
      "source": [
        "QLoRA is a technique to reduce the memory footprint of large language models during finetuning, without sacrificing performance a lot.\n",
        "\n"
      ]
    },
    {
      "cell_type": "markdown",
      "metadata": {
        "id": "eBGHS7Fu-HpG"
      },
      "source": [
        "- We will quantize the pre-trained model to 4 bits and freeze it.\n",
        "- Attach small, trainable adapter layers. (LoRA)\n",
        "- Finetune only the adapter layers while using the frozen quantized model for context."
      ]
    },
    {
      "cell_type": "markdown",
      "metadata": {
        "id": "amKXM2bb-HpG"
      },
      "source": [
        "Flash Attention is a an method that reorders the attention computation and leverages classical techniques (tiling, recomputation) to significantly speed it up and reduce memory usage from quadratic to linear in sequence length."
      ]
    },
    {
      "cell_type": "markdown",
      "metadata": {
        "id": "QrF48GKY9u2c"
      },
      "source": [
        "Here's a comparison of Flash Attention 1 and Flash Attention 2 in a tabular format:\n",
        "\n",
        "| Aspect                               | Flash Attention 1                                                                                                     | Flash Attention 2                                                                                             |\n",
        "|--------------------------------------|-----------------------------------------------------------------------------------------------------------------------|---------------------------------------------------------------------------------------------------------------|\n",
        "| **Installation**                     | Install `optimum` package: `pip install -U optimum`                                                                   | Install `flash-attn` package: `pip install -U flash-attn`                                                     |\n",
        "| **Model Training Setup**             | Wrap `trainer.train()` call under `with torch.backends.cuda.sdp_kernel(enable_flash=True, enable_math=False, enable_mem_efficient=False):` context manager | Use `use_flash_attention_2=True` when calling `from_pretrained`: <br> `model = AutoModelForCausalLM.from_pretrained(model_id, load_in_4bit=True, use_flash_attention_2=True)` |\n",
        "| **Precision and Hardware Requirements** | Only works on GPU under half-precision regime                                                                         | Requires half-precision and a supported GPU device                                                            |\n",
        "| **Compatibility with Padding Tokens**| Cannot train with padding tokens (use `packing=True`).                                                                | Allows training on any dataset, including those with padding tokens.                                          |\n",
        "| **Dataset Limitations**              | Cannot use on arbitrary datasets if Flash Attention kernels are used                                                 | Can train on arbitrary datasets                                                                               |\n",
        "| **Quantization Compatibility**       | Compatible with other tools like quantization                                                                        | Compatible, especially beneficial if the model is quantized                                                   |\n",
        "\n",
        "\n"
      ]
    },
    {
      "cell_type": "markdown",
      "metadata": {
        "id": "Btv57vtt0LgY"
      },
      "source": [
        "### **Packing**\n",
        "\n",
        "In this, multiple short examples are packed in the same input sequence to increase training efficiency. This is done with the ConstantLengthDataset utility class that returns constant length chunks of tokens from a stream of examples."
      ]
    },
    {
      "cell_type": "markdown",
      "metadata": {
        "id": "8xnxI0Pk4L__"
      },
      "source": [
        "# **Installation and Setup**"
      ]
    },
    {
      "cell_type": "code",
      "execution_count": 1,
      "metadata": {
        "colab": {
          "base_uri": "https://localhost:8080/"
        },
        "id": "qtM-zH28lXFi",
        "outputId": "f6409ebc-57ba-47c1-e4bb-d02ea07613ec"
      },
      "outputs": [
        {
          "output_type": "stream",
          "name": "stdout",
          "text": [
            "\u001b[?25l     \u001b[90m━━━━━━━━━━━━━━━━━━━━━━━━━━━━━━━━━━━━━━━━\u001b[0m \u001b[32m0.0/1.6 MB\u001b[0m \u001b[31m?\u001b[0m eta \u001b[36m-:--:--\u001b[0m\r\u001b[2K     \u001b[91m━━━━━\u001b[0m\u001b[90m╺\u001b[0m\u001b[90m━━━━━━━━━━━━━━━━━━━━━━━━━━━━━━━━━━\u001b[0m \u001b[32m0.2/1.6 MB\u001b[0m \u001b[31m6.5 MB/s\u001b[0m eta \u001b[36m0:00:01\u001b[0m\r\u001b[2K     \u001b[91m━━━━━━━━━━━━━━━\u001b[0m\u001b[90m╺\u001b[0m\u001b[90m━━━━━━━━━━━━━━━━━━━━━━━━\u001b[0m \u001b[32m0.6/1.6 MB\u001b[0m \u001b[31m9.2 MB/s\u001b[0m eta \u001b[36m0:00:01\u001b[0m\r\u001b[2K     \u001b[91m━━━━━━━━━━━━━━━━━━━━━━━━━━━━\u001b[0m\u001b[90m╺\u001b[0m\u001b[90m━━━━━━━━━━━\u001b[0m \u001b[32m1.1/1.6 MB\u001b[0m \u001b[31m10.9 MB/s\u001b[0m eta \u001b[36m0:00:01\u001b[0m\r\u001b[2K     \u001b[91m━━━━━━━━━━━━━━━━━━━━━━━━━━━━━━━━━━━━━━━\u001b[0m\u001b[91m╸\u001b[0m \u001b[32m1.6/1.6 MB\u001b[0m \u001b[31m12.1 MB/s\u001b[0m eta \u001b[36m0:00:01\u001b[0m\r\u001b[2K     \u001b[90m━━━━━━━━━━━━━━━━━━━━━━━━━━━━━━━━━━━━━━━━\u001b[0m \u001b[32m1.6/1.6 MB\u001b[0m \u001b[31m10.9 MB/s\u001b[0m eta \u001b[36m0:00:00\u001b[0m\n",
            "\u001b[?25htime: 256 µs (started: 2024-03-06 17:47:00 +00:00)\n"
          ]
        }
      ],
      "source": [
        "!pip install -q ipython-autotime\n",
        "%load_ext autotime\n"
      ]
    },
    {
      "cell_type": "code",
      "execution_count": 2,
      "metadata": {
        "colab": {
          "base_uri": "https://localhost:8080/"
        },
        "id": "SSpvTYItcptd",
        "outputId": "73e6a287-c045-42bb-d819-7cc41a73e6cc"
      },
      "outputs": [
        {
          "output_type": "stream",
          "name": "stdout",
          "text": [
            "time: 4.72 s (started: 2024-03-06 17:47:00 +00:00)\n"
          ]
        }
      ],
      "source": [
        "!python -c \"import torch; assert torch.cuda.get_device_capability()[0] >= 8, 'Hardware not supported for Flash Attention'\""
      ]
    },
    {
      "cell_type": "code",
      "execution_count": 3,
      "metadata": {
        "colab": {
          "base_uri": "https://localhost:8080/"
        },
        "id": "k8PatXfMDc9Z",
        "outputId": "8aac6b25-2cc5-4de3-ee65-bf08bef10b3b"
      },
      "outputs": [
        {
          "output_type": "stream",
          "name": "stdout",
          "text": [
            "  Installing build dependencies ... \u001b[?25l\u001b[?25hdone\n",
            "  Getting requirements to build wheel ... \u001b[?25l\u001b[?25hdone\n",
            "  Preparing metadata (pyproject.toml) ... \u001b[?25l\u001b[?25hdone\n",
            "  Building wheel for transformers (pyproject.toml) ... \u001b[?25l\u001b[?25hdone\n",
            "  Installing build dependencies ... \u001b[?25l\u001b[?25hdone\n",
            "  Getting requirements to build wheel ... \u001b[?25l\u001b[?25hdone\n",
            "  Preparing metadata (pyproject.toml) ... \u001b[?25l\u001b[?25hdone\n",
            "\u001b[2K     \u001b[90m━━━━━━━━━━━━━━━━━━━━━━━━━━━━━━━━━━━━━━━━\u001b[0m \u001b[32m116.3/116.3 kB\u001b[0m \u001b[31m3.6 MB/s\u001b[0m eta \u001b[36m0:00:00\u001b[0m\n",
            "\u001b[2K     \u001b[90m━━━━━━━━━━━━━━━━━━━━━━━━━━━━━━━━━━━━━━━━\u001b[0m \u001b[32m134.8/134.8 kB\u001b[0m \u001b[31m9.5 MB/s\u001b[0m eta \u001b[36m0:00:00\u001b[0m\n",
            "\u001b[2K     \u001b[90m━━━━━━━━━━━━━━━━━━━━━━━━━━━━━━━━━━━━━━━━\u001b[0m \u001b[32m346.4/346.4 kB\u001b[0m \u001b[31m11.8 MB/s\u001b[0m eta \u001b[36m0:00:00\u001b[0m\n",
            "\u001b[?25h  Building wheel for datasets (pyproject.toml) ... \u001b[?25l\u001b[?25hdone\n",
            "  Installing build dependencies ... \u001b[?25l\u001b[?25hdone\n",
            "  Getting requirements to build wheel ... \u001b[?25l\u001b[?25hdone\n",
            "  Preparing metadata (pyproject.toml) ... \u001b[?25l\u001b[?25hdone\n",
            "\u001b[2K     \u001b[90m━━━━━━━━━━━━━━━━━━━━━━━━━━━━━━━━━━━━━━━━\u001b[0m \u001b[32m280.0/280.0 kB\u001b[0m \u001b[31m3.3 MB/s\u001b[0m eta \u001b[36m0:00:00\u001b[0m\n",
            "\u001b[?25h  Building wheel for peft (pyproject.toml) ... \u001b[?25l\u001b[?25hdone\n",
            "  Installing build dependencies ... \u001b[?25l\u001b[?25hdone\n",
            "  Getting requirements to build wheel ... \u001b[?25l\u001b[?25hdone\n",
            "  Preparing metadata (pyproject.toml) ... \u001b[?25l\u001b[?25hdone\n",
            "  Building wheel for accelerate (pyproject.toml) ... \u001b[?25l\u001b[?25hdone\n",
            "\u001b[2K     \u001b[90m━━━━━━━━━━━━━━━━━━━━━━━━━━━━━━━━━━━━━━━━\u001b[0m \u001b[32m105.0/105.0 MB\u001b[0m \u001b[31m15.2 MB/s\u001b[0m eta \u001b[36m0:00:00\u001b[0m\n",
            "\u001b[?25h  Installing build dependencies ... \u001b[?25l\u001b[?25hdone\n",
            "  Getting requirements to build wheel ... \u001b[?25l\u001b[?25hdone\n",
            "  Preparing metadata (pyproject.toml) ... \u001b[?25l\u001b[?25hdone\n",
            "\u001b[2K     \u001b[90m━━━━━━━━━━━━━━━━━━━━━━━━━━━━━━━━━━━━━━━━\u001b[0m \u001b[32m79.8/79.8 kB\u001b[0m \u001b[31m2.9 MB/s\u001b[0m eta \u001b[36m0:00:00\u001b[0m\n",
            "\u001b[?25h  Building wheel for trl (pyproject.toml) ... \u001b[?25l\u001b[?25hdone\n",
            "\u001b[2K     \u001b[90m━━━━━━━━━━━━━━━━━━━━━━━━━━━━━━━━━━━━━━━━\u001b[0m \u001b[32m2.5/2.5 MB\u001b[0m \u001b[31m15.0 MB/s\u001b[0m eta \u001b[36m0:00:00\u001b[0m\n",
            "\u001b[?25h  Preparing metadata (setup.py) ... \u001b[?25l\u001b[?25hdone\n",
            "\u001b[2K     \u001b[90m━━━━━━━━━━━━━━━━━━━━━━━━━━━━━━━━━━━━━━━━\u001b[0m \u001b[32m44.6/44.6 kB\u001b[0m \u001b[31m6.0 MB/s\u001b[0m eta \u001b[36m0:00:00\u001b[0m\n",
            "\u001b[2K     \u001b[90m━━━━━━━━━━━━━━━━━━━━━━━━━━━━━━━━━━━━━━━━\u001b[0m \u001b[32m307.2/307.2 kB\u001b[0m \u001b[31m19.2 MB/s\u001b[0m eta \u001b[36m0:00:00\u001b[0m\n",
            "\u001b[?25h  Building wheel for flash-attn (setup.py) ... \u001b[?25l\u001b[?25hdone\n",
            "\u001b[2K     \u001b[90m━━━━━━━━━━━━━━━━━━━━━━━━━━━━━━━━━━━━━━━━\u001b[0m \u001b[32m84.1/84.1 kB\u001b[0m \u001b[31m3.0 MB/s\u001b[0m eta \u001b[36m0:00:00\u001b[0m\n",
            "\u001b[?25h  Preparing metadata (setup.py) ... \u001b[?25l\u001b[?25hdone\n",
            "  Building wheel for gputil (setup.py) ... \u001b[?25l\u001b[?25hdone\n",
            "\u001b[2K     \u001b[90m━━━━━━━━━━━━━━━━━━━━━━━━━━━━━━━━━━━━━━━━\u001b[0m \u001b[32m2.2/2.2 MB\u001b[0m \u001b[31m14.9 MB/s\u001b[0m eta \u001b[36m0:00:00\u001b[0m\n",
            "\u001b[2K     \u001b[90m━━━━━━━━━━━━━━━━━━━━━━━━━━━━━━━━━━━━━━━━\u001b[0m \u001b[32m195.4/195.4 kB\u001b[0m \u001b[31m18.7 MB/s\u001b[0m eta \u001b[36m0:00:00\u001b[0m\n",
            "\u001b[2K     \u001b[90m━━━━━━━━━━━━━━━━━━━━━━━━━━━━━━━━━━━━━━━━\u001b[0m \u001b[32m258.5/258.5 kB\u001b[0m \u001b[31m17.6 MB/s\u001b[0m eta \u001b[36m0:00:00\u001b[0m\n",
            "\u001b[2K     \u001b[90m━━━━━━━━━━━━━━━━━━━━━━━━━━━━━━━━━━━━━━━━\u001b[0m \u001b[32m62.7/62.7 kB\u001b[0m \u001b[31m8.6 MB/s\u001b[0m eta \u001b[36m0:00:00\u001b[0m\n",
            "\u001b[?25htime: 2min 22s (started: 2024-03-06 17:47:05 +00:00)\n"
          ]
        }
      ],
      "source": [
        "!pip install -qqq git+https://github.com/huggingface/transformers\n",
        "!pip install -qqq git+https://github.com/huggingface/datasets\n",
        "!pip install -qqq git+https://github.com/huggingface/peft\n",
        "!pip install -qqq git+https://github.com/huggingface/accelerate\n",
        "!pip install -qqq --upgrade bitsandbytes\n",
        "!pip install -qqq git+https://github.com/huggingface/trl\n",
        "!pip install -qqq --upgrade safetensors\n",
        "!pip install -qqq -U flash-attn\n",
        "!pip install -qqq evaluate\n",
        "!pip install -qqq gputil psutil\n",
        "!pip install -qqq wandb"
      ]
    },
    {
      "cell_type": "code",
      "execution_count": 4,
      "metadata": {
        "colab": {
          "base_uri": "https://localhost:8080/"
        },
        "id": "BBXJ-kEeDxSx",
        "outputId": "0eddb4a0-a961-4565-d933-c72b212d48e8"
      },
      "outputs": [
        {
          "output_type": "stream",
          "name": "stdout",
          "text": [
            "time: 7.88 s (started: 2024-03-06 17:49:27 +00:00)\n"
          ]
        }
      ],
      "source": [
        "# Import necessary libraries\n",
        "import os\n",
        "import sys\n",
        "import numpy as np\n",
        "import pandas as pd\n",
        "import matplotlib.pyplot as plt\n",
        "from random import randrange\n",
        "\n",
        "# Import datasets and related modules\n",
        "import datasets\n",
        "from datasets import load_dataset, Dataset, DatasetDict\n",
        "\n",
        "# Import PyTorch and Hugging Face Transformers\n",
        "import torch\n",
        "import transformers\n",
        "from transformers import  AutoTokenizer\n",
        "\n",
        "# Import training and evaluation components\n",
        "from transformers import TrainingArguments, Trainer, set_seed\n",
        "\n",
        "# Import Evaluate\n",
        "import evaluate"
      ]
    },
    {
      "cell_type": "code",
      "execution_count": 5,
      "metadata": {
        "colab": {
          "base_uri": "https://localhost:8080/"
        },
        "id": "v8BqOJb-NO0v",
        "outputId": "ce7b44a2-72a1-496e-c2e9-8e2b712c7225"
      },
      "outputs": [
        {
          "output_type": "stream",
          "name": "stdout",
          "text": [
            "time: 3 ms (started: 2024-03-06 17:49:35 +00:00)\n"
          ]
        }
      ],
      "source": [
        "set_seed(42)"
      ]
    },
    {
      "cell_type": "code",
      "execution_count": 6,
      "metadata": {
        "colab": {
          "base_uri": "https://localhost:8080/"
        },
        "id": "7MoGGByID1gY",
        "outputId": "8974597d-2eb9-4eaa-b759-2f63e4ca8364"
      },
      "outputs": [
        {
          "output_type": "stream",
          "name": "stdout",
          "text": [
            "         Python : 3.10.12\n",
            "          NumPy : 1.25.2\n",
            "         Pandas : 1.5.3\n",
            "       Datasets : 2.18.1.dev0\n",
            "   Transformers : 4.39.0.dev0\n",
            "          Torch : 2.1.0+cu121\n",
            "       Evaluate : 0.4.1\n",
            "time: 1.67 ms (started: 2024-03-06 17:49:35 +00:00)\n"
          ]
        }
      ],
      "source": [
        "library_versions = {\n",
        "    \"Python\": sys.version.split()[0],\n",
        "    \"NumPy\": np.__version__,\n",
        "    \"Pandas\": pd.__version__,\n",
        "    \"Datasets\": datasets.__version__,\n",
        "    \"Transformers\": transformers.__version__,\n",
        "    \"Torch\": torch.__version__,\n",
        "    \"Evaluate\": evaluate.__version__,\n",
        "}\n",
        "\n",
        "for name, version in library_versions.items():\n",
        "    print(name.rjust(15), \":\", version)"
      ]
    },
    {
      "cell_type": "markdown",
      "metadata": {
        "id": "fANvzQh74Yoq"
      },
      "source": [
        "# **Data Preparation and Analysis**"
      ]
    },
    {
      "cell_type": "markdown",
      "metadata": {
        "id": "0hqWg84nzLle"
      },
      "source": [
        "### **Loading and Analyzing \"databricks-dolly-15k\"**"
      ]
    },
    {
      "cell_type": "code",
      "execution_count": 7,
      "metadata": {
        "colab": {
          "base_uri": "https://localhost:8080/",
          "height": 261,
          "referenced_widgets": [
            "8895ecc1460f4ae8b3423f168caeac07",
            "f236b1d11f074d1c94ada15f20b609f3",
            "7af5da24cb434cbeb7e344e02fd8099a",
            "e06ae0985eb24663a955c11c55d3b870",
            "69a18e1854f44583ac00064123cc918f",
            "e3e3c0f92d264265b8c65c53d504d3cb",
            "9a752630f25a43cb9163118415c2c30a",
            "ac19ffb8fecf45e8b434d95cc18aec26",
            "5a73ca548d25469ca93507560baed790",
            "5d7ed2742d544aed8569c16aee5b7469",
            "85954fe6df0a44d69b4dd09f96de4d27",
            "5fc883dae5bd45688314c7e8566d9c8b",
            "0d4c8dcb53dd43a1950eb6489e237f3c",
            "047b6592590a4ff0a4b133128e6b7f65",
            "e7bdfbf6a15947378e9b5cec5066bd11",
            "4854c01dd09b49759ed76a2150a87503",
            "ba257ecaad824e12b0c63a4b9b50d779",
            "e4de7bf6929f4804a2e62d506d3fedb3",
            "59265115e16a47fda829ed2a367e882a",
            "2277bd80f21247128d3af49459bab846",
            "ecef0f36862b4783954081e23eca6187",
            "546e0c6d569040ae986cb238b8ef4a48",
            "a33cae16e76643d18abc57d8e794f307",
            "0393761d702a4f42a1ea40ba586b8cf3",
            "3edff5be6168452cb31f327bd8b4a2ff",
            "cd93746bd17d4a009c0250bde837aa4c",
            "0612f43aa4a441d29624651a988f82b3",
            "be38f36d542940839d9dfa3cfa839073",
            "379e107393034bdcb2727331f9e18f5a",
            "e11a2ac533d14384b9918b9af3efe724",
            "e4ebe89b66e945bd9fa3147a0f69e3a0",
            "2d261f7257b14bca99048b5ed1ab065b",
            "224945c43b024e79817ac0fe75ac365b"
          ]
        },
        "id": "yNuKGnrrF4St",
        "outputId": "7c73d561-3a53-4aca-f8f3-d48d32f1edaa"
      },
      "outputs": [
        {
          "output_type": "stream",
          "name": "stderr",
          "text": [
            "/usr/local/lib/python3.10/dist-packages/huggingface_hub/utils/_token.py:88: UserWarning: \n",
            "The secret `HF_TOKEN` does not exist in your Colab secrets.\n",
            "To authenticate with the Hugging Face Hub, create a token in your settings tab (https://huggingface.co/settings/tokens), set it as secret in your Google Colab and restart your session.\n",
            "You will be able to reuse this secret in all of your notebooks.\n",
            "Please note that authentication is recommended but still optional to access public models or datasets.\n",
            "  warnings.warn(\n"
          ]
        },
        {
          "output_type": "display_data",
          "data": {
            "text/plain": [
              "Downloading readme:   0%|          | 0.00/3.02k [00:00<?, ?B/s]"
            ],
            "application/vnd.jupyter.widget-view+json": {
              "version_major": 2,
              "version_minor": 0,
              "model_id": "8895ecc1460f4ae8b3423f168caeac07"
            }
          },
          "metadata": {}
        },
        {
          "output_type": "display_data",
          "data": {
            "text/plain": [
              "Downloading data:   0%|          | 0.00/4.79M [00:00<?, ?B/s]"
            ],
            "application/vnd.jupyter.widget-view+json": {
              "version_major": 2,
              "version_minor": 0,
              "model_id": "5fc883dae5bd45688314c7e8566d9c8b"
            }
          },
          "metadata": {}
        },
        {
          "output_type": "display_data",
          "data": {
            "text/plain": [
              "Generating train split:   0%|          | 0/3512 [00:00<?, ? examples/s]"
            ],
            "application/vnd.jupyter.widget-view+json": {
              "version_major": 2,
              "version_minor": 0,
              "model_id": "a33cae16e76643d18abc57d8e794f307"
            }
          },
          "metadata": {}
        },
        {
          "output_type": "stream",
          "name": "stdout",
          "text": [
            "time: 5.66 s (started: 2024-03-06 17:49:35 +00:00)\n"
          ]
        }
      ],
      "source": [
        "from datasets import load_dataset\n",
        "from random import randrange\n",
        "\n",
        "# Load dataset from the hub\n",
        "dataset = load_dataset(\"Amod/mental_health_counseling_conversations\", split = \"train\")"
      ]
    },
    {
      "cell_type": "code",
      "execution_count": 8,
      "metadata": {
        "colab": {
          "base_uri": "https://localhost:8080/"
        },
        "id": "y96qJoKwZ49l",
        "outputId": "5160c723-1efa-4ca5-c5d0-4e0e14143fdb"
      },
      "outputs": [
        {
          "output_type": "stream",
          "name": "stdout",
          "text": [
            "dataset size: 3512\n",
            "{'Context': \"I found out my boyfriend takes anti-depression medicine. Lately he's been saying he has a lot on his mind, and he needs time to think about us. We've only been dating 3 weeks but I like him a lot.\", 'Response': \"Give him the time and space he needs.\\xa0 Obviously something is going on with him that he needs time to process, think about, and work through.\\xa0 Respect that most men are not talkers but more thinkers.\\xa0 If and when he is ready to talk, he will.\\xa0 When and if he does talk, be a comforting listener and put yourself in his shoes the best you can to be the support he needs.\\xa0 Don't take it personal because you just been dating 3 weeks and his depression maybe something that been going on for a while.\\xa0 If you do like him...showing him by being patient and supportive at this time.\"}\n",
            "time: 3.2 ms (started: 2024-03-06 17:49:41 +00:00)\n"
          ]
        }
      ],
      "source": [
        "print(f\"dataset size: {len(dataset)}\")\n",
        "print(dataset[randrange(len(dataset))])"
      ]
    },
    {
      "cell_type": "code",
      "execution_count": 9,
      "metadata": {
        "colab": {
          "base_uri": "https://localhost:8080/"
        },
        "id": "iQ7nCt3CaElz",
        "outputId": "b0822f79-918a-40ff-fd93-b66c01f1d866"
      },
      "outputs": [
        {
          "output_type": "execute_result",
          "data": {
            "text/plain": [
              "Dataset({\n",
              "    features: ['Context', 'Response'],\n",
              "    num_rows: 3512\n",
              "})"
            ]
          },
          "metadata": {},
          "execution_count": 9
        },
        {
          "output_type": "stream",
          "name": "stdout",
          "text": [
            "time: 2.53 ms (started: 2024-03-06 17:49:41 +00:00)\n"
          ]
        }
      ],
      "source": [
        "dataset"
      ]
    },
    {
      "cell_type": "markdown",
      "metadata": {
        "id": "vfBigb69WelF"
      },
      "source": [
        "# **Histogram of Text Lengths:**\n",
        "\n",
        "This will illustrate the distribution of text lengths for both 'instruction' and 'response'."
      ]
    },
    {
      "cell_type": "code",
      "execution_count": 10,
      "metadata": {
        "colab": {
          "base_uri": "https://localhost:8080/",
          "height": 625
        },
        "id": "muFhA1uG1V9e",
        "outputId": "adeb9608-4baa-4d7c-ed97-173bfa19edf6"
      },
      "outputs": [
        {
          "output_type": "display_data",
          "data": {
            "text/plain": [
              "<Figure size 1200x600 with 2 Axes>"
            ],
            "image/png": "[encoded data removed]"
          },
          "metadata": {}
        },
        {
          "output_type": "stream",
          "name": "stdout",
          "text": [
            "time: 545 ms (started: 2024-03-06 17:49:41 +00:00)\n"
          ]
        }
      ],
      "source": [
        "import matplotlib.pyplot as plt\n",
        "\n",
        "# Calculate lengths\n",
        "context_lengths = [len(context.split()) for context in dataset['Context']]\n",
        "response_lengths = [len(response.split()) for response in dataset['Response']]\n",
        "\n",
        "# Plot histograms\n",
        "plt.figure(figsize=(12, 6))\n",
        "\n",
        "plt.subplot(1, 2, 1)\n",
        "plt.hist(context_lengths, bins=20, color='blue', alpha=0.7)\n",
        "plt.title('Distribution of Context Lengths')\n",
        "plt.xlabel('Length (words)')\n",
        "plt.ylabel('Frequency')\n",
        "\n",
        "plt.subplot(1, 2, 2)\n",
        "plt.hist(response_lengths, bins=20, color='green', alpha=0.7)\n",
        "plt.title('Distribution of Response Lengths')\n",
        "plt.xlabel('Length (words)')\n",
        "\n",
        "plt.tight_layout()\n",
        "plt.show()"
      ]
    },
    {
      "cell_type": "markdown",
      "metadata": {
        "id": "XPekfk2EWwNm"
      },
      "source": [
        "# **Boxplots for Text Lengths**\n",
        "\n",
        "This will illustrate  the median, quartiles, and outliers in the lengths of 'instruction' and 'response'."
      ]
    },
    {
      "cell_type": "code",
      "execution_count": 11,
      "metadata": {
        "colab": {
          "base_uri": "https://localhost:8080/",
          "height": 563
        },
        "id": "_JQU5Cj_OjDn",
        "outputId": "31a6e285-4466-48a3-f6af-eb956aaeccb5"
      },
      "outputs": [
        {
          "output_type": "display_data",
          "data": {
            "text/plain": [
              "<Figure size 800x600 with 1 Axes>"
            ],
            "image/png": "[encoded data removed]"
          },
          "metadata": {}
        },
        {
          "output_type": "stream",
          "name": "stdout",
          "text": [
            "time: 140 ms (started: 2024-03-06 17:49:41 +00:00)\n"
          ]
        }
      ],
      "source": [
        "# Using the previously calculated lengths\n",
        "data = [context_lengths, response_lengths]\n",
        "labels = ['Context', 'Response']\n",
        "\n",
        "plt.figure(figsize=(8, 6))\n",
        "plt.boxplot(data, labels=labels)\n",
        "plt.title('Boxplot of Text Lengths')\n",
        "plt.ylabel('Length (words)')\n",
        "plt.show()\n"
      ]
    },
    {
      "cell_type": "markdown",
      "metadata": {
        "id": "xXrBi2b4XEAI"
      },
      "source": [
        "# **Scatter Plot**\n",
        "\n",
        "Scatter plot illustrates whether there is a relationship between the length of 'instruction' and 'response'"
      ]
    },
    {
      "cell_type": "code",
      "execution_count": 12,
      "metadata": {
        "colab": {
          "base_uri": "https://localhost:8080/",
          "height": 582
        },
        "id": "VtFFEV67XDHn",
        "outputId": "8222d6e1-be0c-4231-f559-7bc4a89f6068"
      },
      "outputs": [
        {
          "output_type": "display_data",
          "data": {
            "text/plain": [
              "<Figure size 800x600 with 1 Axes>"
            ],
            "image/png": "[encoded data removed]"
          },
          "metadata": {}
        },
        {
          "output_type": "stream",
          "name": "stdout",
          "text": [
            "time: 223 ms (started: 2024-03-06 17:49:41 +00:00)\n"
          ]
        }
      ],
      "source": [
        "plt.figure(figsize=(8, 6))\n",
        "plt.scatter(context_lengths, response_lengths, alpha=0.5)\n",
        "plt.title('Relationship between Context and Response Lengths')\n",
        "plt.xlabel('Context Length (words)')\n",
        "plt.ylabel('Response Length (words)')\n",
        "plt.show()\n"
      ]
    },
    {
      "cell_type": "markdown",
      "metadata": {
        "id": "5rgOiP2mEPly"
      },
      "source": [
        "To instruct tune our model, we need to convert our structured examples into a collection of tasks described via instructions. We define a formatting_function that takes a sample and returns a string with our format instruction."
      ]
    },
    {
      "cell_type": "code",
      "execution_count": 13,
      "metadata": {
        "colab": {
          "base_uri": "https://localhost:8080/"
        },
        "id": "cPXl4C6YGwt_",
        "outputId": "ab9c141e-cb75-4953-ae82-b3500b32d781"
      },
      "outputs": [
        {
          "output_type": "stream",
          "name": "stdout",
          "text": [
            "time: 494 µs (started: 2024-03-06 17:49:42 +00:00)\n"
          ]
        }
      ],
      "source": [
        "def format_instruction(sample):\n",
        "    # Format the instruction, input, and response into a single string\n",
        "    formatted_text = f\"\"\"### Instruction:\n",
        "Provide response for given input context.\n",
        "\n",
        "### Input:\n",
        "{sample['Context']}\n",
        "\n",
        "### Response:\n",
        "{sample['Response']}\n",
        "\"\"\"\n",
        "    # Return a list containing the formatted string\n",
        "    return [formatted_text]\n"
      ]
    },
    {
      "cell_type": "markdown",
      "metadata": {
        "id": "HB_dscklHGeF"
      },
      "source": [
        "# **Testing Formatting Function on a Random Example**"
      ]
    },
    {
      "cell_type": "code",
      "execution_count": 14,
      "metadata": {
        "colab": {
          "base_uri": "https://localhost:8080/"
        },
        "id": "90k8qA_QHLYs",
        "outputId": "53b1700e-7629-4b99-91be-6470250ca1db"
      },
      "outputs": [
        {
          "output_type": "stream",
          "name": "stdout",
          "text": [
            "[\"### Instruction:\\nProvide response for given input context.\\n\\n### Input:\\nMy son was diagnosed with autism a few years ago and I stopped working so that I could take care of him. I also was dealing with an abusive relationship (mentally, physically, and emotionally). Now I live like a recluse and I always feel nervous around people.\\n   How can I feel more comfortable around other people?\\n\\n### Response:\\nI'd wonder first if you were still in the same home and neighborhood where you raised your son and experienced the abuse? In many ways, we react to our environments - and if you're still surrounded by neighbors who didn't reach out when they heard your ex yelling or offer assistance and resources when your son acted differently than his peers, it might make sense that you're more timid around folks. It might also be worth thinking about where your bar is set: do you want to be as comfortable around people as you were before your recent circumstances? Or find your new normal, and connect only with people who raise you up and bolster your self-esteem? You have the right to be both cautious (if you're still surrounded by the same folks and environment) and discerning - only connecting with people who will be supportive. All the best~\\n\"]\n",
            "time: 930 µs (started: 2024-03-06 17:49:42 +00:00)\n"
          ]
        }
      ],
      "source": [
        "from random import randrange\n",
        "\n",
        "print(format_instruction(dataset[randrange(len(dataset))]))\n",
        "\n"
      ]
    },
    {
      "cell_type": "code",
      "execution_count": 15,
      "metadata": {
        "colab": {
          "base_uri": "https://localhost:8080/"
        },
        "id": "bTVRKvLTaagJ",
        "outputId": "b272bcd5-0875-4117-e13a-07767c7f76cb"
      },
      "outputs": [
        {
          "output_type": "stream",
          "name": "stdout",
          "text": [
            "dict_keys(['Context', 'Response'])\n",
            "time: 595 µs (started: 2024-03-06 17:49:42 +00:00)\n"
          ]
        }
      ],
      "source": [
        "print(dataset[0].keys())\n"
      ]
    },
    {
      "cell_type": "code",
      "execution_count": 16,
      "metadata": {
        "colab": {
          "base_uri": "https://localhost:8080/"
        },
        "id": "DrC09rF_PUkw",
        "outputId": "882c04a4-b48d-4654-dde4-bb170928ecff"
      },
      "outputs": [
        {
          "output_type": "stream",
          "name": "stdout",
          "text": [
            "Training set size: 2612\n",
            "Validation set size: 850\n",
            "Test set size: 50\n",
            "time: 15 ms (started: 2024-03-06 17:49:42 +00:00)\n"
          ]
        }
      ],
      "source": [
        "# Define the sizes of your splits\n",
        "test_size = 50\n",
        "validation_size = 850\n",
        "train_size = len(dataset) - test_size - validation_size\n",
        "\n",
        "# Create the splits\n",
        "dataset = dataset.shuffle(seed=42)\n",
        "dataset_test = dataset.select(range(test_size))\n",
        "dataset_validation = dataset.select(range(test_size, test_size + validation_size))\n",
        "dataset_train = dataset.select(range(test_size + validation_size, len(dataset)))\n",
        "\n",
        "# Verify the size of each split\n",
        "print(f\"Training set size: {len(dataset_train)}\")\n",
        "print(f\"Validation set size: {len(dataset_validation)}\")\n",
        "print(f\"Test set size: {len(dataset_test)}\")"
      ]
    },
    {
      "cell_type": "markdown",
      "metadata": {
        "id": "S48l6DAS5CGg"
      },
      "source": [
        "# **Model Training with QLoRA and Flash Attention**"
      ]
    },
    {
      "cell_type": "markdown",
      "metadata": {
        "id": "qVTBalQsHn-y"
      },
      "source": [
        "QLoRA is a technique to reduce the memory footprint of large language models during finetuning, without sacrificing performance a lot.\n",
        "\n"
      ]
    },
    {
      "cell_type": "markdown",
      "metadata": {
        "id": "zQZova5s42Jh"
      },
      "source": [
        "- We will quantize the pre-trained model to 4 bits and freeze it.\n",
        "- Attach small, trainable adapter layers. (LoRA)\n",
        "- Finetune only the adapter layers while using the frozen quantized model for context."
      ]
    },
    {
      "cell_type": "markdown",
      "metadata": {
        "id": "2nlTG7NcHwsq"
      },
      "source": [
        "Flash Attention is a an method that reorders the attention computation and leverages classical techniques (tiling, recomputation) to significantly speed it up and reduce memory usage from quadratic to linear in sequence length."
      ]
    },
    {
      "cell_type": "markdown",
      "metadata": {
        "id": "fkDs8uOJJOrj"
      },
      "source": [
        "# **Importing Necessary Libraries**"
      ]
    },
    {
      "cell_type": "code",
      "execution_count": 17,
      "metadata": {
        "colab": {
          "base_uri": "https://localhost:8080/"
        },
        "id": "VoOFLsbUJIU6",
        "outputId": "e5e6be3a-03a0-4242-e0a6-b3b39d65dcaa"
      },
      "outputs": [
        {
          "output_type": "stream",
          "name": "stdout",
          "text": [
            "time: 371 µs (started: 2024-03-06 17:49:42 +00:00)\n"
          ]
        }
      ],
      "source": [
        "import torch\n",
        "from transformers import AutoTokenizer, AutoModelForCausalLM, BitsAndBytesConfig"
      ]
    },
    {
      "cell_type": "markdown",
      "metadata": {
        "id": "pHyKWTzwJ9mT"
      },
      "source": [
        "# **Model ID Specification**"
      ]
    },
    {
      "cell_type": "code",
      "execution_count": 18,
      "metadata": {
        "colab": {
          "base_uri": "https://localhost:8080/"
        },
        "id": "OWNHgaLUJ0dK",
        "outputId": "99fc8db8-14a0-4c9f-ab98-ae312cbf7ddc"
      },
      "outputs": [
        {
          "output_type": "stream",
          "name": "stdout",
          "text": [
            "time: 246 µs (started: 2024-03-06 17:49:42 +00:00)\n"
          ]
        }
      ],
      "source": [
        "# Hugging Face model id\n",
        "model_id = \"NousResearch/Llama-2-7b-chat-hf\""
      ]
    },
    {
      "cell_type": "markdown",
      "metadata": {
        "id": "Bv-juXBdKFZj"
      },
      "source": [
        "# **BitsAndBytesConfig Setup**"
      ]
    },
    {
      "cell_type": "code",
      "execution_count": 19,
      "metadata": {
        "colab": {
          "base_uri": "https://localhost:8080/"
        },
        "id": "Fs5xUkejKGxB",
        "outputId": "0a226a8f-3680-4b82-c75f-a3ae91255229"
      },
      "outputs": [
        {
          "output_type": "stream",
          "name": "stdout",
          "text": [
            "time: 1.91 ms (started: 2024-03-06 17:49:42 +00:00)\n"
          ]
        }
      ],
      "source": [
        "# BitsAndBytesConfig int-4 config\n",
        "bnb_config = BitsAndBytesConfig(\n",
        "    load_in_4bit=True,\n",
        "    bnb_4bit_use_double_quant=True,\n",
        "    bnb_4bit_quant_type=\"nf4\",\n",
        "    bnb_4bit_compute_dtype=torch.bfloat16\n",
        ")"
      ]
    },
    {
      "cell_type": "code",
      "execution_count": 20,
      "metadata": {
        "colab": {
          "base_uri": "https://localhost:8080/"
        },
        "id": "JP3SV3pKjLJx",
        "outputId": "1e27f030-cb94-49e9-efbd-264acabe4de5"
      },
      "outputs": [
        {
          "output_type": "stream",
          "name": "stdout",
          "text": [
            "time: 384 µs (started: 2024-03-06 17:49:42 +00:00)\n"
          ]
        }
      ],
      "source": [
        "import torch\n",
        "torch.cuda.empty_cache()\n"
      ]
    },
    {
      "cell_type": "markdown",
      "metadata": {
        "id": "nwMUzW9tKP4H"
      },
      "source": [
        "# **Loading Model and Tokenizer**"
      ]
    },
    {
      "cell_type": "code",
      "execution_count": 21,
      "metadata": {
        "colab": {
          "base_uri": "https://localhost:8080/",
          "height": 443,
          "referenced_widgets": [
            "68e67676257e48008884c75aa57a7182",
            "eae79689da9c4decb97c26ecb201666f",
            "bd838dd4926549fba7fa92a849a5bc3a",
            "3160f7efd9da4858b487b3a93abeda9e",
            "afd7b92b5dbb4b2189e6a09a8e6b1df1",
            "23f2817f536d4520b467059b875caf10",
            "489d9804969c4e638837d88b26c466eb",
            "273512cdf92d4c88b2139074b99a3eee",
            "0cec6a550e524c028d1416dc80bc2b92",
            "72fd4af93eba4842b14ca6ec10cbf7de",
            "db9c3a5da86340fbaabf5d7af7e22ebd",
            "11453a4cb5224fb4a71cffa56825ccf1",
            "60756262cef04b2abeab02224346bdd7",
            "f01a2a2662294f709712aa9c1dbe4c22",
            "045c96f2d6cd493a82bbbf54b2c94e75",
            "c3e10215e5474e3d94aa6351924ed72a",
            "01b00ec4e0124220b1a1938b1fb7b02a",
            "3809a56caa1f4bbeafe5aeee8b33af64",
            "0073f22c7d9f47459ea2976638d518ad",
            "89c1fc373b8b421983f892c8a969f35a",
            "16722988923444809ae203fb8908eb7a",
            "3368eefabf6644659726c42623c92556",
            "d5e405999a6f4e67a67333736224e4cb",
            "0e9f2157a7f74f8994c43db47f3dbfb4",
            "83328e87639e4637a7715aef2ed82b88",
            "8fa9b698a1e34089aaea57ddf4f9bcaa",
            "ba021823bc194ae8aa05e8a14306214d",
            "18457bd7956c4d30b5e0aabfb9d873cd",
            "69d4ccc54d5a4564899017d57234a03b",
            "88b806a303e24edeb9ee7ab915536c2e",
            "3bb4624837974fa1a553ed0e273c4ae6",
            "dda49a66d0d442fa853a86b41f5cd76b",
            "ac175871f6fb4822994b34df7fd03d44",
            "fff1c955f2844ffba6bf710803d68507",
            "a9909871a3c346a6b227f9305a51708e",
            "63bee66fc23d4ac6bfee9e342713bc18",
            "1989aaed08fd4ce8b3ddebc480a9666c",
            "972df44d2b894e02a323c4b12fd1b837",
            "20423dbba47d46afb90413e941b920e1",
            "859d819a43ac431ca564008ec7f46c14",
            "9364b4b11ae944e29f2acdab4b79d34f",
            "c116135e275b46039dc2c30e88fa9483",
            "41fb42fd26ad45c8bae40467a94ea778",
            "3b43cedbe968476a994e9c05023d04c0",
            "45217342d1e64ec388bde3a4501382b0",
            "259490155f824d9e94aed45b14638cde",
            "f024d56912d847bbac83cf07808abcec",
            "dbf86660fa27470986eab93f0cf58528",
            "23592b7a2d2d4ab7ba1a5ec44b71286b",
            "8e1288eee55147b191fa2de54a9e4842",
            "e889751301424deca74413f2eba46e89",
            "a271d01c31ee463aa1a3a1809dfb5ae4",
            "37094e1ad6c04ea0a6b018221cfa7dfe",
            "758ca89488854acb995a072d9c9f9675",
            "0571ac86c1fa48dfbc2fa57b1c4366b4",
            "586f0ad7342c478588faccafebc2cb8d",
            "200d3dd27da745e09a910580cf792070",
            "6f742ed3f93e4de990a084043f495c08",
            "d05b5983f4684527acd17d6a301830c6",
            "36ade526b3434e9aa574d8ec77e19380",
            "f016f017c4e848898164ecd3b479ff2b",
            "3d3b8da8b21149f6acff546d7bef10df",
            "1983bfcbf3f64ecf8ee39307b14f6ec9",
            "50608d4eb54d49e78921e8ddde4e6e44",
            "62ceb2c3f95a43678e212294161785df",
            "8a0038ebd4b44ada8eb3bde37fe5c887",
            "f7f138c7a07445d6ba17aa0b54e2b90e",
            "271f0cc294614e06991363fd33bdcb64",
            "fd6ecfe9ffe64ad095ece38b2fc15310",
            "287bfe33efb3492e9e77d57f1a0d5115",
            "24b8f8cbe3cb4f86aed7f8b8f8929535",
            "adff796bdc614f0a8211db3dcd818927",
            "8bce8720fe4948b6b6cb68290f879fb6",
            "abd927c27094478482e5a7c4725f3ae0",
            "7790f95a9a024b00b3a9dd8dbfdbaf94",
            "ee00cd95b79b436ea37485b49770daf2",
            "d96ca9f4bc2a4842bf0b804eb9f596ee"
          ]
        },
        "id": "54kwpDXcKR-H",
        "outputId": "f00a73cd-84ce-4f52-c743-bfd5652f4868"
      },
      "outputs": [
        {
          "output_type": "display_data",
          "data": {
            "text/plain": [
              "config.json:   0%|          | 0.00/583 [00:00<?, ?B/s]"
            ],
            "application/vnd.jupyter.widget-view+json": {
              "version_major": 2,
              "version_minor": 0,
              "model_id": "68e67676257e48008884c75aa57a7182"
            }
          },
          "metadata": {}
        },
        {
          "output_type": "display_data",
          "data": {
            "text/plain": [
              "model.safetensors.index.json:   0%|          | 0.00/26.8k [00:00<?, ?B/s]"
            ],
            "application/vnd.jupyter.widget-view+json": {
              "version_major": 2,
              "version_minor": 0,
              "model_id": "11453a4cb5224fb4a71cffa56825ccf1"
            }
          },
          "metadata": {}
        },
        {
          "output_type": "display_data",
          "data": {
            "text/plain": [
              "Downloading shards:   0%|          | 0/2 [00:00<?, ?it/s]"
            ],
            "application/vnd.jupyter.widget-view+json": {
              "version_major": 2,
              "version_minor": 0,
              "model_id": "d5e405999a6f4e67a67333736224e4cb"
            }
          },
          "metadata": {}
        },
        {
          "output_type": "display_data",
          "data": {
            "text/plain": [
              "model-00001-of-00002.safetensors:   0%|          | 0.00/9.98G [00:00<?, ?B/s]"
            ],
            "application/vnd.jupyter.widget-view+json": {
              "version_major": 2,
              "version_minor": 0,
              "model_id": "fff1c955f2844ffba6bf710803d68507"
            }
          },
          "metadata": {}
        },
        {
          "output_type": "display_data",
          "data": {
            "text/plain": [
              "model-00002-of-00002.safetensors:   0%|          | 0.00/3.50G [00:00<?, ?B/s]"
            ],
            "application/vnd.jupyter.widget-view+json": {
              "version_major": 2,
              "version_minor": 0,
              "model_id": "45217342d1e64ec388bde3a4501382b0"
            }
          },
          "metadata": {}
        },
        {
          "output_type": "stream",
          "name": "stderr",
          "text": [
            "The model was loaded with use_flash_attention_2=True, which is deprecated and may be removed in a future release. Please use `attn_implementation=\"flash_attention_2\"` instead.\n"
          ]
        },
        {
          "output_type": "display_data",
          "data": {
            "text/plain": [
              "Loading checkpoint shards:   0%|          | 0/2 [00:00<?, ?it/s]"
            ],
            "application/vnd.jupyter.widget-view+json": {
              "version_major": 2,
              "version_minor": 0,
              "model_id": "586f0ad7342c478588faccafebc2cb8d"
            }
          },
          "metadata": {}
        },
        {
          "output_type": "display_data",
          "data": {
            "text/plain": [
              "generation_config.json:   0%|          | 0.00/179 [00:00<?, ?B/s]"
            ],
            "application/vnd.jupyter.widget-view+json": {
              "version_major": 2,
              "version_minor": 0,
              "model_id": "f7f138c7a07445d6ba17aa0b54e2b90e"
            }
          },
          "metadata": {}
        },
        {
          "output_type": "stream",
          "name": "stderr",
          "text": [
            "/usr/local/lib/python3.10/dist-packages/transformers/generation/configuration_utils.py:492: UserWarning: `do_sample` is set to `False`. However, `temperature` is set to `0.9` -- this flag is only used in sample-based generation modes. You should set `do_sample=True` or unset `temperature`. This was detected when initializing the generation config instance, which means the corresponding file may hold incorrect parameterization and should be fixed.\n",
            "  warnings.warn(\n",
            "/usr/local/lib/python3.10/dist-packages/transformers/generation/configuration_utils.py:497: UserWarning: `do_sample` is set to `False`. However, `top_p` is set to `0.6` -- this flag is only used in sample-based generation modes. You should set `do_sample=True` or unset `top_p`. This was detected when initializing the generation config instance, which means the corresponding file may hold incorrect parameterization and should be fixed.\n",
            "  warnings.warn(\n",
            "/usr/local/lib/python3.10/dist-packages/transformers/generation/configuration_utils.py:492: UserWarning: `do_sample` is set to `False`. However, `temperature` is set to `0.9` -- this flag is only used in sample-based generation modes. You should set `do_sample=True` or unset `temperature`.\n",
            "  warnings.warn(\n",
            "/usr/local/lib/python3.10/dist-packages/transformers/generation/configuration_utils.py:497: UserWarning: `do_sample` is set to `False`. However, `top_p` is set to `0.6` -- this flag is only used in sample-based generation modes. You should set `do_sample=True` or unset `top_p`.\n",
            "  warnings.warn(\n"
          ]
        },
        {
          "output_type": "stream",
          "name": "stdout",
          "text": [
            "time: 53.8 s (started: 2024-03-06 17:49:42 +00:00)\n"
          ]
        }
      ],
      "source": [
        "# Load model and tokenizer\n",
        "model = AutoModelForCausalLM.from_pretrained(model_id, quantization_config=bnb_config, use_cache=True, device_map=\"auto\", use_flash_attention_2=True)"
      ]
    },
    {
      "cell_type": "code",
      "execution_count": 22,
      "metadata": {
        "colab": {
          "base_uri": "https://localhost:8080/"
        },
        "id": "z7VppTKSK9n8",
        "outputId": "87f40a72-b80a-4574-954b-731b5752ddaa"
      },
      "outputs": [
        {
          "output_type": "execute_result",
          "data": {
            "text/plain": [
              "LlamaForCausalLM(\n",
              "  (model): LlamaModel(\n",
              "    (embed_tokens): Embedding(32000, 4096, padding_idx=0)\n",
              "    (layers): ModuleList(\n",
              "      (0-31): 32 x LlamaDecoderLayer(\n",
              "        (self_attn): LlamaFlashAttention2(\n",
              "          (q_proj): Linear4bit(in_features=4096, out_features=4096, bias=False)\n",
              "          (k_proj): Linear4bit(in_features=4096, out_features=4096, bias=False)\n",
              "          (v_proj): Linear4bit(in_features=4096, out_features=4096, bias=False)\n",
              "          (o_proj): Linear4bit(in_features=4096, out_features=4096, bias=False)\n",
              "          (rotary_emb): LlamaRotaryEmbedding()\n",
              "        )\n",
              "        (mlp): LlamaMLP(\n",
              "          (gate_proj): Linear4bit(in_features=4096, out_features=11008, bias=False)\n",
              "          (up_proj): Linear4bit(in_features=4096, out_features=11008, bias=False)\n",
              "          (down_proj): Linear4bit(in_features=11008, out_features=4096, bias=False)\n",
              "          (act_fn): SiLU()\n",
              "        )\n",
              "        (input_layernorm): LlamaRMSNorm()\n",
              "        (post_attention_layernorm): LlamaRMSNorm()\n",
              "      )\n",
              "    )\n",
              "    (norm): LlamaRMSNorm()\n",
              "  )\n",
              "  (lm_head): Linear(in_features=4096, out_features=32000, bias=False)\n",
              ")"
            ]
          },
          "metadata": {},
          "execution_count": 22
        },
        {
          "output_type": "stream",
          "name": "stdout",
          "text": [
            "time: 3.99 ms (started: 2024-03-06 17:50:35 +00:00)\n"
          ]
        }
      ],
      "source": [
        "model"
      ]
    },
    {
      "cell_type": "code",
      "execution_count": null,
      "metadata": {
        "colab": {
          "base_uri": "https://localhost:8080/"
        },
        "id": "-u9IyoD-HmEQ",
        "outputId": "2ddc4861-571c-43f0-f40c-74f73b8165f9"
      },
      "outputs": [
        {
          "data": {
            "text/plain": [
              "LlamaConfig {\n",
              "  \"_name_or_path\": \"NousResearch/Llama-2-7b-chat-hf\",\n",
              "  \"architectures\": [\n",
              "    \"LlamaForCausalLM\"\n",
              "  ],\n",
              "  \"attention_bias\": false,\n",
              "  \"attention_dropout\": 0.0,\n",
              "  \"bos_token_id\": 1,\n",
              "  \"eos_token_id\": 2,\n",
              "  \"hidden_act\": \"silu\",\n",
              "  \"hidden_size\": 4096,\n",
              "  \"initializer_range\": 0.02,\n",
              "  \"intermediate_size\": 11008,\n",
              "  \"max_position_embeddings\": 4096,\n",
              "  \"model_type\": \"llama\",\n",
              "  \"num_attention_heads\": 32,\n",
              "  \"num_hidden_layers\": 32,\n",
              "  \"num_key_value_heads\": 32,\n",
              "  \"pad_token_id\": 0,\n",
              "  \"pretraining_tp\": 1,\n",
              "  \"quantization_config\": {\n",
              "    \"_load_in_4bit\": true,\n",
              "    \"_load_in_8bit\": false,\n",
              "    \"bnb_4bit_compute_dtype\": \"bfloat16\",\n",
              "    \"bnb_4bit_quant_type\": \"nf4\",\n",
              "    \"bnb_4bit_use_double_quant\": true,\n",
              "    \"llm_int8_enable_fp32_cpu_offload\": false,\n",
              "    \"llm_int8_has_fp16_weight\": false,\n",
              "    \"llm_int8_skip_modules\": null,\n",
              "    \"llm_int8_threshold\": 6.0,\n",
              "    \"load_in_4bit\": true,\n",
              "    \"load_in_8bit\": false,\n",
              "    \"quant_method\": \"bitsandbytes\"\n",
              "  },\n",
              "  \"rms_norm_eps\": 1e-05,\n",
              "  \"rope_scaling\": null,\n",
              "  \"rope_theta\": 10000.0,\n",
              "  \"tie_word_embeddings\": false,\n",
              "  \"torch_dtype\": \"float16\",\n",
              "  \"transformers_version\": \"4.39.0.dev0\",\n",
              "  \"use_cache\": true,\n",
              "  \"vocab_size\": 32000\n",
              "}"
            ]
          },
          "execution_count": 25,
          "metadata": {},
          "output_type": "execute_result"
        },
        {
          "name": "stdout",
          "output_type": "stream",
          "text": [
            "time: 2.88 ms (started: 2024-03-06 17:37:15 +00:00)\n"
          ]
        }
      ],
      "source": [
        "model.config"
      ]
    },
    {
      "cell_type": "markdown",
      "metadata": {
        "id": "DgDN0gc15qRG"
      },
      "source": [
        "# **Setting up Tokenizer**"
      ]
    },
    {
      "cell_type": "code",
      "execution_count": 23,
      "metadata": {
        "colab": {
          "base_uri": "https://localhost:8080/",
          "height": 195,
          "referenced_widgets": [
            "994ba3f4e118464680072b6120494cbf",
            "ca8f1395f577480f9602373c07de6ac7",
            "9fd742e0ea174ee5b0709d7dc4a1bb3f",
            "b7a88b5643964356a981ac48ca9385c4",
            "66f7dc5fcf104afd8f0d6c04a09f74df",
            "9273b136e6e44d6bb3f955fb16201fb3",
            "3184aaeb8265497da51da8564401d62b",
            "3f966905ca084fa5be1bc89cc80b549d",
            "f9357572bf78422b9307e5c47a29ed0f",
            "9f47cb15e28c46339a2ea0c6f968d287",
            "69fee0c16a9f4cbaa89d40b6742d6f8e",
            "c5254db3a38a4e4995b9ff112ba5d727",
            "f55e07e1b90346a2a11f2179953e5948",
            "1b6626c88ffb4b1ab0304aad3d0b32e4",
            "d4032b7de7cf43b7be40e1c4b26413e6",
            "46bb7a9989544a3287b1c4c4dcc8791c",
            "8b6b4bc8f1b8425c8d028e59ad20184d",
            "6d6b8d0c42b24533846af23b219c0a7a",
            "74e26fafe2924d848890c82b676f641a",
            "5f4067077c9a4e0f910118acd596cfb7",
            "ad415121bb0f40beab19e0b04a9ac92a",
            "cd006b154a184fc6a27c24a16725094a",
            "1f44d84bd28f42bbb9d7ff2d05214e72",
            "8e149953efd34beeb642a8639a062e8d",
            "a7f6f812c029485a9e31f8b767b22e7f",
            "a6b66a093dcc4ff7a88bc745d0348202",
            "da1939b0bd7b400eaca5f559a5b76e26",
            "7186ff7dbd7043bdb18c6ae2ece5ff3d",
            "283f41e7cc144a2392b1627d683ec88e",
            "19358115af334c38892c4ace131c0d21",
            "4b17215f865a4c8db6c1fd155cc97539",
            "525dd617bc45409cbc9a984c768f10fe",
            "c97b4162c83843a69768fdefd3e6b37a",
            "0b35a29921c140259e48dbeda5b94481",
            "ef7936d1cebd40ccaf106b1f09e0364c",
            "f837eb9d483e4882aa1fe251048a8575",
            "6d6db313e73f41a4ada2b00bb3176fc6",
            "0833cc33e85044af9e76db04c5005ba1",
            "a9ec69fdba574ae8b818e070be755eda",
            "33cee01295b041c68f9b95bc5ffc1364",
            "6503868046f84805b9d61fbd37d1a79f",
            "6500cfa686a04be28677e749a2c154d8",
            "d0d6f7f160c84da5b9ead4da5994f937",
            "3c272a8a63d0413d8b72ba28e1f8caff",
            "0aa4c29959af45c388eb4efc8e371797",
            "24aefd6d75e64c44a0b2b31f8bf3405f",
            "771299e9847f4bbb8e114e9c100adbca",
            "b36897cba922470a85bdeb984020f8b9",
            "8a349a9448e3445e805eb71d5a3214f1",
            "da0886cacf934a0b97b697ef3a057433",
            "b366e53db4e142cca1139ba143138bef",
            "b577befa4921475dbb7be4c0eba9f35f",
            "265a9dbc62d44a8e8f968c1e296b119f",
            "d8f1907aacd3479584cf7f84a2ffbb0f",
            "6f7761af095b4aa5b6813438f32afd3a"
          ]
        },
        "id": "Y5dg7bdiinGg",
        "outputId": "3c7ca341-f0db-4e94-a9d5-5f673e5c1e33"
      },
      "outputs": [
        {
          "output_type": "display_data",
          "data": {
            "text/plain": [
              "tokenizer_config.json:   0%|          | 0.00/746 [00:00<?, ?B/s]"
            ],
            "application/vnd.jupyter.widget-view+json": {
              "version_major": 2,
              "version_minor": 0,
              "model_id": "994ba3f4e118464680072b6120494cbf"
            }
          },
          "metadata": {}
        },
        {
          "output_type": "display_data",
          "data": {
            "text/plain": [
              "tokenizer.model:   0%|          | 0.00/500k [00:00<?, ?B/s]"
            ],
            "application/vnd.jupyter.widget-view+json": {
              "version_major": 2,
              "version_minor": 0,
              "model_id": "c5254db3a38a4e4995b9ff112ba5d727"
            }
          },
          "metadata": {}
        },
        {
          "output_type": "display_data",
          "data": {
            "text/plain": [
              "tokenizer.json:   0%|          | 0.00/1.84M [00:00<?, ?B/s]"
            ],
            "application/vnd.jupyter.widget-view+json": {
              "version_major": 2,
              "version_minor": 0,
              "model_id": "1f44d84bd28f42bbb9d7ff2d05214e72"
            }
          },
          "metadata": {}
        },
        {
          "output_type": "display_data",
          "data": {
            "text/plain": [
              "added_tokens.json:   0%|          | 0.00/21.0 [00:00<?, ?B/s]"
            ],
            "application/vnd.jupyter.widget-view+json": {
              "version_major": 2,
              "version_minor": 0,
              "model_id": "0b35a29921c140259e48dbeda5b94481"
            }
          },
          "metadata": {}
        },
        {
          "output_type": "display_data",
          "data": {
            "text/plain": [
              "special_tokens_map.json:   0%|          | 0.00/435 [00:00<?, ?B/s]"
            ],
            "application/vnd.jupyter.widget-view+json": {
              "version_major": 2,
              "version_minor": 0,
              "model_id": "0aa4c29959af45c388eb4efc8e371797"
            }
          },
          "metadata": {}
        },
        {
          "output_type": "stream",
          "name": "stdout",
          "text": [
            "time: 1.22 s (started: 2024-03-06 17:51:14 +00:00)\n"
          ]
        }
      ],
      "source": [
        "tokenizer = AutoTokenizer.from_pretrained(model_id)\n",
        "tokenizer.pad_token = tokenizer.eos_token\n"
      ]
    },
    {
      "cell_type": "markdown",
      "metadata": {
        "id": "Zp_IG26V5jFl"
      },
      "source": [
        "# **Configuring and Preparing Model for LoRA-based Training Using PEFT Library**"
      ]
    },
    {
      "cell_type": "code",
      "execution_count": 24,
      "metadata": {
        "colab": {
          "base_uri": "https://localhost:8080/"
        },
        "id": "Wyd95rQELaEs",
        "outputId": "9658ada1-314f-48fb-aa63-353f46f58c16"
      },
      "outputs": [
        {
          "output_type": "stream",
          "name": "stdout",
          "text": [
            "time: 573 µs (started: 2024-03-06 17:51:16 +00:00)\n"
          ]
        }
      ],
      "source": [
        "def print_trainable_parameters(model):\n",
        "    \"\"\"\n",
        "    Prints the number of trainable parameters in the model.\n",
        "    \"\"\"\n",
        "    trainable_params = 0\n",
        "    all_param = 0\n",
        "    for _, param in model.named_parameters():\n",
        "\n",
        "        all_param += param.numel()\n",
        "        if param.requires_grad:\n",
        "            trainable_params += param.numel()\n",
        "    print(\n",
        "        f\"trainable params: {trainable_params} || all params: {all_param} || trainable%: {100 * trainable_params / all_param}\"\n",
        "    )\n"
      ]
    },
    {
      "cell_type": "code",
      "execution_count": 25,
      "metadata": {
        "colab": {
          "base_uri": "https://localhost:8080/"
        },
        "id": "9CKCsJ5iS9iH",
        "outputId": "066a0f39-c9b3-4c45-d50d-79d4fba62809"
      },
      "outputs": [
        {
          "output_type": "stream",
          "name": "stdout",
          "text": [
            "time: 365 µs (started: 2024-03-06 17:51:16 +00:00)\n"
          ]
        }
      ],
      "source": [
        "r = 64\n",
        "LORA_ALPHA = 64\n",
        "LORA_DROPOUT = 0.0"
      ]
    },
    {
      "cell_type": "code",
      "execution_count": 26,
      "metadata": {
        "colab": {
          "base_uri": "https://localhost:8080/"
        },
        "id": "xgyUehyuMp4n",
        "outputId": "41624c2f-52c9-4d49-a44f-3b1c6d56b51d"
      },
      "outputs": [
        {
          "output_type": "stream",
          "name": "stdout",
          "text": [
            "time: 26.4 ms (started: 2024-03-06 17:51:16 +00:00)\n"
          ]
        }
      ],
      "source": [
        "from peft import LoraConfig, prepare_model_for_kbit_training, get_peft_model\n",
        "\n",
        "# LoRA config based on QLoRA paper\n",
        "peft_config = LoraConfig(\n",
        "        lora_alpha=LORA_ALPHA,\n",
        "        lora_dropout=LORA_DROPOUT,\n",
        "        r=r,\n",
        "        bias=\"none\",\n",
        "        task_type=\"CAUSAL_LM\",\n",
        "        target_modules=\"all-linear\"\n",
        ")\n",
        "\n",
        "\n",
        "# prepare model for training\n",
        "model = prepare_model_for_kbit_training(model)\n",
        "\n"
      ]
    },
    {
      "cell_type": "code",
      "execution_count": 27,
      "metadata": {
        "colab": {
          "base_uri": "https://localhost:8080/"
        },
        "id": "dswLhaJtLCbN",
        "outputId": "d2d69b5c-d4fd-44b4-b5c7-b245f65c4f57"
      },
      "outputs": [
        {
          "output_type": "stream",
          "name": "stdout",
          "text": [
            "LlamaForCausalLM(\n",
            "  (model): LlamaModel(\n",
            "    (embed_tokens): Embedding(32000, 4096, padding_idx=0)\n",
            "    (layers): ModuleList(\n",
            "      (0-31): 32 x LlamaDecoderLayer(\n",
            "        (self_attn): LlamaFlashAttention2(\n",
            "          (q_proj): Linear4bit(in_features=4096, out_features=4096, bias=False)\n",
            "          (k_proj): Linear4bit(in_features=4096, out_features=4096, bias=False)\n",
            "          (v_proj): Linear4bit(in_features=4096, out_features=4096, bias=False)\n",
            "          (o_proj): Linear4bit(in_features=4096, out_features=4096, bias=False)\n",
            "          (rotary_emb): LlamaRotaryEmbedding()\n",
            "        )\n",
            "        (mlp): LlamaMLP(\n",
            "          (gate_proj): Linear4bit(in_features=4096, out_features=11008, bias=False)\n",
            "          (up_proj): Linear4bit(in_features=4096, out_features=11008, bias=False)\n",
            "          (down_proj): Linear4bit(in_features=11008, out_features=4096, bias=False)\n",
            "          (act_fn): SiLU()\n",
            "        )\n",
            "        (input_layernorm): LlamaRMSNorm()\n",
            "        (post_attention_layernorm): LlamaRMSNorm()\n",
            "      )\n",
            "    )\n",
            "    (norm): LlamaRMSNorm()\n",
            "  )\n",
            "  (lm_head): Linear(in_features=4096, out_features=32000, bias=False)\n",
            ")\n",
            "time: 1.97 ms (started: 2024-03-06 17:51:16 +00:00)\n"
          ]
        }
      ],
      "source": [
        "print(model)"
      ]
    },
    {
      "cell_type": "code",
      "execution_count": 28,
      "metadata": {
        "colab": {
          "base_uri": "https://localhost:8080/"
        },
        "id": "iQLJ-3s8LEDn",
        "outputId": "13c0566a-8679-43e1-86ff-186e778d65e4"
      },
      "outputs": [
        {
          "output_type": "stream",
          "name": "stdout",
          "text": [
            "LlamaConfig {\n",
            "  \"_name_or_path\": \"NousResearch/Llama-2-7b-chat-hf\",\n",
            "  \"architectures\": [\n",
            "    \"LlamaForCausalLM\"\n",
            "  ],\n",
            "  \"attention_bias\": false,\n",
            "  \"attention_dropout\": 0.0,\n",
            "  \"bos_token_id\": 1,\n",
            "  \"eos_token_id\": 2,\n",
            "  \"hidden_act\": \"silu\",\n",
            "  \"hidden_size\": 4096,\n",
            "  \"initializer_range\": 0.02,\n",
            "  \"intermediate_size\": 11008,\n",
            "  \"max_position_embeddings\": 4096,\n",
            "  \"model_type\": \"llama\",\n",
            "  \"num_attention_heads\": 32,\n",
            "  \"num_hidden_layers\": 32,\n",
            "  \"num_key_value_heads\": 32,\n",
            "  \"pad_token_id\": 0,\n",
            "  \"pretraining_tp\": 1,\n",
            "  \"quantization_config\": {\n",
            "    \"_load_in_4bit\": true,\n",
            "    \"_load_in_8bit\": false,\n",
            "    \"bnb_4bit_compute_dtype\": \"bfloat16\",\n",
            "    \"bnb_4bit_quant_type\": \"nf4\",\n",
            "    \"bnb_4bit_use_double_quant\": true,\n",
            "    \"llm_int8_enable_fp32_cpu_offload\": false,\n",
            "    \"llm_int8_has_fp16_weight\": false,\n",
            "    \"llm_int8_skip_modules\": null,\n",
            "    \"llm_int8_threshold\": 6.0,\n",
            "    \"load_in_4bit\": true,\n",
            "    \"load_in_8bit\": false,\n",
            "    \"quant_method\": \"bitsandbytes\"\n",
            "  },\n",
            "  \"rms_norm_eps\": 1e-05,\n",
            "  \"rope_scaling\": null,\n",
            "  \"rope_theta\": 10000.0,\n",
            "  \"tie_word_embeddings\": false,\n",
            "  \"torch_dtype\": \"float16\",\n",
            "  \"transformers_version\": \"4.39.0.dev0\",\n",
            "  \"use_cache\": true,\n",
            "  \"vocab_size\": 32000\n",
            "}\n",
            "\n",
            "time: 1.36 ms (started: 2024-03-06 17:51:16 +00:00)\n"
          ]
        }
      ],
      "source": [
        "print(model.config)"
      ]
    },
    {
      "cell_type": "code",
      "execution_count": 29,
      "metadata": {
        "colab": {
          "base_uri": "https://localhost:8080/"
        },
        "id": "Z72H6ccELGiO",
        "outputId": "1ebf1cfa-cf72-4151-f027-bc6420803ae2"
      },
      "outputs": [
        {
          "output_type": "stream",
          "name": "stdout",
          "text": [
            "time: 2.04 s (started: 2024-03-06 17:51:16 +00:00)\n"
          ]
        }
      ],
      "source": [
        "model = get_peft_model(model, peft_config)"
      ]
    },
    {
      "cell_type": "code",
      "execution_count": 30,
      "metadata": {
        "colab": {
          "base_uri": "https://localhost:8080/"
        },
        "id": "0XCtDMBALIGI",
        "outputId": "7e038242-78b9-4bd3-c725-11945a29b2e8"
      },
      "outputs": [
        {
          "output_type": "stream",
          "name": "stdout",
          "text": [
            "PeftModelForCausalLM(\n",
            "  (base_model): LoraModel(\n",
            "    (model): LlamaForCausalLM(\n",
            "      (model): LlamaModel(\n",
            "        (embed_tokens): Embedding(32000, 4096, padding_idx=0)\n",
            "        (layers): ModuleList(\n",
            "          (0-31): 32 x LlamaDecoderLayer(\n",
            "            (self_attn): LlamaFlashAttention2(\n",
            "              (q_proj): lora.Linear4bit(\n",
            "                (base_layer): Linear4bit(in_features=4096, out_features=4096, bias=False)\n",
            "                (lora_dropout): ModuleDict(\n",
            "                  (default): Identity()\n",
            "                )\n",
            "                (lora_A): ModuleDict(\n",
            "                  (default): Linear(in_features=4096, out_features=64, bias=False)\n",
            "                )\n",
            "                (lora_B): ModuleDict(\n",
            "                  (default): Linear(in_features=64, out_features=4096, bias=False)\n",
            "                )\n",
            "                (lora_embedding_A): ParameterDict()\n",
            "                (lora_embedding_B): ParameterDict()\n",
            "              )\n",
            "              (k_proj): lora.Linear4bit(\n",
            "                (base_layer): Linear4bit(in_features=4096, out_features=4096, bias=False)\n",
            "                (lora_dropout): ModuleDict(\n",
            "                  (default): Identity()\n",
            "                )\n",
            "                (lora_A): ModuleDict(\n",
            "                  (default): Linear(in_features=4096, out_features=64, bias=False)\n",
            "                )\n",
            "                (lora_B): ModuleDict(\n",
            "                  (default): Linear(in_features=64, out_features=4096, bias=False)\n",
            "                )\n",
            "                (lora_embedding_A): ParameterDict()\n",
            "                (lora_embedding_B): ParameterDict()\n",
            "              )\n",
            "              (v_proj): lora.Linear4bit(\n",
            "                (base_layer): Linear4bit(in_features=4096, out_features=4096, bias=False)\n",
            "                (lora_dropout): ModuleDict(\n",
            "                  (default): Identity()\n",
            "                )\n",
            "                (lora_A): ModuleDict(\n",
            "                  (default): Linear(in_features=4096, out_features=64, bias=False)\n",
            "                )\n",
            "                (lora_B): ModuleDict(\n",
            "                  (default): Linear(in_features=64, out_features=4096, bias=False)\n",
            "                )\n",
            "                (lora_embedding_A): ParameterDict()\n",
            "                (lora_embedding_B): ParameterDict()\n",
            "              )\n",
            "              (o_proj): lora.Linear4bit(\n",
            "                (base_layer): Linear4bit(in_features=4096, out_features=4096, bias=False)\n",
            "                (lora_dropout): ModuleDict(\n",
            "                  (default): Identity()\n",
            "                )\n",
            "                (lora_A): ModuleDict(\n",
            "                  (default): Linear(in_features=4096, out_features=64, bias=False)\n",
            "                )\n",
            "                (lora_B): ModuleDict(\n",
            "                  (default): Linear(in_features=64, out_features=4096, bias=False)\n",
            "                )\n",
            "                (lora_embedding_A): ParameterDict()\n",
            "                (lora_embedding_B): ParameterDict()\n",
            "              )\n",
            "              (rotary_emb): LlamaRotaryEmbedding()\n",
            "            )\n",
            "            (mlp): LlamaMLP(\n",
            "              (gate_proj): lora.Linear4bit(\n",
            "                (base_layer): Linear4bit(in_features=4096, out_features=11008, bias=False)\n",
            "                (lora_dropout): ModuleDict(\n",
            "                  (default): Identity()\n",
            "                )\n",
            "                (lora_A): ModuleDict(\n",
            "                  (default): Linear(in_features=4096, out_features=64, bias=False)\n",
            "                )\n",
            "                (lora_B): ModuleDict(\n",
            "                  (default): Linear(in_features=64, out_features=11008, bias=False)\n",
            "                )\n",
            "                (lora_embedding_A): ParameterDict()\n",
            "                (lora_embedding_B): ParameterDict()\n",
            "              )\n",
            "              (up_proj): lora.Linear4bit(\n",
            "                (base_layer): Linear4bit(in_features=4096, out_features=11008, bias=False)\n",
            "                (lora_dropout): ModuleDict(\n",
            "                  (default): Identity()\n",
            "                )\n",
            "                (lora_A): ModuleDict(\n",
            "                  (default): Linear(in_features=4096, out_features=64, bias=False)\n",
            "                )\n",
            "                (lora_B): ModuleDict(\n",
            "                  (default): Linear(in_features=64, out_features=11008, bias=False)\n",
            "                )\n",
            "                (lora_embedding_A): ParameterDict()\n",
            "                (lora_embedding_B): ParameterDict()\n",
            "              )\n",
            "              (down_proj): lora.Linear4bit(\n",
            "                (base_layer): Linear4bit(in_features=11008, out_features=4096, bias=False)\n",
            "                (lora_dropout): ModuleDict(\n",
            "                  (default): Identity()\n",
            "                )\n",
            "                (lora_A): ModuleDict(\n",
            "                  (default): Linear(in_features=11008, out_features=64, bias=False)\n",
            "                )\n",
            "                (lora_B): ModuleDict(\n",
            "                  (default): Linear(in_features=64, out_features=4096, bias=False)\n",
            "                )\n",
            "                (lora_embedding_A): ParameterDict()\n",
            "                (lora_embedding_B): ParameterDict()\n",
            "              )\n",
            "              (act_fn): SiLU()\n",
            "            )\n",
            "            (input_layernorm): LlamaRMSNorm()\n",
            "            (post_attention_layernorm): LlamaRMSNorm()\n",
            "          )\n",
            "        )\n",
            "        (norm): LlamaRMSNorm()\n",
            "      )\n",
            "      (lm_head): Linear(in_features=4096, out_features=32000, bias=False)\n",
            "    )\n",
            "  )\n",
            ")\n",
            "time: 10.4 ms (started: 2024-03-06 17:51:18 +00:00)\n"
          ]
        }
      ],
      "source": [
        "print(model)"
      ]
    },
    {
      "cell_type": "code",
      "execution_count": 31,
      "metadata": {
        "colab": {
          "base_uri": "https://localhost:8080/"
        },
        "id": "59sXmR-IHvl3",
        "outputId": "00b5abe1-70eb-46e0-90b4-4e961a79b4e4"
      },
      "outputs": [
        {
          "output_type": "stream",
          "name": "stdout",
          "text": [
            "LlamaConfig {\n",
            "  \"_name_or_path\": \"NousResearch/Llama-2-7b-chat-hf\",\n",
            "  \"architectures\": [\n",
            "    \"LlamaForCausalLM\"\n",
            "  ],\n",
            "  \"attention_bias\": false,\n",
            "  \"attention_dropout\": 0.0,\n",
            "  \"bos_token_id\": 1,\n",
            "  \"eos_token_id\": 2,\n",
            "  \"hidden_act\": \"silu\",\n",
            "  \"hidden_size\": 4096,\n",
            "  \"initializer_range\": 0.02,\n",
            "  \"intermediate_size\": 11008,\n",
            "  \"max_position_embeddings\": 4096,\n",
            "  \"model_type\": \"llama\",\n",
            "  \"num_attention_heads\": 32,\n",
            "  \"num_hidden_layers\": 32,\n",
            "  \"num_key_value_heads\": 32,\n",
            "  \"pad_token_id\": 0,\n",
            "  \"pretraining_tp\": 1,\n",
            "  \"quantization_config\": {\n",
            "    \"_load_in_4bit\": true,\n",
            "    \"_load_in_8bit\": false,\n",
            "    \"bnb_4bit_compute_dtype\": \"bfloat16\",\n",
            "    \"bnb_4bit_quant_type\": \"nf4\",\n",
            "    \"bnb_4bit_use_double_quant\": true,\n",
            "    \"llm_int8_enable_fp32_cpu_offload\": false,\n",
            "    \"llm_int8_has_fp16_weight\": false,\n",
            "    \"llm_int8_skip_modules\": null,\n",
            "    \"llm_int8_threshold\": 6.0,\n",
            "    \"load_in_4bit\": true,\n",
            "    \"load_in_8bit\": false,\n",
            "    \"quant_method\": \"bitsandbytes\"\n",
            "  },\n",
            "  \"rms_norm_eps\": 1e-05,\n",
            "  \"rope_scaling\": null,\n",
            "  \"rope_theta\": 10000.0,\n",
            "  \"tie_word_embeddings\": false,\n",
            "  \"torch_dtype\": \"float16\",\n",
            "  \"transformers_version\": \"4.39.0.dev0\",\n",
            "  \"use_cache\": true,\n",
            "  \"vocab_size\": 32000\n",
            "}\n",
            "\n",
            "time: 1.7 ms (started: 2024-03-06 17:51:19 +00:00)\n"
          ]
        }
      ],
      "source": [
        "print(model.config)"
      ]
    },
    {
      "cell_type": "code",
      "execution_count": 32,
      "metadata": {
        "colab": {
          "base_uri": "https://localhost:8080/"
        },
        "id": "kCXx21wHLv31",
        "outputId": "1abe939a-be00-452f-c143-f3536b2e9ff4"
      },
      "outputs": [
        {
          "output_type": "stream",
          "name": "stdout",
          "text": [
            "trainable params: 159907840 || all params: 3660320768 || trainable%: 4.368683788535114\n",
            "time: 7.02 ms (started: 2024-03-06 17:51:19 +00:00)\n"
          ]
        }
      ],
      "source": [
        "print_trainable_parameters(model)"
      ]
    },
    {
      "cell_type": "code",
      "execution_count": 33,
      "metadata": {
        "colab": {
          "base_uri": "https://localhost:8080/"
        },
        "id": "g5VVhntmSbjX",
        "outputId": "5315c9e7-2143-4931-9f1a-9d8518b13648"
      },
      "outputs": [
        {
          "output_type": "stream",
          "name": "stdout",
          "text": [
            "time: 259 µs (started: 2024-03-06 17:51:19 +00:00)\n"
          ]
        }
      ],
      "source": [
        "from datasets import Dataset, load_dataset, load_metric"
      ]
    },
    {
      "cell_type": "code",
      "execution_count": 34,
      "metadata": {
        "colab": {
          "base_uri": "https://localhost:8080/"
        },
        "id": "dOILOJQgSgAg",
        "outputId": "441a32d2-8879-46a8-aac8-18f6ca396d6d"
      },
      "outputs": [
        {
          "output_type": "stream",
          "name": "stdout",
          "text": [
            "  Preparing metadata (setup.py) ... \u001b[?25l\u001b[?25hdone\n",
            "  Building wheel for rouge_score (setup.py) ... \u001b[?25l\u001b[?25hdone\n",
            "time: 11.6 s (started: 2024-03-06 17:51:19 +00:00)\n"
          ]
        }
      ],
      "source": [
        "!pip install -q rouge_score\n",
        "!pip install -qqq evaluate --progress-bar off\n"
      ]
    },
    {
      "cell_type": "code",
      "execution_count": 35,
      "metadata": {
        "colab": {
          "base_uri": "https://localhost:8080/",
          "height": 197,
          "referenced_widgets": [
            "a55fbea03fff42e9998d679fe07e1451",
            "edd7ea6e006c4606b73db9d25c4800db",
            "65521efa7084499e9a612ee579946257",
            "914598c5196242db81f33f99e1417654",
            "a13f089b22594b718e5ea8752516c2c1",
            "18f00dcf1702412a8086503aecfdac7d",
            "70c47a74b8164f5dbef7fafd73ab5dd8",
            "583832dc9bc74c0e833c987438eb4604",
            "c1b6290b50344099975389a087d3ae47",
            "757140f2943d4b1581ba2904d0c964cd",
            "3a44e2c0c87b423a8d3b964d701bdd90"
          ]
        },
        "id": "OE0e9taASiKi",
        "outputId": "9516356a-f80b-49d3-8200-033f6c29dcfd"
      },
      "outputs": [
        {
          "output_type": "stream",
          "name": "stderr",
          "text": [
            "<ipython-input-35-3f83cc71b72a>:1: FutureWarning: load_metric is deprecated and will be removed in the next major version of datasets. Use 'evaluate.load' instead, from the new library 🤗 Evaluate: https://huggingface.co/docs/evaluate\n",
            "  rouge_score = load_metric(\"rouge\")\n",
            "/usr/local/lib/python3.10/dist-packages/datasets/load.py:756: FutureWarning: The repository for rouge contains custom code which must be executed to correctly load the metric. You can inspect the repository content at https://raw.githubusercontent.com/huggingface/datasets/main/metrics/rouge/rouge.py\n",
            "You can avoid this message in future by passing the argument `trust_remote_code=True`.\n",
            "Passing `trust_remote_code=True` will be mandatory to load this metric from the next major release of `datasets`.\n",
            "  warnings.warn(\n"
          ]
        },
        {
          "output_type": "display_data",
          "data": {
            "text/plain": [
              "Downloading builder script:   0%|          | 0.00/2.17k [00:00<?, ?B/s]"
            ],
            "application/vnd.jupyter.widget-view+json": {
              "version_major": 2,
              "version_minor": 0,
              "model_id": "a55fbea03fff42e9998d679fe07e1451"
            }
          },
          "metadata": {}
        },
        {
          "output_type": "stream",
          "name": "stdout",
          "text": [
            "time: 1.11 s (started: 2024-03-06 17:51:30 +00:00)\n"
          ]
        }
      ],
      "source": [
        "rouge_score = load_metric(\"rouge\")"
      ]
    },
    {
      "cell_type": "code",
      "execution_count": 36,
      "metadata": {
        "colab": {
          "base_uri": "https://localhost:8080/",
          "height": 67,
          "referenced_widgets": [
            "6168820d508a4c7e8cd59008efcbc137",
            "eb23b15291c5407a9888f439d59f3f50",
            "b3b0f4b471434293943aab16113c7aaa",
            "418c59839ca24d0997504c2cbddcf356",
            "db4fca4ec268496fb541baad3239df98",
            "9b16066779734d00b48c55b62ba9dd9e",
            "b495622df3ae400097b0da85219f8db2",
            "3f1a9a28adce4396999935066492f208",
            "cf85d3b642ba413d929953636ba79f20",
            "47af2a1691b747979876eafae36ab3d6",
            "5dca7ef5aa7046ae955641e5d2fa9ec8"
          ]
        },
        "id": "RTBamzORSlYV",
        "outputId": "ae64f6b1-f920-4d28-f793-a7bc69554b56"
      },
      "outputs": [
        {
          "output_type": "display_data",
          "data": {
            "text/plain": [
              "Downloading builder script:   0%|          | 0.00/6.27k [00:00<?, ?B/s]"
            ],
            "application/vnd.jupyter.widget-view+json": {
              "version_major": 2,
              "version_minor": 0,
              "model_id": "6168820d508a4c7e8cd59008efcbc137"
            }
          },
          "metadata": {}
        },
        {
          "output_type": "stream",
          "name": "stdout",
          "text": [
            "time: 882 ms (started: 2024-03-06 17:51:31 +00:00)\n"
          ]
        }
      ],
      "source": [
        "import numpy as np\n",
        "from transformers import TrainingArguments\n",
        "import nltk\n",
        "from nltk.translate.bleu_score import corpus_bleu, SmoothingFunction\n",
        "\n",
        "# Import evaluate from py-rouge package\n",
        "import evaluate\n",
        "\n",
        "# Initialize ROUGE metric using py-rouge\n",
        "rouge_metric = evaluate.load(\"rouge\")\n",
        "\n",
        "def preprocess_logits_for_metrics(logits, labels):\n",
        "    if isinstance(logits, tuple):\n",
        "        logits = logits[0]\n",
        "    return logits.argmax(dim=-1)\n",
        "\n",
        "def compute_metrics(eval_preds, tokenizer):\n",
        "    preds, labels = eval_preds\n",
        "\n",
        "    if isinstance(preds, tuple):\n",
        "        preds = preds[0]\n",
        "\n",
        "    # Replace -100 in the preds as we can't decode them\n",
        "    preds = np.where(preds != -100, preds, tokenizer.pad_token_id)\n",
        "\n",
        "    # Decode generated summaries into text\n",
        "    decoded_preds = tokenizer.batch_decode(preds, skip_special_tokens=True)\n",
        "\n",
        "    # Replace -100 in the labels as we can't decode them\n",
        "    labels = np.where(labels != -100, labels, tokenizer.pad_token_id)\n",
        "    # Decode reference summaries into text\n",
        "    decoded_labels = tokenizer.batch_decode(labels, skip_special_tokens=True)\n",
        "\n",
        "    # ROUGE expects a newline after each sentence\n",
        "    decoded_preds = [\"\\n\".join(pred.strip()) for pred in decoded_preds]\n",
        "    decoded_labels = [\"\\n\".join(label.strip()) for label in decoded_labels]\n",
        "\n",
        "    # Calculate ROUGE scores using py-rouge\n",
        "    result = rouge_metric.compute(predictions=decoded_preds, references=decoded_labels, use_stemmer=True)\n",
        "    # Extract a few results and convert to percentage\n",
        "    result = {key: value for key, value in result.items()}\n",
        "\n",
        "    #smoothing function\n",
        "    smoothing_function = SmoothingFunction().method4\n",
        "\n",
        "    # Calculate BLEU score for n-grams (1 to 4)\n",
        "    bleu_scores = []\n",
        "    for n in range(1, 5):\n",
        "        weights = (1/n,) * n\n",
        "        bleu_scores_n = [corpus_bleu([[ref]], [pred], weights=weights, smoothing_function=smoothing_function) for ref, pred in zip(decoded_labels, decoded_preds)]\n",
        "        bleu_scores.append(sum(bleu_scores_n) / len(bleu_scores_n))\n",
        "\n",
        "    # Calculate mean generated length\n",
        "    prediction_lens = [np.count_nonzero(pred != tokenizer.pad_token_id) for pred in preds]\n",
        "    gen_len = np.mean(prediction_lens)\n",
        "\n",
        "    # You can process the rouge_scores, bleu_scores, and gen_len as needed\n",
        "    return {\n",
        "        \"rouge_scores\": result,\n",
        "        \"bleu_scores\": bleu_scores,\n",
        "        \"gen_len\": gen_len\n",
        "    }"
      ]
    },
    {
      "cell_type": "markdown",
      "metadata": {
        "id": "7Ksn5g9IM3P_"
      },
      "source": [
        "# **Instantiate LoRAConfig and Prepare Model for Training**"
      ]
    },
    {
      "cell_type": "code",
      "execution_count": 37,
      "metadata": {
        "colab": {
          "base_uri": "https://localhost:8080/"
        },
        "id": "SBexgLvxM7gF",
        "outputId": "eaaffbad-660f-4496-d8e1-08c4696bc288"
      },
      "outputs": [
        {
          "output_type": "stream",
          "name": "stdout",
          "text": [
            "time: 2.2 ms (started: 2024-03-06 17:51:32 +00:00)\n"
          ]
        }
      ],
      "source": [
        "from transformers import TrainingArguments\n",
        "\n",
        "args = TrainingArguments(\n",
        "    output_dir= f\"llama2-7b-chat-hf-mental-health\",\n",
        "    num_train_epochs=4,\n",
        "    per_device_train_batch_size=6,\n",
        "    per_device_eval_batch_size=4,\n",
        "    learning_rate=2e-4,\n",
        "    report_to=\"wandb\",\n",
        "    optim=\"adamw_torch_fused\",\n",
        "    do_eval = True,\n",
        "    bf16=True,\n",
        "    lr_scheduler_type=\"cosine\",\n",
        "    evaluation_strategy=\"epoch\",\n",
        "    save_strategy=\"epoch\",\n",
        "    logging_strategy='epoch', # log according to log_steps\n",
        "    save_safetensors=True,\n",
        "    push_to_hub=True,                      # push model to hub\n",
        "    seed = 42\n",
        ")"
      ]
    },
    {
      "cell_type": "markdown",
      "metadata": {
        "id": "FFZ8CkNh3WEX"
      },
      "source": [
        "# **Initializing the SFTTrainer with Configuration for Model Training**"
      ]
    },
    {
      "cell_type": "code",
      "execution_count": 38,
      "metadata": {
        "colab": {
          "base_uri": "https://localhost:8080/",
          "height": 163,
          "referenced_widgets": [
            "fe085909be1f42a5b0fd051ca2d223de",
            "b845591a001647cab50bc19d2b3cc885",
            "b8f561d3714e47a19ebc70b617ee53db",
            "d466bf98ba564659b2b8d674d56fc94a",
            "e3acdeba6bd9416b81079daed342b739",
            "cf99053227434e44884665282004d197",
            "f830bb0116554fa1bebb18b9a832d0f3",
            "ff5e6fc8134340f39fb093185a13526b",
            "71e0934150f74debbbd5e189fe89935b",
            "88b20fdbfc3e4617a326e440fda1ae2e",
            "eec647d3815b44ffa983c5c219d21bde",
            "94989d8454b44600a0ca3c7142626ea6",
            "2ea06a47d3394f6897e604565f0637d4",
            "c668484e37564852bba4185cb5bbdaa2",
            "a0e5581a3e294444b0e9c4b006be3b88",
            "ce252407cb82448aadba1c32ba05dd2e",
            "5a0815345ebb40fb9edf4ed244b7d1e1",
            "fbb3b8ba0fcc4041809ab46ec65906c5",
            "b41206e7cf7e473f86ab6e9c30a495b0",
            "713985517a894061b6848d4db1156fe2",
            "b94fe545cea845f281ca129cfa320fc1",
            "4bb50c75bdcf4b45a6837ea3a56fe752",
            "8c75fa8e0c0c43e198e836d1a9ea6a4f",
            "316269b5e83142a29ec950a95c6f6a4b",
            "6db8b7d59f5a46c1b6e338b14ad9c9c4",
            "632b7a0d69bb43f4a3e171a0b25a46fd",
            "bf0ac458194043f485d8fb9f93f5a802",
            "f7f3156e0ab9463f80760ae82f475140",
            "8a07d0a9d76142a8817a2f90a875e98e",
            "fa5b9227e13d4fa7aa959badf02b2c8c",
            "bf8b1bfddf3745f289f6ea40f04497bb",
            "b91546e5a2d2456691207d88da8d922a"
          ]
        },
        "id": "lDYpk_F72O4x",
        "outputId": "9074311b-2d01-4354-80dd-aaf184b6ca0f"
      },
      "outputs": [
        {
          "output_type": "display_data",
          "data": {
            "text/plain": [
              "VBox(children=(HTML(value='<center> <img\\nsrc=https://huggingface.co/front/assets/huggingface_logo-noborder.sv…"
            ],
            "application/vnd.jupyter.widget-view+json": {
              "version_major": 2,
              "version_minor": 0,
              "model_id": "fe085909be1f42a5b0fd051ca2d223de"
            }
          },
          "metadata": {}
        },
        {
          "output_type": "stream",
          "name": "stdout",
          "text": [
            "time: 21 ms (started: 2024-03-06 17:51:53 +00:00)\n"
          ]
        }
      ],
      "source": [
        "from huggingface_hub import notebook_login\n",
        "notebook_login()"
      ]
    },
    {
      "cell_type": "code",
      "execution_count": 40,
      "metadata": {
        "colab": {
          "base_uri": "https://localhost:8080/",
          "height": 210,
          "referenced_widgets": [
            "97696b6dc09845349764246641580d70",
            "32091bde67644f249a602fc3f8b1420f",
            "d53b81931c444000ada620da8837b3ed",
            "3bce0c239b164a14b5b8c2a0c17813e1",
            "74682dd76e264807b71d3d68b4f2ffa1",
            "3d5a8b5d2c8646b897865a883d6074dd",
            "56f06bc28c94453bb2783da45fb6f3f6",
            "37487620a83f402bb2129f7d4b5dcb6e",
            "d3bfa17b6e6a4b74b31c5fb932824b3d",
            "c913d4536ee64f9b8404a373f740f713",
            "ce60bad717a243968fd1d4f4f9fc7ec4",
            "7f94327d7e364ab2b9e3ea4e2637d6b7",
            "8701d78b158e45f78e2b9910d1f98822",
            "8f0a8230debd490ba19979f9c066f282",
            "867d1b82c1ef491a98bfee174b96840f",
            "246cf24f163a4930b73bda7b2f4ec9c5",
            "1b16598b3dfc4ba99313e55d120b288f",
            "95af17f134cc4509bf2c1037e913bd91",
            "70f2d28b7a424f828fe21261120d6b25",
            "ad0a78cd87ad4537aabec73ea6ef2e44",
            "f896a35a09014adf8d2efd2812388ae1",
            "400e9c97d2474c84bca70f1486bf1675"
          ]
        },
        "id": "uCN7tDJhNxIQ",
        "outputId": "1f0b3b46-6f31-422d-dcee-0adf15a976f5"
      },
      "outputs": [
        {
          "output_type": "display_data",
          "data": {
            "text/plain": [
              "Map:   0%|          | 0/2612 [00:00<?, ? examples/s]"
            ],
            "application/vnd.jupyter.widget-view+json": {
              "version_major": 2,
              "version_minor": 0,
              "model_id": "97696b6dc09845349764246641580d70"
            }
          },
          "metadata": {}
        },
        {
          "output_type": "display_data",
          "data": {
            "text/plain": [
              "Map:   0%|          | 0/850 [00:00<?, ? examples/s]"
            ],
            "application/vnd.jupyter.widget-view+json": {
              "version_major": 2,
              "version_minor": 0,
              "model_id": "7f94327d7e364ab2b9e3ea4e2637d6b7"
            }
          },
          "metadata": {}
        },
        {
          "output_type": "stream",
          "name": "stdout",
          "text": [
            "time: 6.31 s (started: 2024-03-06 17:52:32 +00:00)\n"
          ]
        },
        {
          "output_type": "stream",
          "name": "stderr",
          "text": [
            "/usr/local/lib/python3.10/dist-packages/trl/trainer/sft_trainer.py:300: UserWarning: You passed a tokenizer with `padding_side` not equal to `right` to the SFTTrainer. This might lead to some unexpected behaviour due to overflow issues when training a model in half-precision. You might consider adding `tokenizer.padding_side = 'right'` to your code.\n",
            "  warnings.warn(\n",
            "/usr/local/lib/python3.10/dist-packages/accelerate/accelerator.py:432: FutureWarning: Passing the following arguments to `Accelerator` is deprecated and will be removed in version 1.0 of Accelerate: dict_keys(['dispatch_batches', 'split_batches', 'even_batches', 'use_seedable_sampler']). Please pass an `accelerate.DataLoaderConfiguration` instead: \n",
            "dataloader_config = DataLoaderConfiguration(dispatch_batches=None, split_batches=False, even_batches=True, use_seedable_sampler=True)\n",
            "  warnings.warn(\n"
          ]
        }
      ],
      "source": [
        "from trl import SFTTrainer\n",
        "\n",
        "max_seq_length = 2048 # max sequence length for model and packing of the dataset\n",
        "\n",
        "trainer = SFTTrainer(\n",
        "    model=model,\n",
        "    train_dataset=dataset_train,\n",
        "    eval_dataset=dataset_validation,\n",
        "    peft_config=peft_config,\n",
        "    max_seq_length=max_seq_length,\n",
        "    tokenizer=tokenizer,\n",
        "    packing=False,\n",
        "    formatting_func=format_instruction,\n",
        "    compute_metrics=lambda eval_preds: compute_metrics(eval_preds, tokenizer),  # Pass the tokenizer\n",
        "    preprocess_logits_for_metrics=preprocess_logits_for_metrics,\n",
        "    args=args,\n",
        ")\n"
      ]
    },
    {
      "cell_type": "code",
      "execution_count": 41,
      "metadata": {
        "colab": {
          "base_uri": "https://localhost:8080/"
        },
        "id": "QUMGHvXd2-EB",
        "outputId": "d3576174-b02c-4737-d001-8126655c701f"
      },
      "outputs": [
        {
          "output_type": "stream",
          "name": "stdout",
          "text": [
            "time: 5.22 s (started: 2024-03-06 17:52:44 +00:00)\n"
          ]
        }
      ],
      "source": [
        "!pip install -qqq wandb"
      ]
    },
    {
      "cell_type": "code",
      "execution_count": 42,
      "metadata": {
        "colab": {
          "base_uri": "https://localhost:8080/"
        },
        "id": "zKpjBF503Dvf",
        "outputId": "c40a058c-21db-4637-9da9-8ceffd98ac2b"
      },
      "outputs": [
        {
          "output_type": "stream",
          "name": "stdout",
          "text": [
            "time: 297 µs (started: 2024-03-06 17:52:49 +00:00)\n"
          ]
        }
      ],
      "source": [
        "import wandb"
      ]
    },
    {
      "cell_type": "code",
      "execution_count": 43,
      "metadata": {
        "colab": {
          "base_uri": "https://localhost:8080/",
          "height": 234
        },
        "id": "CMMUgQNO2idD",
        "outputId": "6219e62b-4ed2-47b5-d94c-e1c8a2ed1c3d"
      },
      "outputs": [
        {
          "output_type": "display_data",
          "data": {
            "text/plain": [
              "<IPython.core.display.Javascript object>"
            ],
            "application/javascript": [
              "\n",
              "        window._wandbApiKey = new Promise((resolve, reject) => {\n",
              "            function loadScript(url) {\n",
              "            return new Promise(function(resolve, reject) {\n",
              "                let newScript = document.createElement(\"script\");\n",
              "                newScript.onerror = reject;\n",
              "                newScript.onload = resolve;\n",
              "                document.body.appendChild(newScript);\n",
              "                newScript.src = url;\n",
              "            });\n",
              "            }\n",
              "            loadScript(\"https://cdn.jsdelivr.net/npm/postmate/build/postmate.min.js\").then(() => {\n",
              "            const iframe = document.createElement('iframe')\n",
              "            iframe.style.cssText = \"width:0;height:0;border:none\"\n",
              "            document.body.appendChild(iframe)\n",
              "            const handshake = new Postmate({\n",
              "                container: iframe,\n",
              "                url: 'https://wandb.ai/authorize'\n",
              "            });\n",
              "            const timeout = setTimeout(() => reject(\"Couldn't auto authenticate\"), 5000)\n",
              "            handshake.then(function(child) {\n",
              "                child.on('authorize', data => {\n",
              "                    clearTimeout(timeout)\n",
              "                    resolve(data)\n",
              "                });\n",
              "            });\n",
              "            })\n",
              "        });\n",
              "    "
            ]
          },
          "metadata": {}
        },
        {
          "output_type": "stream",
          "name": "stderr",
          "text": [
            "\u001b[34m\u001b[1mwandb\u001b[0m: Logging into wandb.ai. (Learn how to deploy a W&B server locally: https://wandb.me/wandb-server)\n",
            "\u001b[34m\u001b[1mwandb\u001b[0m: You can find your API key in your browser here: https://wandb.ai/authorize\n",
            "wandb: Paste an API key from your profile and hit enter, or press ctrl+c to quit:"
          ]
        },
        {
          "name": "stdout",
          "output_type": "stream",
          "text": [
            " ··········\n"
          ]
        },
        {
          "output_type": "stream",
          "name": "stderr",
          "text": [
            "\u001b[34m\u001b[1mwandb\u001b[0m: Appending key for api.wandb.ai to your netrc file: /root/.netrc\n"
          ]
        },
        {
          "output_type": "display_data",
          "data": {
            "text/plain": [
              "<IPython.core.display.HTML object>"
            ],
            "text/html": [
              "Tracking run with wandb version 0.16.4"
            ]
          },
          "metadata": {}
        },
        {
          "output_type": "display_data",
          "data": {
            "text/plain": [
              "<IPython.core.display.HTML object>"
            ],
            "text/html": [
              "Run data is saved locally in <code>/content/wandb/run-20240306_175313-lzgm4l1k</code>"
            ]
          },
          "metadata": {}
        },
        {
          "output_type": "display_data",
          "data": {
            "text/plain": [
              "<IPython.core.display.HTML object>"
            ],
            "text/html": [
              "Syncing run <strong><a href='https://wandb.ai/drishtisharma96505/llama2_7b_chat_hf/runs/lzgm4l1k' target=\"_blank\">whole-cosmos-2</a></strong> to <a href='https://wandb.ai/drishtisharma96505/llama2_7b_chat_hf' target=\"_blank\">Weights & Biases</a> (<a href='https://wandb.me/run' target=\"_blank\">docs</a>)<br/>"
            ]
          },
          "metadata": {}
        },
        {
          "output_type": "display_data",
          "data": {
            "text/plain": [
              "<IPython.core.display.HTML object>"
            ],
            "text/html": [
              " View project at <a href='https://wandb.ai/drishtisharma96505/llama2_7b_chat_hf' target=\"_blank\">https://wandb.ai/drishtisharma96505/llama2_7b_chat_hf</a>"
            ]
          },
          "metadata": {}
        },
        {
          "output_type": "display_data",
          "data": {
            "text/plain": [
              "<IPython.core.display.HTML object>"
            ],
            "text/html": [
              " View run at <a href='https://wandb.ai/drishtisharma96505/llama2_7b_chat_hf/runs/lzgm4l1k' target=\"_blank\">https://wandb.ai/drishtisharma96505/llama2_7b_chat_hf/runs/lzgm4l1k</a>"
            ]
          },
          "metadata": {}
        },
        {
          "output_type": "execute_result",
          "data": {
            "text/html": [
              "<button onClick=\"this.nextSibling.style.display='block';this.style.display='none';\">Display W&B run</button><iframe src='https://wandb.ai/drishtisharma96505/llama2_7b_chat_hf/runs/lzgm4l1k?jupyter=true' style='border:none;width:100%;height:420px;display:none;'></iframe>"
            ],
            "text/plain": [
              "<wandb.sdk.wandb_run.Run at 0x7bfd29007e80>"
            ]
          },
          "metadata": {},
          "execution_count": 43
        },
        {
          "output_type": "stream",
          "name": "stdout",
          "text": [
            "time: 24.4 s (started: 2024-03-06 17:52:54 +00:00)\n"
          ]
        }
      ],
      "source": [
        "wandb.init(project=\"llama2_7b_chat_hf\", entity=\"drishtisharma96505\", group='format_func_list')\n"
      ]
    },
    {
      "cell_type": "code",
      "execution_count": 44,
      "metadata": {
        "colab": {
          "base_uri": "https://localhost:8080/"
        },
        "id": "ckNEUygU0Mfi",
        "outputId": "4d69100d-dd56-430c-8fd3-8e3b5eeae646"
      },
      "outputs": [
        {
          "output_type": "stream",
          "name": "stdout",
          "text": [
            "time: 933 µs (started: 2024-03-06 17:53:19 +00:00)\n"
          ]
        }
      ],
      "source": [
        "import time\n"
      ]
    },
    {
      "cell_type": "code",
      "execution_count": 45,
      "metadata": {
        "colab": {
          "base_uri": "https://localhost:8080/"
        },
        "id": "z0RlaL98PsQ7",
        "outputId": "221311bf-a905-4c4f-f24b-87df9df2010b"
      },
      "outputs": [
        {
          "output_type": "stream",
          "name": "stdout",
          "text": [
            "GPU = NVIDIA A100-SXM4-40GB. Max memory = 39.564 GB.\n",
            "5.301 GB of memory reserved.\n",
            "time: 3.29 ms (started: 2024-03-06 17:53:19 +00:00)\n"
          ]
        }
      ],
      "source": [
        "# Show current memory stats\n",
        "gpu_stats = torch.cuda.get_device_properties(0)\n",
        "start_gpu_memory = round(torch.cuda.max_memory_reserved() / 1024 / 1024 / 1024, 3)\n",
        "max_memory = round(gpu_stats.total_memory / 1024 / 1024 / 1024, 3)\n",
        "print(f\"GPU = {gpu_stats.name}. Max memory = {max_memory} GB.\")\n",
        "print(f\"{start_gpu_memory} GB of memory reserved.\")"
      ]
    },
    {
      "cell_type": "code",
      "execution_count": 46,
      "metadata": {
        "colab": {
          "base_uri": "https://localhost:8080/",
          "height": 526
        },
        "id": "v8-W5gmCkHS0",
        "outputId": "0951990b-da25-4021-8ef5-0a2ace3fdd69"
      },
      "outputs": [
        {
          "output_type": "stream",
          "name": "stderr",
          "text": [
            "`use_cache=True` is incompatible with gradient checkpointing. Setting `use_cache=False`.\n",
            "/usr/local/lib/python3.10/dist-packages/torch/utils/checkpoint.py:429: UserWarning: torch.utils.checkpoint: please pass in use_reentrant=True or use_reentrant=False explicitly. The default value of use_reentrant will be updated to be False in the future. To maintain current behavior, pass use_reentrant=True. It is recommended that you use use_reentrant=False. Refer to docs for more details on the differences between the two variants.\n",
            "  warnings.warn(\n",
            "The input hidden states seems to be silently casted in float32, this might be related to the fact you have upcasted embedding or layer norm layers in float32. We will cast back the input in torch.bfloat16.\n"
          ]
        },
        {
          "output_type": "display_data",
          "data": {
            "text/plain": [
              "<IPython.core.display.HTML object>"
            ],
            "text/html": [
              "\n",
              "    <div>\n",
              "      \n",
              "      <progress value='4' max='4' style='width:300px; height:20px; vertical-align: middle;'></progress>\n",
              "      [4/4 09:43, Epoch 4/4]\n",
              "    </div>\n",
              "    <table border=\"1\" class=\"dataframe\">\n",
              "  <thead>\n",
              " <tr style=\"text-align: left;\">\n",
              "      <th>Epoch</th>\n",
              "      <th>Training Loss</th>\n",
              "      <th>Validation Loss</th>\n",
              "      <th>Rouge Scores</th>\n",
              "      <th>Bleu Scores</th>\n",
              "      <th>Gen Len</th>\n",
              "    </tr>\n",
              "  </thead>\n",
              "  <tbody>\n",
              "    <tr>\n",
              "      <td>1</td>\n",
              "      <td>2.195300</td>\n",
              "      <td>2.218420</td>\n",
              "      <td>{'rouge1': 0.9199491740787802, 'rouge2': 0.8318809005083514, 'rougeL': 0.5854056997640226, 'rougeLsum': 0.9199491740787802}</td>\n",
              "      <td>[0.8715254358896543, 0.8659211417516524, 0.8510857228959539, 0.833791158779687]</td>\n",
              "      <td>2048.000000</td>\n",
              "    </tr>\n",
              "    <tr>\n",
              "      <td>2</td>\n",
              "      <td>2.023100</td>\n",
              "      <td>2.193608</td>\n",
              "      <td>{'rouge1': 0.9096744612563045, 'rouge2': 0.8254608823259653, 'rougeL': 0.5872535534158643, 'rougeLsum': 0.9096744612563045}</td>\n",
              "      <td>[0.8550666362510422, 0.8491213000075178, 0.834566911154976, 0.8177171754641129]</td>\n",
              "      <td>2048.000000</td>\n",
              "    </tr>\n",
              "    <tr>\n",
              "      <td>3</td>\n",
              "      <td>1.932000</td>\n",
              "      <td>2.179011</td>\n",
              "      <td>{'rouge1': 0.9083394562821455, 'rouge2': 0.8271173984934778, 'rougeL': 0.5857825128581924, 'rougeLsum': 0.9083394562821455}</td>\n",
              "      <td>[0.8523376774091347, 0.8462340921367671, 0.8321568176562063, 0.8159562219906903]</td>\n",
              "      <td>2048.000000</td>\n",
              "    </tr>\n",
              "    <tr>\n",
              "      <td>4</td>\n",
              "      <td>1.868100</td>\n",
              "      <td>2.173927</td>\n",
              "      <td>{'rouge1': 0.9084397097988796, 'rouge2': 0.8277762468999725, 'rougeL': 0.5895858205528516, 'rougeLsum': 0.9084397097988796}</td>\n",
              "      <td>[0.8523376774091347, 0.8462340921367671, 0.8321568176562063, 0.8159562219906903]</td>\n",
              "      <td>2048.000000</td>\n",
              "    </tr>\n",
              "  </tbody>\n",
              "</table><p>"
            ]
          },
          "metadata": {}
        },
        {
          "output_type": "stream",
          "name": "stderr",
          "text": [
            "/usr/local/lib/python3.10/dist-packages/torch/utils/checkpoint.py:429: UserWarning: torch.utils.checkpoint: please pass in use_reentrant=True or use_reentrant=False explicitly. The default value of use_reentrant will be updated to be False in the future. To maintain current behavior, pass use_reentrant=True. It is recommended that you use use_reentrant=False. Refer to docs for more details on the differences between the two variants.\n",
            "  warnings.warn(\n",
            "/usr/local/lib/python3.10/dist-packages/torch/utils/checkpoint.py:429: UserWarning: torch.utils.checkpoint: please pass in use_reentrant=True or use_reentrant=False explicitly. The default value of use_reentrant will be updated to be False in the future. To maintain current behavior, pass use_reentrant=True. It is recommended that you use use_reentrant=False. Refer to docs for more details on the differences between the two variants.\n",
            "  warnings.warn(\n",
            "/usr/local/lib/python3.10/dist-packages/torch/utils/checkpoint.py:429: UserWarning: torch.utils.checkpoint: please pass in use_reentrant=True or use_reentrant=False explicitly. The default value of use_reentrant will be updated to be False in the future. To maintain current behavior, pass use_reentrant=True. It is recommended that you use use_reentrant=False. Refer to docs for more details on the differences between the two variants.\n",
            "  warnings.warn(\n"
          ]
        },
        {
          "output_type": "stream",
          "name": "stdout",
          "text": [
            "Training Time: 610.4555466175079 minutes\n",
            "time: 10min 10s (started: 2024-03-06 17:53:19 +00:00)\n"
          ]
        }
      ],
      "source": [
        "start_time = time.time()  # Start timer\n",
        "\n",
        "trainer_stats = trainer.train()\n",
        "\n",
        "end_time = time.time()  # End timer\n",
        "training_duration = end_time - start_time\n",
        "\n",
        "print(f\"Training Time: {training_duration} minutes\")"
      ]
    },
    {
      "cell_type": "code",
      "execution_count": 47,
      "metadata": {
        "colab": {
          "base_uri": "https://localhost:8080/"
        },
        "id": "C_STwCbjZW41",
        "outputId": "43fceaec-8b19-48f2-e963-05d18833438d"
      },
      "outputs": [
        {
          "output_type": "stream",
          "name": "stdout",
          "text": [
            "PeftModelForCausalLM(\n",
            "  (base_model): LoraModel(\n",
            "    (model): LlamaForCausalLM(\n",
            "      (model): LlamaModel(\n",
            "        (embed_tokens): Embedding(32000, 4096, padding_idx=0)\n",
            "        (layers): ModuleList(\n",
            "          (0-31): 32 x LlamaDecoderLayer(\n",
            "            (self_attn): LlamaFlashAttention2(\n",
            "              (q_proj): lora.Linear4bit(\n",
            "                (base_layer): Linear4bit(in_features=4096, out_features=4096, bias=False)\n",
            "                (lora_dropout): ModuleDict(\n",
            "                  (default): Identity()\n",
            "                )\n",
            "                (lora_A): ModuleDict(\n",
            "                  (default): Linear(in_features=4096, out_features=64, bias=False)\n",
            "                )\n",
            "                (lora_B): ModuleDict(\n",
            "                  (default): Linear(in_features=64, out_features=4096, bias=False)\n",
            "                )\n",
            "                (lora_embedding_A): ParameterDict()\n",
            "                (lora_embedding_B): ParameterDict()\n",
            "              )\n",
            "              (k_proj): lora.Linear4bit(\n",
            "                (base_layer): Linear4bit(in_features=4096, out_features=4096, bias=False)\n",
            "                (lora_dropout): ModuleDict(\n",
            "                  (default): Identity()\n",
            "                )\n",
            "                (lora_A): ModuleDict(\n",
            "                  (default): Linear(in_features=4096, out_features=64, bias=False)\n",
            "                )\n",
            "                (lora_B): ModuleDict(\n",
            "                  (default): Linear(in_features=64, out_features=4096, bias=False)\n",
            "                )\n",
            "                (lora_embedding_A): ParameterDict()\n",
            "                (lora_embedding_B): ParameterDict()\n",
            "              )\n",
            "              (v_proj): lora.Linear4bit(\n",
            "                (base_layer): Linear4bit(in_features=4096, out_features=4096, bias=False)\n",
            "                (lora_dropout): ModuleDict(\n",
            "                  (default): Identity()\n",
            "                )\n",
            "                (lora_A): ModuleDict(\n",
            "                  (default): Linear(in_features=4096, out_features=64, bias=False)\n",
            "                )\n",
            "                (lora_B): ModuleDict(\n",
            "                  (default): Linear(in_features=64, out_features=4096, bias=False)\n",
            "                )\n",
            "                (lora_embedding_A): ParameterDict()\n",
            "                (lora_embedding_B): ParameterDict()\n",
            "              )\n",
            "              (o_proj): lora.Linear4bit(\n",
            "                (base_layer): Linear4bit(in_features=4096, out_features=4096, bias=False)\n",
            "                (lora_dropout): ModuleDict(\n",
            "                  (default): Identity()\n",
            "                )\n",
            "                (lora_A): ModuleDict(\n",
            "                  (default): Linear(in_features=4096, out_features=64, bias=False)\n",
            "                )\n",
            "                (lora_B): ModuleDict(\n",
            "                  (default): Linear(in_features=64, out_features=4096, bias=False)\n",
            "                )\n",
            "                (lora_embedding_A): ParameterDict()\n",
            "                (lora_embedding_B): ParameterDict()\n",
            "              )\n",
            "              (rotary_emb): LlamaRotaryEmbedding()\n",
            "            )\n",
            "            (mlp): LlamaMLP(\n",
            "              (gate_proj): lora.Linear4bit(\n",
            "                (base_layer): Linear4bit(in_features=4096, out_features=11008, bias=False)\n",
            "                (lora_dropout): ModuleDict(\n",
            "                  (default): Identity()\n",
            "                )\n",
            "                (lora_A): ModuleDict(\n",
            "                  (default): Linear(in_features=4096, out_features=64, bias=False)\n",
            "                )\n",
            "                (lora_B): ModuleDict(\n",
            "                  (default): Linear(in_features=64, out_features=11008, bias=False)\n",
            "                )\n",
            "                (lora_embedding_A): ParameterDict()\n",
            "                (lora_embedding_B): ParameterDict()\n",
            "              )\n",
            "              (up_proj): lora.Linear4bit(\n",
            "                (base_layer): Linear4bit(in_features=4096, out_features=11008, bias=False)\n",
            "                (lora_dropout): ModuleDict(\n",
            "                  (default): Identity()\n",
            "                )\n",
            "                (lora_A): ModuleDict(\n",
            "                  (default): Linear(in_features=4096, out_features=64, bias=False)\n",
            "                )\n",
            "                (lora_B): ModuleDict(\n",
            "                  (default): Linear(in_features=64, out_features=11008, bias=False)\n",
            "                )\n",
            "                (lora_embedding_A): ParameterDict()\n",
            "                (lora_embedding_B): ParameterDict()\n",
            "              )\n",
            "              (down_proj): lora.Linear4bit(\n",
            "                (base_layer): Linear4bit(in_features=11008, out_features=4096, bias=False)\n",
            "                (lora_dropout): ModuleDict(\n",
            "                  (default): Identity()\n",
            "                )\n",
            "                (lora_A): ModuleDict(\n",
            "                  (default): Linear(in_features=11008, out_features=64, bias=False)\n",
            "                )\n",
            "                (lora_B): ModuleDict(\n",
            "                  (default): Linear(in_features=64, out_features=4096, bias=False)\n",
            "                )\n",
            "                (lora_embedding_A): ParameterDict()\n",
            "                (lora_embedding_B): ParameterDict()\n",
            "              )\n",
            "              (act_fn): SiLU()\n",
            "            )\n",
            "            (input_layernorm): LlamaRMSNorm()\n",
            "            (post_attention_layernorm): LlamaRMSNorm()\n",
            "          )\n",
            "        )\n",
            "        (norm): LlamaRMSNorm()\n",
            "      )\n",
            "      (lm_head): Linear(in_features=4096, out_features=32000, bias=False)\n",
            "    )\n",
            "  )\n",
            ")\n",
            "time: 10.7 ms (started: 2024-03-06 18:03:29 +00:00)\n"
          ]
        }
      ],
      "source": [
        "print(model)"
      ]
    },
    {
      "cell_type": "code",
      "execution_count": 48,
      "metadata": {
        "colab": {
          "base_uri": "https://localhost:8080/"
        },
        "id": "uckuI9KsCtnW",
        "outputId": "2d182990-4ea9-45e8-a583-47f19e32024f"
      },
      "outputs": [
        {
          "output_type": "stream",
          "name": "stdout",
          "text": [
            "587.2874 seconds used for training.\n",
            "9.79 minutes used for training.\n",
            "Peak reserved memory = 13.953 GB.\n",
            "Peak reserved memory for training = 8.652 GB.\n",
            "Peak reserved memory % of max memory = 35.267 %.\n",
            "Peak reserved memory for training % of max memory = 21.868 %.\n",
            "time: 6.2 ms (started: 2024-03-06 18:03:29 +00:00)\n"
          ]
        }
      ],
      "source": [
        "#@title Show final memory and time stats\n",
        "used_memory = round(torch.cuda.max_memory_reserved() / 1024 / 1024 / 1024, 3)\n",
        "used_memory_for_lora = round(used_memory - start_gpu_memory, 3)\n",
        "used_percentage = round(used_memory         /max_memory*100, 3)\n",
        "lora_percentage = round(used_memory_for_lora/max_memory*100, 3)\n",
        "print(f\"{trainer_stats.metrics['train_runtime']} seconds used for training.\")\n",
        "print(f\"{round(trainer_stats.metrics['train_runtime']/60, 2)} minutes used for training.\")\n",
        "print(f\"Peak reserved memory = {used_memory} GB.\")\n",
        "print(f\"Peak reserved memory for training = {used_memory_for_lora} GB.\")\n",
        "print(f\"Peak reserved memory % of max memory = {used_percentage} %.\")\n",
        "print(f\"Peak reserved memory for training % of max memory = {lora_percentage} %.\")"
      ]
    },
    {
      "cell_type": "markdown",
      "metadata": {
        "id": "9yK2-pbx6Y06"
      },
      "source": [
        "# **Push to Hub**"
      ]
    },
    {
      "cell_type": "code",
      "execution_count": 51,
      "metadata": {
        "colab": {
          "base_uri": "https://localhost:8080/",
          "height": 72
        },
        "id": "-s4ZGCQShPji",
        "outputId": "64f833c1-dbb7-4966-f781-cb8897ead1ae"
      },
      "outputs": [
        {
          "output_type": "execute_result",
          "data": {
            "text/plain": [
              "CommitInfo(commit_url='https://huggingface.co/DrishtiSharma/llama2-7b-chat-hf-mental-health/commit/2d9ae182ca7c4de1e3f65e88dee6ce2850796e70', commit_message='End of training', commit_description='', oid='2d9ae182ca7c4de1e3f65e88dee6ce2850796e70', pr_url=None, pr_revision=None, pr_num=None)"
            ],
            "application/vnd.google.colaboratory.intrinsic+json": {
              "type": "string"
            }
          },
          "metadata": {},
          "execution_count": 51
        },
        {
          "output_type": "stream",
          "name": "stdout",
          "text": [
            "time: 4.89 s (started: 2024-03-06 18:05:16 +00:00)\n"
          ]
        }
      ],
      "source": [
        "trainer.push_to_hub()"
      ]
    },
    {
      "cell_type": "markdown",
      "metadata": {
        "id": "aSjFkkfjlBUt"
      },
      "source": [
        "# **Test Model and Run Inference**"
      ]
    },
    {
      "cell_type": "markdown",
      "metadata": {
        "id": "siJEmzKieT7y"
      },
      "source": [
        "### **Performing Inference on Whole Test Dataset**"
      ]
    },
    {
      "cell_type": "code",
      "execution_count": 55,
      "metadata": {
        "colab": {
          "base_uri": "https://localhost:8080/"
        },
        "id": "YqENEjoeNMki",
        "outputId": "17161ccf-d323-4dec-865d-f11b609bd6ee"
      },
      "outputs": [
        {
          "output_type": "stream",
          "name": "stdout",
          "text": [
            "Prompt:\n",
            "I didn't trust my wife when I found out that she had a new guy friend that she was texting and calling. I investigated him before I found out that he was gay and that there was nothing going on. Now all my wife and I do is fight about trust.\n",
            "\n",
            "Generated response:\n",
            " I understand that you are going through a difficult time with your wife, and I can empathize with your feelings of mistrust. However, it's important to remember that making assumptions about someone's sexuality without evidence can be harmful and unfair. It's possible that your wife's friend is simply a friend, and not anything more.\n",
            "\n",
            "     Instead of jumping to conclusions or confronting your wife without proper evidence, consider having an open and honest\n",
            "Ground truth:\n",
            "Instead of fighting about trust, is it possible for you and your wife to talk with other about areas which upset each of you?Whenever feelings are hurt, knowing what exactly is problematic and being heard and understood by the partner, goes a long way to building trust.These type of discussions are hard to have, and especially for the first time.  A lot of emotions arise and often people lose their conversation focus from this.If you and your wife have a tough time opening up to each other, consider scheduling time with a couples therapist.Just by each of you committing time to invest in the relationship will show faith in the relationship, and this may contribute to restoring trust.\n",
            "-----------------------------------------------------\n",
            "Prompt:\n",
            "I don't know what to say. I have never really known who I am.\n",
            "\n",
            "Generated response:\n",
            " It's okay to feel unsure about who you are, especially when you're in a situation that feels new and unfamiliar. It can be helpful to take some time to reflect on your values and beliefs, and to think about what is important to you. This can help you get a better sense of who you are and what you want to do with your life.\n",
            "\n",
            "\n",
            "\n",
            "\n",
            "Ground truth:\n",
            "What exactly is it that you are looking for? Different people define themselves in different ways. For example, one person may define himself by his values and morals while another identifies herself by her personality and characteristics. Still, another person may define himself by his interests and hobbies. Learning who you are as a person can take time and life experience. At the same time, who you are may change according to what experiences you have had and how you have dealt with them or felt about them. Try viewing the journey of finding yourself as exciting and ongoing. Allow yourself to feel emotions and learn how they relate to the experiences you have. This may help you to know more about what you value, what you like and dislike, and what you want for yourself in life. Best of luck to you!\n",
            "-----------------------------------------------------\n",
            "Prompt:\n",
            "I am a really shy person. I'm currently in a graduate program which requires lots of presentations, but they always make me feel stressed out and less confident. How can I get more confident?\n",
            "\n",
            "Generated response:\n",
            "\n",
            "    1. Take small steps: Start by practicing your presentations in a low-stakes environment, such as with friends or family members. Gradually increase the difficulty by practicing with more people until you feel comfortable presenting in front of larger groups.\n",
            "\n",
            "    2. Focus on your strengths: Identify your strengths and try to focus on them during your presentations. For example, if you're good at explaining complex concepts in a simple way, try\n",
            "Ground truth:\n",
            "I can offer you hypnosis for confidence in presentations, via Skype, if you're in Cali.\n",
            "-----------------------------------------------------\n",
            "Prompt:\n",
            "I feel that I need to end my present relationship. He lives three hours away and likes the reassurance of having someone to talk to multiple times per day and seeing me once or twice a month.  I want someone who is more present and more of a life companion.\n",
            "Lately, he has had a very busy work schedule and I have only seen him a few times in the last 6 weeks. I told him that I can't continue in this way because I constantly feel frustrated and angry and that he is not making the relationship enough of a priority. I also feel it is keeping me from possibly finding the relationship I want.\n",
            "We have been together 7 years. The problem is that I panic and experience anxiety and depression thinking of him with someone else and then thinking I will never meet someone I like. We have gone through this cycle already 4-5 times and I feel it is unhealthy to stay in it, but my aversion to the anxiety and depression I experience upon separation always leads me to reconcile.\n",
            "\n",
            "Generated response:\n",
            " I understand that you are feeling frustrated and angry in your relationship, and that you are struggling with the distance and lack of communication from your partner. It's important to remember that relationships are about finding a balance that works for both partners, and it sounds like this balance is not currently being met.\n",
            "\n",
            "It's understandable that you are feeling anxious and depressed about the possibility of him being with someone else, but it's important to focus on your own emotional well\n",
            "Ground truth:\n",
            "It sounds like you have some insight into the cycle that you describe with your current relationship and at the same time you are still feeling stuck. It also sounds like the distressing feelings that you experience, when you imagine what will happen for you and your current partner, are pretty overwhelming. A competent therapist may be able to help you work through these difficult thoughts and feelings and find a resolution to this cycle that will feel right to you.\n",
            "-----------------------------------------------------\n",
            "Prompt:\n",
            "I'm depressed and recently went through a break up. It’s like every guy I like only wants me for sex. I think I'm ugly, and sometimes I just want to die. I have a son, and I got really big when I was pregnant. I have stretch marks on my stomach.\n",
            "\n",
            "Generated response:\n",
            "😔 Sorry to hear that you're feeling this way. It sounds like you're going through a really tough time right now. \n",
            "    🤔 Can you tell me a bit more about what's going on and how you're feeling? Sometimes talking about your emotions can help you feel better. \n",
            "    💕 Remember that you're not alone, and there are people who care about you and want to help. \n",
            "\n",
            "Ground truth:\n",
            "If you are currently feeling as if you want to die, please call 800-273-8255 and talk to someone.One way to work on not always thinking so negatively about yourself is to surround yourself with people who are more positive toward you. Do you have friends or family who are supportive?Can you find one part of you that you do not think is ugly?If your stretch marks are still bothering you, talk with a pharmacist or your primary care physician. Sometimes there are creams or lotions you can use to decrease stretch marks and they should be able to guide you in the right direction.You mentioned mostly physical things here. I wonder if you can find one small thing each day that is going right and build from there. Perhaps your son makes you smile?\n",
            "-----------------------------------------------------\n",
            "Prompt:\n",
            "My doctor seems to think I am in danger of having one. I neglected to ask how this was different than an episode. I have been formally diagnosed with bipolar type 1.\n",
            "\n",
            "Generated response:\n",
            " Sorry to hear that you're going through this challenging situation. It can be very difficult to manage bipolar disorder. \n",
            "\n",
            "     I understand that your doctor believes you are at risk of having a manic episode, and you're interested in understanding how this is different from an episode. It's crucial to remember that mania and hypomania are both symptoms of bipolar disorder, and they can have a significant impact on your daily life\n",
            "Ground truth:\n",
            "I will admit that I'm not specifically familiar with this from my own experience.My best educated guess is that you could have a seizure during which you have some sort of symptoms similar to a hallucination (which is one of the psychotic symptoms) when you hear or see things that aren't really there.In looking briefly online, I was able to find some information here: http://www.epilepsy.com/information/professionals/about-epilepsy-seizures/psychiatric-and-behavioral-aspects/psychiatric-2It sounds like this would be a symptom in addition to an already existing seizure disorder, not a seizure disorder in addition to a mental health problem. If it is the other way around, I'm not sure how that would work. It is common with some types of seizures to have an altered state of reality during or shortly after the seizure, so that could also be related.I would suggest you talk to your physician about this directly so that if they are worried about this, you can learn more about what is making them concerned about it and what, if anything, you could do to lessen the likelihood of it or how to handle it if it does happen.\n",
            "-----------------------------------------------------\n",
            "Prompt:\n",
            "I've gone to a couple therapy sessions so far and still everytime I walk in I get nervous and shaky.  Is this normal? Should I still be feeling like this?\n",
            "\n",
            "Generated response:\n",
            " It is common to feel nervous or shaky when visiting a therapist for the first time. It is natural to feel a little apprehensive when sharing personal information or emotions with a stranger, especially when it comes to sensitive topics. However, if you are still feeling this way after multiple sessions, it may be worth discussing with your therapist. They can help you identify any underlying issues that may be contributing to your anxiety and develop strategies to manage\n",
            "Ground truth:\n",
            "Therapy can feel very weird to begin with - think about it, how often do we go and tell a relative stranger our deepest, darkest thoughts in the rest of our life? So I think its reasonable to expect a certain level of nerves as you get used to your therapist and to the whole process of talking about yourself and vulnerable topics. That said, its definitely worth bringing to the attention of your therapist (if you haven't already) to see if there is anything that they can do, or that the two of you can explore together, that might make the process feel less intimidating to you.\n",
            "-----------------------------------------------------\n",
            "Prompt:\n",
            "I'm dealing with imposter syndrome in graduate school. I know that by all accounts I am a phenomenal graduate student, and that I am well-published. I am well liked by students and faculty alike. And yet I cannot shake the feeling that I'm going to be found out as a fraud.    How can I get over this feeling?\n",
            "\n",
            "Generated response:\n",
            " You're not alone in feeling like an imposter. This feeling is quite common among high-achieving individuals, especially those in academia. It's called \"impostor syndrome.\" Here are a few strategies that may help you shake off these feelings:\n",
            "\n",
            "    1. Acknowledge your achievements: It's essential to recognize and celebrate your accomplishments, no matter how small they may seem. Remind yourself of your strengths and the reasons\n",
            "Ground truth:\n",
            "It would be very helpful to identify with you eventual pattern where the imposter syndrome is more or less present. Are there specific situations where you've noticed the feelings of \"I'm going to be found out as a fraud\" becoming more strong? It seems that shaking this feeling is very important to you. In my opinion, before shaking that feeling, we need to get closer to it and understand its roots. If you would like to get closer to the feeling, you might consider asking yourself questions such: \"What is the trigger for this feeling? How does it feel in the body? What is the thought process I engage with after noticing this feeling? All the best. Rossana Mag.\n",
            "-----------------------------------------------------\n",
            "Prompt:\n",
            "Sometime when small thing happen, like losing a comb, I get furious.  I even start throwing things. Do I have a problem?\n",
            "\n",
            "Generated response:\n",
            " It sounds like you may be experiencing some level of frustration or anger when small things go missing or are lost. While it's normal to feel frustrated or upset when something is lost, it's important to recognize that throwing things or becoming furious is not a healthy or productive way to manage those feelings. It may be helpful to try some other strategies, such as taking a deep breath, stepping away from the situation, or finding a constructive way\n",
            "Ground truth:\n",
            "I don't like the word \"problem\".  It is such a strong word.  However I would say that you have an issue that needs to be addressed and controlled before it directed at the wrong person and gets totally out of control.  I have found that anger management classes has been helpful for my clients.  Try and see if it will help.  You will be surprised at what you learn about your self.\n",
            "-----------------------------------------------------\n",
            "Prompt:\n",
            "I feel like I would be more comfortable as a girl even though I still like girls. I think I'm like a girl stuck in a guy body. I imagine myself as a girl too. I think this more because my friends say that if I was a girl I would be a hot looking one. And I don't care about having boobs or anything. I just feel like the way that I do act will make more sense if I was a girl.\n",
            "\n",
            "Generated response:\n",
            " It's important to understand and respect your feelings and identity. Gender identity is a complex and personal aspect of a person's identity that can be influenced by various factors. It's okay to feel like you are more comfortable identifying as a girl, even if you are biologically male.\n",
            "\n",
            "     It's important to recognize that gender identity is separate from biological sex, and that it's possible to feel like you are a different gender than the one you were\n",
            "Ground truth:\n",
            "Gender is personal thing.  There is not just boy and girl.  It is ok to be a boy and feel feminine and date women.  It is also ok to be a transgendered women and date women.  Have fun with it and feel it out.  What is right for you?\n",
            "-----------------------------------------------------\n",
            "Prompt:\n",
            "If I tell him I don't like certain things, he does when it pertains to me. He tells me it's not like that. He never has anything to say about me until I tell him something about himself.\n",
            "\n",
            "Generated response:\n",
            " It seems like he is only willing to listen to your opinions and thoughts when they pertain to him, but not when they pertain to you. This could be seen as disrespectful or dismissive of your feelings and opinions. It's important to communicate your thoughts and feelings in a respectful manner and to be heard and understood. If you're feeling like he's not listening to you, it may be helpful to have an open and honest conversation with him about how you\n",
            "Ground truth:\n",
            "It sounds like there are issues with communication between you and your husband.  Your perceptions of interactions that you are having don't sound like they match up.  It would probably be helpful for you both to work on communicating using \"I\" statements (I feel----when you---).  This is a more effective way of communicating your needs than directly criticizing the other person.  If you work on communicating in new, less critical ways you both may learn more about your spouse's feelings and perspective.  \n",
            "-----------------------------------------------------\n",
            "Prompt:\n",
            "Every winter I find myself getting sad because of the weather. How can I fight this?\n",
            "\n",
            "Generated response:\n",
            "\n",
            "    1. Try to find new things to do outside in the winter. \n",
            "    2. Get creative and make something. \n",
            "    3. Take a class or workshop on a subject that interests you. \n",
            "    4. Learn a new skill. \n",
            "    5. Try to find a hobby or activity that you enjoy in the winter. \n",
            "    6. Get outside and take a walk. Even if it's cold, try to get\n",
            "Ground truth:\n",
            "Sometimes its quite literally the lack of sunshine that can affect our mood - in these cases it can be worth experimenting with a sun lamp, to boost your dose of vitamin D, when the sun isn't naturally out. Also consider, what is it that the change in weather, changes in your life? If for example, when its sunny you are an outdoorsy, active person and when the weather changes, you're whole activity level changes along with it, you could explore how to get some of that activity replicated indoors in the winter months.\n",
            "-----------------------------------------------------\n",
            "Prompt:\n",
            "I'm in a relationship with my fiancé and I currently found out that she's been cheating on me with a co-worker. I was very upset none the less. I understand what she did was wrong, but I want to spend the rest of my life with her. So I'm willing to forgive and move on. We have been together for a little over 9 years, and we have a son. At the beginning of our relationship, I was unfaithful and she caught me cheating. She forgave me for what I've done to her and since then I been completely faithful. I'm worried about our relationship and want to move forward  but its been very unsettling. All I can think about is her with another man. I don't know what to do or where to go for advice?\n",
            "\n",
            "Generated response:\n",
            " It's completely understandable that you're feeling upset and worried about your relationship after finding out that your fiancé has been cheating on you. It's important to take care of yourself during this difficult time and seek support from people you trust.\n",
            "\n",
            "     Firstly, it's important to acknowledge that forgiveness is a process and it may take time for you to feel ready to forgive your partner. It's okay to take space and time for\n",
            "Ground truth:\n",
            "I'm sorry for the stress and unhappiness stemming the problem you describe.Trust your instinct that there is more complexity to feeling good about being in a partnership than simply wanting this to happen.In any relationship, the complexities of each person combine.   Often people accept when this feels good and are lost as to what to do when natural human complexity, doesn't match up with our partner in the way we'd like.A couples' therapist would be able to help each of you talk about the factors motivating the cheating, as well as clarify the reasons you each have for continuing to stay together. The unique advantage of couple's therapy is that each person is able to hear their partner talk out loud about themselves and their partner.This is sometimes enormously helpful since our inner thoughts are often hidden yet very dominant in how we direct ourselves in relationships.Sometimes the initial consult session offers enough new understanding that a second session wouldn't be necessary for a while.Good luck in finding your relationship happiness!\n",
            "-----------------------------------------------------\n",
            "Prompt:\n",
            "I'm always listening to my husband, but it feels like he never listens to me.    How do I get my husband to listen to me instead of me listening to him all the time?\n",
            "\n",
            "Generated response:\n",
            "\n",
            "    It's understandable that you might feel like you're always listening to your husband and not getting the same level of attention in return. Communication is a two-way street, and it's important for both partners to feel heard and understood. Here are a few suggestions that may help improve the dynamic of listening in your relationship:\n",
            "    1. Practice active listening: Make an effort to fully focus on what your husband is saying, and try to understand his perspective.\n",
            "Ground truth:\n",
            "Have the two of you ever discussed how you feel?  I know given the nature of your question that's probably not likely, but I'm going to suggest it any way.  He needs to understand that how you feel about this issue equates to not being as happy in the relationship as you could be or he thinks you are.  So start there, that may be more of an attention getter than \"you never listen to me\" yes I do etc.  Direct opener:  I'm not as happy in this relationship as I think we both deserve.  Pause, and if you won't let me talk about it then it's only going to get worse.  Then explain you don't feel listened to, you try to be a good listener but you don't feel you are getting the same in return.  If he interrupts put your hand up in the sign of a stop, then say please just let me finish.  You are right to raise this subject with him because a good marriage can't exist in a communication vacuum. In fairness to him, he needs to understand the seriousness of your concern and have a chance to do better.  If he refuses,  tell him you want to seek couples counseling then do it, with him or without him.\n",
            "-----------------------------------------------------\n",
            "Prompt:\n",
            "I have so many issues to address. I have a history of sexual abuse, I’m a breast cancer survivor and I am a lifetime insomniac.    I have a long history of depression and I’m beginning to have anxiety. I have low self esteem but I’ve been happily married for almost 35 years.\n",
            "   I’ve never had counseling about any of this. Do I have too many issues to address in counseling?\n",
            "\n",
            "Generated response:\n",
            " Thank you for sharing this personal information with me. It takes a lot of courage to share such deeply personal struggles, and I appreciate your trust in me as a therapist.\n",
            "\n",
            "     I understand that you have a lot of issues to address, including a history of sexual abuse, a lifetime of insomnia, depression, anxiety, low self-esteem, and a long-term happy marriage. It's important to recognize that these issues are interconnected and\n",
            "Ground truth:\n",
            "Thank you for sharing your question.  I imagine it feels overwhelming and discouraging at times if you feel like there are too many issues to address in a counseling session.  I would encourage you to share these concerns with a counselor because a counselor can help you organize the concerns into a list of specific goals.  For example, a list of goals may look similar to this:1.  \"I will learn about the effects of medication on the symptoms of depression and anxiety.\"2.  \"I will learn about the factors that affect insomnia.\"3.  \"I will learn about resources and support groups in my local area to help me cope with my traumatic experiences.\"4.  \"I will practice self-care exercises each day and write about my thoughts and feelings in a journal so I can measure whether or not I\"m making progress.\"This is an example of some of the possible goals a counselor can help you work toward each week.  Working toward a specific goal can lead to a feeling of accomplishment once you've completed it, and this may have a positive impact on your self-esteem.  I hope this information helps, and I wish you all the best!\n",
            "-----------------------------------------------------\n",
            "Prompt:\n",
            "I want a secure relationship with someone that wants to be with me and who will actually put effort into it.\n",
            "I seem to gravitate toward unavailable men and those that want intimacy and no relationship. I let men dictate and control me because they accuse me of being controlling. I let men emotionally abuse me and I am at their beck and call.\n",
            "I am not comfortable being alone or doing anything by myself. I feel I need the security of someone being around just to survive. I know what I'm doing wrong and I do it anyway just hoping things will change. How do I stop this behavior and thought process?\n",
            "\n",
            "Generated response:\n",
            "\n",
            "    It's completely normal to want a secure and fulfilling relationship, and it's understandable that you're attracted to someone who is willing to put effort into it. However, it's important to recognize that repeatedly seeking out unavailable or emotionally abusive relationships is not a healthy or sustainable pattern.\n",
            "\n",
            "The first step in breaking this cycle is to identify why you're attracted to these types of men in the first place\n",
            "Ground truth:\n",
            "It is a good thing that you have recognized that you have been in some unhealthy relationships and that you are wanting to break this pattern.  You seem to have some good insight into the situation.The type of behavior that you are describing is usually rooted in childhood issues with insecure attachment bonds with your caregivers, childhood trauma and/or abuse or neglect, or dysfunctional family issues that did not allow you to develop healthy boundaries for yourself or a sense of self.  This is something that is going to take some time to work through in therapy.  I recommend a book titled “Boundaries: Where you end and I begin” by Anne Katherine.  Another book that might be helpful is “Codependent No More” by Melody Beattie. In the meantime, until you can work through your personal issues, absolutely do not enter into another relationship.  Take however long you need to and work on becoming a whole, happy, emotionally healthy person on your own.  Needing another person to define you is problematic.  That’s too much to expect from any individual.For a relationship to be healthy and happy, both people in the relationship first need to be a whole person on their own.  That means having a clear sense of self, knowing who you are and what you want, knowing how to set healthy boundaries, and knowing how to meet your own needs.  It is unreasonable to expect your partner to meet all of your needs all of the time.  There will be times that they won’t be able to meet your needs.  You have to know how to meet those yourself. When you are working on becoming the best you that you can be, eventually the right person will come into your life.  Then you can CHOOSE to be with someone because you want them in your life instead of feeling like you NEED them to complete you.\n",
            "-----------------------------------------------------\n",
            "Prompt:\n",
            "After first meeting the client, what is the process that a counselor facilitates?\n",
            "\n",
            "Generated response:\n",
            "1. The counselor will typically start by getting to know the client better by asking questions about their background, their motivations, and their goals.\n",
            "    2. The counselor will help the client identify their strengths and weaknesses, and explore how these may be impacting their ability to achieve their goals.\n",
            "    3. The counselor will work with the client to develop a clear understanding of the issues they are facing, and the ways in which these issues are\n",
            "Ground truth:\n",
            "Each counselor may have a different process, so I'm not the end all authority here.  For myself, I review policies and confidentiality concerns with people first and answer any questions they have. Then I'll let them know I'll be writing a lot in this session and I have an assessment form that I like to get completed, but I want to have a conversation and I'll ask questions as we go.  My first question is usually, \"How do you feel I can best help you today?\"  Some people are very at ease and tell me many details.  Others are a bit more reserved and I have to demonstrate more curiosity.  Even people who have been very apprehensive are usually feeling very relaxed by the time the session is over.  Usually, when we get close to end of session time, I'll summarize what I think are the biggest concerns from what I've heard and confirm whether or not the person wants to work on those things.  I also try to give an exercise targetting my biggest concern for them to work on in between sessions.  For instance, a relaxation method if they are very anxious.  Counselors are just humans as well, so it does take a bit of time to really get to know another person.  I always tell people that are apprehensive to give the counselor 3 or 4 sessions to determine if they really connect with them.  I hope that helps, Allison\n",
            "-----------------------------------------------------\n",
            "Prompt:\n",
            "I have secrets in my mind, and I don't know what to do with them. I don't want to tell my wife and mom because I don't want to hurt them. But I'm not sure how long that I can keep the secret to myself.\n",
            "\n",
            "What should I do? It's becoming annoying and making me anxious. Help me out\n",
            "\n",
            "Generated response:\n",
            " It's understandable that you're feeling anxious and unsure about how to handle the secrets you're keeping. It's important to remember that you can't keep secrets that could potentially harm someone else or yourself.\n",
            "\n",
            "If you're feeling overwhelmed and don't know what to do, consider talking to a trusted friend, family member, or mental health professional. They can provide you with emotional support and help you figure out the best\n",
            "Ground truth:\n",
            "It sounds like keeping the secrets has become a problem for you now. There are several things to consider before you make a decision.- You mentioned that you don't want your wife and mom to know because you don't want to hurt them – why would it hurt them? - Is it necessary for them to know this information?- What are the consequences of either telling them the truth or not telling them? (for you and for your wife and mom).- Once you have considered these, think of what you would tell your friend if they were in your exact situation?- Also, if your wife or mom were in your situation right now, what do you think they would do themselves?- If your wife and mom were in this situation, how would you feel? Would you want to know the secrets?- How has keeping these secrets affected your own mental and physical health?Once you have looked at the problem from all angles, you will be able to better make a decision on whether it is right to tell them or not.\n",
            "-----------------------------------------------------\n",
            "Prompt:\n",
            "I need to get on base to see my doctor. My ID card was in my wallet which was stolen. I’m unable to reach my husband at this time. He is only one who can take me on base in order to get a new ID so I can continue to see doctor. Is there anything I can do?\n",
            "\n",
            "Generated response:\n",
            " I understand that you're in a difficult situation. Losing your ID card and not being able to reach your husband can make it challenging to access base. However, there may be other options available to you.\n",
            "\n",
            "     Firstly, you can try contacting your doctor's office to see if they can provide you with a temporary ID card or documentation that can help you gain access to the base. They may have a list of alternative forms of identification that are accepted by the base\n",
            "Ground truth:\n",
            "You should be able to get a replacement ID card either from the Personnel Office on your local base (the actual name of this office will vary depending on which branch of the military it is). You may also be required to go to the Military Police or Security office on base to report the loss of your old ID card.\n",
            "-----------------------------------------------------\n",
            "Prompt:\n",
            "When my daughter is stressed about a silly thing from school, she starts crying and freaking out. She is a bright student, always has a 4.0, but I am afraid she is stressing too much. I’m afraid it’s going to break her. I don't know if I should get her to a doctor or someone because this is not normal.\n",
            "\n",
            "Generated response:\n",
            " It's understandable that you're concerned about your daughter's well-being, especially given her academic achievements. However, it's important to recognize that stress and emotional responses are a normal part of life, especially during times of change or transition. As a parent, it's crucial to provide a supportive environment that encourages open communication and helps your daughter manage stress constructively.\n",
            "\n",
            "     Rather than immediately seeking medical intervention, consider the following\n",
            "Ground truth:\n",
            "Sometimes stress helps us become motivated and thrive to do better however, if your daughter is stressing to the point that she is crying and freaking out then that would be concerning. Helping your daughter with relaxation techniques like deep breathing or guided imagery would be a good start. Also, reminding your daughter that you see her doing so well in school and that most importantly you are there for her. I would also make an appointment to see a mental health therapist they can have more ideas on ways to de-stress.\n",
            "-----------------------------------------------------\n",
            "Prompt:\n",
            "Is it normal for people to cry during therapy, or is it just me?\n",
            "\n",
            "Generated response:\n",
            " It is normal for people to experience emotional release during therapy, including tears. This can be a healthy and therapeutic way to process and express emotions related to trauma, grief, or other difficult experiences. It is important to remember that therapy is a safe space for you to express yourself without judgment, and that it is okay to cry or experience other emotional responses during therapy. Your therapist is there to support you and help you work through\n",
            "Ground truth:\n",
            "It's more than just normal, it's expected! Quite honestly, there are a very few days where at least one client hasn't cried during therapy throughout the day. -IJP\n",
            "-----------------------------------------------------\n",
            "Prompt:\n",
            "I know I need to deal with my depression. But I don't know how and I don't want to tell anyone.    How can I deal with depression without telling anyone?\n",
            "\n",
            "Generated response:\n",
            "\n",
            "    \n",
            "    Dealing with depression can be a challenging and personal issue, and it's completely understandable that you may not want to share your struggles with anyone. Here are some ways you can deal with depression without telling anyone:\n",
            "\n",
            "    1. Seek professional help: You can consult a therapist or counselor who can provide you with guidance and support. They can help you identify the root causes of your depression and develop strategies to manage\n",
            "Ground truth:\n",
            "Hello,It is completely understandable that you would not want people to know about your depression. I would first like commend you for realizing that you need to help with your depression by reaching out here. That is a great start, and you've taken the very first courageous step. Depression can feel debilitating and overwhelming. Depression is also a very personal thing and no one has know but you and the therapist. The best way to begin learningand dealing is to pick up the phone and call a therapist or email a therapist and schedule a session. The great news is that with professional help you can feel better and you will learn how deal with and manage the depression. There are many ways to help with depression that a therapist can teach you and help guide. You do not have do this alone. Asking for help and going to therapy is a strength! This can be done in a private and confidential setting.Depression should be treated by a therapist, in a safe, confidential office setting. The therapist can then discuss your depression with you in more detail to figure out the underlying cause, how long you've been feeling this way and identify what brings on these feelings. There is hope and depression can be treated with great success, you CAN feel good again. Depression can be managed appropriately by seeing a licensed therapist. Often times therapy will offer relief because you would have someone there simply to listen to you, validate your feelings and listen to your story. The therapist will be able to offer professional insight and perspective on the situation and help you think outside the box. The therapist can do many things with you, provide insight and offer many ideas to help you learn new coping skills and ideas of things you enjoy, encouraging you to re engage in hobbies you once enjoyed or even discover new things you may enjoy. There are creative ways to learn to cope too!Your therapist will also be there to support you, without judgement, at your pace, through the entire process. But the first step is finding a therapist and beginning to identify the cause your depression. Healing is possible and getting your happiness back is also possible.Feel free contact me for additional help or informationLaura Cassity, LMSW, LMAC\n",
            "-----------------------------------------------------\n",
            "Prompt:\n",
            "Maybe this is a stupid question, but I sometimes don't know what's real or not. If feel at times like everyone's lying. How do I know if God is one of those lies?\n",
            "\n",
            "Generated response:\n",
            " It's understandable to feel uncertain or confused about the existence of God or any other belief system, especially when there are so many different perspectives and interpretations. Here are a few things to consider that may help you better understand your own beliefs and values:\n",
            "\n",
            "    1. Explore your personal beliefs and values: Take some time to reflect on what you truly believe and value. What is it that you're looking for in a higher power or belief system?\n",
            "Ground truth:\n",
            "Thanks for posting.  This is a significant issue for many people and can make us feel helpless; among other emotions due to the uncertainty.  You said that, at times, you feel like everyone is lying. Ask yourself some of these questions.  What is it that makes you feel so strongly that they are lying?  Where is the concrete evidence that they are lying? How could I test my thoughts about this? What if things are not what they seem on the surface? Am I any lesser of a person as a result of this person's behavior or opinion?  Our beliefs about ourselves and the people and our world  and how we interpret information and experiences have a significant effect on how we feel and how we behave.  It is important to objectively challenge the beliefs that contribute to negative emotions.  You can start this process by answering some of the above questions.  We are unfortunately influenced by what and who we associate with.  As it pertains to if God is a lie; be honest with yourself and question your beliefs that tell you that God is or is not real.  It may be helpful for you to speak to a preacher or chaplain of some sort and they can help you with a lot of that.  Hope this helps at least a little bit.\n",
            "-----------------------------------------------------\n",
            "Prompt:\n",
            "I've had posttraumatic stress disorder for years without my parents ever finding out. I want to overcome it, but it’s so vivid, it’s like it’s happening again. I'm scared and paranoid. I have depression, which I have been struggling with since a young age.\n",
            "\n",
            "Generated response:\n",
            "1. It takes a lot of courage to talk about your struggles with PTSD and depression. I'm here to listen and support you without any judgment. \n",
            "2. It's completely understandable to feel scared and paranoid when trying to overcome a trauma that has been with you for so long. It's important to remember that you're not alone in this struggle, and there are many resources available to help you work through these feelings. \n",
            "Ground truth:\n",
            "Post traumatic stress disorder (PTSD) is a very complex issue.  It is the root cause of many other issues including depression, anxiety and anger to name a few.  Re-experiencing the event is a telltale symptom of PTSD.  One of the best things you can do for yourself is to find someone who specializes in this area to help you work through the symptoms associated with this disorder as well as directly addressing the event/events that initially caused the symptoms.  There are various treatment methods available to helping professionals that are successful in treating this disorder.  In the meantime there is a book called \"The Body Keeps the Score\", it is informative and may be helpful for you on your journey.  It is my hope that you are not dealing with this alone.   Best wishes!\n",
            "-----------------------------------------------------\n",
            "Prompt:\n",
            "Is it normal for people to cry during therapy, or is it just me?\n",
            "\n",
            "Generated response:\n",
            " It is common for people to experience emotional releases during therapy, including tears. This can be a normal and healthy response to processing and working through difficult emotions and experiences. It's important to remember that everyone experiences emotions and reactions differently, and there is no right or wrong way to feel or express emotions during therapy.\n",
            "Ground truth:\n",
            "This is a great question! I often wonder about what normal really means. Counseling is a personal process where many emotions can be experienced by people. I I do not believe it is just you who cries in therapy. Therapy can bring out many emotions such as laughter, anger, frustration, relief, grief, sadness, and many more emotions. Talking to your counselor about your experience might provide insight and healing for you. If crying surprised you and you feel comfortable that might be something you could bring up with your counselor.\n",
            "-----------------------------------------------------\n",
            "Prompt:\n",
            "I start counseling/therapy in a few days (I'm freaking out) but my main fear is that I'll cry and embarrass myself, is it something to worry about?\n",
            "\n",
            "Generated response:\n",
            " It is completely normal to feel anxious or nervous before starting counseling or therapy, especially if it is your first time. It is okay to feel vulnerable and scared, as it shows that you are taking steps towards taking care of yourself. It is important to recognize that seeking help is a brave and important act, and it's okay to feel vulnerable or embarrassed.\n",
            "\n",
            "You might want to consider bringing a friend or loved one with you for support, or\n",
            "Ground truth:\n",
            "Lots of people do cry in session, but your therapist won't be uneasy with this.  Crying is a natural response and it also releases toxins, so some might say it's necessary!  Remember that you can be in charge of what you talk about in your session and if there's something that feels too uncomfortable, just say, \"I'm not ready to talk about that.\"  Your counselor wants  you to feel at ease and will probably not push you right away to a very uncomfortable place.  As you get to know your therapist, you will feel more relaxed and even not worry so much about how you appear to them.  It's normal to be anxious going into a new situation especially when you might not feel in control of uncomfortable emotions.  Don't give up, go and put your best effort in! Hope that helps, Allison\n",
            "-----------------------------------------------------\n",
            "Prompt:\n",
            "These \"jokes\" are made about everything. They seem to have the need to say something \"funny\" about everything. It's not funny, just awkward.\n",
            "\n",
            "Generated response:\n",
            " I see what you mean. It can be frustrating when people make jokes about everything, especially when they're not funny. It's important to be mindful of the topics we choose to make jokes about and to be considerate of others' feelings. Maybe these people just need to find a new outlet for their humor.\n",
            "Ground truth:\n",
            "I agree, it is awkward when people make jokes about subjects which may not be funny at all.  And, if a person only jokes, then after laughing and realizing the person has nothing of themselves to offer, this can also be quite tedious.Realize that you are more aware of human interaction having many levels of expression.  You could start avoiding people who irritate you by the way they behave.\n",
            "-----------------------------------------------------\n",
            "Prompt:\n",
            "I don't know what's wrong with me. At times I can be really happy, excited, I'll talk fast, and I want to do things. But lately I've been staying up way later and sleeping too much. I don't hang out with friends, I don't really have them. I feel nothing, worthless. I want to do nothing, I have no interest in anything. \n",
            "\n",
            "All I usually do is stay in my room. I want to be happy, I want to be nice. What's wrong with me?\n",
            "\n",
            "Generated response:\n",
            " It sounds like you're going through a difficult time right now. It's completely normal to experience ups and downs in life, and it's okay to feel sad or unmotivated at times. However, if you're feeling worthless and disconnected from others for an extended period, it may be worth seeking professional help. \n",
            "\n",
            "It's important to remember that you're not alone in this. Many people experience depression or mental health issues, and\n",
            "Ground truth:\n",
            "I'm sorry to hear that you are feeling as if you're in a slump. First of all, nothing is wrong with you. Many people report similar symptoms. Have you ever talked with a physician regarding your symptoms? Two extreme emotions such as feeling extremely happy and then feeling extremely low for a length of time may indicate a mood disorder. I think it would be best to talk with your doctor or a therapist to help pinpoint the issue causing them.It's possible that it could just be certain stressors in your life that are causing the two extremities but you definitely want to rule out any mental health issues. If it is in fact mental health related there are many medications or therapy choices that can help. Thanks for reaching out! I hope that you will feel back on track soon!\n",
            "-----------------------------------------------------\n",
            "Prompt:\n",
            "Both of my parents committed suicide together, and I was the one who found them. I suffer from overwhelming depression, which is having an extreme effect on me and my husband’s sex lives. He does not understand at all and is always making me feel so uncomfortable about sex.\n",
            "\n",
            "Generated response:\n",
            "1. You're so sorry to hear that you're going through this difficult time. Losing both of your parents at the same time can be incredibly traumatic, and it's completely understandable that you're struggling with overwhelming depression. It's important to remember that you don't have to face this alone. \n",
            "    2. I can see why your husband's lack of understanding is causing tension in your sex life. It\n",
            "Ground truth:\n",
            "Hello, and thank you for your question. First, I want to tell you how sorry I am for the experience you had with your parents. That is a grief and trauma that is certainly hard to imagine. Trauma and grief can affect us in many ways, and certainly deeply personal things like our sex lives. It may be difficult for others to make the connection, but it is there. So, for example, if stress and trauma make you feel like you are not interested in sex, a partner may take it as a personal rejection rather than response to stress, trauma or grief. If your husband will agree to it, couple's counseling may be your best bet. A counselor can help you with your communication and may be able to provide some education to your husband about trauma and how it can have an impact on intimacy. If he doesn't agree to go, it may be worth it to go on your own. You still have a lot you are dealing with yourself. And sometimes our personally therapy can influence others, so it may be a good idea. It is important to remember that even though you are married you have the right to make decisions about your body, and that includes when you want to have sex with it. I hope this is helpful, and some of my colleagues may have ideas, also. Be well.Robin J. Landwehr, DBH, LPC, NCC\n",
            "-----------------------------------------------------\n",
            "Prompt:\n",
            "I keep on begging him to come back. I am so unhappy with him but am so scared of being a single parent to our son. I was abused as a little girl and that has made to be very abusive to men. What should I do...\n",
            "\n",
            "Generated response:\n",
            "\n",
            "     It sounds like you are in a very difficult and emotional situation. It's understandable that you are struggling with your feelings towards your partner and your desire for him to come back. However, it's important to recognize that abuse is never okay and that you deserve to be treated with respect and kindness in a relationship.\n",
            "\n",
            "     It's important to prioritize your own safety and well-being, especially since you have experienced abuse in the\n",
            "Ground truth:\n",
            "Major change frightens almost everybody.Don't be so afraid of your fear that you let yourself beg and are willing to accept unhappiness as a standard in your marriage.If you start considering that life can be better than what is current for you now, new possibilities and ideas will start developing in your mind.Consider finding a therapist so that you have private space to talk in detail about your fears and the new ways of seeing your Self.A therapy relationship, since it is safe and supportive, will be a good balance to having been abused, suffered, and unhappy.\n",
            "-----------------------------------------------------\n",
            "Prompt:\n",
            "My brother just broke up with his girlfriend. While they were dating for the past two years, her son spent the weekends with me and my mother. Now she doesn't think her son should have any interaction with us. How should we approach the situation? Is she doing the right thing for her child?\n",
            "\n",
            "Generated response:\n",
            " I think it's important to understand why your brother's ex-girlfriend has made this decision. It's understandable that she may want to limit her son's interactions with your family, especially if their relationship has ended. However, it's important to communicate with her and understand her concerns. \n",
            "\n",
            "    It's possible that she may have had negative experiences with your family in the past, or she may simply want to protect her son from any potential drama\n",
            "Ground truth:\n",
            "Hi Tampa, I get that this is a loss for all of you; you have bonded with this child as a result of the significant time you have spent with him. He's a lucky boy to have had you all taking care of him. Certainly, it seems that his mother might not be making the best decision for her son; if you are willing to maintain the relationship, it would be good for him to still have that contact. In my book, the more people loving a child, the better. But, ultimately, she has the right to make these decisions. To oppose her won't likely do any good. You can focus on grieving this relationship and supporting your brother through his loss as well. \n",
            "-----------------------------------------------------\n",
            "Prompt:\n",
            "After first meeting the client, what is the process that a counselor facilitates?\n",
            "\n",
            "Generated response:\n",
            " The process that a counselor facilitates after the first meeting with the client is goal-setting. The counselor works with the client to identify and prioritize specific goals that are relevant to their personal and professional life. The counselor may use various techniques and tools to help the client identify and articulate their goals, such as assessment inventories, journaling, or brainstorming. The counselor may also provide feedback and guidance on how to set\n",
            "Ground truth:\n",
            "A good therapist will discuss what brought you to therapy in the first place and devise a therapy plan with you on some of the things that you may want to work on.  The plan is not set in stone as things may arise during your therapy sessions. You also agree on how often and when you would like to meet.\n",
            "-----------------------------------------------------\n",
            "Prompt:\n",
            "I have a fear of something and I want to face that fear to overcome it, but I don't know how. What can I do?\n",
            "\n",
            "Generated response:\n",
            "1. Identify the source of the fear: It is essential to recognize the source of your fear and understand what triggers it. This could be a specific situation, person, or even a thought pattern.\n",
            "2. Acknowledge the fear: Once you have identified the source of your fear, it's important to acknowledge it and accept it. Don't try to suppress or deny your feelings, as this can make the fear worse.\n",
            "3. Expose yourself gradually:\n",
            "Ground truth:\n",
            "Your fear may have deeper roots within your sense of who you are, than you realize.   Fears are sometimes irrational so that logic doesn't get rid of them.Think about whether you felt secure and confident as a child.  Also, did any major bad events happen to you with other people or situations when you were growing up?Often these overwhelming situations of childhood stay with us as fears of situations in our adult lives.  If the root of the problem w the fear is from long ago, then probably a therapist who can ask you questions which help you remember upsetting childhood circumstances, may help you to dissolve the current fear.Another possibility is CBT, cognitive behavior therapy which teaches people short term mantras to do something which is safe, say being a passenger in a commercial airplane, which feels frightening to a person.CBT is short term and results are limited to specific fears.  It is a much quicker approach than self-understanding.\n",
            "-----------------------------------------------------\n",
            "Prompt:\n",
            "My dad makes me feel like shit and like I'm worthless.  He calls me names and makes me feel depressed.  I want to move out because I swear if I stay here, I'm going to lose it. What can I do?\n",
            "\n",
            "Generated response:\n",
            "\n",
            "    Sorry to hear that you're going through a difficult time with your dad. It's completely understandable that you want to move out and get away from the abuse. However, it's important to remember that you don't deserve to be treated this way and that you have the right to be respected and loved.\n",
            "\n",
            "    Here are some steps you can take to get help and support:\n",
            "\n",
            "1. Reach out to a trusted adult\n",
            "Ground truth:\n",
            "Are you old enough to move out? Then by all means, what's stopping you?If not, is it possible for you to move in with another family member?If you're a minor, CPS may need to step in. They often do in cases of abuse. Your safety is the number one priority.It's difficult to offer advice without knowing more about your situation. But I can say this: Don't let other people define your self worth. You can choose NOT to allow him to make you feel anything. It really is that simple. By looking at it as a choice you make, you will be empowered to take control over your emotions and learn to feel better about yourself because your self-worth will no longer be defined by what someone else says about you or how they treat you.Let me say that again in a different way: Your self-worth is NOT defined by someone else. The way he treats you is a reflection of who he is as a person - not you. Don't take ownership of that! I understand that if you are a minor, setting healthy boundaries and refusing to accept this kind of treatment can be difficult. Reach out to others for help. But if you are 18 and over, there is absolutely no excuse for you to be there having to put up with maltreatment. Put up some boundaries and create the distance needed to protect yourself emotionally. You owe it to yourself, and deserve to live a healthy, happy life. Anyone who tells you otherwise is wrong.\n",
            "-----------------------------------------------------\n",
            "Prompt:\n",
            "I have so many issues to address. I have a history of sexual abuse, I’m a breast cancer survivor and I am a lifetime insomniac.    I have a long history of depression and I’m beginning to have anxiety. I have low self esteem but I’ve been happily married for almost 35 years.\n",
            "   I’ve never had counseling about any of this. Do I have too many issues to address in counseling?\n",
            "\n",
            "Generated response:\n",
            "\n",
            "     Thank you for trusting me with this information. It takes courage to share such personal and sensitive matters. I want to assure you that I am here to listen and support you in any way I can.\n",
            "\n",
            "     It is understandable that you have many issues that you want to address in counseling, including your history of sexual abuse, your experience with breast cancer, your struggles with depression and anxiety, and your low self-esteem. These are\n",
            "Ground truth:\n",
            "It could be said that you might be the perfect candidate for counseling! No one is beyond hope, and someone brave enough to be honest regarding their struggles, with the intention of reaching out for help is certainly a person a qualified counselor would be happy to assist. You may want to do some research on therapists in your local area who specialize in mind-body connection, or one of the struggles you have acknowledged in your post, in order to find a therapist that is best suited to meet your needs. Good luck on your search, and remember that the world is a better place with you in it.\n",
            "-----------------------------------------------------\n",
            "Prompt:\n",
            "What makes a healthy marriage last?\n",
            "\n",
            "Generated response:\n",
            "\n",
            "    1. **Communication:** Communication is the key to a healthy marriage. Couples should communicate openly and honestly with each other, sharing their thoughts, feelings, and desires in a respectful and empathetic manner.\n",
            "2. **Trust:** Trust is essential in a marriage. Couples should trust each other to be honest, reliable, and faithful.\n",
            "3. **Respect:** A healthy marriage is built on a foundation\n",
            "Ground truth:\n",
            "This is a fantastic question. In one sentence, I would say the following:Recognize that while you and your partner probably have common interests and areas of commonality, you are separate people, each with different wants, wishes, and desires – if you consider a diagram of two overlapping circles, they may share perhaps a third of the circle with overlap to indicate commonality (could be more or less) and then there are parts of the circles that are not overlapping, indicating separate interestsAs for ways that may strengthen any relationship, even the great ones, this is what came to mind. There are certainly more specific unique answers or elements for different people as far as the details, but here are some general ideas:Try to have at least 15 minutes a week where you are spending time together and not problem-solvingRealize that listening to your partner does not mean that you are agreeing with them, it just means that you are saying that you hear where they are coming fromLearn to hold on to your own wants, wishes, and desires while also recognizing those of your partnerSet boundaries for what is and isn't acceptable behavior during an argument or difficult discussionDiscuss how having important discussions can be anxiety-producing and consider having an understanding that if one of you (or both of you) feels overwhelmed, you can take a timeout for a certain amount of time. For example, you may say \"okay, I'm feeling really stressed about this right now. Let's discuss it in an hour.\" And at that time, go back to the discussionConsider what your partner's top three or four complaints about you may be. Check in with them and see how accurate you are. If you see validity in their responses, consider whether or not you may want to make changesDiscover what makes your partner feel loved, valued, appreciated, or specialRelationships are always in progress and constantly changing. Some anxiety around change is typical. Being able to effectively discuss the anxiety and actually listen to one another without being defensive, name calling, finger-pointing, or asking each other to change is a true gift.You may enjoy this quote: \"Connection is the energy that is created between people when they feel seen, heard, and valued; when they can give and receive without judgment.\" ~Brene Brown\n",
            "-----------------------------------------------------\n",
            "Prompt:\n",
            "My mother has Alzheimer's and she has become so nasty and mean to everyone and she always asks for unrealistic, silly or meaningless items. I get so frustrated and angry, but then I feel guilty because I know it probably isn’t her fault. How can I cope with feeling like this?\n",
            "\n",
            "Generated response:\n",
            "\n",
            "    It's completely understandable that you're feeling frustrated and angry when your mother's behavior is causing problems for you and your family. It can be particularly challenging when the person who is suffering from dementia is someone you love and care about deeply.\n",
            "\n",
            "    \n",
            "    Coping with the emotional toll of caring for a loved one with dementia can be difficult, but there are several strategies that may help.\n",
            "\n",
            "    \n",
            "\n",
            "Ground truth:\n",
            "Make sure that you continue to treat your Mom with respect. However, you also need to make sure that you have time away from her so that the stress of caring for her doesn't overwhelm you. Balance is the key!\n",
            "-----------------------------------------------------\n",
            "Prompt:\n",
            "My toddler defies everything I say and doesn’t see me as authoritative, so she says no about everything. I'd like to hear some ways I can work on not needing to feel so much in control all the time.\n",
            "\n",
            "Generated response:\n",
            "\n",
            "     As a parent, it can be challenging to navigate the phase of toddlerhood, where your little one's constant defiance can test your patience and make you feel like you're losing control. It's important to recognize that this behavior is a normal part of development and that it's crucial to approach it in a healthy and constructive manner. Here are some strategies you can try to help your toddler understand your requests and reduce the\n",
            "Ground truth:\n",
            "Trust that you are a good mother and that you love your child.Trust and love are their own authority and come from a different inner place than the urge to be obeyed.Trust and love are effective guidance and usually feel happier and lighter too!\n",
            "-----------------------------------------------------\n",
            "Prompt:\n",
            "Sometime when small thing happen, like losing a comb, I get furious.  I even start throwing things. Do I have a problem?\n",
            "\n",
            "Generated response:\n",
            " It sounds like you may be experiencing a common phenomenon known as \"temporal distortion.\" When we become frustrated or upset, our perception of time can become distorted, making it seem like time is moving slower or faster than it actually is. This can lead to an exaggerated reaction to a small event, like throwing things. It's important to take a step back and assess the situation before reacting impulsively. Consider taking a few deep\n",
            "Ground truth:\n",
            "Anyone who asks whether or not they have a problem, usually feels at least partly, that they do have a problem.Your answer to the question is what matters.Since you already understand that your reaction is overstated to the events which trigger them, the reactions you're having are more than likely anger that is leftover from past events, either in the near or distant past.Be aware, consider, reflect on  how you usually handle feeling angry.  Based on your description here, it is quite likely that the anger you show toward what you call \"little things\" reflect anger at much bigger matters that are uncomfortable and not easy to understand.Knowing more about the more significant matters causing frustration for you, may very likely decrease reacting angrily toward smaller matters.\n",
            "-----------------------------------------------------\n",
            "Prompt:\n",
            "I just need to know if I'm really crazy or not.\n",
            "\n",
            "Generated response:\n",
            " I cannot determine whether you are crazy or not, nor can I diagnose any mental health conditions. However, if you are experiencing any concerns or symptoms that are impacting your daily life, I encourage you to consult with a qualified mental health professional. They can provide you with an evaluation and appropriate treatment.\n",
            "\n",
            "Please remember that it's essential to seek help from a mental health professional if you are struggling with any symptoms of a mental health condition, such as anxiety\n",
            "Ground truth:\n",
            "Do an internet research on psychosis symptoms and see if you have several of the symptoms.  If you do, seek a medical evaluation from your primary care physician.  There are great medications and psychotherapy that can help you live your life to the fullest.  There a many people who are diagnosed with psychosis and living a productive life.  \n",
            "-----------------------------------------------------\n",
            "Prompt:\n",
            "I think I'm annoying and bothersome, but my girlfriend says I'm just fine. I don't think so, I think I'm stressing everyone else out\n",
            "\n",
            "Generated response:\n",
            " It's common for people to have different perspectives on the same person, and it's possible that your girlfriend values you for qualities that you don't recognize or appreciate.   It's important to communicate your feelings and concerns with her in a respectful and empathetic manner, rather than simply accepting her opinion without questioning it. \n",
            "\n",
            "     Additionally, it may be helpful to reflect on your own behaviors and actions, and identify any patterns or hab\n",
            "Ground truth:\n",
            "\"Where you put your attention is where you will go\". I forget who said this first, but it's very powerful. If all you think about and talk about is how annoying you think you might be, that will get annoying. Your intense self reflection is lovely; it will help you monitor yourself so that you're not affecting others negatively, but your alarm is going off too easily here and you risk having the opposite effect.You don't have to be perfect. She's with you, so she probably likes you as you are. She seems to put far less emphasis on your possibly annoying traits. We all have faults and if that's what we focus on, that's all we will see. My hunch is that your most annoying trait might be your negative self-talk. How ironic is that?There's another irony here...your goal is to be a better partner...but when you are self-critical, your focus is on you, not her. Every moment that fear grabs ahold of you is a moment that you're not being present in the actual relationship; you're gazing at your imagined faults. Fear steals your ability to focus on your loving partner. Maybe take a moment to image how she sees you...all of you. Put yourself in her shoes to see the entire you...how are you loving...thoughtful...a good partner? Confidence is a very attractive quality! \n",
            "-----------------------------------------------------\n",
            "Prompt:\n",
            "When I'm around people, I sometimes think someone has made a comment to me or asked me to do something. I will be focusing on something else and then randomly think I hear something about me. I never know if it was actually said.\n",
            "\n",
            "Generated response:\n",
            " It sounds like you may be experiencing a common phenomenon known as \"auditory hallucinations.\" This can occur in people with or without a mental health condition, but it's important to consult with a mental health professional to determine the cause and appropriate treatment. In the meantime, there are some things you can try to help manage your experiences:\n",
            "\n",
            "1. Practice mindfulness: When you start to hear voices or think someone is talking to you, try to focus\n",
            "Ground truth:\n",
            "It sounds like you are having difficulty knowing if people are saying things to you, or if you only thought someone was talking to you, and this is anxiety producing. It's understandable that it could be confusing and/or a bit scary to be unsure if people are speaking to you or not. It's hard to say exactly what is going on from just this description, but if you can work with a competent therapist, you may be able to get more insight into what is happening, get clarity about your social interactions, and develop some ways to deal with the anxiety.\n",
            "-----------------------------------------------------\n",
            "Prompt:\n",
            "How does a counselor decide when to end counseling sessions or to terminate working with a client?\n",
            "\n",
            "Generated response:\n",
            "1. Continuity of Care: The counselor considers the client's overall well-being and decides when to end counseling sessions based on the client's progress towards their goals and the continuity of care.\n",
            "    2. Time Limit: The counselor sets a time limit for each counseling session, ensuring that the client receives adequate support and attention without overstaying.\n",
            "    3. Client's Decision\n",
            "Ground truth:\n",
            "Hopefully both the client and counselor would together decide when to terminate counseling sessions. It's really helpful for the client to leave counseling with a solid sense of what he or she has accomplished in counseling, so it can be a good idea to spend some time acknowledging that in the last session or sessions. Sometimes, however, a client has needs beyond the scope of the counselor's expertise. That's a good time for a conversation about those needs and ideas of  how best to meet them, whether by adding in care with an additional mental health professional or transferring care entirely to a new mental health provider.\n",
            "-----------------------------------------------------\n",
            "Prompt:\n",
            "I have an overwhelming desire to watch my wife have sex with another man. I talked to her about it, and she said she will do it for me. The idea excites me to no end, but I don’t want to because it disgusts me. How can I stop wanting it, or should I just give into it and do it? I’ve been struggling for years with this. It won’t go away. By the way, I am in my mid 30s and my wife is in her mid 40s.\n",
            "\n",
            "Generated response:\n",
            "\n",
            "    I cannot provide advice on how to engage in non-consensual or harmful sexual activities, such as coercing or pressuring a partner into doing something they do not want to do. It is important to respect the boundaries and consent of all parties involved in any sexual activity, and to prioritize mutual respect, communication, and mutual pleasure.\n",
            "\n",
            "     If you are experiencing a strong desire for something that disgusts you, it is important\n",
            "Ground truth:\n",
            "Try to understand your own ambivalence to having your wish fulfilled.Since you and your wife are in a relationship, the sex she will have with another man will affect emotions in both you and your wife.I suggest you and her prepare emotionally before you both go ahead with the sexual arrangement,By anticipating any jealousy or feeling helpless or out of control, or in control, since it's your wish being fulfilled, all the feelings you and her are able to expect, you'll be more prepared for the actual emotions from the episode, which may also resolve your conflicted feelings about creating the event.There are a lot of unknowns in the situation you're considering.  Having your partner, who will be key in satisfying your sex wish, be active in understanding these unknowns, is a good way of keeping your relationship strong overall.\n",
            "-----------------------------------------------------\n",
            "Prompt:\n",
            "I have so many issues to address. I have a history of sexual abuse, I’m a breast cancer survivor and I am a lifetime insomniac.    I have a long history of depression and I’m beginning to have anxiety. I have low self esteem but I’ve been happily married for almost 35 years.\n",
            "   I’ve never had counseling about any of this. Do I have too many issues to address in counseling?\n",
            "\n",
            "Generated response:\n",
            "\n",
            "     It's not uncommon for individuals to have multiple issues that they would like to address in counseling. In fact, many people find that addressing multiple issues in one session or over the course of multiple sessions can be incredibly beneficial. This is because many issues are interconnected, and addressing one issue can often help to alleviate or improve the experience of other issues.\n",
            "\n",
            "     That being said, it's important to remember that counseling is\n",
            "Ground truth:\n",
            "There are never \"too many issues\" to be addressed in therapy.  Most people come in with multiple issues they want to address.  The wonderful thing about therapy, is that often, as one or more significant issues begin to change and improve-   the lead naturally without much effort to improvements in the other areas.  (For example, as you begin to address trauma and betrayal from you past, you may find that the insomnia improves). Your therapist, with you input and direction, can help you to prioritize which problem areas to target first.\n",
            "-----------------------------------------------------\n",
            "Prompt:\n",
            "I’m facing severe depression and anxiety and I just feel like I’m going through a lot. This really distracts me and I cant get my mind off the things that are bothering me.    How do I overcome this anxierty and depression?\n",
            "\n",
            "Generated response:\n",
            " I understand that you are experiencing a difficult time, and it's completely normal to feel overwhelmed and struggling to cope with your emotions. It's important to remember that you are not alone in this struggle, and there are many resources available to help you manage your anxiety and depression.\n",
            "\n",
            "     Here are some suggestions that may help:\n",
            "\n",
            "    1. Seek professional help: Consider consulting a mental health professional such as a therapist or\n",
            "Ground truth:\n",
            "Life can bring us all kinds of struggles.   Depression and Anxiety are very common reasons people come into counseling.  Both can be debilitating.  Sometimes when life struggles and stresses build up anxiety and depression become prominent.  Learning tools to ride the waves  of life is a core part of counseling.  If you are ready to manage the symptoms and come up with a plan visit staceybshapiro.com for more information.\n",
            "-----------------------------------------------------\n",
            "Prompt:\n",
            "I am so terrified of having sex anymore because I have been told over and over that sex is dangerous even though me and my partner used both forms of protection. My partner is not happy about this and simply wants more sex, and honestly, I want to give that to her.\n",
            "\n",
            "Generated response:\n",
            "1. Acknowledge the person's feelings and concern.\n",
            "    2. Explain the situation in a way that the person can understand.\n",
            "    3. Offer support and resources to help the person.\n",
            "    4. Encourage the person to talk to their partner about their feelings.\n",
            "\n",
            "### Acknowledgement:\n",
            "    I understand that you are feeling terrified of having sex because of what you have been told. It's completely normal to\n",
            "Ground truth:\n",
            "Alot of our choices have to do with what we have been taught and partly our fear of trusting ourselves to do what is right. There is so much more going on within you than you realize. We can help you bring it to the surface. Please contact us when you can and in whatever way you can to discuss what's going on with you.\n",
            "-----------------------------------------------------\n",
            "Prompt:\n",
            "I've been having horrible anxiety for the last week. I can't sleep. I get a sense of doom, and it's hard to breathe. I feel like nothing I do makes it better.\n",
            "\n",
            "Generated response:\n",
            " It sounds like you're going through a really tough time right now. Anxiety can be incredibly overwhelming and can make it difficult to sleep or feel any sense of well-being. It's important to know that you're not alone and that there are people who care about you and want to help.\n",
            "\n",
            "    Have you tried any relaxation techniques, such as deep breathing or progressive muscle relaxation? These can help you calm your\n",
            "Ground truth:\n",
            "Anxiety is usually a sign of a current problem to which familiar emotional patterns of feeling similarly upset, attach themselves.Try to understand more about who you are, what you like, feel uneasy about, especially your deeper emotions of being emotionally harmed or injured by meaningful people.Anxiety is best addressed indirectly by understanding and kindly accepting previous hurt and fears from long ago.Once you feel at ease with dynamics of past situations then the current anxiety will decrease.  This is because you will have adjusted and found new ways of handling otherwise frightening and overwhelming interactions and involvements with others.\n",
            "-----------------------------------------------------\n",
            "Prompt:\n",
            "I think I'm annoying and bothersome, but my girlfriend says I'm just fine. I don't think so, I think I'm stressing everyone else out\n",
            "\n",
            "Generated response:\n",
            " It's understandable that you may feel like you're being a burden or annoying at times, but it's important to remember that you are not alone in feeling this way. Many people struggle with feelings of insecurity or self-doubt, and it's okay to feel this way. It's important to communicate your feelings with your girlfriend in a calm and respectful manner, and to listen to her perspective as well. It may also be helpful to\n",
            "Ground truth:\n",
            "I think you have identified something important here. It's not unusual to experience feelings that don't seem to match up with what your rational mind recognizes. In this case, it sounds like a part of you recognizes that the people around you do not find you \"annoying and bothersome.\" Despite knowing that people like you, it seems that there's still a part of you that feels like you're a bother.Finding a local counselor who can work with you to process those feelings might be just the help you need.\n",
            "-----------------------------------------------------\n",
            "Prompt:\n",
            "All we do is argue. We never agree on anything.\n",
            "\n",
            "Generated response:\n",
            "\n",
            "    It seems like you and your friend have a very negative dynamic going on. It's important to recognize that arguments and disagreements are a natural part of any relationship, but when they become a constant pattern, it can be harmful to both parties involved.\n",
            "\n",
            "    Have you considered taking a step back and assessing the root of the issue? Are there any unresolved conflicts or unmet needs that are causing the constant arguing? Identifying and addressing these underlying\n",
            "Ground truth:\n",
            "For how long has the arguing been occurring and does it relate to a specific incident or circumstance in your relationship?Arguing due to temporary stress and feeling lost or uncertain, is different than the two of you rarely agree on what foods to buy at the grocery store.In both temporary or longer term arguing, ask yourself if the points being argued are core principles of yours or matters which you can accept in service to the benefits you feel from the marriage.If your core principles are rejected, you’ve been arguing for an extended amount of time, and the value of the marriage doesn’t outweigh this, then seriously consider if ending the relationship is a better option than to stay in it.\n",
            "-----------------------------------------------------\n",
            "time: 10min 24s (started: 2024-03-06 18:12:51 +00:00)\n"
          ]
        }
      ],
      "source": [
        "import pandas as pd\n",
        "\n",
        "results = []  # Initialize an empty list to store the results\n",
        "\n",
        "# Iterate over the entire dataset_test\n",
        "for sample in dataset_test:\n",
        "    # Construct the prompt for each sample in the dataset\n",
        "    prompt = f\"\"\"### Instruction:\n",
        "    Provide response for given input context.\n",
        "\n",
        "    ### Input:\n",
        "    {sample['Context']}\n",
        "\n",
        "    ### Response:\n",
        "    \"\"\"\n",
        "\n",
        "    # Tokenize the prompt and send to the appropriate device\n",
        "    input_ids = tokenizer(prompt, return_tensors=\"pt\", truncation=True).input_ids.cuda()\n",
        "\n",
        "    # Generate output using the model\n",
        "    outputs = model.generate(input_ids=input_ids, max_new_tokens=100, do_sample=True, top_p=0.9, temperature=0.9)\n",
        "\n",
        "    # Decode the generated instruction\n",
        "    generated_response = tokenizer.batch_decode(outputs.detach().cpu().numpy(), skip_special_tokens=True)[0][len(prompt):]\n",
        "\n",
        "    # Store the prompt, generated instruction, and ground truth in the results list\n",
        "    results.append({\n",
        "        \"Prompt\": sample['Context'],\n",
        "        \"Generated Response\": generated_response,\n",
        "        \"Ground Truth\": sample['Response']\n",
        "    })\n",
        "\n",
        "    # Print the results for each sample\n",
        "    print(f\"Prompt:\\n{sample['Context']}\\n\")\n",
        "    print(f\"Generated response:\\n{generated_response}\")\n",
        "    print(f\"Ground truth:\\n{sample['Response']}\")\n",
        "    print(\"-----------------------------------------------------\")\n",
        "\n",
        "\n"
      ]
    },
    {
      "cell_type": "code",
      "execution_count": 56,
      "metadata": {
        "colab": {
          "base_uri": "https://localhost:8080/"
        },
        "id": "H0IE1VckwIDl",
        "outputId": "d42b2dd5-551a-4d04-fa16-01c6373d43f9"
      },
      "outputs": [
        {
          "output_type": "stream",
          "name": "stdout",
          "text": [
            "time: 274 ms (started: 2024-03-06 18:23:15 +00:00)\n"
          ]
        }
      ],
      "source": [
        "# Convert the results list to a DataFrame\n",
        "results_df = pd.DataFrame(results)\n",
        "\n",
        "# Save the results to an Excel file\n",
        "results_df.to_excel(\"test_results.xlsx\", index=False)"
      ]
    },
    {
      "cell_type": "code",
      "execution_count": null,
      "metadata": {
        "id": "GTRSVo3_iO2Z"
      },
      "outputs": [],
      "source": []
    }
  ],
  "metadata": {
    "accelerator": "GPU",
    "colab": {
      "gpuType": "A100",
      "machine_shape": "hm",
      "provenance": []
    },
    "kernelspec": {
      "display_name": "Python 3",
      "name": "python3"
    },
    "language_info": {
      "name": "python"
    },
    "widgets": {
      "application/vnd.jupyter.widget-state+json": {
        "8895ecc1460f4ae8b3423f168caeac07": {
          "model_module": "@jupyter-widgets/controls",
          "model_name": "HBoxModel",
          "model_module_version": "1.5.0",
          "state": {
            "_dom_classes": [],
            "_model_module": "@jupyter-widgets/controls",
            "_model_module_version": "1.5.0",
            "_model_name": "HBoxModel",
            "_view_count": null,
            "_view_module": "@jupyter-widgets/controls",
            "_view_module_version": "1.5.0",
            "_view_name": "HBoxView",
            "box_style": "",
            "children": [
              "IPY_MODEL_f236b1d11f074d1c94ada15f20b609f3",
              "IPY_MODEL_7af5da24cb434cbeb7e344e02fd8099a",
              "IPY_MODEL_e06ae0985eb24663a955c11c55d3b870"
            ],
            "layout": "IPY_MODEL_69a18e1854f44583ac00064123cc918f"
          }
        },
        "f236b1d11f074d1c94ada15f20b609f3": {
          "model_module": "@jupyter-widgets/controls",
          "model_name": "HTMLModel",
          "model_module_version": "1.5.0",
          "state": {
            "_dom_classes": [],
            "_model_module": "@jupyter-widgets/controls",
            "_model_module_version": "1.5.0",
            "_model_name": "HTMLModel",
            "_view_count": null,
            "_view_module": "@jupyter-widgets/controls",
            "_view_module_version": "1.5.0",
            "_view_name": "HTMLView",
            "description": "",
            "description_tooltip": null,
            "layout": "IPY_MODEL_e3e3c0f92d264265b8c65c53d504d3cb",
            "placeholder": "​",
            "style": "IPY_MODEL_9a752630f25a43cb9163118415c2c30a",
            "value": "Downloading readme: 100%"
          }
        },
        "7af5da24cb434cbeb7e344e02fd8099a": {
          "model_module": "@jupyter-widgets/controls",
          "model_name": "FloatProgressModel",
          "model_module_version": "1.5.0",
          "state": {
            "_dom_classes": [],
            "_model_module": "@jupyter-widgets/controls",
            "_model_module_version": "1.5.0",
            "_model_name": "FloatProgressModel",
            "_view_count": null,
            "_view_module": "@jupyter-widgets/controls",
            "_view_module_version": "1.5.0",
            "_view_name": "ProgressView",
            "bar_style": "success",
            "description": "",
            "description_tooltip": null,
            "layout": "IPY_MODEL_ac19ffb8fecf45e8b434d95cc18aec26",
            "max": 3015,
            "min": 0,
            "orientation": "horizontal",
            "style": "IPY_MODEL_5a73ca548d25469ca93507560baed790",
            "value": 3015
          }
        },
        "e06ae0985eb24663a955c11c55d3b870": {
          "model_module": "@jupyter-widgets/controls",
          "model_name": "HTMLModel",
          "model_module_version": "1.5.0",
          "state": {
            "_dom_classes": [],
            "_model_module": "@jupyter-widgets/controls",
            "_model_module_version": "1.5.0",
            "_model_name": "HTMLModel",
            "_view_count": null,
            "_view_module": "@jupyter-widgets/controls",
            "_view_module_version": "1.5.0",
            "_view_name": "HTMLView",
            "description": "",
            "description_tooltip": null,
            "layout": "IPY_MODEL_5d7ed2742d544aed8569c16aee5b7469",
            "placeholder": "​",
            "style": "IPY_MODEL_85954fe6df0a44d69b4dd09f96de4d27",
            "value": " 3.02k/3.02k [00:00&lt;00:00, 238kB/s]"
          }
        },
        "69a18e1854f44583ac00064123cc918f": {
          "model_module": "@jupyter-widgets/base",
          "model_name": "LayoutModel",
          "model_module_version": "1.2.0",
          "state": {
            "_model_module": "@jupyter-widgets/base",
            "_model_module_version": "1.2.0",
            "_model_name": "LayoutModel",
            "_view_count": null,
            "_view_module": "@jupyter-widgets/base",
            "_view_module_version": "1.2.0",
            "_view_name": "LayoutView",
            "align_content": null,
            "align_items": null,
            "align_self": null,
            "border": null,
            "bottom": null,
            "display": null,
            "flex": null,
            "flex_flow": null,
            "grid_area": null,
            "grid_auto_columns": null,
            "grid_auto_flow": null,
            "grid_auto_rows": null,
            "grid_column": null,
            "grid_gap": null,
            "grid_row": null,
            "grid_template_areas": null,
            "grid_template_columns": null,
            "grid_template_rows": null,
            "height": null,
            "justify_content": null,
            "justify_items": null,
            "left": null,
            "margin": null,
            "max_height": null,
            "max_width": null,
            "min_height": null,
            "min_width": null,
            "object_fit": null,
            "object_position": null,
            "order": null,
            "overflow": null,
            "overflow_x": null,
            "overflow_y": null,
            "padding": null,
            "right": null,
            "top": null,
            "visibility": null,
            "width": null
          }
        },
        "e3e3c0f92d264265b8c65c53d504d3cb": {
          "model_module": "@jupyter-widgets/base",
          "model_name": "LayoutModel",
          "model_module_version": "1.2.0",
          "state": {
            "_model_module": "@jupyter-widgets/base",
            "_model_module_version": "1.2.0",
            "_model_name": "LayoutModel",
            "_view_count": null,
            "_view_module": "@jupyter-widgets/base",
            "_view_module_version": "1.2.0",
            "_view_name": "LayoutView",
            "align_content": null,
            "align_items": null,
            "align_self": null,
            "border": null,
            "bottom": null,
            "display": null,
            "flex": null,
            "flex_flow": null,
            "grid_area": null,
            "grid_auto_columns": null,
            "grid_auto_flow": null,
            "grid_auto_rows": null,
            "grid_column": null,
            "grid_gap": null,
            "grid_row": null,
            "grid_template_areas": null,
            "grid_template_columns": null,
            "grid_template_rows": null,
            "height": null,
            "justify_content": null,
            "justify_items": null,
            "left": null,
            "margin": null,
            "max_height": null,
            "max_width": null,
            "min_height": null,
            "min_width": null,
            "object_fit": null,
            "object_position": null,
            "order": null,
            "overflow": null,
            "overflow_x": null,
            "overflow_y": null,
            "padding": null,
            "right": null,
            "top": null,
            "visibility": null,
            "width": null
          }
        },
        "9a752630f25a43cb9163118415c2c30a": {
          "model_module": "@jupyter-widgets/controls",
          "model_name": "DescriptionStyleModel",
          "model_module_version": "1.5.0",
          "state": {
            "_model_module": "@jupyter-widgets/controls",
            "_model_module_version": "1.5.0",
            "_model_name": "DescriptionStyleModel",
            "_view_count": null,
            "_view_module": "@jupyter-widgets/base",
            "_view_module_version": "1.2.0",
            "_view_name": "StyleView",
            "description_width": ""
          }
        },
        "ac19ffb8fecf45e8b434d95cc18aec26": {
          "model_module": "@jupyter-widgets/base",
          "model_name": "LayoutModel",
          "model_module_version": "1.2.0",
          "state": {
            "_model_module": "@jupyter-widgets/base",
            "_model_module_version": "1.2.0",
            "_model_name": "LayoutModel",
            "_view_count": null,
            "_view_module": "@jupyter-widgets/base",
            "_view_module_version": "1.2.0",
            "_view_name": "LayoutView",
            "align_content": null,
            "align_items": null,
            "align_self": null,
            "border": null,
            "bottom": null,
            "display": null,
            "flex": null,
            "flex_flow": null,
            "grid_area": null,
            "grid_auto_columns": null,
            "grid_auto_flow": null,
            "grid_auto_rows": null,
            "grid_column": null,
            "grid_gap": null,
            "grid_row": null,
            "grid_template_areas": null,
            "grid_template_columns": null,
            "grid_template_rows": null,
            "height": null,
            "justify_content": null,
            "justify_items": null,
            "left": null,
            "margin": null,
            "max_height": null,
            "max_width": null,
            "min_height": null,
            "min_width": null,
            "object_fit": null,
            "object_position": null,
            "order": null,
            "overflow": null,
            "overflow_x": null,
            "overflow_y": null,
            "padding": null,
            "right": null,
            "top": null,
            "visibility": null,
            "width": null
          }
        },
        "5a73ca548d25469ca93507560baed790": {
          "model_module": "@jupyter-widgets/controls",
          "model_name": "ProgressStyleModel",
          "model_module_version": "1.5.0",
          "state": {
            "_model_module": "@jupyter-widgets/controls",
            "_model_module_version": "1.5.0",
            "_model_name": "ProgressStyleModel",
            "_view_count": null,
            "_view_module": "@jupyter-widgets/base",
            "_view_module_version": "1.2.0",
            "_view_name": "StyleView",
            "bar_color": null,
            "description_width": ""
          }
        },
        "5d7ed2742d544aed8569c16aee5b7469": {
          "model_module": "@jupyter-widgets/base",
          "model_name": "LayoutModel",
          "model_module_version": "1.2.0",
          "state": {
            "_model_module": "@jupyter-widgets/base",
            "_model_module_version": "1.2.0",
            "_model_name": "LayoutModel",
            "_view_count": null,
            "_view_module": "@jupyter-widgets/base",
            "_view_module_version": "1.2.0",
            "_view_name": "LayoutView",
            "align_content": null,
            "align_items": null,
            "align_self": null,
            "border": null,
            "bottom": null,
            "display": null,
            "flex": null,
            "flex_flow": null,
            "grid_area": null,
            "grid_auto_columns": null,
            "grid_auto_flow": null,
            "grid_auto_rows": null,
            "grid_column": null,
            "grid_gap": null,
            "grid_row": null,
            "grid_template_areas": null,
            "grid_template_columns": null,
            "grid_template_rows": null,
            "height": null,
            "justify_content": null,
            "justify_items": null,
            "left": null,
            "margin": null,
            "max_height": null,
            "max_width": null,
            "min_height": null,
            "min_width": null,
            "object_fit": null,
            "object_position": null,
            "order": null,
            "overflow": null,
            "overflow_x": null,
            "overflow_y": null,
            "padding": null,
            "right": null,
            "top": null,
            "visibility": null,
            "width": null
          }
        },
        "85954fe6df0a44d69b4dd09f96de4d27": {
          "model_module": "@jupyter-widgets/controls",
          "model_name": "DescriptionStyleModel",
          "model_module_version": "1.5.0",
          "state": {
            "_model_module": "@jupyter-widgets/controls",
            "_model_module_version": "1.5.0",
            "_model_name": "DescriptionStyleModel",
            "_view_count": null,
            "_view_module": "@jupyter-widgets/base",
            "_view_module_version": "1.2.0",
            "_view_name": "StyleView",
            "description_width": ""
          }
        },
        "5fc883dae5bd45688314c7e8566d9c8b": {
          "model_module": "@jupyter-widgets/controls",
          "model_name": "HBoxModel",
          "model_module_version": "1.5.0",
          "state": {
            "_dom_classes": [],
            "_model_module": "@jupyter-widgets/controls",
            "_model_module_version": "1.5.0",
            "_model_name": "HBoxModel",
            "_view_count": null,
            "_view_module": "@jupyter-widgets/controls",
            "_view_module_version": "1.5.0",
            "_view_name": "HBoxView",
            "box_style": "",
            "children": [
              "IPY_MODEL_0d4c8dcb53dd43a1950eb6489e237f3c",
              "IPY_MODEL_047b6592590a4ff0a4b133128e6b7f65",
              "IPY_MODEL_e7bdfbf6a15947378e9b5cec5066bd11"
            ],
            "layout": "IPY_MODEL_4854c01dd09b49759ed76a2150a87503"
          }
        },
        "0d4c8dcb53dd43a1950eb6489e237f3c": {
          "model_module": "@jupyter-widgets/controls",
          "model_name": "HTMLModel",
          "model_module_version": "1.5.0",
          "state": {
            "_dom_classes": [],
            "_model_module": "@jupyter-widgets/controls",
            "_model_module_version": "1.5.0",
            "_model_name": "HTMLModel",
            "_view_count": null,
            "_view_module": "@jupyter-widgets/controls",
            "_view_module_version": "1.5.0",
            "_view_name": "HTMLView",
            "description": "",
            "description_tooltip": null,
            "layout": "IPY_MODEL_ba257ecaad824e12b0c63a4b9b50d779",
            "placeholder": "​",
            "style": "IPY_MODEL_e4de7bf6929f4804a2e62d506d3fedb3",
            "value": "Downloading data: 100%"
          }
        },
        "047b6592590a4ff0a4b133128e6b7f65": {
          "model_module": "@jupyter-widgets/controls",
          "model_name": "FloatProgressModel",
          "model_module_version": "1.5.0",
          "state": {
            "_dom_classes": [],
            "_model_module": "@jupyter-widgets/controls",
            "_model_module_version": "1.5.0",
            "_model_name": "FloatProgressModel",
            "_view_count": null,
            "_view_module": "@jupyter-widgets/controls",
            "_view_module_version": "1.5.0",
            "_view_name": "ProgressView",
            "bar_style": "success",
            "description": "",
            "description_tooltip": null,
            "layout": "IPY_MODEL_59265115e16a47fda829ed2a367e882a",
            "max": 4790520,
            "min": 0,
            "orientation": "horizontal",
            "style": "IPY_MODEL_2277bd80f21247128d3af49459bab846",
            "value": 4790520
          }
        },
        "e7bdfbf6a15947378e9b5cec5066bd11": {
          "model_module": "@jupyter-widgets/controls",
          "model_name": "HTMLModel",
          "model_module_version": "1.5.0",
          "state": {
            "_dom_classes": [],
            "_model_module": "@jupyter-widgets/controls",
            "_model_module_version": "1.5.0",
            "_model_name": "HTMLModel",
            "_view_count": null,
            "_view_module": "@jupyter-widgets/controls",
            "_view_module_version": "1.5.0",
            "_view_name": "HTMLView",
            "description": "",
            "description_tooltip": null,
            "layout": "IPY_MODEL_ecef0f36862b4783954081e23eca6187",
            "placeholder": "​",
            "style": "IPY_MODEL_546e0c6d569040ae986cb238b8ef4a48",
            "value": " 4.79M/4.79M [00:00&lt;00:00, 9.36MB/s]"
          }
        },
        "4854c01dd09b49759ed76a2150a87503": {
          "model_module": "@jupyter-widgets/base",
          "model_name": "LayoutModel",
          "model_module_version": "1.2.0",
          "state": {
            "_model_module": "@jupyter-widgets/base",
            "_model_module_version": "1.2.0",
            "_model_name": "LayoutModel",
            "_view_count": null,
            "_view_module": "@jupyter-widgets/base",
            "_view_module_version": "1.2.0",
            "_view_name": "LayoutView",
            "align_content": null,
            "align_items": null,
            "align_self": null,
            "border": null,
            "bottom": null,
            "display": null,
            "flex": null,
            "flex_flow": null,
            "grid_area": null,
            "grid_auto_columns": null,
            "grid_auto_flow": null,
            "grid_auto_rows": null,
            "grid_column": null,
            "grid_gap": null,
            "grid_row": null,
            "grid_template_areas": null,
            "grid_template_columns": null,
            "grid_template_rows": null,
            "height": null,
            "justify_content": null,
            "justify_items": null,
            "left": null,
            "margin": null,
            "max_height": null,
            "max_width": null,
            "min_height": null,
            "min_width": null,
            "object_fit": null,
            "object_position": null,
            "order": null,
            "overflow": null,
            "overflow_x": null,
            "overflow_y": null,
            "padding": null,
            "right": null,
            "top": null,
            "visibility": null,
            "width": null
          }
        },
        "ba257ecaad824e12b0c63a4b9b50d779": {
          "model_module": "@jupyter-widgets/base",
          "model_name": "LayoutModel",
          "model_module_version": "1.2.0",
          "state": {
            "_model_module": "@jupyter-widgets/base",
            "_model_module_version": "1.2.0",
            "_model_name": "LayoutModel",
            "_view_count": null,
            "_view_module": "@jupyter-widgets/base",
            "_view_module_version": "1.2.0",
            "_view_name": "LayoutView",
            "align_content": null,
            "align_items": null,
            "align_self": null,
            "border": null,
            "bottom": null,
            "display": null,
            "flex": null,
            "flex_flow": null,
            "grid_area": null,
            "grid_auto_columns": null,
            "grid_auto_flow": null,
            "grid_auto_rows": null,
            "grid_column": null,
            "grid_gap": null,
            "grid_row": null,
            "grid_template_areas": null,
            "grid_template_columns": null,
            "grid_template_rows": null,
            "height": null,
            "justify_content": null,
            "justify_items": null,
            "left": null,
            "margin": null,
            "max_height": null,
            "max_width": null,
            "min_height": null,
            "min_width": null,
            "object_fit": null,
            "object_position": null,
            "order": null,
            "overflow": null,
            "overflow_x": null,
            "overflow_y": null,
            "padding": null,
            "right": null,
            "top": null,
            "visibility": null,
            "width": null
          }
        },
        "e4de7bf6929f4804a2e62d506d3fedb3": {
          "model_module": "@jupyter-widgets/controls",
          "model_name": "DescriptionStyleModel",
          "model_module_version": "1.5.0",
          "state": {
            "_model_module": "@jupyter-widgets/controls",
            "_model_module_version": "1.5.0",
            "_model_name": "DescriptionStyleModel",
            "_view_count": null,
            "_view_module": "@jupyter-widgets/base",
            "_view_module_version": "1.2.0",
            "_view_name": "StyleView",
            "description_width": ""
          }
        },
        "59265115e16a47fda829ed2a367e882a": {
          "model_module": "@jupyter-widgets/base",
          "model_name": "LayoutModel",
          "model_module_version": "1.2.0",
          "state": {
            "_model_module": "@jupyter-widgets/base",
            "_model_module_version": "1.2.0",
            "_model_name": "LayoutModel",
            "_view_count": null,
            "_view_module": "@jupyter-widgets/base",
            "_view_module_version": "1.2.0",
            "_view_name": "LayoutView",
            "align_content": null,
            "align_items": null,
            "align_self": null,
            "border": null,
            "bottom": null,
            "display": null,
            "flex": null,
            "flex_flow": null,
            "grid_area": null,
            "grid_auto_columns": null,
            "grid_auto_flow": null,
            "grid_auto_rows": null,
            "grid_column": null,
            "grid_gap": null,
            "grid_row": null,
            "grid_template_areas": null,
            "grid_template_columns": null,
            "grid_template_rows": null,
            "height": null,
            "justify_content": null,
            "justify_items": null,
            "left": null,
            "margin": null,
            "max_height": null,
            "max_width": null,
            "min_height": null,
            "min_width": null,
            "object_fit": null,
            "object_position": null,
            "order": null,
            "overflow": null,
            "overflow_x": null,
            "overflow_y": null,
            "padding": null,
            "right": null,
            "top": null,
            "visibility": null,
            "width": null
          }
        },
        "2277bd80f21247128d3af49459bab846": {
          "model_module": "@jupyter-widgets/controls",
          "model_name": "ProgressStyleModel",
          "model_module_version": "1.5.0",
          "state": {
            "_model_module": "@jupyter-widgets/controls",
            "_model_module_version": "1.5.0",
            "_model_name": "ProgressStyleModel",
            "_view_count": null,
            "_view_module": "@jupyter-widgets/base",
            "_view_module_version": "1.2.0",
            "_view_name": "StyleView",
            "bar_color": null,
            "description_width": ""
          }
        },
        "ecef0f36862b4783954081e23eca6187": {
          "model_module": "@jupyter-widgets/base",
          "model_name": "LayoutModel",
          "model_module_version": "1.2.0",
          "state": {
            "_model_module": "@jupyter-widgets/base",
            "_model_module_version": "1.2.0",
            "_model_name": "LayoutModel",
            "_view_count": null,
            "_view_module": "@jupyter-widgets/base",
            "_view_module_version": "1.2.0",
            "_view_name": "LayoutView",
            "align_content": null,
            "align_items": null,
            "align_self": null,
            "border": null,
            "bottom": null,
            "display": null,
            "flex": null,
            "flex_flow": null,
            "grid_area": null,
            "grid_auto_columns": null,
            "grid_auto_flow": null,
            "grid_auto_rows": null,
            "grid_column": null,
            "grid_gap": null,
            "grid_row": null,
            "grid_template_areas": null,
            "grid_template_columns": null,
            "grid_template_rows": null,
            "height": null,
            "justify_content": null,
            "justify_items": null,
            "left": null,
            "margin": null,
            "max_height": null,
            "max_width": null,
            "min_height": null,
            "min_width": null,
            "object_fit": null,
            "object_position": null,
            "order": null,
            "overflow": null,
            "overflow_x": null,
            "overflow_y": null,
            "padding": null,
            "right": null,
            "top": null,
            "visibility": null,
            "width": null
          }
        },
        "546e0c6d569040ae986cb238b8ef4a48": {
          "model_module": "@jupyter-widgets/controls",
          "model_name": "DescriptionStyleModel",
          "model_module_version": "1.5.0",
          "state": {
            "_model_module": "@jupyter-widgets/controls",
            "_model_module_version": "1.5.0",
            "_model_name": "DescriptionStyleModel",
            "_view_count": null,
            "_view_module": "@jupyter-widgets/base",
            "_view_module_version": "1.2.0",
            "_view_name": "StyleView",
            "description_width": ""
          }
        },
        "a33cae16e76643d18abc57d8e794f307": {
          "model_module": "@jupyter-widgets/controls",
          "model_name": "HBoxModel",
          "model_module_version": "1.5.0",
          "state": {
            "_dom_classes": [],
            "_model_module": "@jupyter-widgets/controls",
            "_model_module_version": "1.5.0",
            "_model_name": "HBoxModel",
            "_view_count": null,
            "_view_module": "@jupyter-widgets/controls",
            "_view_module_version": "1.5.0",
            "_view_name": "HBoxView",
            "box_style": "",
            "children": [
              "IPY_MODEL_0393761d702a4f42a1ea40ba586b8cf3",
              "IPY_MODEL_3edff5be6168452cb31f327bd8b4a2ff",
              "IPY_MODEL_cd93746bd17d4a009c0250bde837aa4c"
            ],
            "layout": "IPY_MODEL_0612f43aa4a441d29624651a988f82b3"
          }
        },
        "0393761d702a4f42a1ea40ba586b8cf3": {
          "model_module": "@jupyter-widgets/controls",
          "model_name": "HTMLModel",
          "model_module_version": "1.5.0",
          "state": {
            "_dom_classes": [],
            "_model_module": "@jupyter-widgets/controls",
            "_model_module_version": "1.5.0",
            "_model_name": "HTMLModel",
            "_view_count": null,
            "_view_module": "@jupyter-widgets/controls",
            "_view_module_version": "1.5.0",
            "_view_name": "HTMLView",
            "description": "",
            "description_tooltip": null,
            "layout": "IPY_MODEL_be38f36d542940839d9dfa3cfa839073",
            "placeholder": "​",
            "style": "IPY_MODEL_379e107393034bdcb2727331f9e18f5a",
            "value": "Generating train split: 100%"
          }
        },
        "3edff5be6168452cb31f327bd8b4a2ff": {
          "model_module": "@jupyter-widgets/controls",
          "model_name": "FloatProgressModel",
          "model_module_version": "1.5.0",
          "state": {
            "_dom_classes": [],
            "_model_module": "@jupyter-widgets/controls",
            "_model_module_version": "1.5.0",
            "_model_name": "FloatProgressModel",
            "_view_count": null,
            "_view_module": "@jupyter-widgets/controls",
            "_view_module_version": "1.5.0",
            "_view_name": "ProgressView",
            "bar_style": "success",
            "description": "",
            "description_tooltip": null,
            "layout": "IPY_MODEL_e11a2ac533d14384b9918b9af3efe724",
            "max": 3512,
            "min": 0,
            "orientation": "horizontal",
            "style": "IPY_MODEL_e4ebe89b66e945bd9fa3147a0f69e3a0",
            "value": 3512
          }
        },
        "cd93746bd17d4a009c0250bde837aa4c": {
          "model_module": "@jupyter-widgets/controls",
          "model_name": "HTMLModel",
          "model_module_version": "1.5.0",
          "state": {
            "_dom_classes": [],
            "_model_module": "@jupyter-widgets/controls",
            "_model_module_version": "1.5.0",
            "_model_name": "HTMLModel",
            "_view_count": null,
            "_view_module": "@jupyter-widgets/controls",
            "_view_module_version": "1.5.0",
            "_view_name": "HTMLView",
            "description": "",
            "description_tooltip": null,
            "layout": "IPY_MODEL_2d261f7257b14bca99048b5ed1ab065b",
            "placeholder": "​",
            "style": "IPY_MODEL_224945c43b024e79817ac0fe75ac365b",
            "value": " 3512/3512 [00:00&lt;00:00, 78642.22 examples/s]"
          }
        },
        "0612f43aa4a441d29624651a988f82b3": {
          "model_module": "@jupyter-widgets/base",
          "model_name": "LayoutModel",
          "model_module_version": "1.2.0",
          "state": {
            "_model_module": "@jupyter-widgets/base",
            "_model_module_version": "1.2.0",
            "_model_name": "LayoutModel",
            "_view_count": null,
            "_view_module": "@jupyter-widgets/base",
            "_view_module_version": "1.2.0",
            "_view_name": "LayoutView",
            "align_content": null,
            "align_items": null,
            "align_self": null,
            "border": null,
            "bottom": null,
            "display": null,
            "flex": null,
            "flex_flow": null,
            "grid_area": null,
            "grid_auto_columns": null,
            "grid_auto_flow": null,
            "grid_auto_rows": null,
            "grid_column": null,
            "grid_gap": null,
            "grid_row": null,
            "grid_template_areas": null,
            "grid_template_columns": null,
            "grid_template_rows": null,
            "height": null,
            "justify_content": null,
            "justify_items": null,
            "left": null,
            "margin": null,
            "max_height": null,
            "max_width": null,
            "min_height": null,
            "min_width": null,
            "object_fit": null,
            "object_position": null,
            "order": null,
            "overflow": null,
            "overflow_x": null,
            "overflow_y": null,
            "padding": null,
            "right": null,
            "top": null,
            "visibility": null,
            "width": null
          }
        },
        "be38f36d542940839d9dfa3cfa839073": {
          "model_module": "@jupyter-widgets/base",
          "model_name": "LayoutModel",
          "model_module_version": "1.2.0",
          "state": {
            "_model_module": "@jupyter-widgets/base",
            "_model_module_version": "1.2.0",
            "_model_name": "LayoutModel",
            "_view_count": null,
            "_view_module": "@jupyter-widgets/base",
            "_view_module_version": "1.2.0",
            "_view_name": "LayoutView",
            "align_content": null,
            "align_items": null,
            "align_self": null,
            "border": null,
            "bottom": null,
            "display": null,
            "flex": null,
            "flex_flow": null,
            "grid_area": null,
            "grid_auto_columns": null,
            "grid_auto_flow": null,
            "grid_auto_rows": null,
            "grid_column": null,
            "grid_gap": null,
            "grid_row": null,
            "grid_template_areas": null,
            "grid_template_columns": null,
            "grid_template_rows": null,
            "height": null,
            "justify_content": null,
            "justify_items": null,
            "left": null,
            "margin": null,
            "max_height": null,
            "max_width": null,
            "min_height": null,
            "min_width": null,
            "object_fit": null,
            "object_position": null,
            "order": null,
            "overflow": null,
            "overflow_x": null,
            "overflow_y": null,
            "padding": null,
            "right": null,
            "top": null,
            "visibility": null,
            "width": null
          }
        },
        "379e107393034bdcb2727331f9e18f5a": {
          "model_module": "@jupyter-widgets/controls",
          "model_name": "DescriptionStyleModel",
          "model_module_version": "1.5.0",
          "state": {
            "_model_module": "@jupyter-widgets/controls",
            "_model_module_version": "1.5.0",
            "_model_name": "DescriptionStyleModel",
            "_view_count": null,
            "_view_module": "@jupyter-widgets/base",
            "_view_module_version": "1.2.0",
            "_view_name": "StyleView",
            "description_width": ""
          }
        },
        "e11a2ac533d14384b9918b9af3efe724": {
          "model_module": "@jupyter-widgets/base",
          "model_name": "LayoutModel",
          "model_module_version": "1.2.0",
          "state": {
            "_model_module": "@jupyter-widgets/base",
            "_model_module_version": "1.2.0",
            "_model_name": "LayoutModel",
            "_view_count": null,
            "_view_module": "@jupyter-widgets/base",
            "_view_module_version": "1.2.0",
            "_view_name": "LayoutView",
            "align_content": null,
            "align_items": null,
            "align_self": null,
            "border": null,
            "bottom": null,
            "display": null,
            "flex": null,
            "flex_flow": null,
            "grid_area": null,
            "grid_auto_columns": null,
            "grid_auto_flow": null,
            "grid_auto_rows": null,
            "grid_column": null,
            "grid_gap": null,
            "grid_row": null,
            "grid_template_areas": null,
            "grid_template_columns": null,
            "grid_template_rows": null,
            "height": null,
            "justify_content": null,
            "justify_items": null,
            "left": null,
            "margin": null,
            "max_height": null,
            "max_width": null,
            "min_height": null,
            "min_width": null,
            "object_fit": null,
            "object_position": null,
            "order": null,
            "overflow": null,
            "overflow_x": null,
            "overflow_y": null,
            "padding": null,
            "right": null,
            "top": null,
            "visibility": null,
            "width": null
          }
        },
        "e4ebe89b66e945bd9fa3147a0f69e3a0": {
          "model_module": "@jupyter-widgets/controls",
          "model_name": "ProgressStyleModel",
          "model_module_version": "1.5.0",
          "state": {
            "_model_module": "@jupyter-widgets/controls",
            "_model_module_version": "1.5.0",
            "_model_name": "ProgressStyleModel",
            "_view_count": null,
            "_view_module": "@jupyter-widgets/base",
            "_view_module_version": "1.2.0",
            "_view_name": "StyleView",
            "bar_color": null,
            "description_width": ""
          }
        },
        "2d261f7257b14bca99048b5ed1ab065b": {
          "model_module": "@jupyter-widgets/base",
          "model_name": "LayoutModel",
          "model_module_version": "1.2.0",
          "state": {
            "_model_module": "@jupyter-widgets/base",
            "_model_module_version": "1.2.0",
            "_model_name": "LayoutModel",
            "_view_count": null,
            "_view_module": "@jupyter-widgets/base",
            "_view_module_version": "1.2.0",
            "_view_name": "LayoutView",
            "align_content": null,
            "align_items": null,
            "align_self": null,
            "border": null,
            "bottom": null,
            "display": null,
            "flex": null,
            "flex_flow": null,
            "grid_area": null,
            "grid_auto_columns": null,
            "grid_auto_flow": null,
            "grid_auto_rows": null,
            "grid_column": null,
            "grid_gap": null,
            "grid_row": null,
            "grid_template_areas": null,
            "grid_template_columns": null,
            "grid_template_rows": null,
            "height": null,
            "justify_content": null,
            "justify_items": null,
            "left": null,
            "margin": null,
            "max_height": null,
            "max_width": null,
            "min_height": null,
            "min_width": null,
            "object_fit": null,
            "object_position": null,
            "order": null,
            "overflow": null,
            "overflow_x": null,
            "overflow_y": null,
            "padding": null,
            "right": null,
            "top": null,
            "visibility": null,
            "width": null
          }
        },
        "224945c43b024e79817ac0fe75ac365b": {
          "model_module": "@jupyter-widgets/controls",
          "model_name": "DescriptionStyleModel",
          "model_module_version": "1.5.0",
          "state": {
            "_model_module": "@jupyter-widgets/controls",
            "_model_module_version": "1.5.0",
            "_model_name": "DescriptionStyleModel",
            "_view_count": null,
            "_view_module": "@jupyter-widgets/base",
            "_view_module_version": "1.2.0",
            "_view_name": "StyleView",
            "description_width": ""
          }
        },
        "68e67676257e48008884c75aa57a7182": {
          "model_module": "@jupyter-widgets/controls",
          "model_name": "HBoxModel",
          "model_module_version": "1.5.0",
          "state": {
            "_dom_classes": [],
            "_model_module": "@jupyter-widgets/controls",
            "_model_module_version": "1.5.0",
            "_model_name": "HBoxModel",
            "_view_count": null,
            "_view_module": "@jupyter-widgets/controls",
            "_view_module_version": "1.5.0",
            "_view_name": "HBoxView",
            "box_style": "",
            "children": [
              "IPY_MODEL_eae79689da9c4decb97c26ecb201666f",
              "IPY_MODEL_bd838dd4926549fba7fa92a849a5bc3a",
              "IPY_MODEL_3160f7efd9da4858b487b3a93abeda9e"
            ],
            "layout": "IPY_MODEL_afd7b92b5dbb4b2189e6a09a8e6b1df1"
          }
        },
        "eae79689da9c4decb97c26ecb201666f": {
          "model_module": "@jupyter-widgets/controls",
          "model_name": "HTMLModel",
          "model_module_version": "1.5.0",
          "state": {
            "_dom_classes": [],
            "_model_module": "@jupyter-widgets/controls",
            "_model_module_version": "1.5.0",
            "_model_name": "HTMLModel",
            "_view_count": null,
            "_view_module": "@jupyter-widgets/controls",
            "_view_module_version": "1.5.0",
            "_view_name": "HTMLView",
            "description": "",
            "description_tooltip": null,
            "layout": "IPY_MODEL_23f2817f536d4520b467059b875caf10",
            "placeholder": "​",
            "style": "IPY_MODEL_489d9804969c4e638837d88b26c466eb",
            "value": "config.json: 100%"
          }
        },
        "bd838dd4926549fba7fa92a849a5bc3a": {
          "model_module": "@jupyter-widgets/controls",
          "model_name": "FloatProgressModel",
          "model_module_version": "1.5.0",
          "state": {
            "_dom_classes": [],
            "_model_module": "@jupyter-widgets/controls",
            "_model_module_version": "1.5.0",
            "_model_name": "FloatProgressModel",
            "_view_count": null,
            "_view_module": "@jupyter-widgets/controls",
            "_view_module_version": "1.5.0",
            "_view_name": "ProgressView",
            "bar_style": "success",
            "description": "",
            "description_tooltip": null,
            "layout": "IPY_MODEL_273512cdf92d4c88b2139074b99a3eee",
            "max": 583,
            "min": 0,
            "orientation": "horizontal",
            "style": "IPY_MODEL_0cec6a550e524c028d1416dc80bc2b92",
            "value": 583
          }
        },
        "3160f7efd9da4858b487b3a93abeda9e": {
          "model_module": "@jupyter-widgets/controls",
          "model_name": "HTMLModel",
          "model_module_version": "1.5.0",
          "state": {
            "_dom_classes": [],
            "_model_module": "@jupyter-widgets/controls",
            "_model_module_version": "1.5.0",
            "_model_name": "HTMLModel",
            "_view_count": null,
            "_view_module": "@jupyter-widgets/controls",
            "_view_module_version": "1.5.0",
            "_view_name": "HTMLView",
            "description": "",
            "description_tooltip": null,
            "layout": "IPY_MODEL_72fd4af93eba4842b14ca6ec10cbf7de",
            "placeholder": "​",
            "style": "IPY_MODEL_db9c3a5da86340fbaabf5d7af7e22ebd",
            "value": " 583/583 [00:00&lt;00:00, 49.7kB/s]"
          }
        },
        "afd7b92b5dbb4b2189e6a09a8e6b1df1": {
          "model_module": "@jupyter-widgets/base",
          "model_name": "LayoutModel",
          "model_module_version": "1.2.0",
          "state": {
            "_model_module": "@jupyter-widgets/base",
            "_model_module_version": "1.2.0",
            "_model_name": "LayoutModel",
            "_view_count": null,
            "_view_module": "@jupyter-widgets/base",
            "_view_module_version": "1.2.0",
            "_view_name": "LayoutView",
            "align_content": null,
            "align_items": null,
            "align_self": null,
            "border": null,
            "bottom": null,
            "display": null,
            "flex": null,
            "flex_flow": null,
            "grid_area": null,
            "grid_auto_columns": null,
            "grid_auto_flow": null,
            "grid_auto_rows": null,
            "grid_column": null,
            "grid_gap": null,
            "grid_row": null,
            "grid_template_areas": null,
            "grid_template_columns": null,
            "grid_template_rows": null,
            "height": null,
            "justify_content": null,
            "justify_items": null,
            "left": null,
            "margin": null,
            "max_height": null,
            "max_width": null,
            "min_height": null,
            "min_width": null,
            "object_fit": null,
            "object_position": null,
            "order": null,
            "overflow": null,
            "overflow_x": null,
            "overflow_y": null,
            "padding": null,
            "right": null,
            "top": null,
            "visibility": null,
            "width": null
          }
        },
        "23f2817f536d4520b467059b875caf10": {
          "model_module": "@jupyter-widgets/base",
          "model_name": "LayoutModel",
          "model_module_version": "1.2.0",
          "state": {
            "_model_module": "@jupyter-widgets/base",
            "_model_module_version": "1.2.0",
            "_model_name": "LayoutModel",
            "_view_count": null,
            "_view_module": "@jupyter-widgets/base",
            "_view_module_version": "1.2.0",
            "_view_name": "LayoutView",
            "align_content": null,
            "align_items": null,
            "align_self": null,
            "border": null,
            "bottom": null,
            "display": null,
            "flex": null,
            "flex_flow": null,
            "grid_area": null,
            "grid_auto_columns": null,
            "grid_auto_flow": null,
            "grid_auto_rows": null,
            "grid_column": null,
            "grid_gap": null,
            "grid_row": null,
            "grid_template_areas": null,
            "grid_template_columns": null,
            "grid_template_rows": null,
            "height": null,
            "justify_content": null,
            "justify_items": null,
            "left": null,
            "margin": null,
            "max_height": null,
            "max_width": null,
            "min_height": null,
            "min_width": null,
            "object_fit": null,
            "object_position": null,
            "order": null,
            "overflow": null,
            "overflow_x": null,
            "overflow_y": null,
            "padding": null,
            "right": null,
            "top": null,
            "visibility": null,
            "width": null
          }
        },
        "489d9804969c4e638837d88b26c466eb": {
          "model_module": "@jupyter-widgets/controls",
          "model_name": "DescriptionStyleModel",
          "model_module_version": "1.5.0",
          "state": {
            "_model_module": "@jupyter-widgets/controls",
            "_model_module_version": "1.5.0",
            "_model_name": "DescriptionStyleModel",
            "_view_count": null,
            "_view_module": "@jupyter-widgets/base",
            "_view_module_version": "1.2.0",
            "_view_name": "StyleView",
            "description_width": ""
          }
        },
        "273512cdf92d4c88b2139074b99a3eee": {
          "model_module": "@jupyter-widgets/base",
          "model_name": "LayoutModel",
          "model_module_version": "1.2.0",
          "state": {
            "_model_module": "@jupyter-widgets/base",
            "_model_module_version": "1.2.0",
            "_model_name": "LayoutModel",
            "_view_count": null,
            "_view_module": "@jupyter-widgets/base",
            "_view_module_version": "1.2.0",
            "_view_name": "LayoutView",
            "align_content": null,
            "align_items": null,
            "align_self": null,
            "border": null,
            "bottom": null,
            "display": null,
            "flex": null,
            "flex_flow": null,
            "grid_area": null,
            "grid_auto_columns": null,
            "grid_auto_flow": null,
            "grid_auto_rows": null,
            "grid_column": null,
            "grid_gap": null,
            "grid_row": null,
            "grid_template_areas": null,
            "grid_template_columns": null,
            "grid_template_rows": null,
            "height": null,
            "justify_content": null,
            "justify_items": null,
            "left": null,
            "margin": null,
            "max_height": null,
            "max_width": null,
            "min_height": null,
            "min_width": null,
            "object_fit": null,
            "object_position": null,
            "order": null,
            "overflow": null,
            "overflow_x": null,
            "overflow_y": null,
            "padding": null,
            "right": null,
            "top": null,
            "visibility": null,
            "width": null
          }
        },
        "0cec6a550e524c028d1416dc80bc2b92": {
          "model_module": "@jupyter-widgets/controls",
          "model_name": "ProgressStyleModel",
          "model_module_version": "1.5.0",
          "state": {
            "_model_module": "@jupyter-widgets/controls",
            "_model_module_version": "1.5.0",
            "_model_name": "ProgressStyleModel",
            "_view_count": null,
            "_view_module": "@jupyter-widgets/base",
            "_view_module_version": "1.2.0",
            "_view_name": "StyleView",
            "bar_color": null,
            "description_width": ""
          }
        },
        "72fd4af93eba4842b14ca6ec10cbf7de": {
          "model_module": "@jupyter-widgets/base",
          "model_name": "LayoutModel",
          "model_module_version": "1.2.0",
          "state": {
            "_model_module": "@jupyter-widgets/base",
            "_model_module_version": "1.2.0",
            "_model_name": "LayoutModel",
            "_view_count": null,
            "_view_module": "@jupyter-widgets/base",
            "_view_module_version": "1.2.0",
            "_view_name": "LayoutView",
            "align_content": null,
            "align_items": null,
            "align_self": null,
            "border": null,
            "bottom": null,
            "display": null,
            "flex": null,
            "flex_flow": null,
            "grid_area": null,
            "grid_auto_columns": null,
            "grid_auto_flow": null,
            "grid_auto_rows": null,
            "grid_column": null,
            "grid_gap": null,
            "grid_row": null,
            "grid_template_areas": null,
            "grid_template_columns": null,
            "grid_template_rows": null,
            "height": null,
            "justify_content": null,
            "justify_items": null,
            "left": null,
            "margin": null,
            "max_height": null,
            "max_width": null,
            "min_height": null,
            "min_width": null,
            "object_fit": null,
            "object_position": null,
            "order": null,
            "overflow": null,
            "overflow_x": null,
            "overflow_y": null,
            "padding": null,
            "right": null,
            "top": null,
            "visibility": null,
            "width": null
          }
        },
        "db9c3a5da86340fbaabf5d7af7e22ebd": {
          "model_module": "@jupyter-widgets/controls",
          "model_name": "DescriptionStyleModel",
          "model_module_version": "1.5.0",
          "state": {
            "_model_module": "@jupyter-widgets/controls",
            "_model_module_version": "1.5.0",
            "_model_name": "DescriptionStyleModel",
            "_view_count": null,
            "_view_module": "@jupyter-widgets/base",
            "_view_module_version": "1.2.0",
            "_view_name": "StyleView",
            "description_width": ""
          }
        },
        "11453a4cb5224fb4a71cffa56825ccf1": {
          "model_module": "@jupyter-widgets/controls",
          "model_name": "HBoxModel",
          "model_module_version": "1.5.0",
          "state": {
            "_dom_classes": [],
            "_model_module": "@jupyter-widgets/controls",
            "_model_module_version": "1.5.0",
            "_model_name": "HBoxModel",
            "_view_count": null,
            "_view_module": "@jupyter-widgets/controls",
            "_view_module_version": "1.5.0",
            "_view_name": "HBoxView",
            "box_style": "",
            "children": [
              "IPY_MODEL_60756262cef04b2abeab02224346bdd7",
              "IPY_MODEL_f01a2a2662294f709712aa9c1dbe4c22",
              "IPY_MODEL_045c96f2d6cd493a82bbbf54b2c94e75"
            ],
            "layout": "IPY_MODEL_c3e10215e5474e3d94aa6351924ed72a"
          }
        },
        "60756262cef04b2abeab02224346bdd7": {
          "model_module": "@jupyter-widgets/controls",
          "model_name": "HTMLModel",
          "model_module_version": "1.5.0",
          "state": {
            "_dom_classes": [],
            "_model_module": "@jupyter-widgets/controls",
            "_model_module_version": "1.5.0",
            "_model_name": "HTMLModel",
            "_view_count": null,
            "_view_module": "@jupyter-widgets/controls",
            "_view_module_version": "1.5.0",
            "_view_name": "HTMLView",
            "description": "",
            "description_tooltip": null,
            "layout": "IPY_MODEL_01b00ec4e0124220b1a1938b1fb7b02a",
            "placeholder": "​",
            "style": "IPY_MODEL_3809a56caa1f4bbeafe5aeee8b33af64",
            "value": "model.safetensors.index.json: 100%"
          }
        },
        "f01a2a2662294f709712aa9c1dbe4c22": {
          "model_module": "@jupyter-widgets/controls",
          "model_name": "FloatProgressModel",
          "model_module_version": "1.5.0",
          "state": {
            "_dom_classes": [],
            "_model_module": "@jupyter-widgets/controls",
            "_model_module_version": "1.5.0",
            "_model_name": "FloatProgressModel",
            "_view_count": null,
            "_view_module": "@jupyter-widgets/controls",
            "_view_module_version": "1.5.0",
            "_view_name": "ProgressView",
            "bar_style": "success",
            "description": "",
            "description_tooltip": null,
            "layout": "IPY_MODEL_0073f22c7d9f47459ea2976638d518ad",
            "max": 26788,
            "min": 0,
            "orientation": "horizontal",
            "style": "IPY_MODEL_89c1fc373b8b421983f892c8a969f35a",
            "value": 26788
          }
        },
        "045c96f2d6cd493a82bbbf54b2c94e75": {
          "model_module": "@jupyter-widgets/controls",
          "model_name": "HTMLModel",
          "model_module_version": "1.5.0",
          "state": {
            "_dom_classes": [],
            "_model_module": "@jupyter-widgets/controls",
            "_model_module_version": "1.5.0",
            "_model_name": "HTMLModel",
            "_view_count": null,
            "_view_module": "@jupyter-widgets/controls",
            "_view_module_version": "1.5.0",
            "_view_name": "HTMLView",
            "description": "",
            "description_tooltip": null,
            "layout": "IPY_MODEL_16722988923444809ae203fb8908eb7a",
            "placeholder": "​",
            "style": "IPY_MODEL_3368eefabf6644659726c42623c92556",
            "value": " 26.8k/26.8k [00:00&lt;00:00, 2.49MB/s]"
          }
        },
        "c3e10215e5474e3d94aa6351924ed72a": {
          "model_module": "@jupyter-widgets/base",
          "model_name": "LayoutModel",
          "model_module_version": "1.2.0",
          "state": {
            "_model_module": "@jupyter-widgets/base",
            "_model_module_version": "1.2.0",
            "_model_name": "LayoutModel",
            "_view_count": null,
            "_view_module": "@jupyter-widgets/base",
            "_view_module_version": "1.2.0",
            "_view_name": "LayoutView",
            "align_content": null,
            "align_items": null,
            "align_self": null,
            "border": null,
            "bottom": null,
            "display": null,
            "flex": null,
            "flex_flow": null,
            "grid_area": null,
            "grid_auto_columns": null,
            "grid_auto_flow": null,
            "grid_auto_rows": null,
            "grid_column": null,
            "grid_gap": null,
            "grid_row": null,
            "grid_template_areas": null,
            "grid_template_columns": null,
            "grid_template_rows": null,
            "height": null,
            "justify_content": null,
            "justify_items": null,
            "left": null,
            "margin": null,
            "max_height": null,
            "max_width": null,
            "min_height": null,
            "min_width": null,
            "object_fit": null,
            "object_position": null,
            "order": null,
            "overflow": null,
            "overflow_x": null,
            "overflow_y": null,
            "padding": null,
            "right": null,
            "top": null,
            "visibility": null,
            "width": null
          }
        },
        "01b00ec4e0124220b1a1938b1fb7b02a": {
          "model_module": "@jupyter-widgets/base",
          "model_name": "LayoutModel",
          "model_module_version": "1.2.0",
          "state": {
            "_model_module": "@jupyter-widgets/base",
            "_model_module_version": "1.2.0",
            "_model_name": "LayoutModel",
            "_view_count": null,
            "_view_module": "@jupyter-widgets/base",
            "_view_module_version": "1.2.0",
            "_view_name": "LayoutView",
            "align_content": null,
            "align_items": null,
            "align_self": null,
            "border": null,
            "bottom": null,
            "display": null,
            "flex": null,
            "flex_flow": null,
            "grid_area": null,
            "grid_auto_columns": null,
            "grid_auto_flow": null,
            "grid_auto_rows": null,
            "grid_column": null,
            "grid_gap": null,
            "grid_row": null,
            "grid_template_areas": null,
            "grid_template_columns": null,
            "grid_template_rows": null,
            "height": null,
            "justify_content": null,
            "justify_items": null,
            "left": null,
            "margin": null,
            "max_height": null,
            "max_width": null,
            "min_height": null,
            "min_width": null,
            "object_fit": null,
            "object_position": null,
            "order": null,
            "overflow": null,
            "overflow_x": null,
            "overflow_y": null,
            "padding": null,
            "right": null,
            "top": null,
            "visibility": null,
            "width": null
          }
        },
        "3809a56caa1f4bbeafe5aeee8b33af64": {
          "model_module": "@jupyter-widgets/controls",
          "model_name": "DescriptionStyleModel",
          "model_module_version": "1.5.0",
          "state": {
            "_model_module": "@jupyter-widgets/controls",
            "_model_module_version": "1.5.0",
            "_model_name": "DescriptionStyleModel",
            "_view_count": null,
            "_view_module": "@jupyter-widgets/base",
            "_view_module_version": "1.2.0",
            "_view_name": "StyleView",
            "description_width": ""
          }
        },
        "0073f22c7d9f47459ea2976638d518ad": {
          "model_module": "@jupyter-widgets/base",
          "model_name": "LayoutModel",
          "model_module_version": "1.2.0",
          "state": {
            "_model_module": "@jupyter-widgets/base",
            "_model_module_version": "1.2.0",
            "_model_name": "LayoutModel",
            "_view_count": null,
            "_view_module": "@jupyter-widgets/base",
            "_view_module_version": "1.2.0",
            "_view_name": "LayoutView",
            "align_content": null,
            "align_items": null,
            "align_self": null,
            "border": null,
            "bottom": null,
            "display": null,
            "flex": null,
            "flex_flow": null,
            "grid_area": null,
            "grid_auto_columns": null,
            "grid_auto_flow": null,
            "grid_auto_rows": null,
            "grid_column": null,
            "grid_gap": null,
            "grid_row": null,
            "grid_template_areas": null,
            "grid_template_columns": null,
            "grid_template_rows": null,
            "height": null,
            "justify_content": null,
            "justify_items": null,
            "left": null,
            "margin": null,
            "max_height": null,
            "max_width": null,
            "min_height": null,
            "min_width": null,
            "object_fit": null,
            "object_position": null,
            "order": null,
            "overflow": null,
            "overflow_x": null,
            "overflow_y": null,
            "padding": null,
            "right": null,
            "top": null,
            "visibility": null,
            "width": null
          }
        },
        "89c1fc373b8b421983f892c8a969f35a": {
          "model_module": "@jupyter-widgets/controls",
          "model_name": "ProgressStyleModel",
          "model_module_version": "1.5.0",
          "state": {
            "_model_module": "@jupyter-widgets/controls",
            "_model_module_version": "1.5.0",
            "_model_name": "ProgressStyleModel",
            "_view_count": null,
            "_view_module": "@jupyter-widgets/base",
            "_view_module_version": "1.2.0",
            "_view_name": "StyleView",
            "bar_color": null,
            "description_width": ""
          }
        },
        "16722988923444809ae203fb8908eb7a": {
          "model_module": "@jupyter-widgets/base",
          "model_name": "LayoutModel",
          "model_module_version": "1.2.0",
          "state": {
            "_model_module": "@jupyter-widgets/base",
            "_model_module_version": "1.2.0",
            "_model_name": "LayoutModel",
            "_view_count": null,
            "_view_module": "@jupyter-widgets/base",
            "_view_module_version": "1.2.0",
            "_view_name": "LayoutView",
            "align_content": null,
            "align_items": null,
            "align_self": null,
            "border": null,
            "bottom": null,
            "display": null,
            "flex": null,
            "flex_flow": null,
            "grid_area": null,
            "grid_auto_columns": null,
            "grid_auto_flow": null,
            "grid_auto_rows": null,
            "grid_column": null,
            "grid_gap": null,
            "grid_row": null,
            "grid_template_areas": null,
            "grid_template_columns": null,
            "grid_template_rows": null,
            "height": null,
            "justify_content": null,
            "justify_items": null,
            "left": null,
            "margin": null,
            "max_height": null,
            "max_width": null,
            "min_height": null,
            "min_width": null,
            "object_fit": null,
            "object_position": null,
            "order": null,
            "overflow": null,
            "overflow_x": null,
            "overflow_y": null,
            "padding": null,
            "right": null,
            "top": null,
            "visibility": null,
            "width": null
          }
        },
        "3368eefabf6644659726c42623c92556": {
          "model_module": "@jupyter-widgets/controls",
          "model_name": "DescriptionStyleModel",
          "model_module_version": "1.5.0",
          "state": {
            "_model_module": "@jupyter-widgets/controls",
            "_model_module_version": "1.5.0",
            "_model_name": "DescriptionStyleModel",
            "_view_count": null,
            "_view_module": "@jupyter-widgets/base",
            "_view_module_version": "1.2.0",
            "_view_name": "StyleView",
            "description_width": ""
          }
        },
        "d5e405999a6f4e67a67333736224e4cb": {
          "model_module": "@jupyter-widgets/controls",
          "model_name": "HBoxModel",
          "model_module_version": "1.5.0",
          "state": {
            "_dom_classes": [],
            "_model_module": "@jupyter-widgets/controls",
            "_model_module_version": "1.5.0",
            "_model_name": "HBoxModel",
            "_view_count": null,
            "_view_module": "@jupyter-widgets/controls",
            "_view_module_version": "1.5.0",
            "_view_name": "HBoxView",
            "box_style": "",
            "children": [
              "IPY_MODEL_0e9f2157a7f74f8994c43db47f3dbfb4",
              "IPY_MODEL_83328e87639e4637a7715aef2ed82b88",
              "IPY_MODEL_8fa9b698a1e34089aaea57ddf4f9bcaa"
            ],
            "layout": "IPY_MODEL_ba021823bc194ae8aa05e8a14306214d"
          }
        },
        "0e9f2157a7f74f8994c43db47f3dbfb4": {
          "model_module": "@jupyter-widgets/controls",
          "model_name": "HTMLModel",
          "model_module_version": "1.5.0",
          "state": {
            "_dom_classes": [],
            "_model_module": "@jupyter-widgets/controls",
            "_model_module_version": "1.5.0",
            "_model_name": "HTMLModel",
            "_view_count": null,
            "_view_module": "@jupyter-widgets/controls",
            "_view_module_version": "1.5.0",
            "_view_name": "HTMLView",
            "description": "",
            "description_tooltip": null,
            "layout": "IPY_MODEL_18457bd7956c4d30b5e0aabfb9d873cd",
            "placeholder": "​",
            "style": "IPY_MODEL_69d4ccc54d5a4564899017d57234a03b",
            "value": "Downloading shards: 100%"
          }
        },
        "83328e87639e4637a7715aef2ed82b88": {
          "model_module": "@jupyter-widgets/controls",
          "model_name": "FloatProgressModel",
          "model_module_version": "1.5.0",
          "state": {
            "_dom_classes": [],
            "_model_module": "@jupyter-widgets/controls",
            "_model_module_version": "1.5.0",
            "_model_name": "FloatProgressModel",
            "_view_count": null,
            "_view_module": "@jupyter-widgets/controls",
            "_view_module_version": "1.5.0",
            "_view_name": "ProgressView",
            "bar_style": "success",
            "description": "",
            "description_tooltip": null,
            "layout": "IPY_MODEL_88b806a303e24edeb9ee7ab915536c2e",
            "max": 2,
            "min": 0,
            "orientation": "horizontal",
            "style": "IPY_MODEL_3bb4624837974fa1a553ed0e273c4ae6",
            "value": 2
          }
        },
        "8fa9b698a1e34089aaea57ddf4f9bcaa": {
          "model_module": "@jupyter-widgets/controls",
          "model_name": "HTMLModel",
          "model_module_version": "1.5.0",
          "state": {
            "_dom_classes": [],
            "_model_module": "@jupyter-widgets/controls",
            "_model_module_version": "1.5.0",
            "_model_name": "HTMLModel",
            "_view_count": null,
            "_view_module": "@jupyter-widgets/controls",
            "_view_module_version": "1.5.0",
            "_view_name": "HTMLView",
            "description": "",
            "description_tooltip": null,
            "layout": "IPY_MODEL_dda49a66d0d442fa853a86b41f5cd76b",
            "placeholder": "​",
            "style": "IPY_MODEL_ac175871f6fb4822994b34df7fd03d44",
            "value": " 2/2 [00:44&lt;00:00, 20.37s/it]"
          }
        },
        "ba021823bc194ae8aa05e8a14306214d": {
          "model_module": "@jupyter-widgets/base",
          "model_name": "LayoutModel",
          "model_module_version": "1.2.0",
          "state": {
            "_model_module": "@jupyter-widgets/base",
            "_model_module_version": "1.2.0",
            "_model_name": "LayoutModel",
            "_view_count": null,
            "_view_module": "@jupyter-widgets/base",
            "_view_module_version": "1.2.0",
            "_view_name": "LayoutView",
            "align_content": null,
            "align_items": null,
            "align_self": null,
            "border": null,
            "bottom": null,
            "display": null,
            "flex": null,
            "flex_flow": null,
            "grid_area": null,
            "grid_auto_columns": null,
            "grid_auto_flow": null,
            "grid_auto_rows": null,
            "grid_column": null,
            "grid_gap": null,
            "grid_row": null,
            "grid_template_areas": null,
            "grid_template_columns": null,
            "grid_template_rows": null,
            "height": null,
            "justify_content": null,
            "justify_items": null,
            "left": null,
            "margin": null,
            "max_height": null,
            "max_width": null,
            "min_height": null,
            "min_width": null,
            "object_fit": null,
            "object_position": null,
            "order": null,
            "overflow": null,
            "overflow_x": null,
            "overflow_y": null,
            "padding": null,
            "right": null,
            "top": null,
            "visibility": null,
            "width": null
          }
        },
        "18457bd7956c4d30b5e0aabfb9d873cd": {
          "model_module": "@jupyter-widgets/base",
          "model_name": "LayoutModel",
          "model_module_version": "1.2.0",
          "state": {
            "_model_module": "@jupyter-widgets/base",
            "_model_module_version": "1.2.0",
            "_model_name": "LayoutModel",
            "_view_count": null,
            "_view_module": "@jupyter-widgets/base",
            "_view_module_version": "1.2.0",
            "_view_name": "LayoutView",
            "align_content": null,
            "align_items": null,
            "align_self": null,
            "border": null,
            "bottom": null,
            "display": null,
            "flex": null,
            "flex_flow": null,
            "grid_area": null,
            "grid_auto_columns": null,
            "grid_auto_flow": null,
            "grid_auto_rows": null,
            "grid_column": null,
            "grid_gap": null,
            "grid_row": null,
            "grid_template_areas": null,
            "grid_template_columns": null,
            "grid_template_rows": null,
            "height": null,
            "justify_content": null,
            "justify_items": null,
            "left": null,
            "margin": null,
            "max_height": null,
            "max_width": null,
            "min_height": null,
            "min_width": null,
            "object_fit": null,
            "object_position": null,
            "order": null,
            "overflow": null,
            "overflow_x": null,
            "overflow_y": null,
            "padding": null,
            "right": null,
            "top": null,
            "visibility": null,
            "width": null
          }
        },
        "69d4ccc54d5a4564899017d57234a03b": {
          "model_module": "@jupyter-widgets/controls",
          "model_name": "DescriptionStyleModel",
          "model_module_version": "1.5.0",
          "state": {
            "_model_module": "@jupyter-widgets/controls",
            "_model_module_version": "1.5.0",
            "_model_name": "DescriptionStyleModel",
            "_view_count": null,
            "_view_module": "@jupyter-widgets/base",
            "_view_module_version": "1.2.0",
            "_view_name": "StyleView",
            "description_width": ""
          }
        },
        "88b806a303e24edeb9ee7ab915536c2e": {
          "model_module": "@jupyter-widgets/base",
          "model_name": "LayoutModel",
          "model_module_version": "1.2.0",
          "state": {
            "_model_module": "@jupyter-widgets/base",
            "_model_module_version": "1.2.0",
            "_model_name": "LayoutModel",
            "_view_count": null,
            "_view_module": "@jupyter-widgets/base",
            "_view_module_version": "1.2.0",
            "_view_name": "LayoutView",
            "align_content": null,
            "align_items": null,
            "align_self": null,
            "border": null,
            "bottom": null,
            "display": null,
            "flex": null,
            "flex_flow": null,
            "grid_area": null,
            "grid_auto_columns": null,
            "grid_auto_flow": null,
            "grid_auto_rows": null,
            "grid_column": null,
            "grid_gap": null,
            "grid_row": null,
            "grid_template_areas": null,
            "grid_template_columns": null,
            "grid_template_rows": null,
            "height": null,
            "justify_content": null,
            "justify_items": null,
            "left": null,
            "margin": null,
            "max_height": null,
            "max_width": null,
            "min_height": null,
            "min_width": null,
            "object_fit": null,
            "object_position": null,
            "order": null,
            "overflow": null,
            "overflow_x": null,
            "overflow_y": null,
            "padding": null,
            "right": null,
            "top": null,
            "visibility": null,
            "width": null
          }
        },
        "3bb4624837974fa1a553ed0e273c4ae6": {
          "model_module": "@jupyter-widgets/controls",
          "model_name": "ProgressStyleModel",
          "model_module_version": "1.5.0",
          "state": {
            "_model_module": "@jupyter-widgets/controls",
            "_model_module_version": "1.5.0",
            "_model_name": "ProgressStyleModel",
            "_view_count": null,
            "_view_module": "@jupyter-widgets/base",
            "_view_module_version": "1.2.0",
            "_view_name": "StyleView",
            "bar_color": null,
            "description_width": ""
          }
        },
        "dda49a66d0d442fa853a86b41f5cd76b": {
          "model_module": "@jupyter-widgets/base",
          "model_name": "LayoutModel",
          "model_module_version": "1.2.0",
          "state": {
            "_model_module": "@jupyter-widgets/base",
            "_model_module_version": "1.2.0",
            "_model_name": "LayoutModel",
            "_view_count": null,
            "_view_module": "@jupyter-widgets/base",
            "_view_module_version": "1.2.0",
            "_view_name": "LayoutView",
            "align_content": null,
            "align_items": null,
            "align_self": null,
            "border": null,
            "bottom": null,
            "display": null,
            "flex": null,
            "flex_flow": null,
            "grid_area": null,
            "grid_auto_columns": null,
            "grid_auto_flow": null,
            "grid_auto_rows": null,
            "grid_column": null,
            "grid_gap": null,
            "grid_row": null,
            "grid_template_areas": null,
            "grid_template_columns": null,
            "grid_template_rows": null,
            "height": null,
            "justify_content": null,
            "justify_items": null,
            "left": null,
            "margin": null,
            "max_height": null,
            "max_width": null,
            "min_height": null,
            "min_width": null,
            "object_fit": null,
            "object_position": null,
            "order": null,
            "overflow": null,
            "overflow_x": null,
            "overflow_y": null,
            "padding": null,
            "right": null,
            "top": null,
            "visibility": null,
            "width": null
          }
        },
        "ac175871f6fb4822994b34df7fd03d44": {
          "model_module": "@jupyter-widgets/controls",
          "model_name": "DescriptionStyleModel",
          "model_module_version": "1.5.0",
          "state": {
            "_model_module": "@jupyter-widgets/controls",
            "_model_module_version": "1.5.0",
            "_model_name": "DescriptionStyleModel",
            "_view_count": null,
            "_view_module": "@jupyter-widgets/base",
            "_view_module_version": "1.2.0",
            "_view_name": "StyleView",
            "description_width": ""
          }
        },
        "fff1c955f2844ffba6bf710803d68507": {
          "model_module": "@jupyter-widgets/controls",
          "model_name": "HBoxModel",
          "model_module_version": "1.5.0",
          "state": {
            "_dom_classes": [],
            "_model_module": "@jupyter-widgets/controls",
            "_model_module_version": "1.5.0",
            "_model_name": "HBoxModel",
            "_view_count": null,
            "_view_module": "@jupyter-widgets/controls",
            "_view_module_version": "1.5.0",
            "_view_name": "HBoxView",
            "box_style": "",
            "children": [
              "IPY_MODEL_a9909871a3c346a6b227f9305a51708e",
              "IPY_MODEL_63bee66fc23d4ac6bfee9e342713bc18",
              "IPY_MODEL_1989aaed08fd4ce8b3ddebc480a9666c"
            ],
            "layout": "IPY_MODEL_972df44d2b894e02a323c4b12fd1b837"
          }
        },
        "a9909871a3c346a6b227f9305a51708e": {
          "model_module": "@jupyter-widgets/controls",
          "model_name": "HTMLModel",
          "model_module_version": "1.5.0",
          "state": {
            "_dom_classes": [],
            "_model_module": "@jupyter-widgets/controls",
            "_model_module_version": "1.5.0",
            "_model_name": "HTMLModel",
            "_view_count": null,
            "_view_module": "@jupyter-widgets/controls",
            "_view_module_version": "1.5.0",
            "_view_name": "HTMLView",
            "description": "",
            "description_tooltip": null,
            "layout": "IPY_MODEL_20423dbba47d46afb90413e941b920e1",
            "placeholder": "​",
            "style": "IPY_MODEL_859d819a43ac431ca564008ec7f46c14",
            "value": "model-00001-of-00002.safetensors: 100%"
          }
        },
        "63bee66fc23d4ac6bfee9e342713bc18": {
          "model_module": "@jupyter-widgets/controls",
          "model_name": "FloatProgressModel",
          "model_module_version": "1.5.0",
          "state": {
            "_dom_classes": [],
            "_model_module": "@jupyter-widgets/controls",
            "_model_module_version": "1.5.0",
            "_model_name": "FloatProgressModel",
            "_view_count": null,
            "_view_module": "@jupyter-widgets/controls",
            "_view_module_version": "1.5.0",
            "_view_name": "ProgressView",
            "bar_style": "success",
            "description": "",
            "description_tooltip": null,
            "layout": "IPY_MODEL_9364b4b11ae944e29f2acdab4b79d34f",
            "max": 9976576152,
            "min": 0,
            "orientation": "horizontal",
            "style": "IPY_MODEL_c116135e275b46039dc2c30e88fa9483",
            "value": 9976576152
          }
        },
        "1989aaed08fd4ce8b3ddebc480a9666c": {
          "model_module": "@jupyter-widgets/controls",
          "model_name": "HTMLModel",
          "model_module_version": "1.5.0",
          "state": {
            "_dom_classes": [],
            "_model_module": "@jupyter-widgets/controls",
            "_model_module_version": "1.5.0",
            "_model_name": "HTMLModel",
            "_view_count": null,
            "_view_module": "@jupyter-widgets/controls",
            "_view_module_version": "1.5.0",
            "_view_name": "HTMLView",
            "description": "",
            "description_tooltip": null,
            "layout": "IPY_MODEL_41fb42fd26ad45c8bae40467a94ea778",
            "placeholder": "​",
            "style": "IPY_MODEL_3b43cedbe968476a994e9c05023d04c0",
            "value": " 9.98G/9.98G [00:32&lt;00:00, 306MB/s]"
          }
        },
        "972df44d2b894e02a323c4b12fd1b837": {
          "model_module": "@jupyter-widgets/base",
          "model_name": "LayoutModel",
          "model_module_version": "1.2.0",
          "state": {
            "_model_module": "@jupyter-widgets/base",
            "_model_module_version": "1.2.0",
            "_model_name": "LayoutModel",
            "_view_count": null,
            "_view_module": "@jupyter-widgets/base",
            "_view_module_version": "1.2.0",
            "_view_name": "LayoutView",
            "align_content": null,
            "align_items": null,
            "align_self": null,
            "border": null,
            "bottom": null,
            "display": null,
            "flex": null,
            "flex_flow": null,
            "grid_area": null,
            "grid_auto_columns": null,
            "grid_auto_flow": null,
            "grid_auto_rows": null,
            "grid_column": null,
            "grid_gap": null,
            "grid_row": null,
            "grid_template_areas": null,
            "grid_template_columns": null,
            "grid_template_rows": null,
            "height": null,
            "justify_content": null,
            "justify_items": null,
            "left": null,
            "margin": null,
            "max_height": null,
            "max_width": null,
            "min_height": null,
            "min_width": null,
            "object_fit": null,
            "object_position": null,
            "order": null,
            "overflow": null,
            "overflow_x": null,
            "overflow_y": null,
            "padding": null,
            "right": null,
            "top": null,
            "visibility": null,
            "width": null
          }
        },
        "20423dbba47d46afb90413e941b920e1": {
          "model_module": "@jupyter-widgets/base",
          "model_name": "LayoutModel",
          "model_module_version": "1.2.0",
          "state": {
            "_model_module": "@jupyter-widgets/base",
            "_model_module_version": "1.2.0",
            "_model_name": "LayoutModel",
            "_view_count": null,
            "_view_module": "@jupyter-widgets/base",
            "_view_module_version": "1.2.0",
            "_view_name": "LayoutView",
            "align_content": null,
            "align_items": null,
            "align_self": null,
            "border": null,
            "bottom": null,
            "display": null,
            "flex": null,
            "flex_flow": null,
            "grid_area": null,
            "grid_auto_columns": null,
            "grid_auto_flow": null,
            "grid_auto_rows": null,
            "grid_column": null,
            "grid_gap": null,
            "grid_row": null,
            "grid_template_areas": null,
            "grid_template_columns": null,
            "grid_template_rows": null,
            "height": null,
            "justify_content": null,
            "justify_items": null,
            "left": null,
            "margin": null,
            "max_height": null,
            "max_width": null,
            "min_height": null,
            "min_width": null,
            "object_fit": null,
            "object_position": null,
            "order": null,
            "overflow": null,
            "overflow_x": null,
            "overflow_y": null,
            "padding": null,
            "right": null,
            "top": null,
            "visibility": null,
            "width": null
          }
        },
        "859d819a43ac431ca564008ec7f46c14": {
          "model_module": "@jupyter-widgets/controls",
          "model_name": "DescriptionStyleModel",
          "model_module_version": "1.5.0",
          "state": {
            "_model_module": "@jupyter-widgets/controls",
            "_model_module_version": "1.5.0",
            "_model_name": "DescriptionStyleModel",
            "_view_count": null,
            "_view_module": "@jupyter-widgets/base",
            "_view_module_version": "1.2.0",
            "_view_name": "StyleView",
            "description_width": ""
          }
        },
        "9364b4b11ae944e29f2acdab4b79d34f": {
          "model_module": "@jupyter-widgets/base",
          "model_name": "LayoutModel",
          "model_module_version": "1.2.0",
          "state": {
            "_model_module": "@jupyter-widgets/base",
            "_model_module_version": "1.2.0",
            "_model_name": "LayoutModel",
            "_view_count": null,
            "_view_module": "@jupyter-widgets/base",
            "_view_module_version": "1.2.0",
            "_view_name": "LayoutView",
            "align_content": null,
            "align_items": null,
            "align_self": null,
            "border": null,
            "bottom": null,
            "display": null,
            "flex": null,
            "flex_flow": null,
            "grid_area": null,
            "grid_auto_columns": null,
            "grid_auto_flow": null,
            "grid_auto_rows": null,
            "grid_column": null,
            "grid_gap": null,
            "grid_row": null,
            "grid_template_areas": null,
            "grid_template_columns": null,
            "grid_template_rows": null,
            "height": null,
            "justify_content": null,
            "justify_items": null,
            "left": null,
            "margin": null,
            "max_height": null,
            "max_width": null,
            "min_height": null,
            "min_width": null,
            "object_fit": null,
            "object_position": null,
            "order": null,
            "overflow": null,
            "overflow_x": null,
            "overflow_y": null,
            "padding": null,
            "right": null,
            "top": null,
            "visibility": null,
            "width": null
          }
        },
        "c116135e275b46039dc2c30e88fa9483": {
          "model_module": "@jupyter-widgets/controls",
          "model_name": "ProgressStyleModel",
          "model_module_version": "1.5.0",
          "state": {
            "_model_module": "@jupyter-widgets/controls",
            "_model_module_version": "1.5.0",
            "_model_name": "ProgressStyleModel",
            "_view_count": null,
            "_view_module": "@jupyter-widgets/base",
            "_view_module_version": "1.2.0",
            "_view_name": "StyleView",
            "bar_color": null,
            "description_width": ""
          }
        },
        "41fb42fd26ad45c8bae40467a94ea778": {
          "model_module": "@jupyter-widgets/base",
          "model_name": "LayoutModel",
          "model_module_version": "1.2.0",
          "state": {
            "_model_module": "@jupyter-widgets/base",
            "_model_module_version": "1.2.0",
            "_model_name": "LayoutModel",
            "_view_count": null,
            "_view_module": "@jupyter-widgets/base",
            "_view_module_version": "1.2.0",
            "_view_name": "LayoutView",
            "align_content": null,
            "align_items": null,
            "align_self": null,
            "border": null,
            "bottom": null,
            "display": null,
            "flex": null,
            "flex_flow": null,
            "grid_area": null,
            "grid_auto_columns": null,
            "grid_auto_flow": null,
            "grid_auto_rows": null,
            "grid_column": null,
            "grid_gap": null,
            "grid_row": null,
            "grid_template_areas": null,
            "grid_template_columns": null,
            "grid_template_rows": null,
            "height": null,
            "justify_content": null,
            "justify_items": null,
            "left": null,
            "margin": null,
            "max_height": null,
            "max_width": null,
            "min_height": null,
            "min_width": null,
            "object_fit": null,
            "object_position": null,
            "order": null,
            "overflow": null,
            "overflow_x": null,
            "overflow_y": null,
            "padding": null,
            "right": null,
            "top": null,
            "visibility": null,
            "width": null
          }
        },
        "3b43cedbe968476a994e9c05023d04c0": {
          "model_module": "@jupyter-widgets/controls",
          "model_name": "DescriptionStyleModel",
          "model_module_version": "1.5.0",
          "state": {
            "_model_module": "@jupyter-widgets/controls",
            "_model_module_version": "1.5.0",
            "_model_name": "DescriptionStyleModel",
            "_view_count": null,
            "_view_module": "@jupyter-widgets/base",
            "_view_module_version": "1.2.0",
            "_view_name": "StyleView",
            "description_width": ""
          }
        },
        "45217342d1e64ec388bde3a4501382b0": {
          "model_module": "@jupyter-widgets/controls",
          "model_name": "HBoxModel",
          "model_module_version": "1.5.0",
          "state": {
            "_dom_classes": [],
            "_model_module": "@jupyter-widgets/controls",
            "_model_module_version": "1.5.0",
            "_model_name": "HBoxModel",
            "_view_count": null,
            "_view_module": "@jupyter-widgets/controls",
            "_view_module_version": "1.5.0",
            "_view_name": "HBoxView",
            "box_style": "",
            "children": [
              "IPY_MODEL_259490155f824d9e94aed45b14638cde",
              "IPY_MODEL_f024d56912d847bbac83cf07808abcec",
              "IPY_MODEL_dbf86660fa27470986eab93f0cf58528"
            ],
            "layout": "IPY_MODEL_23592b7a2d2d4ab7ba1a5ec44b71286b"
          }
        },
        "259490155f824d9e94aed45b14638cde": {
          "model_module": "@jupyter-widgets/controls",
          "model_name": "HTMLModel",
          "model_module_version": "1.5.0",
          "state": {
            "_dom_classes": [],
            "_model_module": "@jupyter-widgets/controls",
            "_model_module_version": "1.5.0",
            "_model_name": "HTMLModel",
            "_view_count": null,
            "_view_module": "@jupyter-widgets/controls",
            "_view_module_version": "1.5.0",
            "_view_name": "HTMLView",
            "description": "",
            "description_tooltip": null,
            "layout": "IPY_MODEL_8e1288eee55147b191fa2de54a9e4842",
            "placeholder": "​",
            "style": "IPY_MODEL_e889751301424deca74413f2eba46e89",
            "value": "model-00002-of-00002.safetensors: 100%"
          }
        },
        "f024d56912d847bbac83cf07808abcec": {
          "model_module": "@jupyter-widgets/controls",
          "model_name": "FloatProgressModel",
          "model_module_version": "1.5.0",
          "state": {
            "_dom_classes": [],
            "_model_module": "@jupyter-widgets/controls",
            "_model_module_version": "1.5.0",
            "_model_name": "FloatProgressModel",
            "_view_count": null,
            "_view_module": "@jupyter-widgets/controls",
            "_view_module_version": "1.5.0",
            "_view_name": "ProgressView",
            "bar_style": "success",
            "description": "",
            "description_tooltip": null,
            "layout": "IPY_MODEL_a271d01c31ee463aa1a3a1809dfb5ae4",
            "max": 3500296424,
            "min": 0,
            "orientation": "horizontal",
            "style": "IPY_MODEL_37094e1ad6c04ea0a6b018221cfa7dfe",
            "value": 3500296424
          }
        },
        "dbf86660fa27470986eab93f0cf58528": {
          "model_module": "@jupyter-widgets/controls",
          "model_name": "HTMLModel",
          "model_module_version": "1.5.0",
          "state": {
            "_dom_classes": [],
            "_model_module": "@jupyter-widgets/controls",
            "_model_module_version": "1.5.0",
            "_model_name": "HTMLModel",
            "_view_count": null,
            "_view_module": "@jupyter-widgets/controls",
            "_view_module_version": "1.5.0",
            "_view_name": "HTMLView",
            "description": "",
            "description_tooltip": null,
            "layout": "IPY_MODEL_758ca89488854acb995a072d9c9f9675",
            "placeholder": "​",
            "style": "IPY_MODEL_0571ac86c1fa48dfbc2fa57b1c4366b4",
            "value": " 3.50G/3.50G [00:11&lt;00:00, 296MB/s]"
          }
        },
        "23592b7a2d2d4ab7ba1a5ec44b71286b": {
          "model_module": "@jupyter-widgets/base",
          "model_name": "LayoutModel",
          "model_module_version": "1.2.0",
          "state": {
            "_model_module": "@jupyter-widgets/base",
            "_model_module_version": "1.2.0",
            "_model_name": "LayoutModel",
            "_view_count": null,
            "_view_module": "@jupyter-widgets/base",
            "_view_module_version": "1.2.0",
            "_view_name": "LayoutView",
            "align_content": null,
            "align_items": null,
            "align_self": null,
            "border": null,
            "bottom": null,
            "display": null,
            "flex": null,
            "flex_flow": null,
            "grid_area": null,
            "grid_auto_columns": null,
            "grid_auto_flow": null,
            "grid_auto_rows": null,
            "grid_column": null,
            "grid_gap": null,
            "grid_row": null,
            "grid_template_areas": null,
            "grid_template_columns": null,
            "grid_template_rows": null,
            "height": null,
            "justify_content": null,
            "justify_items": null,
            "left": null,
            "margin": null,
            "max_height": null,
            "max_width": null,
            "min_height": null,
            "min_width": null,
            "object_fit": null,
            "object_position": null,
            "order": null,
            "overflow": null,
            "overflow_x": null,
            "overflow_y": null,
            "padding": null,
            "right": null,
            "top": null,
            "visibility": null,
            "width": null
          }
        },
        "8e1288eee55147b191fa2de54a9e4842": {
          "model_module": "@jupyter-widgets/base",
          "model_name": "LayoutModel",
          "model_module_version": "1.2.0",
          "state": {
            "_model_module": "@jupyter-widgets/base",
            "_model_module_version": "1.2.0",
            "_model_name": "LayoutModel",
            "_view_count": null,
            "_view_module": "@jupyter-widgets/base",
            "_view_module_version": "1.2.0",
            "_view_name": "LayoutView",
            "align_content": null,
            "align_items": null,
            "align_self": null,
            "border": null,
            "bottom": null,
            "display": null,
            "flex": null,
            "flex_flow": null,
            "grid_area": null,
            "grid_auto_columns": null,
            "grid_auto_flow": null,
            "grid_auto_rows": null,
            "grid_column": null,
            "grid_gap": null,
            "grid_row": null,
            "grid_template_areas": null,
            "grid_template_columns": null,
            "grid_template_rows": null,
            "height": null,
            "justify_content": null,
            "justify_items": null,
            "left": null,
            "margin": null,
            "max_height": null,
            "max_width": null,
            "min_height": null,
            "min_width": null,
            "object_fit": null,
            "object_position": null,
            "order": null,
            "overflow": null,
            "overflow_x": null,
            "overflow_y": null,
            "padding": null,
            "right": null,
            "top": null,
            "visibility": null,
            "width": null
          }
        },
        "e889751301424deca74413f2eba46e89": {
          "model_module": "@jupyter-widgets/controls",
          "model_name": "DescriptionStyleModel",
          "model_module_version": "1.5.0",
          "state": {
            "_model_module": "@jupyter-widgets/controls",
            "_model_module_version": "1.5.0",
            "_model_name": "DescriptionStyleModel",
            "_view_count": null,
            "_view_module": "@jupyter-widgets/base",
            "_view_module_version": "1.2.0",
            "_view_name": "StyleView",
            "description_width": ""
          }
        },
        "a271d01c31ee463aa1a3a1809dfb5ae4": {
          "model_module": "@jupyter-widgets/base",
          "model_name": "LayoutModel",
          "model_module_version": "1.2.0",
          "state": {
            "_model_module": "@jupyter-widgets/base",
            "_model_module_version": "1.2.0",
            "_model_name": "LayoutModel",
            "_view_count": null,
            "_view_module": "@jupyter-widgets/base",
            "_view_module_version": "1.2.0",
            "_view_name": "LayoutView",
            "align_content": null,
            "align_items": null,
            "align_self": null,
            "border": null,
            "bottom": null,
            "display": null,
            "flex": null,
            "flex_flow": null,
            "grid_area": null,
            "grid_auto_columns": null,
            "grid_auto_flow": null,
            "grid_auto_rows": null,
            "grid_column": null,
            "grid_gap": null,
            "grid_row": null,
            "grid_template_areas": null,
            "grid_template_columns": null,
            "grid_template_rows": null,
            "height": null,
            "justify_content": null,
            "justify_items": null,
            "left": null,
            "margin": null,
            "max_height": null,
            "max_width": null,
            "min_height": null,
            "min_width": null,
            "object_fit": null,
            "object_position": null,
            "order": null,
            "overflow": null,
            "overflow_x": null,
            "overflow_y": null,
            "padding": null,
            "right": null,
            "top": null,
            "visibility": null,
            "width": null
          }
        },
        "37094e1ad6c04ea0a6b018221cfa7dfe": {
          "model_module": "@jupyter-widgets/controls",
          "model_name": "ProgressStyleModel",
          "model_module_version": "1.5.0",
          "state": {
            "_model_module": "@jupyter-widgets/controls",
            "_model_module_version": "1.5.0",
            "_model_name": "ProgressStyleModel",
            "_view_count": null,
            "_view_module": "@jupyter-widgets/base",
            "_view_module_version": "1.2.0",
            "_view_name": "StyleView",
            "bar_color": null,
            "description_width": ""
          }
        },
        "758ca89488854acb995a072d9c9f9675": {
          "model_module": "@jupyter-widgets/base",
          "model_name": "LayoutModel",
          "model_module_version": "1.2.0",
          "state": {
            "_model_module": "@jupyter-widgets/base",
            "_model_module_version": "1.2.0",
            "_model_name": "LayoutModel",
            "_view_count": null,
            "_view_module": "@jupyter-widgets/base",
            "_view_module_version": "1.2.0",
            "_view_name": "LayoutView",
            "align_content": null,
            "align_items": null,
            "align_self": null,
            "border": null,
            "bottom": null,
            "display": null,
            "flex": null,
            "flex_flow": null,
            "grid_area": null,
            "grid_auto_columns": null,
            "grid_auto_flow": null,
            "grid_auto_rows": null,
            "grid_column": null,
            "grid_gap": null,
            "grid_row": null,
            "grid_template_areas": null,
            "grid_template_columns": null,
            "grid_template_rows": null,
            "height": null,
            "justify_content": null,
            "justify_items": null,
            "left": null,
            "margin": null,
            "max_height": null,
            "max_width": null,
            "min_height": null,
            "min_width": null,
            "object_fit": null,
            "object_position": null,
            "order": null,
            "overflow": null,
            "overflow_x": null,
            "overflow_y": null,
            "padding": null,
            "right": null,
            "top": null,
            "visibility": null,
            "width": null
          }
        },
        "0571ac86c1fa48dfbc2fa57b1c4366b4": {
          "model_module": "@jupyter-widgets/controls",
          "model_name": "DescriptionStyleModel",
          "model_module_version": "1.5.0",
          "state": {
            "_model_module": "@jupyter-widgets/controls",
            "_model_module_version": "1.5.0",
            "_model_name": "DescriptionStyleModel",
            "_view_count": null,
            "_view_module": "@jupyter-widgets/base",
            "_view_module_version": "1.2.0",
            "_view_name": "StyleView",
            "description_width": ""
          }
        },
        "586f0ad7342c478588faccafebc2cb8d": {
          "model_module": "@jupyter-widgets/controls",
          "model_name": "HBoxModel",
          "model_module_version": "1.5.0",
          "state": {
            "_dom_classes": [],
            "_model_module": "@jupyter-widgets/controls",
            "_model_module_version": "1.5.0",
            "_model_name": "HBoxModel",
            "_view_count": null,
            "_view_module": "@jupyter-widgets/controls",
            "_view_module_version": "1.5.0",
            "_view_name": "HBoxView",
            "box_style": "",
            "children": [
              "IPY_MODEL_200d3dd27da745e09a910580cf792070",
              "IPY_MODEL_6f742ed3f93e4de990a084043f495c08",
              "IPY_MODEL_d05b5983f4684527acd17d6a301830c6"
            ],
            "layout": "IPY_MODEL_36ade526b3434e9aa574d8ec77e19380"
          }
        },
        "200d3dd27da745e09a910580cf792070": {
          "model_module": "@jupyter-widgets/controls",
          "model_name": "HTMLModel",
          "model_module_version": "1.5.0",
          "state": {
            "_dom_classes": [],
            "_model_module": "@jupyter-widgets/controls",
            "_model_module_version": "1.5.0",
            "_model_name": "HTMLModel",
            "_view_count": null,
            "_view_module": "@jupyter-widgets/controls",
            "_view_module_version": "1.5.0",
            "_view_name": "HTMLView",
            "description": "",
            "description_tooltip": null,
            "layout": "IPY_MODEL_f016f017c4e848898164ecd3b479ff2b",
            "placeholder": "​",
            "style": "IPY_MODEL_3d3b8da8b21149f6acff546d7bef10df",
            "value": "Loading checkpoint shards: 100%"
          }
        },
        "6f742ed3f93e4de990a084043f495c08": {
          "model_module": "@jupyter-widgets/controls",
          "model_name": "FloatProgressModel",
          "model_module_version": "1.5.0",
          "state": {
            "_dom_classes": [],
            "_model_module": "@jupyter-widgets/controls",
            "_model_module_version": "1.5.0",
            "_model_name": "FloatProgressModel",
            "_view_count": null,
            "_view_module": "@jupyter-widgets/controls",
            "_view_module_version": "1.5.0",
            "_view_name": "ProgressView",
            "bar_style": "success",
            "description": "",
            "description_tooltip": null,
            "layout": "IPY_MODEL_1983bfcbf3f64ecf8ee39307b14f6ec9",
            "max": 2,
            "min": 0,
            "orientation": "horizontal",
            "style": "IPY_MODEL_50608d4eb54d49e78921e8ddde4e6e44",
            "value": 2
          }
        },
        "d05b5983f4684527acd17d6a301830c6": {
          "model_module": "@jupyter-widgets/controls",
          "model_name": "HTMLModel",
          "model_module_version": "1.5.0",
          "state": {
            "_dom_classes": [],
            "_model_module": "@jupyter-widgets/controls",
            "_model_module_version": "1.5.0",
            "_model_name": "HTMLModel",
            "_view_count": null,
            "_view_module": "@jupyter-widgets/controls",
            "_view_module_version": "1.5.0",
            "_view_name": "HTMLView",
            "description": "",
            "description_tooltip": null,
            "layout": "IPY_MODEL_62ceb2c3f95a43678e212294161785df",
            "placeholder": "​",
            "style": "IPY_MODEL_8a0038ebd4b44ada8eb3bde37fe5c887",
            "value": " 2/2 [00:04&lt;00:00,  2.23s/it]"
          }
        },
        "36ade526b3434e9aa574d8ec77e19380": {
          "model_module": "@jupyter-widgets/base",
          "model_name": "LayoutModel",
          "model_module_version": "1.2.0",
          "state": {
            "_model_module": "@jupyter-widgets/base",
            "_model_module_version": "1.2.0",
            "_model_name": "LayoutModel",
            "_view_count": null,
            "_view_module": "@jupyter-widgets/base",
            "_view_module_version": "1.2.0",
            "_view_name": "LayoutView",
            "align_content": null,
            "align_items": null,
            "align_self": null,
            "border": null,
            "bottom": null,
            "display": null,
            "flex": null,
            "flex_flow": null,
            "grid_area": null,
            "grid_auto_columns": null,
            "grid_auto_flow": null,
            "grid_auto_rows": null,
            "grid_column": null,
            "grid_gap": null,
            "grid_row": null,
            "grid_template_areas": null,
            "grid_template_columns": null,
            "grid_template_rows": null,
            "height": null,
            "justify_content": null,
            "justify_items": null,
            "left": null,
            "margin": null,
            "max_height": null,
            "max_width": null,
            "min_height": null,
            "min_width": null,
            "object_fit": null,
            "object_position": null,
            "order": null,
            "overflow": null,
            "overflow_x": null,
            "overflow_y": null,
            "padding": null,
            "right": null,
            "top": null,
            "visibility": null,
            "width": null
          }
        },
        "f016f017c4e848898164ecd3b479ff2b": {
          "model_module": "@jupyter-widgets/base",
          "model_name": "LayoutModel",
          "model_module_version": "1.2.0",
          "state": {
            "_model_module": "@jupyter-widgets/base",
            "_model_module_version": "1.2.0",
            "_model_name": "LayoutModel",
            "_view_count": null,
            "_view_module": "@jupyter-widgets/base",
            "_view_module_version": "1.2.0",
            "_view_name": "LayoutView",
            "align_content": null,
            "align_items": null,
            "align_self": null,
            "border": null,
            "bottom": null,
            "display": null,
            "flex": null,
            "flex_flow": null,
            "grid_area": null,
            "grid_auto_columns": null,
            "grid_auto_flow": null,
            "grid_auto_rows": null,
            "grid_column": null,
            "grid_gap": null,
            "grid_row": null,
            "grid_template_areas": null,
            "grid_template_columns": null,
            "grid_template_rows": null,
            "height": null,
            "justify_content": null,
            "justify_items": null,
            "left": null,
            "margin": null,
            "max_height": null,
            "max_width": null,
            "min_height": null,
            "min_width": null,
            "object_fit": null,
            "object_position": null,
            "order": null,
            "overflow": null,
            "overflow_x": null,
            "overflow_y": null,
            "padding": null,
            "right": null,
            "top": null,
            "visibility": null,
            "width": null
          }
        },
        "3d3b8da8b21149f6acff546d7bef10df": {
          "model_module": "@jupyter-widgets/controls",
          "model_name": "DescriptionStyleModel",
          "model_module_version": "1.5.0",
          "state": {
            "_model_module": "@jupyter-widgets/controls",
            "_model_module_version": "1.5.0",
            "_model_name": "DescriptionStyleModel",
            "_view_count": null,
            "_view_module": "@jupyter-widgets/base",
            "_view_module_version": "1.2.0",
            "_view_name": "StyleView",
            "description_width": ""
          }
        },
        "1983bfcbf3f64ecf8ee39307b14f6ec9": {
          "model_module": "@jupyter-widgets/base",
          "model_name": "LayoutModel",
          "model_module_version": "1.2.0",
          "state": {
            "_model_module": "@jupyter-widgets/base",
            "_model_module_version": "1.2.0",
            "_model_name": "LayoutModel",
            "_view_count": null,
            "_view_module": "@jupyter-widgets/base",
            "_view_module_version": "1.2.0",
            "_view_name": "LayoutView",
            "align_content": null,
            "align_items": null,
            "align_self": null,
            "border": null,
            "bottom": null,
            "display": null,
            "flex": null,
            "flex_flow": null,
            "grid_area": null,
            "grid_auto_columns": null,
            "grid_auto_flow": null,
            "grid_auto_rows": null,
            "grid_column": null,
            "grid_gap": null,
            "grid_row": null,
            "grid_template_areas": null,
            "grid_template_columns": null,
            "grid_template_rows": null,
            "height": null,
            "justify_content": null,
            "justify_items": null,
            "left": null,
            "margin": null,
            "max_height": null,
            "max_width": null,
            "min_height": null,
            "min_width": null,
            "object_fit": null,
            "object_position": null,
            "order": null,
            "overflow": null,
            "overflow_x": null,
            "overflow_y": null,
            "padding": null,
            "right": null,
            "top": null,
            "visibility": null,
            "width": null
          }
        },
        "50608d4eb54d49e78921e8ddde4e6e44": {
          "model_module": "@jupyter-widgets/controls",
          "model_name": "ProgressStyleModel",
          "model_module_version": "1.5.0",
          "state": {
            "_model_module": "@jupyter-widgets/controls",
            "_model_module_version": "1.5.0",
            "_model_name": "ProgressStyleModel",
            "_view_count": null,
            "_view_module": "@jupyter-widgets/base",
            "_view_module_version": "1.2.0",
            "_view_name": "StyleView",
            "bar_color": null,
            "description_width": ""
          }
        },
        "62ceb2c3f95a43678e212294161785df": {
          "model_module": "@jupyter-widgets/base",
          "model_name": "LayoutModel",
          "model_module_version": "1.2.0",
          "state": {
            "_model_module": "@jupyter-widgets/base",
            "_model_module_version": "1.2.0",
            "_model_name": "LayoutModel",
            "_view_count": null,
            "_view_module": "@jupyter-widgets/base",
            "_view_module_version": "1.2.0",
            "_view_name": "LayoutView",
            "align_content": null,
            "align_items": null,
            "align_self": null,
            "border": null,
            "bottom": null,
            "display": null,
            "flex": null,
            "flex_flow": null,
            "grid_area": null,
            "grid_auto_columns": null,
            "grid_auto_flow": null,
            "grid_auto_rows": null,
            "grid_column": null,
            "grid_gap": null,
            "grid_row": null,
            "grid_template_areas": null,
            "grid_template_columns": null,
            "grid_template_rows": null,
            "height": null,
            "justify_content": null,
            "justify_items": null,
            "left": null,
            "margin": null,
            "max_height": null,
            "max_width": null,
            "min_height": null,
            "min_width": null,
            "object_fit": null,
            "object_position": null,
            "order": null,
            "overflow": null,
            "overflow_x": null,
            "overflow_y": null,
            "padding": null,
            "right": null,
            "top": null,
            "visibility": null,
            "width": null
          }
        },
        "8a0038ebd4b44ada8eb3bde37fe5c887": {
          "model_module": "@jupyter-widgets/controls",
          "model_name": "DescriptionStyleModel",
          "model_module_version": "1.5.0",
          "state": {
            "_model_module": "@jupyter-widgets/controls",
            "_model_module_version": "1.5.0",
            "_model_name": "DescriptionStyleModel",
            "_view_count": null,
            "_view_module": "@jupyter-widgets/base",
            "_view_module_version": "1.2.0",
            "_view_name": "StyleView",
            "description_width": ""
          }
        },
        "f7f138c7a07445d6ba17aa0b54e2b90e": {
          "model_module": "@jupyter-widgets/controls",
          "model_name": "HBoxModel",
          "model_module_version": "1.5.0",
          "state": {
            "_dom_classes": [],
            "_model_module": "@jupyter-widgets/controls",
            "_model_module_version": "1.5.0",
            "_model_name": "HBoxModel",
            "_view_count": null,
            "_view_module": "@jupyter-widgets/controls",
            "_view_module_version": "1.5.0",
            "_view_name": "HBoxView",
            "box_style": "",
            "children": [
              "IPY_MODEL_271f0cc294614e06991363fd33bdcb64",
              "IPY_MODEL_fd6ecfe9ffe64ad095ece38b2fc15310",
              "IPY_MODEL_287bfe33efb3492e9e77d57f1a0d5115"
            ],
            "layout": "IPY_MODEL_24b8f8cbe3cb4f86aed7f8b8f8929535"
          }
        },
        "271f0cc294614e06991363fd33bdcb64": {
          "model_module": "@jupyter-widgets/controls",
          "model_name": "HTMLModel",
          "model_module_version": "1.5.0",
          "state": {
            "_dom_classes": [],
            "_model_module": "@jupyter-widgets/controls",
            "_model_module_version": "1.5.0",
            "_model_name": "HTMLModel",
            "_view_count": null,
            "_view_module": "@jupyter-widgets/controls",
            "_view_module_version": "1.5.0",
            "_view_name": "HTMLView",
            "description": "",
            "description_tooltip": null,
            "layout": "IPY_MODEL_adff796bdc614f0a8211db3dcd818927",
            "placeholder": "​",
            "style": "IPY_MODEL_8bce8720fe4948b6b6cb68290f879fb6",
            "value": "generation_config.json: 100%"
          }
        },
        "fd6ecfe9ffe64ad095ece38b2fc15310": {
          "model_module": "@jupyter-widgets/controls",
          "model_name": "FloatProgressModel",
          "model_module_version": "1.5.0",
          "state": {
            "_dom_classes": [],
            "_model_module": "@jupyter-widgets/controls",
            "_model_module_version": "1.5.0",
            "_model_name": "FloatProgressModel",
            "_view_count": null,
            "_view_module": "@jupyter-widgets/controls",
            "_view_module_version": "1.5.0",
            "_view_name": "ProgressView",
            "bar_style": "success",
            "description": "",
            "description_tooltip": null,
            "layout": "IPY_MODEL_abd927c27094478482e5a7c4725f3ae0",
            "max": 179,
            "min": 0,
            "orientation": "horizontal",
            "style": "IPY_MODEL_7790f95a9a024b00b3a9dd8dbfdbaf94",
            "value": 179
          }
        },
        "287bfe33efb3492e9e77d57f1a0d5115": {
          "model_module": "@jupyter-widgets/controls",
          "model_name": "HTMLModel",
          "model_module_version": "1.5.0",
          "state": {
            "_dom_classes": [],
            "_model_module": "@jupyter-widgets/controls",
            "_model_module_version": "1.5.0",
            "_model_name": "HTMLModel",
            "_view_count": null,
            "_view_module": "@jupyter-widgets/controls",
            "_view_module_version": "1.5.0",
            "_view_name": "HTMLView",
            "description": "",
            "description_tooltip": null,
            "layout": "IPY_MODEL_ee00cd95b79b436ea37485b49770daf2",
            "placeholder": "​",
            "style": "IPY_MODEL_d96ca9f4bc2a4842bf0b804eb9f596ee",
            "value": " 179/179 [00:00&lt;00:00, 15.5kB/s]"
          }
        },
        "24b8f8cbe3cb4f86aed7f8b8f8929535": {
          "model_module": "@jupyter-widgets/base",
          "model_name": "LayoutModel",
          "model_module_version": "1.2.0",
          "state": {
            "_model_module": "@jupyter-widgets/base",
            "_model_module_version": "1.2.0",
            "_model_name": "LayoutModel",
            "_view_count": null,
            "_view_module": "@jupyter-widgets/base",
            "_view_module_version": "1.2.0",
            "_view_name": "LayoutView",
            "align_content": null,
            "align_items": null,
            "align_self": null,
            "border": null,
            "bottom": null,
            "display": null,
            "flex": null,
            "flex_flow": null,
            "grid_area": null,
            "grid_auto_columns": null,
            "grid_auto_flow": null,
            "grid_auto_rows": null,
            "grid_column": null,
            "grid_gap": null,
            "grid_row": null,
            "grid_template_areas": null,
            "grid_template_columns": null,
            "grid_template_rows": null,
            "height": null,
            "justify_content": null,
            "justify_items": null,
            "left": null,
            "margin": null,
            "max_height": null,
            "max_width": null,
            "min_height": null,
            "min_width": null,
            "object_fit": null,
            "object_position": null,
            "order": null,
            "overflow": null,
            "overflow_x": null,
            "overflow_y": null,
            "padding": null,
            "right": null,
            "top": null,
            "visibility": null,
            "width": null
          }
        },
        "adff796bdc614f0a8211db3dcd818927": {
          "model_module": "@jupyter-widgets/base",
          "model_name": "LayoutModel",
          "model_module_version": "1.2.0",
          "state": {
            "_model_module": "@jupyter-widgets/base",
            "_model_module_version": "1.2.0",
            "_model_name": "LayoutModel",
            "_view_count": null,
            "_view_module": "@jupyter-widgets/base",
            "_view_module_version": "1.2.0",
            "_view_name": "LayoutView",
            "align_content": null,
            "align_items": null,
            "align_self": null,
            "border": null,
            "bottom": null,
            "display": null,
            "flex": null,
            "flex_flow": null,
            "grid_area": null,
            "grid_auto_columns": null,
            "grid_auto_flow": null,
            "grid_auto_rows": null,
            "grid_column": null,
            "grid_gap": null,
            "grid_row": null,
            "grid_template_areas": null,
            "grid_template_columns": null,
            "grid_template_rows": null,
            "height": null,
            "justify_content": null,
            "justify_items": null,
            "left": null,
            "margin": null,
            "max_height": null,
            "max_width": null,
            "min_height": null,
            "min_width": null,
            "object_fit": null,
            "object_position": null,
            "order": null,
            "overflow": null,
            "overflow_x": null,
            "overflow_y": null,
            "padding": null,
            "right": null,
            "top": null,
            "visibility": null,
            "width": null
          }
        },
        "8bce8720fe4948b6b6cb68290f879fb6": {
          "model_module": "@jupyter-widgets/controls",
          "model_name": "DescriptionStyleModel",
          "model_module_version": "1.5.0",
          "state": {
            "_model_module": "@jupyter-widgets/controls",
            "_model_module_version": "1.5.0",
            "_model_name": "DescriptionStyleModel",
            "_view_count": null,
            "_view_module": "@jupyter-widgets/base",
            "_view_module_version": "1.2.0",
            "_view_name": "StyleView",
            "description_width": ""
          }
        },
        "abd927c27094478482e5a7c4725f3ae0": {
          "model_module": "@jupyter-widgets/base",
          "model_name": "LayoutModel",
          "model_module_version": "1.2.0",
          "state": {
            "_model_module": "@jupyter-widgets/base",
            "_model_module_version": "1.2.0",
            "_model_name": "LayoutModel",
            "_view_count": null,
            "_view_module": "@jupyter-widgets/base",
            "_view_module_version": "1.2.0",
            "_view_name": "LayoutView",
            "align_content": null,
            "align_items": null,
            "align_self": null,
            "border": null,
            "bottom": null,
            "display": null,
            "flex": null,
            "flex_flow": null,
            "grid_area": null,
            "grid_auto_columns": null,
            "grid_auto_flow": null,
            "grid_auto_rows": null,
            "grid_column": null,
            "grid_gap": null,
            "grid_row": null,
            "grid_template_areas": null,
            "grid_template_columns": null,
            "grid_template_rows": null,
            "height": null,
            "justify_content": null,
            "justify_items": null,
            "left": null,
            "margin": null,
            "max_height": null,
            "max_width": null,
            "min_height": null,
            "min_width": null,
            "object_fit": null,
            "object_position": null,
            "order": null,
            "overflow": null,
            "overflow_x": null,
            "overflow_y": null,
            "padding": null,
            "right": null,
            "top": null,
            "visibility": null,
            "width": null
          }
        },
        "7790f95a9a024b00b3a9dd8dbfdbaf94": {
          "model_module": "@jupyter-widgets/controls",
          "model_name": "ProgressStyleModel",
          "model_module_version": "1.5.0",
          "state": {
            "_model_module": "@jupyter-widgets/controls",
            "_model_module_version": "1.5.0",
            "_model_name": "ProgressStyleModel",
            "_view_count": null,
            "_view_module": "@jupyter-widgets/base",
            "_view_module_version": "1.2.0",
            "_view_name": "StyleView",
            "bar_color": null,
            "description_width": ""
          }
        },
        "ee00cd95b79b436ea37485b49770daf2": {
          "model_module": "@jupyter-widgets/base",
          "model_name": "LayoutModel",
          "model_module_version": "1.2.0",
          "state": {
            "_model_module": "@jupyter-widgets/base",
            "_model_module_version": "1.2.0",
            "_model_name": "LayoutModel",
            "_view_count": null,
            "_view_module": "@jupyter-widgets/base",
            "_view_module_version": "1.2.0",
            "_view_name": "LayoutView",
            "align_content": null,
            "align_items": null,
            "align_self": null,
            "border": null,
            "bottom": null,
            "display": null,
            "flex": null,
            "flex_flow": null,
            "grid_area": null,
            "grid_auto_columns": null,
            "grid_auto_flow": null,
            "grid_auto_rows": null,
            "grid_column": null,
            "grid_gap": null,
            "grid_row": null,
            "grid_template_areas": null,
            "grid_template_columns": null,
            "grid_template_rows": null,
            "height": null,
            "justify_content": null,
            "justify_items": null,
            "left": null,
            "margin": null,
            "max_height": null,
            "max_width": null,
            "min_height": null,
            "min_width": null,
            "object_fit": null,
            "object_position": null,
            "order": null,
            "overflow": null,
            "overflow_x": null,
            "overflow_y": null,
            "padding": null,
            "right": null,
            "top": null,
            "visibility": null,
            "width": null
          }
        },
        "d96ca9f4bc2a4842bf0b804eb9f596ee": {
          "model_module": "@jupyter-widgets/controls",
          "model_name": "DescriptionStyleModel",
          "model_module_version": "1.5.0",
          "state": {
            "_model_module": "@jupyter-widgets/controls",
            "_model_module_version": "1.5.0",
            "_model_name": "DescriptionStyleModel",
            "_view_count": null,
            "_view_module": "@jupyter-widgets/base",
            "_view_module_version": "1.2.0",
            "_view_name": "StyleView",
            "description_width": ""
          }
        },
        "994ba3f4e118464680072b6120494cbf": {
          "model_module": "@jupyter-widgets/controls",
          "model_name": "HBoxModel",
          "model_module_version": "1.5.0",
          "state": {
            "_dom_classes": [],
            "_model_module": "@jupyter-widgets/controls",
            "_model_module_version": "1.5.0",
            "_model_name": "HBoxModel",
            "_view_count": null,
            "_view_module": "@jupyter-widgets/controls",
            "_view_module_version": "1.5.0",
            "_view_name": "HBoxView",
            "box_style": "",
            "children": [
              "IPY_MODEL_ca8f1395f577480f9602373c07de6ac7",
              "IPY_MODEL_9fd742e0ea174ee5b0709d7dc4a1bb3f",
              "IPY_MODEL_b7a88b5643964356a981ac48ca9385c4"
            ],
            "layout": "IPY_MODEL_66f7dc5fcf104afd8f0d6c04a09f74df"
          }
        },
        "ca8f1395f577480f9602373c07de6ac7": {
          "model_module": "@jupyter-widgets/controls",
          "model_name": "HTMLModel",
          "model_module_version": "1.5.0",
          "state": {
            "_dom_classes": [],
            "_model_module": "@jupyter-widgets/controls",
            "_model_module_version": "1.5.0",
            "_model_name": "HTMLModel",
            "_view_count": null,
            "_view_module": "@jupyter-widgets/controls",
            "_view_module_version": "1.5.0",
            "_view_name": "HTMLView",
            "description": "",
            "description_tooltip": null,
            "layout": "IPY_MODEL_9273b136e6e44d6bb3f955fb16201fb3",
            "placeholder": "​",
            "style": "IPY_MODEL_3184aaeb8265497da51da8564401d62b",
            "value": "tokenizer_config.json: 100%"
          }
        },
        "9fd742e0ea174ee5b0709d7dc4a1bb3f": {
          "model_module": "@jupyter-widgets/controls",
          "model_name": "FloatProgressModel",
          "model_module_version": "1.5.0",
          "state": {
            "_dom_classes": [],
            "_model_module": "@jupyter-widgets/controls",
            "_model_module_version": "1.5.0",
            "_model_name": "FloatProgressModel",
            "_view_count": null,
            "_view_module": "@jupyter-widgets/controls",
            "_view_module_version": "1.5.0",
            "_view_name": "ProgressView",
            "bar_style": "success",
            "description": "",
            "description_tooltip": null,
            "layout": "IPY_MODEL_3f966905ca084fa5be1bc89cc80b549d",
            "max": 746,
            "min": 0,
            "orientation": "horizontal",
            "style": "IPY_MODEL_f9357572bf78422b9307e5c47a29ed0f",
            "value": 746
          }
        },
        "b7a88b5643964356a981ac48ca9385c4": {
          "model_module": "@jupyter-widgets/controls",
          "model_name": "HTMLModel",
          "model_module_version": "1.5.0",
          "state": {
            "_dom_classes": [],
            "_model_module": "@jupyter-widgets/controls",
            "_model_module_version": "1.5.0",
            "_model_name": "HTMLModel",
            "_view_count": null,
            "_view_module": "@jupyter-widgets/controls",
            "_view_module_version": "1.5.0",
            "_view_name": "HTMLView",
            "description": "",
            "description_tooltip": null,
            "layout": "IPY_MODEL_9f47cb15e28c46339a2ea0c6f968d287",
            "placeholder": "​",
            "style": "IPY_MODEL_69fee0c16a9f4cbaa89d40b6742d6f8e",
            "value": " 746/746 [00:00&lt;00:00, 60.8kB/s]"
          }
        },
        "66f7dc5fcf104afd8f0d6c04a09f74df": {
          "model_module": "@jupyter-widgets/base",
          "model_name": "LayoutModel",
          "model_module_version": "1.2.0",
          "state": {
            "_model_module": "@jupyter-widgets/base",
            "_model_module_version": "1.2.0",
            "_model_name": "LayoutModel",
            "_view_count": null,
            "_view_module": "@jupyter-widgets/base",
            "_view_module_version": "1.2.0",
            "_view_name": "LayoutView",
            "align_content": null,
            "align_items": null,
            "align_self": null,
            "border": null,
            "bottom": null,
            "display": null,
            "flex": null,
            "flex_flow": null,
            "grid_area": null,
            "grid_auto_columns": null,
            "grid_auto_flow": null,
            "grid_auto_rows": null,
            "grid_column": null,
            "grid_gap": null,
            "grid_row": null,
            "grid_template_areas": null,
            "grid_template_columns": null,
            "grid_template_rows": null,
            "height": null,
            "justify_content": null,
            "justify_items": null,
            "left": null,
            "margin": null,
            "max_height": null,
            "max_width": null,
            "min_height": null,
            "min_width": null,
            "object_fit": null,
            "object_position": null,
            "order": null,
            "overflow": null,
            "overflow_x": null,
            "overflow_y": null,
            "padding": null,
            "right": null,
            "top": null,
            "visibility": null,
            "width": null
          }
        },
        "9273b136e6e44d6bb3f955fb16201fb3": {
          "model_module": "@jupyter-widgets/base",
          "model_name": "LayoutModel",
          "model_module_version": "1.2.0",
          "state": {
            "_model_module": "@jupyter-widgets/base",
            "_model_module_version": "1.2.0",
            "_model_name": "LayoutModel",
            "_view_count": null,
            "_view_module": "@jupyter-widgets/base",
            "_view_module_version": "1.2.0",
            "_view_name": "LayoutView",
            "align_content": null,
            "align_items": null,
            "align_self": null,
            "border": null,
            "bottom": null,
            "display": null,
            "flex": null,
            "flex_flow": null,
            "grid_area": null,
            "grid_auto_columns": null,
            "grid_auto_flow": null,
            "grid_auto_rows": null,
            "grid_column": null,
            "grid_gap": null,
            "grid_row": null,
            "grid_template_areas": null,
            "grid_template_columns": null,
            "grid_template_rows": null,
            "height": null,
            "justify_content": null,
            "justify_items": null,
            "left": null,
            "margin": null,
            "max_height": null,
            "max_width": null,
            "min_height": null,
            "min_width": null,
            "object_fit": null,
            "object_position": null,
            "order": null,
            "overflow": null,
            "overflow_x": null,
            "overflow_y": null,
            "padding": null,
            "right": null,
            "top": null,
            "visibility": null,
            "width": null
          }
        },
        "3184aaeb8265497da51da8564401d62b": {
          "model_module": "@jupyter-widgets/controls",
          "model_name": "DescriptionStyleModel",
          "model_module_version": "1.5.0",
          "state": {
            "_model_module": "@jupyter-widgets/controls",
            "_model_module_version": "1.5.0",
            "_model_name": "DescriptionStyleModel",
            "_view_count": null,
            "_view_module": "@jupyter-widgets/base",
            "_view_module_version": "1.2.0",
            "_view_name": "StyleView",
            "description_width": ""
          }
        },
        "3f966905ca084fa5be1bc89cc80b549d": {
          "model_module": "@jupyter-widgets/base",
          "model_name": "LayoutModel",
          "model_module_version": "1.2.0",
          "state": {
            "_model_module": "@jupyter-widgets/base",
            "_model_module_version": "1.2.0",
            "_model_name": "LayoutModel",
            "_view_count": null,
            "_view_module": "@jupyter-widgets/base",
            "_view_module_version": "1.2.0",
            "_view_name": "LayoutView",
            "align_content": null,
            "align_items": null,
            "align_self": null,
            "border": null,
            "bottom": null,
            "display": null,
            "flex": null,
            "flex_flow": null,
            "grid_area": null,
            "grid_auto_columns": null,
            "grid_auto_flow": null,
            "grid_auto_rows": null,
            "grid_column": null,
            "grid_gap": null,
            "grid_row": null,
            "grid_template_areas": null,
            "grid_template_columns": null,
            "grid_template_rows": null,
            "height": null,
            "justify_content": null,
            "justify_items": null,
            "left": null,
            "margin": null,
            "max_height": null,
            "max_width": null,
            "min_height": null,
            "min_width": null,
            "object_fit": null,
            "object_position": null,
            "order": null,
            "overflow": null,
            "overflow_x": null,
            "overflow_y": null,
            "padding": null,
            "right": null,
            "top": null,
            "visibility": null,
            "width": null
          }
        },
        "f9357572bf78422b9307e5c47a29ed0f": {
          "model_module": "@jupyter-widgets/controls",
          "model_name": "ProgressStyleModel",
          "model_module_version": "1.5.0",
          "state": {
            "_model_module": "@jupyter-widgets/controls",
            "_model_module_version": "1.5.0",
            "_model_name": "ProgressStyleModel",
            "_view_count": null,
            "_view_module": "@jupyter-widgets/base",
            "_view_module_version": "1.2.0",
            "_view_name": "StyleView",
            "bar_color": null,
            "description_width": ""
          }
        },
        "9f47cb15e28c46339a2ea0c6f968d287": {
          "model_module": "@jupyter-widgets/base",
          "model_name": "LayoutModel",
          "model_module_version": "1.2.0",
          "state": {
            "_model_module": "@jupyter-widgets/base",
            "_model_module_version": "1.2.0",
            "_model_name": "LayoutModel",
            "_view_count": null,
            "_view_module": "@jupyter-widgets/base",
            "_view_module_version": "1.2.0",
            "_view_name": "LayoutView",
            "align_content": null,
            "align_items": null,
            "align_self": null,
            "border": null,
            "bottom": null,
            "display": null,
            "flex": null,
            "flex_flow": null,
            "grid_area": null,
            "grid_auto_columns": null,
            "grid_auto_flow": null,
            "grid_auto_rows": null,
            "grid_column": null,
            "grid_gap": null,
            "grid_row": null,
            "grid_template_areas": null,
            "grid_template_columns": null,
            "grid_template_rows": null,
            "height": null,
            "justify_content": null,
            "justify_items": null,
            "left": null,
            "margin": null,
            "max_height": null,
            "max_width": null,
            "min_height": null,
            "min_width": null,
            "object_fit": null,
            "object_position": null,
            "order": null,
            "overflow": null,
            "overflow_x": null,
            "overflow_y": null,
            "padding": null,
            "right": null,
            "top": null,
            "visibility": null,
            "width": null
          }
        },
        "69fee0c16a9f4cbaa89d40b6742d6f8e": {
          "model_module": "@jupyter-widgets/controls",
          "model_name": "DescriptionStyleModel",
          "model_module_version": "1.5.0",
          "state": {
            "_model_module": "@jupyter-widgets/controls",
            "_model_module_version": "1.5.0",
            "_model_name": "DescriptionStyleModel",
            "_view_count": null,
            "_view_module": "@jupyter-widgets/base",
            "_view_module_version": "1.2.0",
            "_view_name": "StyleView",
            "description_width": ""
          }
        },
        "c5254db3a38a4e4995b9ff112ba5d727": {
          "model_module": "@jupyter-widgets/controls",
          "model_name": "HBoxModel",
          "model_module_version": "1.5.0",
          "state": {
            "_dom_classes": [],
            "_model_module": "@jupyter-widgets/controls",
            "_model_module_version": "1.5.0",
            "_model_name": "HBoxModel",
            "_view_count": null,
            "_view_module": "@jupyter-widgets/controls",
            "_view_module_version": "1.5.0",
            "_view_name": "HBoxView",
            "box_style": "",
            "children": [
              "IPY_MODEL_f55e07e1b90346a2a11f2179953e5948",
              "IPY_MODEL_1b6626c88ffb4b1ab0304aad3d0b32e4",
              "IPY_MODEL_d4032b7de7cf43b7be40e1c4b26413e6"
            ],
            "layout": "IPY_MODEL_46bb7a9989544a3287b1c4c4dcc8791c"
          }
        },
        "f55e07e1b90346a2a11f2179953e5948": {
          "model_module": "@jupyter-widgets/controls",
          "model_name": "HTMLModel",
          "model_module_version": "1.5.0",
          "state": {
            "_dom_classes": [],
            "_model_module": "@jupyter-widgets/controls",
            "_model_module_version": "1.5.0",
            "_model_name": "HTMLModel",
            "_view_count": null,
            "_view_module": "@jupyter-widgets/controls",
            "_view_module_version": "1.5.0",
            "_view_name": "HTMLView",
            "description": "",
            "description_tooltip": null,
            "layout": "IPY_MODEL_8b6b4bc8f1b8425c8d028e59ad20184d",
            "placeholder": "​",
            "style": "IPY_MODEL_6d6b8d0c42b24533846af23b219c0a7a",
            "value": "tokenizer.model: 100%"
          }
        },
        "1b6626c88ffb4b1ab0304aad3d0b32e4": {
          "model_module": "@jupyter-widgets/controls",
          "model_name": "FloatProgressModel",
          "model_module_version": "1.5.0",
          "state": {
            "_dom_classes": [],
            "_model_module": "@jupyter-widgets/controls",
            "_model_module_version": "1.5.0",
            "_model_name": "FloatProgressModel",
            "_view_count": null,
            "_view_module": "@jupyter-widgets/controls",
            "_view_module_version": "1.5.0",
            "_view_name": "ProgressView",
            "bar_style": "success",
            "description": "",
            "description_tooltip": null,
            "layout": "IPY_MODEL_74e26fafe2924d848890c82b676f641a",
            "max": 499723,
            "min": 0,
            "orientation": "horizontal",
            "style": "IPY_MODEL_5f4067077c9a4e0f910118acd596cfb7",
            "value": 499723
          }
        },
        "d4032b7de7cf43b7be40e1c4b26413e6": {
          "model_module": "@jupyter-widgets/controls",
          "model_name": "HTMLModel",
          "model_module_version": "1.5.0",
          "state": {
            "_dom_classes": [],
            "_model_module": "@jupyter-widgets/controls",
            "_model_module_version": "1.5.0",
            "_model_name": "HTMLModel",
            "_view_count": null,
            "_view_module": "@jupyter-widgets/controls",
            "_view_module_version": "1.5.0",
            "_view_name": "HTMLView",
            "description": "",
            "description_tooltip": null,
            "layout": "IPY_MODEL_ad415121bb0f40beab19e0b04a9ac92a",
            "placeholder": "​",
            "style": "IPY_MODEL_cd006b154a184fc6a27c24a16725094a",
            "value": " 500k/500k [00:00&lt;00:00, 34.1MB/s]"
          }
        },
        "46bb7a9989544a3287b1c4c4dcc8791c": {
          "model_module": "@jupyter-widgets/base",
          "model_name": "LayoutModel",
          "model_module_version": "1.2.0",
          "state": {
            "_model_module": "@jupyter-widgets/base",
            "_model_module_version": "1.2.0",
            "_model_name": "LayoutModel",
            "_view_count": null,
            "_view_module": "@jupyter-widgets/base",
            "_view_module_version": "1.2.0",
            "_view_name": "LayoutView",
            "align_content": null,
            "align_items": null,
            "align_self": null,
            "border": null,
            "bottom": null,
            "display": null,
            "flex": null,
            "flex_flow": null,
            "grid_area": null,
            "grid_auto_columns": null,
            "grid_auto_flow": null,
            "grid_auto_rows": null,
            "grid_column": null,
            "grid_gap": null,
            "grid_row": null,
            "grid_template_areas": null,
            "grid_template_columns": null,
            "grid_template_rows": null,
            "height": null,
            "justify_content": null,
            "justify_items": null,
            "left": null,
            "margin": null,
            "max_height": null,
            "max_width": null,
            "min_height": null,
            "min_width": null,
            "object_fit": null,
            "object_position": null,
            "order": null,
            "overflow": null,
            "overflow_x": null,
            "overflow_y": null,
            "padding": null,
            "right": null,
            "top": null,
            "visibility": null,
            "width": null
          }
        },
        "8b6b4bc8f1b8425c8d028e59ad20184d": {
          "model_module": "@jupyter-widgets/base",
          "model_name": "LayoutModel",
          "model_module_version": "1.2.0",
          "state": {
            "_model_module": "@jupyter-widgets/base",
            "_model_module_version": "1.2.0",
            "_model_name": "LayoutModel",
            "_view_count": null,
            "_view_module": "@jupyter-widgets/base",
            "_view_module_version": "1.2.0",
            "_view_name": "LayoutView",
            "align_content": null,
            "align_items": null,
            "align_self": null,
            "border": null,
            "bottom": null,
            "display": null,
            "flex": null,
            "flex_flow": null,
            "grid_area": null,
            "grid_auto_columns": null,
            "grid_auto_flow": null,
            "grid_auto_rows": null,
            "grid_column": null,
            "grid_gap": null,
            "grid_row": null,
            "grid_template_areas": null,
            "grid_template_columns": null,
            "grid_template_rows": null,
            "height": null,
            "justify_content": null,
            "justify_items": null,
            "left": null,
            "margin": null,
            "max_height": null,
            "max_width": null,
            "min_height": null,
            "min_width": null,
            "object_fit": null,
            "object_position": null,
            "order": null,
            "overflow": null,
            "overflow_x": null,
            "overflow_y": null,
            "padding": null,
            "right": null,
            "top": null,
            "visibility": null,
            "width": null
          }
        },
        "6d6b8d0c42b24533846af23b219c0a7a": {
          "model_module": "@jupyter-widgets/controls",
          "model_name": "DescriptionStyleModel",
          "model_module_version": "1.5.0",
          "state": {
            "_model_module": "@jupyter-widgets/controls",
            "_model_module_version": "1.5.0",
            "_model_name": "DescriptionStyleModel",
            "_view_count": null,
            "_view_module": "@jupyter-widgets/base",
            "_view_module_version": "1.2.0",
            "_view_name": "StyleView",
            "description_width": ""
          }
        },
        "74e26fafe2924d848890c82b676f641a": {
          "model_module": "@jupyter-widgets/base",
          "model_name": "LayoutModel",
          "model_module_version": "1.2.0",
          "state": {
            "_model_module": "@jupyter-widgets/base",
            "_model_module_version": "1.2.0",
            "_model_name": "LayoutModel",
            "_view_count": null,
            "_view_module": "@jupyter-widgets/base",
            "_view_module_version": "1.2.0",
            "_view_name": "LayoutView",
            "align_content": null,
            "align_items": null,
            "align_self": null,
            "border": null,
            "bottom": null,
            "display": null,
            "flex": null,
            "flex_flow": null,
            "grid_area": null,
            "grid_auto_columns": null,
            "grid_auto_flow": null,
            "grid_auto_rows": null,
            "grid_column": null,
            "grid_gap": null,
            "grid_row": null,
            "grid_template_areas": null,
            "grid_template_columns": null,
            "grid_template_rows": null,
            "height": null,
            "justify_content": null,
            "justify_items": null,
            "left": null,
            "margin": null,
            "max_height": null,
            "max_width": null,
            "min_height": null,
            "min_width": null,
            "object_fit": null,
            "object_position": null,
            "order": null,
            "overflow": null,
            "overflow_x": null,
            "overflow_y": null,
            "padding": null,
            "right": null,
            "top": null,
            "visibility": null,
            "width": null
          }
        },
        "5f4067077c9a4e0f910118acd596cfb7": {
          "model_module": "@jupyter-widgets/controls",
          "model_name": "ProgressStyleModel",
          "model_module_version": "1.5.0",
          "state": {
            "_model_module": "@jupyter-widgets/controls",
            "_model_module_version": "1.5.0",
            "_model_name": "ProgressStyleModel",
            "_view_count": null,
            "_view_module": "@jupyter-widgets/base",
            "_view_module_version": "1.2.0",
            "_view_name": "StyleView",
            "bar_color": null,
            "description_width": ""
          }
        },
        "ad415121bb0f40beab19e0b04a9ac92a": {
          "model_module": "@jupyter-widgets/base",
          "model_name": "LayoutModel",
          "model_module_version": "1.2.0",
          "state": {
            "_model_module": "@jupyter-widgets/base",
            "_model_module_version": "1.2.0",
            "_model_name": "LayoutModel",
            "_view_count": null,
            "_view_module": "@jupyter-widgets/base",
            "_view_module_version": "1.2.0",
            "_view_name": "LayoutView",
            "align_content": null,
            "align_items": null,
            "align_self": null,
            "border": null,
            "bottom": null,
            "display": null,
            "flex": null,
            "flex_flow": null,
            "grid_area": null,
            "grid_auto_columns": null,
            "grid_auto_flow": null,
            "grid_auto_rows": null,
            "grid_column": null,
            "grid_gap": null,
            "grid_row": null,
            "grid_template_areas": null,
            "grid_template_columns": null,
            "grid_template_rows": null,
            "height": null,
            "justify_content": null,
            "justify_items": null,
            "left": null,
            "margin": null,
            "max_height": null,
            "max_width": null,
            "min_height": null,
            "min_width": null,
            "object_fit": null,
            "object_position": null,
            "order": null,
            "overflow": null,
            "overflow_x": null,
            "overflow_y": null,
            "padding": null,
            "right": null,
            "top": null,
            "visibility": null,
            "width": null
          }
        },
        "cd006b154a184fc6a27c24a16725094a": {
          "model_module": "@jupyter-widgets/controls",
          "model_name": "DescriptionStyleModel",
          "model_module_version": "1.5.0",
          "state": {
            "_model_module": "@jupyter-widgets/controls",
            "_model_module_version": "1.5.0",
            "_model_name": "DescriptionStyleModel",
            "_view_count": null,
            "_view_module": "@jupyter-widgets/base",
            "_view_module_version": "1.2.0",
            "_view_name": "StyleView",
            "description_width": ""
          }
        },
        "1f44d84bd28f42bbb9d7ff2d05214e72": {
          "model_module": "@jupyter-widgets/controls",
          "model_name": "HBoxModel",
          "model_module_version": "1.5.0",
          "state": {
            "_dom_classes": [],
            "_model_module": "@jupyter-widgets/controls",
            "_model_module_version": "1.5.0",
            "_model_name": "HBoxModel",
            "_view_count": null,
            "_view_module": "@jupyter-widgets/controls",
            "_view_module_version": "1.5.0",
            "_view_name": "HBoxView",
            "box_style": "",
            "children": [
              "IPY_MODEL_8e149953efd34beeb642a8639a062e8d",
              "IPY_MODEL_a7f6f812c029485a9e31f8b767b22e7f",
              "IPY_MODEL_a6b66a093dcc4ff7a88bc745d0348202"
            ],
            "layout": "IPY_MODEL_da1939b0bd7b400eaca5f559a5b76e26"
          }
        },
        "8e149953efd34beeb642a8639a062e8d": {
          "model_module": "@jupyter-widgets/controls",
          "model_name": "HTMLModel",
          "model_module_version": "1.5.0",
          "state": {
            "_dom_classes": [],
            "_model_module": "@jupyter-widgets/controls",
            "_model_module_version": "1.5.0",
            "_model_name": "HTMLModel",
            "_view_count": null,
            "_view_module": "@jupyter-widgets/controls",
            "_view_module_version": "1.5.0",
            "_view_name": "HTMLView",
            "description": "",
            "description_tooltip": null,
            "layout": "IPY_MODEL_7186ff7dbd7043bdb18c6ae2ece5ff3d",
            "placeholder": "​",
            "style": "IPY_MODEL_283f41e7cc144a2392b1627d683ec88e",
            "value": "tokenizer.json: 100%"
          }
        },
        "a7f6f812c029485a9e31f8b767b22e7f": {
          "model_module": "@jupyter-widgets/controls",
          "model_name": "FloatProgressModel",
          "model_module_version": "1.5.0",
          "state": {
            "_dom_classes": [],
            "_model_module": "@jupyter-widgets/controls",
            "_model_module_version": "1.5.0",
            "_model_name": "FloatProgressModel",
            "_view_count": null,
            "_view_module": "@jupyter-widgets/controls",
            "_view_module_version": "1.5.0",
            "_view_name": "ProgressView",
            "bar_style": "success",
            "description": "",
            "description_tooltip": null,
            "layout": "IPY_MODEL_19358115af334c38892c4ace131c0d21",
            "max": 1842764,
            "min": 0,
            "orientation": "horizontal",
            "style": "IPY_MODEL_4b17215f865a4c8db6c1fd155cc97539",
            "value": 1842764
          }
        },
        "a6b66a093dcc4ff7a88bc745d0348202": {
          "model_module": "@jupyter-widgets/controls",
          "model_name": "HTMLModel",
          "model_module_version": "1.5.0",
          "state": {
            "_dom_classes": [],
            "_model_module": "@jupyter-widgets/controls",
            "_model_module_version": "1.5.0",
            "_model_name": "HTMLModel",
            "_view_count": null,
            "_view_module": "@jupyter-widgets/controls",
            "_view_module_version": "1.5.0",
            "_view_name": "HTMLView",
            "description": "",
            "description_tooltip": null,
            "layout": "IPY_MODEL_525dd617bc45409cbc9a984c768f10fe",
            "placeholder": "​",
            "style": "IPY_MODEL_c97b4162c83843a69768fdefd3e6b37a",
            "value": " 1.84M/1.84M [00:00&lt;00:00, 9.45MB/s]"
          }
        },
        "da1939b0bd7b400eaca5f559a5b76e26": {
          "model_module": "@jupyter-widgets/base",
          "model_name": "LayoutModel",
          "model_module_version": "1.2.0",
          "state": {
            "_model_module": "@jupyter-widgets/base",
            "_model_module_version": "1.2.0",
            "_model_name": "LayoutModel",
            "_view_count": null,
            "_view_module": "@jupyter-widgets/base",
            "_view_module_version": "1.2.0",
            "_view_name": "LayoutView",
            "align_content": null,
            "align_items": null,
            "align_self": null,
            "border": null,
            "bottom": null,
            "display": null,
            "flex": null,
            "flex_flow": null,
            "grid_area": null,
            "grid_auto_columns": null,
            "grid_auto_flow": null,
            "grid_auto_rows": null,
            "grid_column": null,
            "grid_gap": null,
            "grid_row": null,
            "grid_template_areas": null,
            "grid_template_columns": null,
            "grid_template_rows": null,
            "height": null,
            "justify_content": null,
            "justify_items": null,
            "left": null,
            "margin": null,
            "max_height": null,
            "max_width": null,
            "min_height": null,
            "min_width": null,
            "object_fit": null,
            "object_position": null,
            "order": null,
            "overflow": null,
            "overflow_x": null,
            "overflow_y": null,
            "padding": null,
            "right": null,
            "top": null,
            "visibility": null,
            "width": null
          }
        },
        "7186ff7dbd7043bdb18c6ae2ece5ff3d": {
          "model_module": "@jupyter-widgets/base",
          "model_name": "LayoutModel",
          "model_module_version": "1.2.0",
          "state": {
            "_model_module": "@jupyter-widgets/base",
            "_model_module_version": "1.2.0",
            "_model_name": "LayoutModel",
            "_view_count": null,
            "_view_module": "@jupyter-widgets/base",
            "_view_module_version": "1.2.0",
            "_view_name": "LayoutView",
            "align_content": null,
            "align_items": null,
            "align_self": null,
            "border": null,
            "bottom": null,
            "display": null,
            "flex": null,
            "flex_flow": null,
            "grid_area": null,
            "grid_auto_columns": null,
            "grid_auto_flow": null,
            "grid_auto_rows": null,
            "grid_column": null,
            "grid_gap": null,
            "grid_row": null,
            "grid_template_areas": null,
            "grid_template_columns": null,
            "grid_template_rows": null,
            "height": null,
            "justify_content": null,
            "justify_items": null,
            "left": null,
            "margin": null,
            "max_height": null,
            "max_width": null,
            "min_height": null,
            "min_width": null,
            "object_fit": null,
            "object_position": null,
            "order": null,
            "overflow": null,
            "overflow_x": null,
            "overflow_y": null,
            "padding": null,
            "right": null,
            "top": null,
            "visibility": null,
            "width": null
          }
        },
        "283f41e7cc144a2392b1627d683ec88e": {
          "model_module": "@jupyter-widgets/controls",
          "model_name": "DescriptionStyleModel",
          "model_module_version": "1.5.0",
          "state": {
            "_model_module": "@jupyter-widgets/controls",
            "_model_module_version": "1.5.0",
            "_model_name": "DescriptionStyleModel",
            "_view_count": null,
            "_view_module": "@jupyter-widgets/base",
            "_view_module_version": "1.2.0",
            "_view_name": "StyleView",
            "description_width": ""
          }
        },
        "19358115af334c38892c4ace131c0d21": {
          "model_module": "@jupyter-widgets/base",
          "model_name": "LayoutModel",
          "model_module_version": "1.2.0",
          "state": {
            "_model_module": "@jupyter-widgets/base",
            "_model_module_version": "1.2.0",
            "_model_name": "LayoutModel",
            "_view_count": null,
            "_view_module": "@jupyter-widgets/base",
            "_view_module_version": "1.2.0",
            "_view_name": "LayoutView",
            "align_content": null,
            "align_items": null,
            "align_self": null,
            "border": null,
            "bottom": null,
            "display": null,
            "flex": null,
            "flex_flow": null,
            "grid_area": null,
            "grid_auto_columns": null,
            "grid_auto_flow": null,
            "grid_auto_rows": null,
            "grid_column": null,
            "grid_gap": null,
            "grid_row": null,
            "grid_template_areas": null,
            "grid_template_columns": null,
            "grid_template_rows": null,
            "height": null,
            "justify_content": null,
            "justify_items": null,
            "left": null,
            "margin": null,
            "max_height": null,
            "max_width": null,
            "min_height": null,
            "min_width": null,
            "object_fit": null,
            "object_position": null,
            "order": null,
            "overflow": null,
            "overflow_x": null,
            "overflow_y": null,
            "padding": null,
            "right": null,
            "top": null,
            "visibility": null,
            "width": null
          }
        },
        "4b17215f865a4c8db6c1fd155cc97539": {
          "model_module": "@jupyter-widgets/controls",
          "model_name": "ProgressStyleModel",
          "model_module_version": "1.5.0",
          "state": {
            "_model_module": "@jupyter-widgets/controls",
            "_model_module_version": "1.5.0",
            "_model_name": "ProgressStyleModel",
            "_view_count": null,
            "_view_module": "@jupyter-widgets/base",
            "_view_module_version": "1.2.0",
            "_view_name": "StyleView",
            "bar_color": null,
            "description_width": ""
          }
        },
        "525dd617bc45409cbc9a984c768f10fe": {
          "model_module": "@jupyter-widgets/base",
          "model_name": "LayoutModel",
          "model_module_version": "1.2.0",
          "state": {
            "_model_module": "@jupyter-widgets/base",
            "_model_module_version": "1.2.0",
            "_model_name": "LayoutModel",
            "_view_count": null,
            "_view_module": "@jupyter-widgets/base",
            "_view_module_version": "1.2.0",
            "_view_name": "LayoutView",
            "align_content": null,
            "align_items": null,
            "align_self": null,
            "border": null,
            "bottom": null,
            "display": null,
            "flex": null,
            "flex_flow": null,
            "grid_area": null,
            "grid_auto_columns": null,
            "grid_auto_flow": null,
            "grid_auto_rows": null,
            "grid_column": null,
            "grid_gap": null,
            "grid_row": null,
            "grid_template_areas": null,
            "grid_template_columns": null,
            "grid_template_rows": null,
            "height": null,
            "justify_content": null,
            "justify_items": null,
            "left": null,
            "margin": null,
            "max_height": null,
            "max_width": null,
            "min_height": null,
            "min_width": null,
            "object_fit": null,
            "object_position": null,
            "order": null,
            "overflow": null,
            "overflow_x": null,
            "overflow_y": null,
            "padding": null,
            "right": null,
            "top": null,
            "visibility": null,
            "width": null
          }
        },
        "c97b4162c83843a69768fdefd3e6b37a": {
          "model_module": "@jupyter-widgets/controls",
          "model_name": "DescriptionStyleModel",
          "model_module_version": "1.5.0",
          "state": {
            "_model_module": "@jupyter-widgets/controls",
            "_model_module_version": "1.5.0",
            "_model_name": "DescriptionStyleModel",
            "_view_count": null,
            "_view_module": "@jupyter-widgets/base",
            "_view_module_version": "1.2.0",
            "_view_name": "StyleView",
            "description_width": ""
          }
        },
        "0b35a29921c140259e48dbeda5b94481": {
          "model_module": "@jupyter-widgets/controls",
          "model_name": "HBoxModel",
          "model_module_version": "1.5.0",
          "state": {
            "_dom_classes": [],
            "_model_module": "@jupyter-widgets/controls",
            "_model_module_version": "1.5.0",
            "_model_name": "HBoxModel",
            "_view_count": null,
            "_view_module": "@jupyter-widgets/controls",
            "_view_module_version": "1.5.0",
            "_view_name": "HBoxView",
            "box_style": "",
            "children": [
              "IPY_MODEL_ef7936d1cebd40ccaf106b1f09e0364c",
              "IPY_MODEL_f837eb9d483e4882aa1fe251048a8575",
              "IPY_MODEL_6d6db313e73f41a4ada2b00bb3176fc6"
            ],
            "layout": "IPY_MODEL_0833cc33e85044af9e76db04c5005ba1"
          }
        },
        "ef7936d1cebd40ccaf106b1f09e0364c": {
          "model_module": "@jupyter-widgets/controls",
          "model_name": "HTMLModel",
          "model_module_version": "1.5.0",
          "state": {
            "_dom_classes": [],
            "_model_module": "@jupyter-widgets/controls",
            "_model_module_version": "1.5.0",
            "_model_name": "HTMLModel",
            "_view_count": null,
            "_view_module": "@jupyter-widgets/controls",
            "_view_module_version": "1.5.0",
            "_view_name": "HTMLView",
            "description": "",
            "description_tooltip": null,
            "layout": "IPY_MODEL_a9ec69fdba574ae8b818e070be755eda",
            "placeholder": "​",
            "style": "IPY_MODEL_33cee01295b041c68f9b95bc5ffc1364",
            "value": "added_tokens.json: 100%"
          }
        },
        "f837eb9d483e4882aa1fe251048a8575": {
          "model_module": "@jupyter-widgets/controls",
          "model_name": "FloatProgressModel",
          "model_module_version": "1.5.0",
          "state": {
            "_dom_classes": [],
            "_model_module": "@jupyter-widgets/controls",
            "_model_module_version": "1.5.0",
            "_model_name": "FloatProgressModel",
            "_view_count": null,
            "_view_module": "@jupyter-widgets/controls",
            "_view_module_version": "1.5.0",
            "_view_name": "ProgressView",
            "bar_style": "success",
            "description": "",
            "description_tooltip": null,
            "layout": "IPY_MODEL_6503868046f84805b9d61fbd37d1a79f",
            "max": 21,
            "min": 0,
            "orientation": "horizontal",
            "style": "IPY_MODEL_6500cfa686a04be28677e749a2c154d8",
            "value": 21
          }
        },
        "6d6db313e73f41a4ada2b00bb3176fc6": {
          "model_module": "@jupyter-widgets/controls",
          "model_name": "HTMLModel",
          "model_module_version": "1.5.0",
          "state": {
            "_dom_classes": [],
            "_model_module": "@jupyter-widgets/controls",
            "_model_module_version": "1.5.0",
            "_model_name": "HTMLModel",
            "_view_count": null,
            "_view_module": "@jupyter-widgets/controls",
            "_view_module_version": "1.5.0",
            "_view_name": "HTMLView",
            "description": "",
            "description_tooltip": null,
            "layout": "IPY_MODEL_d0d6f7f160c84da5b9ead4da5994f937",
            "placeholder": "​",
            "style": "IPY_MODEL_3c272a8a63d0413d8b72ba28e1f8caff",
            "value": " 21.0/21.0 [00:00&lt;00:00, 1.68kB/s]"
          }
        },
        "0833cc33e85044af9e76db04c5005ba1": {
          "model_module": "@jupyter-widgets/base",
          "model_name": "LayoutModel",
          "model_module_version": "1.2.0",
          "state": {
            "_model_module": "@jupyter-widgets/base",
            "_model_module_version": "1.2.0",
            "_model_name": "LayoutModel",
            "_view_count": null,
            "_view_module": "@jupyter-widgets/base",
            "_view_module_version": "1.2.0",
            "_view_name": "LayoutView",
            "align_content": null,
            "align_items": null,
            "align_self": null,
            "border": null,
            "bottom": null,
            "display": null,
            "flex": null,
            "flex_flow": null,
            "grid_area": null,
            "grid_auto_columns": null,
            "grid_auto_flow": null,
            "grid_auto_rows": null,
            "grid_column": null,
            "grid_gap": null,
            "grid_row": null,
            "grid_template_areas": null,
            "grid_template_columns": null,
            "grid_template_rows": null,
            "height": null,
            "justify_content": null,
            "justify_items": null,
            "left": null,
            "margin": null,
            "max_height": null,
            "max_width": null,
            "min_height": null,
            "min_width": null,
            "object_fit": null,
            "object_position": null,
            "order": null,
            "overflow": null,
            "overflow_x": null,
            "overflow_y": null,
            "padding": null,
            "right": null,
            "top": null,
            "visibility": null,
            "width": null
          }
        },
        "a9ec69fdba574ae8b818e070be755eda": {
          "model_module": "@jupyter-widgets/base",
          "model_name": "LayoutModel",
          "model_module_version": "1.2.0",
          "state": {
            "_model_module": "@jupyter-widgets/base",
            "_model_module_version": "1.2.0",
            "_model_name": "LayoutModel",
            "_view_count": null,
            "_view_module": "@jupyter-widgets/base",
            "_view_module_version": "1.2.0",
            "_view_name": "LayoutView",
            "align_content": null,
            "align_items": null,
            "align_self": null,
            "border": null,
            "bottom": null,
            "display": null,
            "flex": null,
            "flex_flow": null,
            "grid_area": null,
            "grid_auto_columns": null,
            "grid_auto_flow": null,
            "grid_auto_rows": null,
            "grid_column": null,
            "grid_gap": null,
            "grid_row": null,
            "grid_template_areas": null,
            "grid_template_columns": null,
            "grid_template_rows": null,
            "height": null,
            "justify_content": null,
            "justify_items": null,
            "left": null,
            "margin": null,
            "max_height": null,
            "max_width": null,
            "min_height": null,
            "min_width": null,
            "object_fit": null,
            "object_position": null,
            "order": null,
            "overflow": null,
            "overflow_x": null,
            "overflow_y": null,
            "padding": null,
            "right": null,
            "top": null,
            "visibility": null,
            "width": null
          }
        },
        "33cee01295b041c68f9b95bc5ffc1364": {
          "model_module": "@jupyter-widgets/controls",
          "model_name": "DescriptionStyleModel",
          "model_module_version": "1.5.0",
          "state": {
            "_model_module": "@jupyter-widgets/controls",
            "_model_module_version": "1.5.0",
            "_model_name": "DescriptionStyleModel",
            "_view_count": null,
            "_view_module": "@jupyter-widgets/base",
            "_view_module_version": "1.2.0",
            "_view_name": "StyleView",
            "description_width": ""
          }
        },
        "6503868046f84805b9d61fbd37d1a79f": {
          "model_module": "@jupyter-widgets/base",
          "model_name": "LayoutModel",
          "model_module_version": "1.2.0",
          "state": {
            "_model_module": "@jupyter-widgets/base",
            "_model_module_version": "1.2.0",
            "_model_name": "LayoutModel",
            "_view_count": null,
            "_view_module": "@jupyter-widgets/base",
            "_view_module_version": "1.2.0",
            "_view_name": "LayoutView",
            "align_content": null,
            "align_items": null,
            "align_self": null,
            "border": null,
            "bottom": null,
            "display": null,
            "flex": null,
            "flex_flow": null,
            "grid_area": null,
            "grid_auto_columns": null,
            "grid_auto_flow": null,
            "grid_auto_rows": null,
            "grid_column": null,
            "grid_gap": null,
            "grid_row": null,
            "grid_template_areas": null,
            "grid_template_columns": null,
            "grid_template_rows": null,
            "height": null,
            "justify_content": null,
            "justify_items": null,
            "left": null,
            "margin": null,
            "max_height": null,
            "max_width": null,
            "min_height": null,
            "min_width": null,
            "object_fit": null,
            "object_position": null,
            "order": null,
            "overflow": null,
            "overflow_x": null,
            "overflow_y": null,
            "padding": null,
            "right": null,
            "top": null,
            "visibility": null,
            "width": null
          }
        },
        "6500cfa686a04be28677e749a2c154d8": {
          "model_module": "@jupyter-widgets/controls",
          "model_name": "ProgressStyleModel",
          "model_module_version": "1.5.0",
          "state": {
            "_model_module": "@jupyter-widgets/controls",
            "_model_module_version": "1.5.0",
            "_model_name": "ProgressStyleModel",
            "_view_count": null,
            "_view_module": "@jupyter-widgets/base",
            "_view_module_version": "1.2.0",
            "_view_name": "StyleView",
            "bar_color": null,
            "description_width": ""
          }
        },
        "d0d6f7f160c84da5b9ead4da5994f937": {
          "model_module": "@jupyter-widgets/base",
          "model_name": "LayoutModel",
          "model_module_version": "1.2.0",
          "state": {
            "_model_module": "@jupyter-widgets/base",
            "_model_module_version": "1.2.0",
            "_model_name": "LayoutModel",
            "_view_count": null,
            "_view_module": "@jupyter-widgets/base",
            "_view_module_version": "1.2.0",
            "_view_name": "LayoutView",
            "align_content": null,
            "align_items": null,
            "align_self": null,
            "border": null,
            "bottom": null,
            "display": null,
            "flex": null,
            "flex_flow": null,
            "grid_area": null,
            "grid_auto_columns": null,
            "grid_auto_flow": null,
            "grid_auto_rows": null,
            "grid_column": null,
            "grid_gap": null,
            "grid_row": null,
            "grid_template_areas": null,
            "grid_template_columns": null,
            "grid_template_rows": null,
            "height": null,
            "justify_content": null,
            "justify_items": null,
            "left": null,
            "margin": null,
            "max_height": null,
            "max_width": null,
            "min_height": null,
            "min_width": null,
            "object_fit": null,
            "object_position": null,
            "order": null,
            "overflow": null,
            "overflow_x": null,
            "overflow_y": null,
            "padding": null,
            "right": null,
            "top": null,
            "visibility": null,
            "width": null
          }
        },
        "3c272a8a63d0413d8b72ba28e1f8caff": {
          "model_module": "@jupyter-widgets/controls",
          "model_name": "DescriptionStyleModel",
          "model_module_version": "1.5.0",
          "state": {
            "_model_module": "@jupyter-widgets/controls",
            "_model_module_version": "1.5.0",
            "_model_name": "DescriptionStyleModel",
            "_view_count": null,
            "_view_module": "@jupyter-widgets/base",
            "_view_module_version": "1.2.0",
            "_view_name": "StyleView",
            "description_width": ""
          }
        },
        "0aa4c29959af45c388eb4efc8e371797": {
          "model_module": "@jupyter-widgets/controls",
          "model_name": "HBoxModel",
          "model_module_version": "1.5.0",
          "state": {
            "_dom_classes": [],
            "_model_module": "@jupyter-widgets/controls",
            "_model_module_version": "1.5.0",
            "_model_name": "HBoxModel",
            "_view_count": null,
            "_view_module": "@jupyter-widgets/controls",
            "_view_module_version": "1.5.0",
            "_view_name": "HBoxView",
            "box_style": "",
            "children": [
              "IPY_MODEL_24aefd6d75e64c44a0b2b31f8bf3405f",
              "IPY_MODEL_771299e9847f4bbb8e114e9c100adbca",
              "IPY_MODEL_b36897cba922470a85bdeb984020f8b9"
            ],
            "layout": "IPY_MODEL_8a349a9448e3445e805eb71d5a3214f1"
          }
        },
        "24aefd6d75e64c44a0b2b31f8bf3405f": {
          "model_module": "@jupyter-widgets/controls",
          "model_name": "HTMLModel",
          "model_module_version": "1.5.0",
          "state": {
            "_dom_classes": [],
            "_model_module": "@jupyter-widgets/controls",
            "_model_module_version": "1.5.0",
            "_model_name": "HTMLModel",
            "_view_count": null,
            "_view_module": "@jupyter-widgets/controls",
            "_view_module_version": "1.5.0",
            "_view_name": "HTMLView",
            "description": "",
            "description_tooltip": null,
            "layout": "IPY_MODEL_da0886cacf934a0b97b697ef3a057433",
            "placeholder": "​",
            "style": "IPY_MODEL_b366e53db4e142cca1139ba143138bef",
            "value": "special_tokens_map.json: 100%"
          }
        },
        "771299e9847f4bbb8e114e9c100adbca": {
          "model_module": "@jupyter-widgets/controls",
          "model_name": "FloatProgressModel",
          "model_module_version": "1.5.0",
          "state": {
            "_dom_classes": [],
            "_model_module": "@jupyter-widgets/controls",
            "_model_module_version": "1.5.0",
            "_model_name": "FloatProgressModel",
            "_view_count": null,
            "_view_module": "@jupyter-widgets/controls",
            "_view_module_version": "1.5.0",
            "_view_name": "ProgressView",
            "bar_style": "success",
            "description": "",
            "description_tooltip": null,
            "layout": "IPY_MODEL_b577befa4921475dbb7be4c0eba9f35f",
            "max": 435,
            "min": 0,
            "orientation": "horizontal",
            "style": "IPY_MODEL_265a9dbc62d44a8e8f968c1e296b119f",
            "value": 435
          }
        },
        "b36897cba922470a85bdeb984020f8b9": {
          "model_module": "@jupyter-widgets/controls",
          "model_name": "HTMLModel",
          "model_module_version": "1.5.0",
          "state": {
            "_dom_classes": [],
            "_model_module": "@jupyter-widgets/controls",
            "_model_module_version": "1.5.0",
            "_model_name": "HTMLModel",
            "_view_count": null,
            "_view_module": "@jupyter-widgets/controls",
            "_view_module_version": "1.5.0",
            "_view_name": "HTMLView",
            "description": "",
            "description_tooltip": null,
            "layout": "IPY_MODEL_d8f1907aacd3479584cf7f84a2ffbb0f",
            "placeholder": "​",
            "style": "IPY_MODEL_6f7761af095b4aa5b6813438f32afd3a",
            "value": " 435/435 [00:00&lt;00:00, 36.5kB/s]"
          }
        },
        "8a349a9448e3445e805eb71d5a3214f1": {
          "model_module": "@jupyter-widgets/base",
          "model_name": "LayoutModel",
          "model_module_version": "1.2.0",
          "state": {
            "_model_module": "@jupyter-widgets/base",
            "_model_module_version": "1.2.0",
            "_model_name": "LayoutModel",
            "_view_count": null,
            "_view_module": "@jupyter-widgets/base",
            "_view_module_version": "1.2.0",
            "_view_name": "LayoutView",
            "align_content": null,
            "align_items": null,
            "align_self": null,
            "border": null,
            "bottom": null,
            "display": null,
            "flex": null,
            "flex_flow": null,
            "grid_area": null,
            "grid_auto_columns": null,
            "grid_auto_flow": null,
            "grid_auto_rows": null,
            "grid_column": null,
            "grid_gap": null,
            "grid_row": null,
            "grid_template_areas": null,
            "grid_template_columns": null,
            "grid_template_rows": null,
            "height": null,
            "justify_content": null,
            "justify_items": null,
            "left": null,
            "margin": null,
            "max_height": null,
            "max_width": null,
            "min_height": null,
            "min_width": null,
            "object_fit": null,
            "object_position": null,
            "order": null,
            "overflow": null,
            "overflow_x": null,
            "overflow_y": null,
            "padding": null,
            "right": null,
            "top": null,
            "visibility": null,
            "width": null
          }
        },
        "da0886cacf934a0b97b697ef3a057433": {
          "model_module": "@jupyter-widgets/base",
          "model_name": "LayoutModel",
          "model_module_version": "1.2.0",
          "state": {
            "_model_module": "@jupyter-widgets/base",
            "_model_module_version": "1.2.0",
            "_model_name": "LayoutModel",
            "_view_count": null,
            "_view_module": "@jupyter-widgets/base",
            "_view_module_version": "1.2.0",
            "_view_name": "LayoutView",
            "align_content": null,
            "align_items": null,
            "align_self": null,
            "border": null,
            "bottom": null,
            "display": null,
            "flex": null,
            "flex_flow": null,
            "grid_area": null,
            "grid_auto_columns": null,
            "grid_auto_flow": null,
            "grid_auto_rows": null,
            "grid_column": null,
            "grid_gap": null,
            "grid_row": null,
            "grid_template_areas": null,
            "grid_template_columns": null,
            "grid_template_rows": null,
            "height": null,
            "justify_content": null,
            "justify_items": null,
            "left": null,
            "margin": null,
            "max_height": null,
            "max_width": null,
            "min_height": null,
            "min_width": null,
            "object_fit": null,
            "object_position": null,
            "order": null,
            "overflow": null,
            "overflow_x": null,
            "overflow_y": null,
            "padding": null,
            "right": null,
            "top": null,
            "visibility": null,
            "width": null
          }
        },
        "b366e53db4e142cca1139ba143138bef": {
          "model_module": "@jupyter-widgets/controls",
          "model_name": "DescriptionStyleModel",
          "model_module_version": "1.5.0",
          "state": {
            "_model_module": "@jupyter-widgets/controls",
            "_model_module_version": "1.5.0",
            "_model_name": "DescriptionStyleModel",
            "_view_count": null,
            "_view_module": "@jupyter-widgets/base",
            "_view_module_version": "1.2.0",
            "_view_name": "StyleView",
            "description_width": ""
          }
        },
        "b577befa4921475dbb7be4c0eba9f35f": {
          "model_module": "@jupyter-widgets/base",
          "model_name": "LayoutModel",
          "model_module_version": "1.2.0",
          "state": {
            "_model_module": "@jupyter-widgets/base",
            "_model_module_version": "1.2.0",
            "_model_name": "LayoutModel",
            "_view_count": null,
            "_view_module": "@jupyter-widgets/base",
            "_view_module_version": "1.2.0",
            "_view_name": "LayoutView",
            "align_content": null,
            "align_items": null,
            "align_self": null,
            "border": null,
            "bottom": null,
            "display": null,
            "flex": null,
            "flex_flow": null,
            "grid_area": null,
            "grid_auto_columns": null,
            "grid_auto_flow": null,
            "grid_auto_rows": null,
            "grid_column": null,
            "grid_gap": null,
            "grid_row": null,
            "grid_template_areas": null,
            "grid_template_columns": null,
            "grid_template_rows": null,
            "height": null,
            "justify_content": null,
            "justify_items": null,
            "left": null,
            "margin": null,
            "max_height": null,
            "max_width": null,
            "min_height": null,
            "min_width": null,
            "object_fit": null,
            "object_position": null,
            "order": null,
            "overflow": null,
            "overflow_x": null,
            "overflow_y": null,
            "padding": null,
            "right": null,
            "top": null,
            "visibility": null,
            "width": null
          }
        },
        "265a9dbc62d44a8e8f968c1e296b119f": {
          "model_module": "@jupyter-widgets/controls",
          "model_name": "ProgressStyleModel",
          "model_module_version": "1.5.0",
          "state": {
            "_model_module": "@jupyter-widgets/controls",
            "_model_module_version": "1.5.0",
            "_model_name": "ProgressStyleModel",
            "_view_count": null,
            "_view_module": "@jupyter-widgets/base",
            "_view_module_version": "1.2.0",
            "_view_name": "StyleView",
            "bar_color": null,
            "description_width": ""
          }
        },
        "d8f1907aacd3479584cf7f84a2ffbb0f": {
          "model_module": "@jupyter-widgets/base",
          "model_name": "LayoutModel",
          "model_module_version": "1.2.0",
          "state": {
            "_model_module": "@jupyter-widgets/base",
            "_model_module_version": "1.2.0",
            "_model_name": "LayoutModel",
            "_view_count": null,
            "_view_module": "@jupyter-widgets/base",
            "_view_module_version": "1.2.0",
            "_view_name": "LayoutView",
            "align_content": null,
            "align_items": null,
            "align_self": null,
            "border": null,
            "bottom": null,
            "display": null,
            "flex": null,
            "flex_flow": null,
            "grid_area": null,
            "grid_auto_columns": null,
            "grid_auto_flow": null,
            "grid_auto_rows": null,
            "grid_column": null,
            "grid_gap": null,
            "grid_row": null,
            "grid_template_areas": null,
            "grid_template_columns": null,
            "grid_template_rows": null,
            "height": null,
            "justify_content": null,
            "justify_items": null,
            "left": null,
            "margin": null,
            "max_height": null,
            "max_width": null,
            "min_height": null,
            "min_width": null,
            "object_fit": null,
            "object_position": null,
            "order": null,
            "overflow": null,
            "overflow_x": null,
            "overflow_y": null,
            "padding": null,
            "right": null,
            "top": null,
            "visibility": null,
            "width": null
          }
        },
        "6f7761af095b4aa5b6813438f32afd3a": {
          "model_module": "@jupyter-widgets/controls",
          "model_name": "DescriptionStyleModel",
          "model_module_version": "1.5.0",
          "state": {
            "_model_module": "@jupyter-widgets/controls",
            "_model_module_version": "1.5.0",
            "_model_name": "DescriptionStyleModel",
            "_view_count": null,
            "_view_module": "@jupyter-widgets/base",
            "_view_module_version": "1.2.0",
            "_view_name": "StyleView",
            "description_width": ""
          }
        },
        "a55fbea03fff42e9998d679fe07e1451": {
          "model_module": "@jupyter-widgets/controls",
          "model_name": "HBoxModel",
          "model_module_version": "1.5.0",
          "state": {
            "_dom_classes": [],
            "_model_module": "@jupyter-widgets/controls",
            "_model_module_version": "1.5.0",
            "_model_name": "HBoxModel",
            "_view_count": null,
            "_view_module": "@jupyter-widgets/controls",
            "_view_module_version": "1.5.0",
            "_view_name": "HBoxView",
            "box_style": "",
            "children": [
              "IPY_MODEL_edd7ea6e006c4606b73db9d25c4800db",
              "IPY_MODEL_65521efa7084499e9a612ee579946257",
              "IPY_MODEL_914598c5196242db81f33f99e1417654"
            ],
            "layout": "IPY_MODEL_a13f089b22594b718e5ea8752516c2c1"
          }
        },
        "edd7ea6e006c4606b73db9d25c4800db": {
          "model_module": "@jupyter-widgets/controls",
          "model_name": "HTMLModel",
          "model_module_version": "1.5.0",
          "state": {
            "_dom_classes": [],
            "_model_module": "@jupyter-widgets/controls",
            "_model_module_version": "1.5.0",
            "_model_name": "HTMLModel",
            "_view_count": null,
            "_view_module": "@jupyter-widgets/controls",
            "_view_module_version": "1.5.0",
            "_view_name": "HTMLView",
            "description": "",
            "description_tooltip": null,
            "layout": "IPY_MODEL_18f00dcf1702412a8086503aecfdac7d",
            "placeholder": "​",
            "style": "IPY_MODEL_70c47a74b8164f5dbef7fafd73ab5dd8",
            "value": "Downloading builder script: "
          }
        },
        "65521efa7084499e9a612ee579946257": {
          "model_module": "@jupyter-widgets/controls",
          "model_name": "FloatProgressModel",
          "model_module_version": "1.5.0",
          "state": {
            "_dom_classes": [],
            "_model_module": "@jupyter-widgets/controls",
            "_model_module_version": "1.5.0",
            "_model_name": "FloatProgressModel",
            "_view_count": null,
            "_view_module": "@jupyter-widgets/controls",
            "_view_module_version": "1.5.0",
            "_view_name": "ProgressView",
            "bar_style": "success",
            "description": "",
            "description_tooltip": null,
            "layout": "IPY_MODEL_583832dc9bc74c0e833c987438eb4604",
            "max": 2169,
            "min": 0,
            "orientation": "horizontal",
            "style": "IPY_MODEL_c1b6290b50344099975389a087d3ae47",
            "value": 2169
          }
        },
        "914598c5196242db81f33f99e1417654": {
          "model_module": "@jupyter-widgets/controls",
          "model_name": "HTMLModel",
          "model_module_version": "1.5.0",
          "state": {
            "_dom_classes": [],
            "_model_module": "@jupyter-widgets/controls",
            "_model_module_version": "1.5.0",
            "_model_name": "HTMLModel",
            "_view_count": null,
            "_view_module": "@jupyter-widgets/controls",
            "_view_module_version": "1.5.0",
            "_view_name": "HTMLView",
            "description": "",
            "description_tooltip": null,
            "layout": "IPY_MODEL_757140f2943d4b1581ba2904d0c964cd",
            "placeholder": "​",
            "style": "IPY_MODEL_3a44e2c0c87b423a8d3b964d701bdd90",
            "value": " 5.65k/? [00:00&lt;00:00, 431kB/s]"
          }
        },
        "a13f089b22594b718e5ea8752516c2c1": {
          "model_module": "@jupyter-widgets/base",
          "model_name": "LayoutModel",
          "model_module_version": "1.2.0",
          "state": {
            "_model_module": "@jupyter-widgets/base",
            "_model_module_version": "1.2.0",
            "_model_name": "LayoutModel",
            "_view_count": null,
            "_view_module": "@jupyter-widgets/base",
            "_view_module_version": "1.2.0",
            "_view_name": "LayoutView",
            "align_content": null,
            "align_items": null,
            "align_self": null,
            "border": null,
            "bottom": null,
            "display": null,
            "flex": null,
            "flex_flow": null,
            "grid_area": null,
            "grid_auto_columns": null,
            "grid_auto_flow": null,
            "grid_auto_rows": null,
            "grid_column": null,
            "grid_gap": null,
            "grid_row": null,
            "grid_template_areas": null,
            "grid_template_columns": null,
            "grid_template_rows": null,
            "height": null,
            "justify_content": null,
            "justify_items": null,
            "left": null,
            "margin": null,
            "max_height": null,
            "max_width": null,
            "min_height": null,
            "min_width": null,
            "object_fit": null,
            "object_position": null,
            "order": null,
            "overflow": null,
            "overflow_x": null,
            "overflow_y": null,
            "padding": null,
            "right": null,
            "top": null,
            "visibility": null,
            "width": null
          }
        },
        "18f00dcf1702412a8086503aecfdac7d": {
          "model_module": "@jupyter-widgets/base",
          "model_name": "LayoutModel",
          "model_module_version": "1.2.0",
          "state": {
            "_model_module": "@jupyter-widgets/base",
            "_model_module_version": "1.2.0",
            "_model_name": "LayoutModel",
            "_view_count": null,
            "_view_module": "@jupyter-widgets/base",
            "_view_module_version": "1.2.0",
            "_view_name": "LayoutView",
            "align_content": null,
            "align_items": null,
            "align_self": null,
            "border": null,
            "bottom": null,
            "display": null,
            "flex": null,
            "flex_flow": null,
            "grid_area": null,
            "grid_auto_columns": null,
            "grid_auto_flow": null,
            "grid_auto_rows": null,
            "grid_column": null,
            "grid_gap": null,
            "grid_row": null,
            "grid_template_areas": null,
            "grid_template_columns": null,
            "grid_template_rows": null,
            "height": null,
            "justify_content": null,
            "justify_items": null,
            "left": null,
            "margin": null,
            "max_height": null,
            "max_width": null,
            "min_height": null,
            "min_width": null,
            "object_fit": null,
            "object_position": null,
            "order": null,
            "overflow": null,
            "overflow_x": null,
            "overflow_y": null,
            "padding": null,
            "right": null,
            "top": null,
            "visibility": null,
            "width": null
          }
        },
        "70c47a74b8164f5dbef7fafd73ab5dd8": {
          "model_module": "@jupyter-widgets/controls",
          "model_name": "DescriptionStyleModel",
          "model_module_version": "1.5.0",
          "state": {
            "_model_module": "@jupyter-widgets/controls",
            "_model_module_version": "1.5.0",
            "_model_name": "DescriptionStyleModel",
            "_view_count": null,
            "_view_module": "@jupyter-widgets/base",
            "_view_module_version": "1.2.0",
            "_view_name": "StyleView",
            "description_width": ""
          }
        },
        "583832dc9bc74c0e833c987438eb4604": {
          "model_module": "@jupyter-widgets/base",
          "model_name": "LayoutModel",
          "model_module_version": "1.2.0",
          "state": {
            "_model_module": "@jupyter-widgets/base",
            "_model_module_version": "1.2.0",
            "_model_name": "LayoutModel",
            "_view_count": null,
            "_view_module": "@jupyter-widgets/base",
            "_view_module_version": "1.2.0",
            "_view_name": "LayoutView",
            "align_content": null,
            "align_items": null,
            "align_self": null,
            "border": null,
            "bottom": null,
            "display": null,
            "flex": null,
            "flex_flow": null,
            "grid_area": null,
            "grid_auto_columns": null,
            "grid_auto_flow": null,
            "grid_auto_rows": null,
            "grid_column": null,
            "grid_gap": null,
            "grid_row": null,
            "grid_template_areas": null,
            "grid_template_columns": null,
            "grid_template_rows": null,
            "height": null,
            "justify_content": null,
            "justify_items": null,
            "left": null,
            "margin": null,
            "max_height": null,
            "max_width": null,
            "min_height": null,
            "min_width": null,
            "object_fit": null,
            "object_position": null,
            "order": null,
            "overflow": null,
            "overflow_x": null,
            "overflow_y": null,
            "padding": null,
            "right": null,
            "top": null,
            "visibility": null,
            "width": null
          }
        },
        "c1b6290b50344099975389a087d3ae47": {
          "model_module": "@jupyter-widgets/controls",
          "model_name": "ProgressStyleModel",
          "model_module_version": "1.5.0",
          "state": {
            "_model_module": "@jupyter-widgets/controls",
            "_model_module_version": "1.5.0",
            "_model_name": "ProgressStyleModel",
            "_view_count": null,
            "_view_module": "@jupyter-widgets/base",
            "_view_module_version": "1.2.0",
            "_view_name": "StyleView",
            "bar_color": null,
            "description_width": ""
          }
        },
        "757140f2943d4b1581ba2904d0c964cd": {
          "model_module": "@jupyter-widgets/base",
          "model_name": "LayoutModel",
          "model_module_version": "1.2.0",
          "state": {
            "_model_module": "@jupyter-widgets/base",
            "_model_module_version": "1.2.0",
            "_model_name": "LayoutModel",
            "_view_count": null,
            "_view_module": "@jupyter-widgets/base",
            "_view_module_version": "1.2.0",
            "_view_name": "LayoutView",
            "align_content": null,
            "align_items": null,
            "align_self": null,
            "border": null,
            "bottom": null,
            "display": null,
            "flex": null,
            "flex_flow": null,
            "grid_area": null,
            "grid_auto_columns": null,
            "grid_auto_flow": null,
            "grid_auto_rows": null,
            "grid_column": null,
            "grid_gap": null,
            "grid_row": null,
            "grid_template_areas": null,
            "grid_template_columns": null,
            "grid_template_rows": null,
            "height": null,
            "justify_content": null,
            "justify_items": null,
            "left": null,
            "margin": null,
            "max_height": null,
            "max_width": null,
            "min_height": null,
            "min_width": null,
            "object_fit": null,
            "object_position": null,
            "order": null,
            "overflow": null,
            "overflow_x": null,
            "overflow_y": null,
            "padding": null,
            "right": null,
            "top": null,
            "visibility": null,
            "width": null
          }
        },
        "3a44e2c0c87b423a8d3b964d701bdd90": {
          "model_module": "@jupyter-widgets/controls",
          "model_name": "DescriptionStyleModel",
          "model_module_version": "1.5.0",
          "state": {
            "_model_module": "@jupyter-widgets/controls",
            "_model_module_version": "1.5.0",
            "_model_name": "DescriptionStyleModel",
            "_view_count": null,
            "_view_module": "@jupyter-widgets/base",
            "_view_module_version": "1.2.0",
            "_view_name": "StyleView",
            "description_width": ""
          }
        },
        "6168820d508a4c7e8cd59008efcbc137": {
          "model_module": "@jupyter-widgets/controls",
          "model_name": "HBoxModel",
          "model_module_version": "1.5.0",
          "state": {
            "_dom_classes": [],
            "_model_module": "@jupyter-widgets/controls",
            "_model_module_version": "1.5.0",
            "_model_name": "HBoxModel",
            "_view_count": null,
            "_view_module": "@jupyter-widgets/controls",
            "_view_module_version": "1.5.0",
            "_view_name": "HBoxView",
            "box_style": "",
            "children": [
              "IPY_MODEL_eb23b15291c5407a9888f439d59f3f50",
              "IPY_MODEL_b3b0f4b471434293943aab16113c7aaa",
              "IPY_MODEL_418c59839ca24d0997504c2cbddcf356"
            ],
            "layout": "IPY_MODEL_db4fca4ec268496fb541baad3239df98"
          }
        },
        "eb23b15291c5407a9888f439d59f3f50": {
          "model_module": "@jupyter-widgets/controls",
          "model_name": "HTMLModel",
          "model_module_version": "1.5.0",
          "state": {
            "_dom_classes": [],
            "_model_module": "@jupyter-widgets/controls",
            "_model_module_version": "1.5.0",
            "_model_name": "HTMLModel",
            "_view_count": null,
            "_view_module": "@jupyter-widgets/controls",
            "_view_module_version": "1.5.0",
            "_view_name": "HTMLView",
            "description": "",
            "description_tooltip": null,
            "layout": "IPY_MODEL_9b16066779734d00b48c55b62ba9dd9e",
            "placeholder": "​",
            "style": "IPY_MODEL_b495622df3ae400097b0da85219f8db2",
            "value": "Downloading builder script: 100%"
          }
        },
        "b3b0f4b471434293943aab16113c7aaa": {
          "model_module": "@jupyter-widgets/controls",
          "model_name": "FloatProgressModel",
          "model_module_version": "1.5.0",
          "state": {
            "_dom_classes": [],
            "_model_module": "@jupyter-widgets/controls",
            "_model_module_version": "1.5.0",
            "_model_name": "FloatProgressModel",
            "_view_count": null,
            "_view_module": "@jupyter-widgets/controls",
            "_view_module_version": "1.5.0",
            "_view_name": "ProgressView",
            "bar_style": "success",
            "description": "",
            "description_tooltip": null,
            "layout": "IPY_MODEL_3f1a9a28adce4396999935066492f208",
            "max": 6270,
            "min": 0,
            "orientation": "horizontal",
            "style": "IPY_MODEL_cf85d3b642ba413d929953636ba79f20",
            "value": 6270
          }
        },
        "418c59839ca24d0997504c2cbddcf356": {
          "model_module": "@jupyter-widgets/controls",
          "model_name": "HTMLModel",
          "model_module_version": "1.5.0",
          "state": {
            "_dom_classes": [],
            "_model_module": "@jupyter-widgets/controls",
            "_model_module_version": "1.5.0",
            "_model_name": "HTMLModel",
            "_view_count": null,
            "_view_module": "@jupyter-widgets/controls",
            "_view_module_version": "1.5.0",
            "_view_name": "HTMLView",
            "description": "",
            "description_tooltip": null,
            "layout": "IPY_MODEL_47af2a1691b747979876eafae36ab3d6",
            "placeholder": "​",
            "style": "IPY_MODEL_5dca7ef5aa7046ae955641e5d2fa9ec8",
            "value": " 6.27k/6.27k [00:00&lt;00:00, 543kB/s]"
          }
        },
        "db4fca4ec268496fb541baad3239df98": {
          "model_module": "@jupyter-widgets/base",
          "model_name": "LayoutModel",
          "model_module_version": "1.2.0",
          "state": {
            "_model_module": "@jupyter-widgets/base",
            "_model_module_version": "1.2.0",
            "_model_name": "LayoutModel",
            "_view_count": null,
            "_view_module": "@jupyter-widgets/base",
            "_view_module_version": "1.2.0",
            "_view_name": "LayoutView",
            "align_content": null,
            "align_items": null,
            "align_self": null,
            "border": null,
            "bottom": null,
            "display": null,
            "flex": null,
            "flex_flow": null,
            "grid_area": null,
            "grid_auto_columns": null,
            "grid_auto_flow": null,
            "grid_auto_rows": null,
            "grid_column": null,
            "grid_gap": null,
            "grid_row": null,
            "grid_template_areas": null,
            "grid_template_columns": null,
            "grid_template_rows": null,
            "height": null,
            "justify_content": null,
            "justify_items": null,
            "left": null,
            "margin": null,
            "max_height": null,
            "max_width": null,
            "min_height": null,
            "min_width": null,
            "object_fit": null,
            "object_position": null,
            "order": null,
            "overflow": null,
            "overflow_x": null,
            "overflow_y": null,
            "padding": null,
            "right": null,
            "top": null,
            "visibility": null,
            "width": null
          }
        },
        "9b16066779734d00b48c55b62ba9dd9e": {
          "model_module": "@jupyter-widgets/base",
          "model_name": "LayoutModel",
          "model_module_version": "1.2.0",
          "state": {
            "_model_module": "@jupyter-widgets/base",
            "_model_module_version": "1.2.0",
            "_model_name": "LayoutModel",
            "_view_count": null,
            "_view_module": "@jupyter-widgets/base",
            "_view_module_version": "1.2.0",
            "_view_name": "LayoutView",
            "align_content": null,
            "align_items": null,
            "align_self": null,
            "border": null,
            "bottom": null,
            "display": null,
            "flex": null,
            "flex_flow": null,
            "grid_area": null,
            "grid_auto_columns": null,
            "grid_auto_flow": null,
            "grid_auto_rows": null,
            "grid_column": null,
            "grid_gap": null,
            "grid_row": null,
            "grid_template_areas": null,
            "grid_template_columns": null,
            "grid_template_rows": null,
            "height": null,
            "justify_content": null,
            "justify_items": null,
            "left": null,
            "margin": null,
            "max_height": null,
            "max_width": null,
            "min_height": null,
            "min_width": null,
            "object_fit": null,
            "object_position": null,
            "order": null,
            "overflow": null,
            "overflow_x": null,
            "overflow_y": null,
            "padding": null,
            "right": null,
            "top": null,
            "visibility": null,
            "width": null
          }
        },
        "b495622df3ae400097b0da85219f8db2": {
          "model_module": "@jupyter-widgets/controls",
          "model_name": "DescriptionStyleModel",
          "model_module_version": "1.5.0",
          "state": {
            "_model_module": "@jupyter-widgets/controls",
            "_model_module_version": "1.5.0",
            "_model_name": "DescriptionStyleModel",
            "_view_count": null,
            "_view_module": "@jupyter-widgets/base",
            "_view_module_version": "1.2.0",
            "_view_name": "StyleView",
            "description_width": ""
          }
        },
        "3f1a9a28adce4396999935066492f208": {
          "model_module": "@jupyter-widgets/base",
          "model_name": "LayoutModel",
          "model_module_version": "1.2.0",
          "state": {
            "_model_module": "@jupyter-widgets/base",
            "_model_module_version": "1.2.0",
            "_model_name": "LayoutModel",
            "_view_count": null,
            "_view_module": "@jupyter-widgets/base",
            "_view_module_version": "1.2.0",
            "_view_name": "LayoutView",
            "align_content": null,
            "align_items": null,
            "align_self": null,
            "border": null,
            "bottom": null,
            "display": null,
            "flex": null,
            "flex_flow": null,
            "grid_area": null,
            "grid_auto_columns": null,
            "grid_auto_flow": null,
            "grid_auto_rows": null,
            "grid_column": null,
            "grid_gap": null,
            "grid_row": null,
            "grid_template_areas": null,
            "grid_template_columns": null,
            "grid_template_rows": null,
            "height": null,
            "justify_content": null,
            "justify_items": null,
            "left": null,
            "margin": null,
            "max_height": null,
            "max_width": null,
            "min_height": null,
            "min_width": null,
            "object_fit": null,
            "object_position": null,
            "order": null,
            "overflow": null,
            "overflow_x": null,
            "overflow_y": null,
            "padding": null,
            "right": null,
            "top": null,
            "visibility": null,
            "width": null
          }
        },
        "cf85d3b642ba413d929953636ba79f20": {
          "model_module": "@jupyter-widgets/controls",
          "model_name": "ProgressStyleModel",
          "model_module_version": "1.5.0",
          "state": {
            "_model_module": "@jupyter-widgets/controls",
            "_model_module_version": "1.5.0",
            "_model_name": "ProgressStyleModel",
            "_view_count": null,
            "_view_module": "@jupyter-widgets/base",
            "_view_module_version": "1.2.0",
            "_view_name": "StyleView",
            "bar_color": null,
            "description_width": ""
          }
        },
        "47af2a1691b747979876eafae36ab3d6": {
          "model_module": "@jupyter-widgets/base",
          "model_name": "LayoutModel",
          "model_module_version": "1.2.0",
          "state": {
            "_model_module": "@jupyter-widgets/base",
            "_model_module_version": "1.2.0",
            "_model_name": "LayoutModel",
            "_view_count": null,
            "_view_module": "@jupyter-widgets/base",
            "_view_module_version": "1.2.0",
            "_view_name": "LayoutView",
            "align_content": null,
            "align_items": null,
            "align_self": null,
            "border": null,
            "bottom": null,
            "display": null,
            "flex": null,
            "flex_flow": null,
            "grid_area": null,
            "grid_auto_columns": null,
            "grid_auto_flow": null,
            "grid_auto_rows": null,
            "grid_column": null,
            "grid_gap": null,
            "grid_row": null,
            "grid_template_areas": null,
            "grid_template_columns": null,
            "grid_template_rows": null,
            "height": null,
            "justify_content": null,
            "justify_items": null,
            "left": null,
            "margin": null,
            "max_height": null,
            "max_width": null,
            "min_height": null,
            "min_width": null,
            "object_fit": null,
            "object_position": null,
            "order": null,
            "overflow": null,
            "overflow_x": null,
            "overflow_y": null,
            "padding": null,
            "right": null,
            "top": null,
            "visibility": null,
            "width": null
          }
        },
        "5dca7ef5aa7046ae955641e5d2fa9ec8": {
          "model_module": "@jupyter-widgets/controls",
          "model_name": "DescriptionStyleModel",
          "model_module_version": "1.5.0",
          "state": {
            "_model_module": "@jupyter-widgets/controls",
            "_model_module_version": "1.5.0",
            "_model_name": "DescriptionStyleModel",
            "_view_count": null,
            "_view_module": "@jupyter-widgets/base",
            "_view_module_version": "1.2.0",
            "_view_name": "StyleView",
            "description_width": ""
          }
        },
        "fe085909be1f42a5b0fd051ca2d223de": {
          "model_module": "@jupyter-widgets/controls",
          "model_name": "VBoxModel",
          "model_module_version": "1.5.0",
          "state": {
            "_dom_classes": [],
            "_model_module": "@jupyter-widgets/controls",
            "_model_module_version": "1.5.0",
            "_model_name": "VBoxModel",
            "_view_count": null,
            "_view_module": "@jupyter-widgets/controls",
            "_view_module_version": "1.5.0",
            "_view_name": "VBoxView",
            "box_style": "",
            "children": [
              "IPY_MODEL_b94fe545cea845f281ca129cfa320fc1",
              "IPY_MODEL_4bb50c75bdcf4b45a6837ea3a56fe752",
              "IPY_MODEL_8c75fa8e0c0c43e198e836d1a9ea6a4f",
              "IPY_MODEL_316269b5e83142a29ec950a95c6f6a4b"
            ],
            "layout": "IPY_MODEL_f830bb0116554fa1bebb18b9a832d0f3"
          }
        },
        "b845591a001647cab50bc19d2b3cc885": {
          "model_module": "@jupyter-widgets/controls",
          "model_name": "HTMLModel",
          "model_module_version": "1.5.0",
          "state": {
            "_dom_classes": [],
            "_model_module": "@jupyter-widgets/controls",
            "_model_module_version": "1.5.0",
            "_model_name": "HTMLModel",
            "_view_count": null,
            "_view_module": "@jupyter-widgets/controls",
            "_view_module_version": "1.5.0",
            "_view_name": "HTMLView",
            "description": "",
            "description_tooltip": null,
            "layout": "IPY_MODEL_ff5e6fc8134340f39fb093185a13526b",
            "placeholder": "​",
            "style": "IPY_MODEL_71e0934150f74debbbd5e189fe89935b",
            "value": "<center> <img\nsrc=https://huggingface.co/front/assets/huggingface_logo-noborder.svg\nalt='Hugging Face'> <br> Copy a token from <a\nhref=\"https://huggingface.co/settings/tokens\" target=\"_blank\">your Hugging Face\ntokens page</a> and paste it below. <br> Immediately click login after copying\nyour token or it might be stored in plain text in this notebook file. </center>"
          }
        },
        "b8f561d3714e47a19ebc70b617ee53db": {
          "model_module": "@jupyter-widgets/controls",
          "model_name": "PasswordModel",
          "model_module_version": "1.5.0",
          "state": {
            "_dom_classes": [],
            "_model_module": "@jupyter-widgets/controls",
            "_model_module_version": "1.5.0",
            "_model_name": "PasswordModel",
            "_view_count": null,
            "_view_module": "@jupyter-widgets/controls",
            "_view_module_version": "1.5.0",
            "_view_name": "PasswordView",
            "continuous_update": true,
            "description": "Token:",
            "description_tooltip": null,
            "disabled": false,
            "layout": "IPY_MODEL_88b20fdbfc3e4617a326e440fda1ae2e",
            "placeholder": "​",
            "style": "IPY_MODEL_eec647d3815b44ffa983c5c219d21bde",
            "value": ""
          }
        },
        "d466bf98ba564659b2b8d674d56fc94a": {
          "model_module": "@jupyter-widgets/controls",
          "model_name": "CheckboxModel",
          "model_module_version": "1.5.0",
          "state": {
            "_dom_classes": [],
            "_model_module": "@jupyter-widgets/controls",
            "_model_module_version": "1.5.0",
            "_model_name": "CheckboxModel",
            "_view_count": null,
            "_view_module": "@jupyter-widgets/controls",
            "_view_module_version": "1.5.0",
            "_view_name": "CheckboxView",
            "description": "Add token as git credential?",
            "description_tooltip": null,
            "disabled": false,
            "indent": true,
            "layout": "IPY_MODEL_94989d8454b44600a0ca3c7142626ea6",
            "style": "IPY_MODEL_2ea06a47d3394f6897e604565f0637d4",
            "value": true
          }
        },
        "e3acdeba6bd9416b81079daed342b739": {
          "model_module": "@jupyter-widgets/controls",
          "model_name": "ButtonModel",
          "model_module_version": "1.5.0",
          "state": {
            "_dom_classes": [],
            "_model_module": "@jupyter-widgets/controls",
            "_model_module_version": "1.5.0",
            "_model_name": "ButtonModel",
            "_view_count": null,
            "_view_module": "@jupyter-widgets/controls",
            "_view_module_version": "1.5.0",
            "_view_name": "ButtonView",
            "button_style": "",
            "description": "Login",
            "disabled": false,
            "icon": "",
            "layout": "IPY_MODEL_c668484e37564852bba4185cb5bbdaa2",
            "style": "IPY_MODEL_a0e5581a3e294444b0e9c4b006be3b88",
            "tooltip": ""
          }
        },
        "cf99053227434e44884665282004d197": {
          "model_module": "@jupyter-widgets/controls",
          "model_name": "HTMLModel",
          "model_module_version": "1.5.0",
          "state": {
            "_dom_classes": [],
            "_model_module": "@jupyter-widgets/controls",
            "_model_module_version": "1.5.0",
            "_model_name": "HTMLModel",
            "_view_count": null,
            "_view_module": "@jupyter-widgets/controls",
            "_view_module_version": "1.5.0",
            "_view_name": "HTMLView",
            "description": "",
            "description_tooltip": null,
            "layout": "IPY_MODEL_ce252407cb82448aadba1c32ba05dd2e",
            "placeholder": "​",
            "style": "IPY_MODEL_5a0815345ebb40fb9edf4ed244b7d1e1",
            "value": "\n<b>Pro Tip:</b> If you don't already have one, you can create a dedicated\n'notebooks' token with 'write' access, that you can then easily reuse for all\nnotebooks. </center>"
          }
        },
        "f830bb0116554fa1bebb18b9a832d0f3": {
          "model_module": "@jupyter-widgets/base",
          "model_name": "LayoutModel",
          "model_module_version": "1.2.0",
          "state": {
            "_model_module": "@jupyter-widgets/base",
            "_model_module_version": "1.2.0",
            "_model_name": "LayoutModel",
            "_view_count": null,
            "_view_module": "@jupyter-widgets/base",
            "_view_module_version": "1.2.0",
            "_view_name": "LayoutView",
            "align_content": null,
            "align_items": "center",
            "align_self": null,
            "border": null,
            "bottom": null,
            "display": "flex",
            "flex": null,
            "flex_flow": "column",
            "grid_area": null,
            "grid_auto_columns": null,
            "grid_auto_flow": null,
            "grid_auto_rows": null,
            "grid_column": null,
            "grid_gap": null,
            "grid_row": null,
            "grid_template_areas": null,
            "grid_template_columns": null,
            "grid_template_rows": null,
            "height": null,
            "justify_content": null,
            "justify_items": null,
            "left": null,
            "margin": null,
            "max_height": null,
            "max_width": null,
            "min_height": null,
            "min_width": null,
            "object_fit": null,
            "object_position": null,
            "order": null,
            "overflow": null,
            "overflow_x": null,
            "overflow_y": null,
            "padding": null,
            "right": null,
            "top": null,
            "visibility": null,
            "width": "50%"
          }
        },
        "ff5e6fc8134340f39fb093185a13526b": {
          "model_module": "@jupyter-widgets/base",
          "model_name": "LayoutModel",
          "model_module_version": "1.2.0",
          "state": {
            "_model_module": "@jupyter-widgets/base",
            "_model_module_version": "1.2.0",
            "_model_name": "LayoutModel",
            "_view_count": null,
            "_view_module": "@jupyter-widgets/base",
            "_view_module_version": "1.2.0",
            "_view_name": "LayoutView",
            "align_content": null,
            "align_items": null,
            "align_self": null,
            "border": null,
            "bottom": null,
            "display": null,
            "flex": null,
            "flex_flow": null,
            "grid_area": null,
            "grid_auto_columns": null,
            "grid_auto_flow": null,
            "grid_auto_rows": null,
            "grid_column": null,
            "grid_gap": null,
            "grid_row": null,
            "grid_template_areas": null,
            "grid_template_columns": null,
            "grid_template_rows": null,
            "height": null,
            "justify_content": null,
            "justify_items": null,
            "left": null,
            "margin": null,
            "max_height": null,
            "max_width": null,
            "min_height": null,
            "min_width": null,
            "object_fit": null,
            "object_position": null,
            "order": null,
            "overflow": null,
            "overflow_x": null,
            "overflow_y": null,
            "padding": null,
            "right": null,
            "top": null,
            "visibility": null,
            "width": null
          }
        },
        "71e0934150f74debbbd5e189fe89935b": {
          "model_module": "@jupyter-widgets/controls",
          "model_name": "DescriptionStyleModel",
          "model_module_version": "1.5.0",
          "state": {
            "_model_module": "@jupyter-widgets/controls",
            "_model_module_version": "1.5.0",
            "_model_name": "DescriptionStyleModel",
            "_view_count": null,
            "_view_module": "@jupyter-widgets/base",
            "_view_module_version": "1.2.0",
            "_view_name": "StyleView",
            "description_width": ""
          }
        },
        "88b20fdbfc3e4617a326e440fda1ae2e": {
          "model_module": "@jupyter-widgets/base",
          "model_name": "LayoutModel",
          "model_module_version": "1.2.0",
          "state": {
            "_model_module": "@jupyter-widgets/base",
            "_model_module_version": "1.2.0",
            "_model_name": "LayoutModel",
            "_view_count": null,
            "_view_module": "@jupyter-widgets/base",
            "_view_module_version": "1.2.0",
            "_view_name": "LayoutView",
            "align_content": null,
            "align_items": null,
            "align_self": null,
            "border": null,
            "bottom": null,
            "display": null,
            "flex": null,
            "flex_flow": null,
            "grid_area": null,
            "grid_auto_columns": null,
            "grid_auto_flow": null,
            "grid_auto_rows": null,
            "grid_column": null,
            "grid_gap": null,
            "grid_row": null,
            "grid_template_areas": null,
            "grid_template_columns": null,
            "grid_template_rows": null,
            "height": null,
            "justify_content": null,
            "justify_items": null,
            "left": null,
            "margin": null,
            "max_height": null,
            "max_width": null,
            "min_height": null,
            "min_width": null,
            "object_fit": null,
            "object_position": null,
            "order": null,
            "overflow": null,
            "overflow_x": null,
            "overflow_y": null,
            "padding": null,
            "right": null,
            "top": null,
            "visibility": null,
            "width": null
          }
        },
        "eec647d3815b44ffa983c5c219d21bde": {
          "model_module": "@jupyter-widgets/controls",
          "model_name": "DescriptionStyleModel",
          "model_module_version": "1.5.0",
          "state": {
            "_model_module": "@jupyter-widgets/controls",
            "_model_module_version": "1.5.0",
            "_model_name": "DescriptionStyleModel",
            "_view_count": null,
            "_view_module": "@jupyter-widgets/base",
            "_view_module_version": "1.2.0",
            "_view_name": "StyleView",
            "description_width": ""
          }
        },
        "94989d8454b44600a0ca3c7142626ea6": {
          "model_module": "@jupyter-widgets/base",
          "model_name": "LayoutModel",
          "model_module_version": "1.2.0",
          "state": {
            "_model_module": "@jupyter-widgets/base",
            "_model_module_version": "1.2.0",
            "_model_name": "LayoutModel",
            "_view_count": null,
            "_view_module": "@jupyter-widgets/base",
            "_view_module_version": "1.2.0",
            "_view_name": "LayoutView",
            "align_content": null,
            "align_items": null,
            "align_self": null,
            "border": null,
            "bottom": null,
            "display": null,
            "flex": null,
            "flex_flow": null,
            "grid_area": null,
            "grid_auto_columns": null,
            "grid_auto_flow": null,
            "grid_auto_rows": null,
            "grid_column": null,
            "grid_gap": null,
            "grid_row": null,
            "grid_template_areas": null,
            "grid_template_columns": null,
            "grid_template_rows": null,
            "height": null,
            "justify_content": null,
            "justify_items": null,
            "left": null,
            "margin": null,
            "max_height": null,
            "max_width": null,
            "min_height": null,
            "min_width": null,
            "object_fit": null,
            "object_position": null,
            "order": null,
            "overflow": null,
            "overflow_x": null,
            "overflow_y": null,
            "padding": null,
            "right": null,
            "top": null,
            "visibility": null,
            "width": null
          }
        },
        "2ea06a47d3394f6897e604565f0637d4": {
          "model_module": "@jupyter-widgets/controls",
          "model_name": "DescriptionStyleModel",
          "model_module_version": "1.5.0",
          "state": {
            "_model_module": "@jupyter-widgets/controls",
            "_model_module_version": "1.5.0",
            "_model_name": "DescriptionStyleModel",
            "_view_count": null,
            "_view_module": "@jupyter-widgets/base",
            "_view_module_version": "1.2.0",
            "_view_name": "StyleView",
            "description_width": ""
          }
        },
        "c668484e37564852bba4185cb5bbdaa2": {
          "model_module": "@jupyter-widgets/base",
          "model_name": "LayoutModel",
          "model_module_version": "1.2.0",
          "state": {
            "_model_module": "@jupyter-widgets/base",
            "_model_module_version": "1.2.0",
            "_model_name": "LayoutModel",
            "_view_count": null,
            "_view_module": "@jupyter-widgets/base",
            "_view_module_version": "1.2.0",
            "_view_name": "LayoutView",
            "align_content": null,
            "align_items": null,
            "align_self": null,
            "border": null,
            "bottom": null,
            "display": null,
            "flex": null,
            "flex_flow": null,
            "grid_area": null,
            "grid_auto_columns": null,
            "grid_auto_flow": null,
            "grid_auto_rows": null,
            "grid_column": null,
            "grid_gap": null,
            "grid_row": null,
            "grid_template_areas": null,
            "grid_template_columns": null,
            "grid_template_rows": null,
            "height": null,
            "justify_content": null,
            "justify_items": null,
            "left": null,
            "margin": null,
            "max_height": null,
            "max_width": null,
            "min_height": null,
            "min_width": null,
            "object_fit": null,
            "object_position": null,
            "order": null,
            "overflow": null,
            "overflow_x": null,
            "overflow_y": null,
            "padding": null,
            "right": null,
            "top": null,
            "visibility": null,
            "width": null
          }
        },
        "a0e5581a3e294444b0e9c4b006be3b88": {
          "model_module": "@jupyter-widgets/controls",
          "model_name": "ButtonStyleModel",
          "model_module_version": "1.5.0",
          "state": {
            "_model_module": "@jupyter-widgets/controls",
            "_model_module_version": "1.5.0",
            "_model_name": "ButtonStyleModel",
            "_view_count": null,
            "_view_module": "@jupyter-widgets/base",
            "_view_module_version": "1.2.0",
            "_view_name": "StyleView",
            "button_color": null,
            "font_weight": ""
          }
        },
        "ce252407cb82448aadba1c32ba05dd2e": {
          "model_module": "@jupyter-widgets/base",
          "model_name": "LayoutModel",
          "model_module_version": "1.2.0",
          "state": {
            "_model_module": "@jupyter-widgets/base",
            "_model_module_version": "1.2.0",
            "_model_name": "LayoutModel",
            "_view_count": null,
            "_view_module": "@jupyter-widgets/base",
            "_view_module_version": "1.2.0",
            "_view_name": "LayoutView",
            "align_content": null,
            "align_items": null,
            "align_self": null,
            "border": null,
            "bottom": null,
            "display": null,
            "flex": null,
            "flex_flow": null,
            "grid_area": null,
            "grid_auto_columns": null,
            "grid_auto_flow": null,
            "grid_auto_rows": null,
            "grid_column": null,
            "grid_gap": null,
            "grid_row": null,
            "grid_template_areas": null,
            "grid_template_columns": null,
            "grid_template_rows": null,
            "height": null,
            "justify_content": null,
            "justify_items": null,
            "left": null,
            "margin": null,
            "max_height": null,
            "max_width": null,
            "min_height": null,
            "min_width": null,
            "object_fit": null,
            "object_position": null,
            "order": null,
            "overflow": null,
            "overflow_x": null,
            "overflow_y": null,
            "padding": null,
            "right": null,
            "top": null,
            "visibility": null,
            "width": null
          }
        },
        "5a0815345ebb40fb9edf4ed244b7d1e1": {
          "model_module": "@jupyter-widgets/controls",
          "model_name": "DescriptionStyleModel",
          "model_module_version": "1.5.0",
          "state": {
            "_model_module": "@jupyter-widgets/controls",
            "_model_module_version": "1.5.0",
            "_model_name": "DescriptionStyleModel",
            "_view_count": null,
            "_view_module": "@jupyter-widgets/base",
            "_view_module_version": "1.2.0",
            "_view_name": "StyleView",
            "description_width": ""
          }
        },
        "fbb3b8ba0fcc4041809ab46ec65906c5": {
          "model_module": "@jupyter-widgets/controls",
          "model_name": "LabelModel",
          "model_module_version": "1.5.0",
          "state": {
            "_dom_classes": [],
            "_model_module": "@jupyter-widgets/controls",
            "_model_module_version": "1.5.0",
            "_model_name": "LabelModel",
            "_view_count": null,
            "_view_module": "@jupyter-widgets/controls",
            "_view_module_version": "1.5.0",
            "_view_name": "LabelView",
            "description": "",
            "description_tooltip": null,
            "layout": "IPY_MODEL_b41206e7cf7e473f86ab6e9c30a495b0",
            "placeholder": "​",
            "style": "IPY_MODEL_713985517a894061b6848d4db1156fe2",
            "value": "Connecting..."
          }
        },
        "b41206e7cf7e473f86ab6e9c30a495b0": {
          "model_module": "@jupyter-widgets/base",
          "model_name": "LayoutModel",
          "model_module_version": "1.2.0",
          "state": {
            "_model_module": "@jupyter-widgets/base",
            "_model_module_version": "1.2.0",
            "_model_name": "LayoutModel",
            "_view_count": null,
            "_view_module": "@jupyter-widgets/base",
            "_view_module_version": "1.2.0",
            "_view_name": "LayoutView",
            "align_content": null,
            "align_items": null,
            "align_self": null,
            "border": null,
            "bottom": null,
            "display": null,
            "flex": null,
            "flex_flow": null,
            "grid_area": null,
            "grid_auto_columns": null,
            "grid_auto_flow": null,
            "grid_auto_rows": null,
            "grid_column": null,
            "grid_gap": null,
            "grid_row": null,
            "grid_template_areas": null,
            "grid_template_columns": null,
            "grid_template_rows": null,
            "height": null,
            "justify_content": null,
            "justify_items": null,
            "left": null,
            "margin": null,
            "max_height": null,
            "max_width": null,
            "min_height": null,
            "min_width": null,
            "object_fit": null,
            "object_position": null,
            "order": null,
            "overflow": null,
            "overflow_x": null,
            "overflow_y": null,
            "padding": null,
            "right": null,
            "top": null,
            "visibility": null,
            "width": null
          }
        },
        "713985517a894061b6848d4db1156fe2": {
          "model_module": "@jupyter-widgets/controls",
          "model_name": "DescriptionStyleModel",
          "model_module_version": "1.5.0",
          "state": {
            "_model_module": "@jupyter-widgets/controls",
            "_model_module_version": "1.5.0",
            "_model_name": "DescriptionStyleModel",
            "_view_count": null,
            "_view_module": "@jupyter-widgets/base",
            "_view_module_version": "1.2.0",
            "_view_name": "StyleView",
            "description_width": ""
          }
        },
        "b94fe545cea845f281ca129cfa320fc1": {
          "model_module": "@jupyter-widgets/controls",
          "model_name": "LabelModel",
          "model_module_version": "1.5.0",
          "state": {
            "_dom_classes": [],
            "_model_module": "@jupyter-widgets/controls",
            "_model_module_version": "1.5.0",
            "_model_name": "LabelModel",
            "_view_count": null,
            "_view_module": "@jupyter-widgets/controls",
            "_view_module_version": "1.5.0",
            "_view_name": "LabelView",
            "description": "",
            "description_tooltip": null,
            "layout": "IPY_MODEL_6db8b7d59f5a46c1b6e338b14ad9c9c4",
            "placeholder": "​",
            "style": "IPY_MODEL_632b7a0d69bb43f4a3e171a0b25a46fd",
            "value": "Token is valid (permission: write)."
          }
        },
        "4bb50c75bdcf4b45a6837ea3a56fe752": {
          "model_module": "@jupyter-widgets/controls",
          "model_name": "LabelModel",
          "model_module_version": "1.5.0",
          "state": {
            "_dom_classes": [],
            "_model_module": "@jupyter-widgets/controls",
            "_model_module_version": "1.5.0",
            "_model_name": "LabelModel",
            "_view_count": null,
            "_view_module": "@jupyter-widgets/controls",
            "_view_module_version": "1.5.0",
            "_view_name": "LabelView",
            "description": "",
            "description_tooltip": null,
            "layout": "IPY_MODEL_bf0ac458194043f485d8fb9f93f5a802",
            "placeholder": "​",
            "style": "IPY_MODEL_f7f3156e0ab9463f80760ae82f475140",
            "value": "Your token has been saved in your configured git credential helpers (store)."
          }
        },
        "8c75fa8e0c0c43e198e836d1a9ea6a4f": {
          "model_module": "@jupyter-widgets/controls",
          "model_name": "LabelModel",
          "model_module_version": "1.5.0",
          "state": {
            "_dom_classes": [],
            "_model_module": "@jupyter-widgets/controls",
            "_model_module_version": "1.5.0",
            "_model_name": "LabelModel",
            "_view_count": null,
            "_view_module": "@jupyter-widgets/controls",
            "_view_module_version": "1.5.0",
            "_view_name": "LabelView",
            "description": "",
            "description_tooltip": null,
            "layout": "IPY_MODEL_8a07d0a9d76142a8817a2f90a875e98e",
            "placeholder": "​",
            "style": "IPY_MODEL_fa5b9227e13d4fa7aa959badf02b2c8c",
            "value": "Your token has been saved to /root/.cache/huggingface/token"
          }
        },
        "316269b5e83142a29ec950a95c6f6a4b": {
          "model_module": "@jupyter-widgets/controls",
          "model_name": "LabelModel",
          "model_module_version": "1.5.0",
          "state": {
            "_dom_classes": [],
            "_model_module": "@jupyter-widgets/controls",
            "_model_module_version": "1.5.0",
            "_model_name": "LabelModel",
            "_view_count": null,
            "_view_module": "@jupyter-widgets/controls",
            "_view_module_version": "1.5.0",
            "_view_name": "LabelView",
            "description": "",
            "description_tooltip": null,
            "layout": "IPY_MODEL_bf8b1bfddf3745f289f6ea40f04497bb",
            "placeholder": "​",
            "style": "IPY_MODEL_b91546e5a2d2456691207d88da8d922a",
            "value": "Login successful"
          }
        },
        "6db8b7d59f5a46c1b6e338b14ad9c9c4": {
          "model_module": "@jupyter-widgets/base",
          "model_name": "LayoutModel",
          "model_module_version": "1.2.0",
          "state": {
            "_model_module": "@jupyter-widgets/base",
            "_model_module_version": "1.2.0",
            "_model_name": "LayoutModel",
            "_view_count": null,
            "_view_module": "@jupyter-widgets/base",
            "_view_module_version": "1.2.0",
            "_view_name": "LayoutView",
            "align_content": null,
            "align_items": null,
            "align_self": null,
            "border": null,
            "bottom": null,
            "display": null,
            "flex": null,
            "flex_flow": null,
            "grid_area": null,
            "grid_auto_columns": null,
            "grid_auto_flow": null,
            "grid_auto_rows": null,
            "grid_column": null,
            "grid_gap": null,
            "grid_row": null,
            "grid_template_areas": null,
            "grid_template_columns": null,
            "grid_template_rows": null,
            "height": null,
            "justify_content": null,
            "justify_items": null,
            "left": null,
            "margin": null,
            "max_height": null,
            "max_width": null,
            "min_height": null,
            "min_width": null,
            "object_fit": null,
            "object_position": null,
            "order": null,
            "overflow": null,
            "overflow_x": null,
            "overflow_y": null,
            "padding": null,
            "right": null,
            "top": null,
            "visibility": null,
            "width": null
          }
        },
        "632b7a0d69bb43f4a3e171a0b25a46fd": {
          "model_module": "@jupyter-widgets/controls",
          "model_name": "DescriptionStyleModel",
          "model_module_version": "1.5.0",
          "state": {
            "_model_module": "@jupyter-widgets/controls",
            "_model_module_version": "1.5.0",
            "_model_name": "DescriptionStyleModel",
            "_view_count": null,
            "_view_module": "@jupyter-widgets/base",
            "_view_module_version": "1.2.0",
            "_view_name": "StyleView",
            "description_width": ""
          }
        },
        "bf0ac458194043f485d8fb9f93f5a802": {
          "model_module": "@jupyter-widgets/base",
          "model_name": "LayoutModel",
          "model_module_version": "1.2.0",
          "state": {
            "_model_module": "@jupyter-widgets/base",
            "_model_module_version": "1.2.0",
            "_model_name": "LayoutModel",
            "_view_count": null,
            "_view_module": "@jupyter-widgets/base",
            "_view_module_version": "1.2.0",
            "_view_name": "LayoutView",
            "align_content": null,
            "align_items": null,
            "align_self": null,
            "border": null,
            "bottom": null,
            "display": null,
            "flex": null,
            "flex_flow": null,
            "grid_area": null,
            "grid_auto_columns": null,
            "grid_auto_flow": null,
            "grid_auto_rows": null,
            "grid_column": null,
            "grid_gap": null,
            "grid_row": null,
            "grid_template_areas": null,
            "grid_template_columns": null,
            "grid_template_rows": null,
            "height": null,
            "justify_content": null,
            "justify_items": null,
            "left": null,
            "margin": null,
            "max_height": null,
            "max_width": null,
            "min_height": null,
            "min_width": null,
            "object_fit": null,
            "object_position": null,
            "order": null,
            "overflow": null,
            "overflow_x": null,
            "overflow_y": null,
            "padding": null,
            "right": null,
            "top": null,
            "visibility": null,
            "width": null
          }
        },
        "f7f3156e0ab9463f80760ae82f475140": {
          "model_module": "@jupyter-widgets/controls",
          "model_name": "DescriptionStyleModel",
          "model_module_version": "1.5.0",
          "state": {
            "_model_module": "@jupyter-widgets/controls",
            "_model_module_version": "1.5.0",
            "_model_name": "DescriptionStyleModel",
            "_view_count": null,
            "_view_module": "@jupyter-widgets/base",
            "_view_module_version": "1.2.0",
            "_view_name": "StyleView",
            "description_width": ""
          }
        },
        "8a07d0a9d76142a8817a2f90a875e98e": {
          "model_module": "@jupyter-widgets/base",
          "model_name": "LayoutModel",
          "model_module_version": "1.2.0",
          "state": {
            "_model_module": "@jupyter-widgets/base",
            "_model_module_version": "1.2.0",
            "_model_name": "LayoutModel",
            "_view_count": null,
            "_view_module": "@jupyter-widgets/base",
            "_view_module_version": "1.2.0",
            "_view_name": "LayoutView",
            "align_content": null,
            "align_items": null,
            "align_self": null,
            "border": null,
            "bottom": null,
            "display": null,
            "flex": null,
            "flex_flow": null,
            "grid_area": null,
            "grid_auto_columns": null,
            "grid_auto_flow": null,
            "grid_auto_rows": null,
            "grid_column": null,
            "grid_gap": null,
            "grid_row": null,
            "grid_template_areas": null,
            "grid_template_columns": null,
            "grid_template_rows": null,
            "height": null,
            "justify_content": null,
            "justify_items": null,
            "left": null,
            "margin": null,
            "max_height": null,
            "max_width": null,
            "min_height": null,
            "min_width": null,
            "object_fit": null,
            "object_position": null,
            "order": null,
            "overflow": null,
            "overflow_x": null,
            "overflow_y": null,
            "padding": null,
            "right": null,
            "top": null,
            "visibility": null,
            "width": null
          }
        },
        "fa5b9227e13d4fa7aa959badf02b2c8c": {
          "model_module": "@jupyter-widgets/controls",
          "model_name": "DescriptionStyleModel",
          "model_module_version": "1.5.0",
          "state": {
            "_model_module": "@jupyter-widgets/controls",
            "_model_module_version": "1.5.0",
            "_model_name": "DescriptionStyleModel",
            "_view_count": null,
            "_view_module": "@jupyter-widgets/base",
            "_view_module_version": "1.2.0",
            "_view_name": "StyleView",
            "description_width": ""
          }
        },
        "bf8b1bfddf3745f289f6ea40f04497bb": {
          "model_module": "@jupyter-widgets/base",
          "model_name": "LayoutModel",
          "model_module_version": "1.2.0",
          "state": {
            "_model_module": "@jupyter-widgets/base",
            "_model_module_version": "1.2.0",
            "_model_name": "LayoutModel",
            "_view_count": null,
            "_view_module": "@jupyter-widgets/base",
            "_view_module_version": "1.2.0",
            "_view_name": "LayoutView",
            "align_content": null,
            "align_items": null,
            "align_self": null,
            "border": null,
            "bottom": null,
            "display": null,
            "flex": null,
            "flex_flow": null,
            "grid_area": null,
            "grid_auto_columns": null,
            "grid_auto_flow": null,
            "grid_auto_rows": null,
            "grid_column": null,
            "grid_gap": null,
            "grid_row": null,
            "grid_template_areas": null,
            "grid_template_columns": null,
            "grid_template_rows": null,
            "height": null,
            "justify_content": null,
            "justify_items": null,
            "left": null,
            "margin": null,
            "max_height": null,
            "max_width": null,
            "min_height": null,
            "min_width": null,
            "object_fit": null,
            "object_position": null,
            "order": null,
            "overflow": null,
            "overflow_x": null,
            "overflow_y": null,
            "padding": null,
            "right": null,
            "top": null,
            "visibility": null,
            "width": null
          }
        },
        "b91546e5a2d2456691207d88da8d922a": {
          "model_module": "@jupyter-widgets/controls",
          "model_name": "DescriptionStyleModel",
          "model_module_version": "1.5.0",
          "state": {
            "_model_module": "@jupyter-widgets/controls",
            "_model_module_version": "1.5.0",
            "_model_name": "DescriptionStyleModel",
            "_view_count": null,
            "_view_module": "@jupyter-widgets/base",
            "_view_module_version": "1.2.0",
            "_view_name": "StyleView",
            "description_width": ""
          }
        },
        "97696b6dc09845349764246641580d70": {
          "model_module": "@jupyter-widgets/controls",
          "model_name": "HBoxModel",
          "model_module_version": "1.5.0",
          "state": {
            "_dom_classes": [],
            "_model_module": "@jupyter-widgets/controls",
            "_model_module_version": "1.5.0",
            "_model_name": "HBoxModel",
            "_view_count": null,
            "_view_module": "@jupyter-widgets/controls",
            "_view_module_version": "1.5.0",
            "_view_name": "HBoxView",
            "box_style": "",
            "children": [
              "IPY_MODEL_32091bde67644f249a602fc3f8b1420f",
              "IPY_MODEL_d53b81931c444000ada620da8837b3ed",
              "IPY_MODEL_3bce0c239b164a14b5b8c2a0c17813e1"
            ],
            "layout": "IPY_MODEL_74682dd76e264807b71d3d68b4f2ffa1"
          }
        },
        "32091bde67644f249a602fc3f8b1420f": {
          "model_module": "@jupyter-widgets/controls",
          "model_name": "HTMLModel",
          "model_module_version": "1.5.0",
          "state": {
            "_dom_classes": [],
            "_model_module": "@jupyter-widgets/controls",
            "_model_module_version": "1.5.0",
            "_model_name": "HTMLModel",
            "_view_count": null,
            "_view_module": "@jupyter-widgets/controls",
            "_view_module_version": "1.5.0",
            "_view_name": "HTMLView",
            "description": "",
            "description_tooltip": null,
            "layout": "IPY_MODEL_3d5a8b5d2c8646b897865a883d6074dd",
            "placeholder": "​",
            "style": "IPY_MODEL_56f06bc28c94453bb2783da45fb6f3f6",
            "value": "Map: 100%"
          }
        },
        "d53b81931c444000ada620da8837b3ed": {
          "model_module": "@jupyter-widgets/controls",
          "model_name": "FloatProgressModel",
          "model_module_version": "1.5.0",
          "state": {
            "_dom_classes": [],
            "_model_module": "@jupyter-widgets/controls",
            "_model_module_version": "1.5.0",
            "_model_name": "FloatProgressModel",
            "_view_count": null,
            "_view_module": "@jupyter-widgets/controls",
            "_view_module_version": "1.5.0",
            "_view_name": "ProgressView",
            "bar_style": "success",
            "description": "",
            "description_tooltip": null,
            "layout": "IPY_MODEL_37487620a83f402bb2129f7d4b5dcb6e",
            "max": 2612,
            "min": 0,
            "orientation": "horizontal",
            "style": "IPY_MODEL_d3bfa17b6e6a4b74b31c5fb932824b3d",
            "value": 2612
          }
        },
        "3bce0c239b164a14b5b8c2a0c17813e1": {
          "model_module": "@jupyter-widgets/controls",
          "model_name": "HTMLModel",
          "model_module_version": "1.5.0",
          "state": {
            "_dom_classes": [],
            "_model_module": "@jupyter-widgets/controls",
            "_model_module_version": "1.5.0",
            "_model_name": "HTMLModel",
            "_view_count": null,
            "_view_module": "@jupyter-widgets/controls",
            "_view_module_version": "1.5.0",
            "_view_name": "HTMLView",
            "description": "",
            "description_tooltip": null,
            "layout": "IPY_MODEL_c913d4536ee64f9b8404a373f740f713",
            "placeholder": "​",
            "style": "IPY_MODEL_ce60bad717a243968fd1d4f4f9fc7ec4",
            "value": " 2612/2612 [00:04&lt;00:00, 573.07 examples/s]"
          }
        },
        "74682dd76e264807b71d3d68b4f2ffa1": {
          "model_module": "@jupyter-widgets/base",
          "model_name": "LayoutModel",
          "model_module_version": "1.2.0",
          "state": {
            "_model_module": "@jupyter-widgets/base",
            "_model_module_version": "1.2.0",
            "_model_name": "LayoutModel",
            "_view_count": null,
            "_view_module": "@jupyter-widgets/base",
            "_view_module_version": "1.2.0",
            "_view_name": "LayoutView",
            "align_content": null,
            "align_items": null,
            "align_self": null,
            "border": null,
            "bottom": null,
            "display": null,
            "flex": null,
            "flex_flow": null,
            "grid_area": null,
            "grid_auto_columns": null,
            "grid_auto_flow": null,
            "grid_auto_rows": null,
            "grid_column": null,
            "grid_gap": null,
            "grid_row": null,
            "grid_template_areas": null,
            "grid_template_columns": null,
            "grid_template_rows": null,
            "height": null,
            "justify_content": null,
            "justify_items": null,
            "left": null,
            "margin": null,
            "max_height": null,
            "max_width": null,
            "min_height": null,
            "min_width": null,
            "object_fit": null,
            "object_position": null,
            "order": null,
            "overflow": null,
            "overflow_x": null,
            "overflow_y": null,
            "padding": null,
            "right": null,
            "top": null,
            "visibility": null,
            "width": null
          }
        },
        "3d5a8b5d2c8646b897865a883d6074dd": {
          "model_module": "@jupyter-widgets/base",
          "model_name": "LayoutModel",
          "model_module_version": "1.2.0",
          "state": {
            "_model_module": "@jupyter-widgets/base",
            "_model_module_version": "1.2.0",
            "_model_name": "LayoutModel",
            "_view_count": null,
            "_view_module": "@jupyter-widgets/base",
            "_view_module_version": "1.2.0",
            "_view_name": "LayoutView",
            "align_content": null,
            "align_items": null,
            "align_self": null,
            "border": null,
            "bottom": null,
            "display": null,
            "flex": null,
            "flex_flow": null,
            "grid_area": null,
            "grid_auto_columns": null,
            "grid_auto_flow": null,
            "grid_auto_rows": null,
            "grid_column": null,
            "grid_gap": null,
            "grid_row": null,
            "grid_template_areas": null,
            "grid_template_columns": null,
            "grid_template_rows": null,
            "height": null,
            "justify_content": null,
            "justify_items": null,
            "left": null,
            "margin": null,
            "max_height": null,
            "max_width": null,
            "min_height": null,
            "min_width": null,
            "object_fit": null,
            "object_position": null,
            "order": null,
            "overflow": null,
            "overflow_x": null,
            "overflow_y": null,
            "padding": null,
            "right": null,
            "top": null,
            "visibility": null,
            "width": null
          }
        },
        "56f06bc28c94453bb2783da45fb6f3f6": {
          "model_module": "@jupyter-widgets/controls",
          "model_name": "DescriptionStyleModel",
          "model_module_version": "1.5.0",
          "state": {
            "_model_module": "@jupyter-widgets/controls",
            "_model_module_version": "1.5.0",
            "_model_name": "DescriptionStyleModel",
            "_view_count": null,
            "_view_module": "@jupyter-widgets/base",
            "_view_module_version": "1.2.0",
            "_view_name": "StyleView",
            "description_width": ""
          }
        },
        "37487620a83f402bb2129f7d4b5dcb6e": {
          "model_module": "@jupyter-widgets/base",
          "model_name": "LayoutModel",
          "model_module_version": "1.2.0",
          "state": {
            "_model_module": "@jupyter-widgets/base",
            "_model_module_version": "1.2.0",
            "_model_name": "LayoutModel",
            "_view_count": null,
            "_view_module": "@jupyter-widgets/base",
            "_view_module_version": "1.2.0",
            "_view_name": "LayoutView",
            "align_content": null,
            "align_items": null,
            "align_self": null,
            "border": null,
            "bottom": null,
            "display": null,
            "flex": null,
            "flex_flow": null,
            "grid_area": null,
            "grid_auto_columns": null,
            "grid_auto_flow": null,
            "grid_auto_rows": null,
            "grid_column": null,
            "grid_gap": null,
            "grid_row": null,
            "grid_template_areas": null,
            "grid_template_columns": null,
            "grid_template_rows": null,
            "height": null,
            "justify_content": null,
            "justify_items": null,
            "left": null,
            "margin": null,
            "max_height": null,
            "max_width": null,
            "min_height": null,
            "min_width": null,
            "object_fit": null,
            "object_position": null,
            "order": null,
            "overflow": null,
            "overflow_x": null,
            "overflow_y": null,
            "padding": null,
            "right": null,
            "top": null,
            "visibility": null,
            "width": null
          }
        },
        "d3bfa17b6e6a4b74b31c5fb932824b3d": {
          "model_module": "@jupyter-widgets/controls",
          "model_name": "ProgressStyleModel",
          "model_module_version": "1.5.0",
          "state": {
            "_model_module": "@jupyter-widgets/controls",
            "_model_module_version": "1.5.0",
            "_model_name": "ProgressStyleModel",
            "_view_count": null,
            "_view_module": "@jupyter-widgets/base",
            "_view_module_version": "1.2.0",
            "_view_name": "StyleView",
            "bar_color": null,
            "description_width": ""
          }
        },
        "c913d4536ee64f9b8404a373f740f713": {
          "model_module": "@jupyter-widgets/base",
          "model_name": "LayoutModel",
          "model_module_version": "1.2.0",
          "state": {
            "_model_module": "@jupyter-widgets/base",
            "_model_module_version": "1.2.0",
            "_model_name": "LayoutModel",
            "_view_count": null,
            "_view_module": "@jupyter-widgets/base",
            "_view_module_version": "1.2.0",
            "_view_name": "LayoutView",
            "align_content": null,
            "align_items": null,
            "align_self": null,
            "border": null,
            "bottom": null,
            "display": null,
            "flex": null,
            "flex_flow": null,
            "grid_area": null,
            "grid_auto_columns": null,
            "grid_auto_flow": null,
            "grid_auto_rows": null,
            "grid_column": null,
            "grid_gap": null,
            "grid_row": null,
            "grid_template_areas": null,
            "grid_template_columns": null,
            "grid_template_rows": null,
            "height": null,
            "justify_content": null,
            "justify_items": null,
            "left": null,
            "margin": null,
            "max_height": null,
            "max_width": null,
            "min_height": null,
            "min_width": null,
            "object_fit": null,
            "object_position": null,
            "order": null,
            "overflow": null,
            "overflow_x": null,
            "overflow_y": null,
            "padding": null,
            "right": null,
            "top": null,
            "visibility": null,
            "width": null
          }
        },
        "ce60bad717a243968fd1d4f4f9fc7ec4": {
          "model_module": "@jupyter-widgets/controls",
          "model_name": "DescriptionStyleModel",
          "model_module_version": "1.5.0",
          "state": {
            "_model_module": "@jupyter-widgets/controls",
            "_model_module_version": "1.5.0",
            "_model_name": "DescriptionStyleModel",
            "_view_count": null,
            "_view_module": "@jupyter-widgets/base",
            "_view_module_version": "1.2.0",
            "_view_name": "StyleView",
            "description_width": ""
          }
        },
        "7f94327d7e364ab2b9e3ea4e2637d6b7": {
          "model_module": "@jupyter-widgets/controls",
          "model_name": "HBoxModel",
          "model_module_version": "1.5.0",
          "state": {
            "_dom_classes": [],
            "_model_module": "@jupyter-widgets/controls",
            "_model_module_version": "1.5.0",
            "_model_name": "HBoxModel",
            "_view_count": null,
            "_view_module": "@jupyter-widgets/controls",
            "_view_module_version": "1.5.0",
            "_view_name": "HBoxView",
            "box_style": "",
            "children": [
              "IPY_MODEL_8701d78b158e45f78e2b9910d1f98822",
              "IPY_MODEL_8f0a8230debd490ba19979f9c066f282",
              "IPY_MODEL_867d1b82c1ef491a98bfee174b96840f"
            ],
            "layout": "IPY_MODEL_246cf24f163a4930b73bda7b2f4ec9c5"
          }
        },
        "8701d78b158e45f78e2b9910d1f98822": {
          "model_module": "@jupyter-widgets/controls",
          "model_name": "HTMLModel",
          "model_module_version": "1.5.0",
          "state": {
            "_dom_classes": [],
            "_model_module": "@jupyter-widgets/controls",
            "_model_module_version": "1.5.0",
            "_model_name": "HTMLModel",
            "_view_count": null,
            "_view_module": "@jupyter-widgets/controls",
            "_view_module_version": "1.5.0",
            "_view_name": "HTMLView",
            "description": "",
            "description_tooltip": null,
            "layout": "IPY_MODEL_1b16598b3dfc4ba99313e55d120b288f",
            "placeholder": "​",
            "style": "IPY_MODEL_95af17f134cc4509bf2c1037e913bd91",
            "value": "Map: 100%"
          }
        },
        "8f0a8230debd490ba19979f9c066f282": {
          "model_module": "@jupyter-widgets/controls",
          "model_name": "FloatProgressModel",
          "model_module_version": "1.5.0",
          "state": {
            "_dom_classes": [],
            "_model_module": "@jupyter-widgets/controls",
            "_model_module_version": "1.5.0",
            "_model_name": "FloatProgressModel",
            "_view_count": null,
            "_view_module": "@jupyter-widgets/controls",
            "_view_module_version": "1.5.0",
            "_view_name": "ProgressView",
            "bar_style": "success",
            "description": "",
            "description_tooltip": null,
            "layout": "IPY_MODEL_70f2d28b7a424f828fe21261120d6b25",
            "max": 850,
            "min": 0,
            "orientation": "horizontal",
            "style": "IPY_MODEL_ad0a78cd87ad4537aabec73ea6ef2e44",
            "value": 850
          }
        },
        "867d1b82c1ef491a98bfee174b96840f": {
          "model_module": "@jupyter-widgets/controls",
          "model_name": "HTMLModel",
          "model_module_version": "1.5.0",
          "state": {
            "_dom_classes": [],
            "_model_module": "@jupyter-widgets/controls",
            "_model_module_version": "1.5.0",
            "_model_name": "HTMLModel",
            "_view_count": null,
            "_view_module": "@jupyter-widgets/controls",
            "_view_module_version": "1.5.0",
            "_view_name": "HTMLView",
            "description": "",
            "description_tooltip": null,
            "layout": "IPY_MODEL_f896a35a09014adf8d2efd2812388ae1",
            "placeholder": "​",
            "style": "IPY_MODEL_400e9c97d2474c84bca70f1486bf1675",
            "value": " 850/850 [00:01&lt;00:00, 582.25 examples/s]"
          }
        },
        "246cf24f163a4930b73bda7b2f4ec9c5": {
          "model_module": "@jupyter-widgets/base",
          "model_name": "LayoutModel",
          "model_module_version": "1.2.0",
          "state": {
            "_model_module": "@jupyter-widgets/base",
            "_model_module_version": "1.2.0",
            "_model_name": "LayoutModel",
            "_view_count": null,
            "_view_module": "@jupyter-widgets/base",
            "_view_module_version": "1.2.0",
            "_view_name": "LayoutView",
            "align_content": null,
            "align_items": null,
            "align_self": null,
            "border": null,
            "bottom": null,
            "display": null,
            "flex": null,
            "flex_flow": null,
            "grid_area": null,
            "grid_auto_columns": null,
            "grid_auto_flow": null,
            "grid_auto_rows": null,
            "grid_column": null,
            "grid_gap": null,
            "grid_row": null,
            "grid_template_areas": null,
            "grid_template_columns": null,
            "grid_template_rows": null,
            "height": null,
            "justify_content": null,
            "justify_items": null,
            "left": null,
            "margin": null,
            "max_height": null,
            "max_width": null,
            "min_height": null,
            "min_width": null,
            "object_fit": null,
            "object_position": null,
            "order": null,
            "overflow": null,
            "overflow_x": null,
            "overflow_y": null,
            "padding": null,
            "right": null,
            "top": null,
            "visibility": null,
            "width": null
          }
        },
        "1b16598b3dfc4ba99313e55d120b288f": {
          "model_module": "@jupyter-widgets/base",
          "model_name": "LayoutModel",
          "model_module_version": "1.2.0",
          "state": {
            "_model_module": "@jupyter-widgets/base",
            "_model_module_version": "1.2.0",
            "_model_name": "LayoutModel",
            "_view_count": null,
            "_view_module": "@jupyter-widgets/base",
            "_view_module_version": "1.2.0",
            "_view_name": "LayoutView",
            "align_content": null,
            "align_items": null,
            "align_self": null,
            "border": null,
            "bottom": null,
            "display": null,
            "flex": null,
            "flex_flow": null,
            "grid_area": null,
            "grid_auto_columns": null,
            "grid_auto_flow": null,
            "grid_auto_rows": null,
            "grid_column": null,
            "grid_gap": null,
            "grid_row": null,
            "grid_template_areas": null,
            "grid_template_columns": null,
            "grid_template_rows": null,
            "height": null,
            "justify_content": null,
            "justify_items": null,
            "left": null,
            "margin": null,
            "max_height": null,
            "max_width": null,
            "min_height": null,
            "min_width": null,
            "object_fit": null,
            "object_position": null,
            "order": null,
            "overflow": null,
            "overflow_x": null,
            "overflow_y": null,
            "padding": null,
            "right": null,
            "top": null,
            "visibility": null,
            "width": null
          }
        },
        "95af17f134cc4509bf2c1037e913bd91": {
          "model_module": "@jupyter-widgets/controls",
          "model_name": "DescriptionStyleModel",
          "model_module_version": "1.5.0",
          "state": {
            "_model_module": "@jupyter-widgets/controls",
            "_model_module_version": "1.5.0",
            "_model_name": "DescriptionStyleModel",
            "_view_count": null,
            "_view_module": "@jupyter-widgets/base",
            "_view_module_version": "1.2.0",
            "_view_name": "StyleView",
            "description_width": ""
          }
        },
        "70f2d28b7a424f828fe21261120d6b25": {
          "model_module": "@jupyter-widgets/base",
          "model_name": "LayoutModel",
          "model_module_version": "1.2.0",
          "state": {
            "_model_module": "@jupyter-widgets/base",
            "_model_module_version": "1.2.0",
            "_model_name": "LayoutModel",
            "_view_count": null,
            "_view_module": "@jupyter-widgets/base",
            "_view_module_version": "1.2.0",
            "_view_name": "LayoutView",
            "align_content": null,
            "align_items": null,
            "align_self": null,
            "border": null,
            "bottom": null,
            "display": null,
            "flex": null,
            "flex_flow": null,
            "grid_area": null,
            "grid_auto_columns": null,
            "grid_auto_flow": null,
            "grid_auto_rows": null,
            "grid_column": null,
            "grid_gap": null,
            "grid_row": null,
            "grid_template_areas": null,
            "grid_template_columns": null,
            "grid_template_rows": null,
            "height": null,
            "justify_content": null,
            "justify_items": null,
            "left": null,
            "margin": null,
            "max_height": null,
            "max_width": null,
            "min_height": null,
            "min_width": null,
            "object_fit": null,
            "object_position": null,
            "order": null,
            "overflow": null,
            "overflow_x": null,
            "overflow_y": null,
            "padding": null,
            "right": null,
            "top": null,
            "visibility": null,
            "width": null
          }
        },
        "ad0a78cd87ad4537aabec73ea6ef2e44": {
          "model_module": "@jupyter-widgets/controls",
          "model_name": "ProgressStyleModel",
          "model_module_version": "1.5.0",
          "state": {
            "_model_module": "@jupyter-widgets/controls",
            "_model_module_version": "1.5.0",
            "_model_name": "ProgressStyleModel",
            "_view_count": null,
            "_view_module": "@jupyter-widgets/base",
            "_view_module_version": "1.2.0",
            "_view_name": "StyleView",
            "bar_color": null,
            "description_width": ""
          }
        },
        "f896a35a09014adf8d2efd2812388ae1": {
          "model_module": "@jupyter-widgets/base",
          "model_name": "LayoutModel",
          "model_module_version": "1.2.0",
          "state": {
            "_model_module": "@jupyter-widgets/base",
            "_model_module_version": "1.2.0",
            "_model_name": "LayoutModel",
            "_view_count": null,
            "_view_module": "@jupyter-widgets/base",
            "_view_module_version": "1.2.0",
            "_view_name": "LayoutView",
            "align_content": null,
            "align_items": null,
            "align_self": null,
            "border": null,
            "bottom": null,
            "display": null,
            "flex": null,
            "flex_flow": null,
            "grid_area": null,
            "grid_auto_columns": null,
            "grid_auto_flow": null,
            "grid_auto_rows": null,
            "grid_column": null,
            "grid_gap": null,
            "grid_row": null,
            "grid_template_areas": null,
            "grid_template_columns": null,
            "grid_template_rows": null,
            "height": null,
            "justify_content": null,
            "justify_items": null,
            "left": null,
            "margin": null,
            "max_height": null,
            "max_width": null,
            "min_height": null,
            "min_width": null,
            "object_fit": null,
            "object_position": null,
            "order": null,
            "overflow": null,
            "overflow_x": null,
            "overflow_y": null,
            "padding": null,
            "right": null,
            "top": null,
            "visibility": null,
            "width": null
          }
        },
        "400e9c97d2474c84bca70f1486bf1675": {
          "model_module": "@jupyter-widgets/controls",
          "model_name": "DescriptionStyleModel",
          "model_module_version": "1.5.0",
          "state": {
            "_model_module": "@jupyter-widgets/controls",
            "_model_module_version": "1.5.0",
            "_model_name": "DescriptionStyleModel",
            "_view_count": null,
            "_view_module": "@jupyter-widgets/base",
            "_view_module_version": "1.2.0",
            "_view_name": "StyleView",
            "description_width": ""
          }
        }
      }
    }
  },
  "nbformat": 4,
  "nbformat_minor": 0
}